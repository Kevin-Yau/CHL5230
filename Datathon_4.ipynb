{
  "cells": [
    {
      "cell_type": "markdown",
      "metadata": {
        "id": "view-in-github",
        "colab_type": "text"
      },
      "source": [
        "<a href=\"https://colab.research.google.com/github/Kevin-Yau/CHL5230/blob/main/Datathon_4.ipynb\" target=\"_parent\"><img src=\"https://colab.research.google.com/assets/colab-badge.svg\" alt=\"Open In Colab\"/></a>"
      ]
    },
    {
      "cell_type": "code",
      "execution_count": 90,
      "metadata": {
        "id": "Vaan5YWBsD6m"
      },
      "outputs": [],
      "source": [
        "import pandas as pd\n",
        "import numpy as np\n",
        "import matplotlib.pyplot as plt"
      ]
    },
    {
      "cell_type": "code",
      "execution_count": 91,
      "metadata": {
        "id": "-tfwyeFs7ncq"
      },
      "outputs": [],
      "source": [
        "import seaborn as sns\n",
        "import warnings\n",
        "\n",
        "warnings.filterwarnings('ignore')"
      ]
    },
    {
      "cell_type": "code",
      "execution_count": 92,
      "metadata": {
        "id": "L9nJymvq78Cq"
      },
      "outputs": [],
      "source": [
        "# Read the dataset into a Pandas DataFrame\n",
        "df = pd.read_csv('datathon4.csv')"
      ]
    },
    {
      "cell_type": "code",
      "execution_count": 93,
      "metadata": {
        "colab": {
          "base_uri": "https://localhost:8080/"
        },
        "id": "8lqCPg407reO",
        "outputId": "c009959c-3e08-46ed-b344-0e18ca8b16ff"
      },
      "outputs": [
        {
          "output_type": "stream",
          "name": "stdout",
          "text": [
            "(91713, 186)\n",
            "Index(['encounter_id', 'patient_id', 'hospital_id', 'hospital_death', 'age',\n",
            "       'bmi', 'elective_surgery', 'ethnicity', 'gender', 'height',\n",
            "       ...\n",
            "       'aids', 'cirrhosis', 'diabetes_mellitus', 'hepatic_failure',\n",
            "       'immunosuppression', 'leukemia', 'lymphoma',\n",
            "       'solid_tumor_with_metastasis', 'apache_3j_bodysystem',\n",
            "       'apache_2_bodysystem'],\n",
            "      dtype='object', length=186)\n"
          ]
        }
      ],
      "source": [
        "# read dataset\n",
        "ICU_df = pd.read_csv('datathon4.csv')\n",
        "ICU_df.head()\n",
        "\n",
        "# check dimension of the dataset\n",
        "print(ICU_df.shape)\n",
        "\n",
        "# list the columns of the dataframe\n",
        "print(ICU_df.columns)"
      ]
    },
    {
      "cell_type": "code",
      "execution_count": null,
      "metadata": {
        "colab": {
          "base_uri": "https://localhost:8080/",
          "height": 255
        },
        "id": "9XRdvZMx-EI8",
        "outputId": "7557ff63-2eec-48f2-93c6-2d29b05b90f0"
      },
      "outputs": [
        {
          "data": {
            "text/html": [
              "\n",
              "  <div id=\"df-6911c184-f102-40e3-b188-4674c9151959\" class=\"colab-df-container\">\n",
              "    <div>\n",
              "<style scoped>\n",
              "    .dataframe tbody tr th:only-of-type {\n",
              "        vertical-align: middle;\n",
              "    }\n",
              "\n",
              "    .dataframe tbody tr th {\n",
              "        vertical-align: top;\n",
              "    }\n",
              "\n",
              "    .dataframe thead th {\n",
              "        text-align: right;\n",
              "    }\n",
              "</style>\n",
              "<table border=\"1\" class=\"dataframe\">\n",
              "  <thead>\n",
              "    <tr style=\"text-align: right;\">\n",
              "      <th></th>\n",
              "      <th>encounter_id</th>\n",
              "      <th>patient_id</th>\n",
              "      <th>hospital_id</th>\n",
              "      <th>hospital_death</th>\n",
              "      <th>age</th>\n",
              "      <th>bmi</th>\n",
              "      <th>elective_surgery</th>\n",
              "      <th>ethnicity</th>\n",
              "      <th>gender</th>\n",
              "      <th>height</th>\n",
              "      <th>...</th>\n",
              "      <th>aids</th>\n",
              "      <th>cirrhosis</th>\n",
              "      <th>diabetes_mellitus</th>\n",
              "      <th>hepatic_failure</th>\n",
              "      <th>immunosuppression</th>\n",
              "      <th>leukemia</th>\n",
              "      <th>lymphoma</th>\n",
              "      <th>solid_tumor_with_metastasis</th>\n",
              "      <th>apache_3j_bodysystem</th>\n",
              "      <th>apache_2_bodysystem</th>\n",
              "    </tr>\n",
              "  </thead>\n",
              "  <tbody>\n",
              "    <tr>\n",
              "      <th>0</th>\n",
              "      <td>66154</td>\n",
              "      <td>25312</td>\n",
              "      <td>118</td>\n",
              "      <td>0</td>\n",
              "      <td>68.0</td>\n",
              "      <td>22.73</td>\n",
              "      <td>0</td>\n",
              "      <td>Caucasian</td>\n",
              "      <td>M</td>\n",
              "      <td>180.3</td>\n",
              "      <td>...</td>\n",
              "      <td>0.0</td>\n",
              "      <td>0.0</td>\n",
              "      <td>1.0</td>\n",
              "      <td>0.0</td>\n",
              "      <td>0.0</td>\n",
              "      <td>0.0</td>\n",
              "      <td>0.0</td>\n",
              "      <td>0.0</td>\n",
              "      <td>Sepsis</td>\n",
              "      <td>Cardiovascular</td>\n",
              "    </tr>\n",
              "    <tr>\n",
              "      <th>1</th>\n",
              "      <td>114252</td>\n",
              "      <td>59342</td>\n",
              "      <td>81</td>\n",
              "      <td>0</td>\n",
              "      <td>77.0</td>\n",
              "      <td>27.42</td>\n",
              "      <td>0</td>\n",
              "      <td>Caucasian</td>\n",
              "      <td>F</td>\n",
              "      <td>160.0</td>\n",
              "      <td>...</td>\n",
              "      <td>0.0</td>\n",
              "      <td>0.0</td>\n",
              "      <td>1.0</td>\n",
              "      <td>0.0</td>\n",
              "      <td>0.0</td>\n",
              "      <td>0.0</td>\n",
              "      <td>0.0</td>\n",
              "      <td>0.0</td>\n",
              "      <td>Respiratory</td>\n",
              "      <td>Respiratory</td>\n",
              "    </tr>\n",
              "    <tr>\n",
              "      <th>2</th>\n",
              "      <td>119783</td>\n",
              "      <td>50777</td>\n",
              "      <td>118</td>\n",
              "      <td>0</td>\n",
              "      <td>25.0</td>\n",
              "      <td>31.95</td>\n",
              "      <td>0</td>\n",
              "      <td>Caucasian</td>\n",
              "      <td>F</td>\n",
              "      <td>172.7</td>\n",
              "      <td>...</td>\n",
              "      <td>0.0</td>\n",
              "      <td>0.0</td>\n",
              "      <td>0.0</td>\n",
              "      <td>0.0</td>\n",
              "      <td>0.0</td>\n",
              "      <td>0.0</td>\n",
              "      <td>0.0</td>\n",
              "      <td>0.0</td>\n",
              "      <td>Metabolic</td>\n",
              "      <td>Metabolic</td>\n",
              "    </tr>\n",
              "    <tr>\n",
              "      <th>3</th>\n",
              "      <td>79267</td>\n",
              "      <td>46918</td>\n",
              "      <td>118</td>\n",
              "      <td>0</td>\n",
              "      <td>81.0</td>\n",
              "      <td>22.64</td>\n",
              "      <td>1</td>\n",
              "      <td>Caucasian</td>\n",
              "      <td>F</td>\n",
              "      <td>165.1</td>\n",
              "      <td>...</td>\n",
              "      <td>0.0</td>\n",
              "      <td>0.0</td>\n",
              "      <td>0.0</td>\n",
              "      <td>0.0</td>\n",
              "      <td>0.0</td>\n",
              "      <td>0.0</td>\n",
              "      <td>0.0</td>\n",
              "      <td>0.0</td>\n",
              "      <td>Cardiovascular</td>\n",
              "      <td>Cardiovascular</td>\n",
              "    </tr>\n",
              "    <tr>\n",
              "      <th>4</th>\n",
              "      <td>92056</td>\n",
              "      <td>34377</td>\n",
              "      <td>33</td>\n",
              "      <td>0</td>\n",
              "      <td>19.0</td>\n",
              "      <td>NaN</td>\n",
              "      <td>0</td>\n",
              "      <td>Caucasian</td>\n",
              "      <td>M</td>\n",
              "      <td>188.0</td>\n",
              "      <td>...</td>\n",
              "      <td>0.0</td>\n",
              "      <td>0.0</td>\n",
              "      <td>0.0</td>\n",
              "      <td>0.0</td>\n",
              "      <td>0.0</td>\n",
              "      <td>0.0</td>\n",
              "      <td>0.0</td>\n",
              "      <td>0.0</td>\n",
              "      <td>Trauma</td>\n",
              "      <td>Trauma</td>\n",
              "    </tr>\n",
              "  </tbody>\n",
              "</table>\n",
              "<p>5 rows × 186 columns</p>\n",
              "</div>\n",
              "    <div class=\"colab-df-buttons\">\n",
              "\n",
              "  <div class=\"colab-df-container\">\n",
              "    <button class=\"colab-df-convert\" onclick=\"convertToInteractive('df-6911c184-f102-40e3-b188-4674c9151959')\"\n",
              "            title=\"Convert this dataframe to an interactive table.\"\n",
              "            style=\"display:none;\">\n",
              "\n",
              "  <svg xmlns=\"http://www.w3.org/2000/svg\" height=\"24px\" viewBox=\"0 -960 960 960\">\n",
              "    <path d=\"M120-120v-720h720v720H120Zm60-500h600v-160H180v160Zm220 220h160v-160H400v160Zm0 220h160v-160H400v160ZM180-400h160v-160H180v160Zm440 0h160v-160H620v160ZM180-180h160v-160H180v160Zm440 0h160v-160H620v160Z\"/>\n",
              "  </svg>\n",
              "    </button>\n",
              "\n",
              "  <style>\n",
              "    .colab-df-container {\n",
              "      display:flex;\n",
              "      gap: 12px;\n",
              "    }\n",
              "\n",
              "    .colab-df-convert {\n",
              "      background-color: #E8F0FE;\n",
              "      border: none;\n",
              "      border-radius: 50%;\n",
              "      cursor: pointer;\n",
              "      display: none;\n",
              "      fill: #1967D2;\n",
              "      height: 32px;\n",
              "      padding: 0 0 0 0;\n",
              "      width: 32px;\n",
              "    }\n",
              "\n",
              "    .colab-df-convert:hover {\n",
              "      background-color: #E2EBFA;\n",
              "      box-shadow: 0px 1px 2px rgba(60, 64, 67, 0.3), 0px 1px 3px 1px rgba(60, 64, 67, 0.15);\n",
              "      fill: #174EA6;\n",
              "    }\n",
              "\n",
              "    .colab-df-buttons div {\n",
              "      margin-bottom: 4px;\n",
              "    }\n",
              "\n",
              "    [theme=dark] .colab-df-convert {\n",
              "      background-color: #3B4455;\n",
              "      fill: #D2E3FC;\n",
              "    }\n",
              "\n",
              "    [theme=dark] .colab-df-convert:hover {\n",
              "      background-color: #434B5C;\n",
              "      box-shadow: 0px 1px 3px 1px rgba(0, 0, 0, 0.15);\n",
              "      filter: drop-shadow(0px 1px 2px rgba(0, 0, 0, 0.3));\n",
              "      fill: #FFFFFF;\n",
              "    }\n",
              "  </style>\n",
              "\n",
              "    <script>\n",
              "      const buttonEl =\n",
              "        document.querySelector('#df-6911c184-f102-40e3-b188-4674c9151959 button.colab-df-convert');\n",
              "      buttonEl.style.display =\n",
              "        google.colab.kernel.accessAllowed ? 'block' : 'none';\n",
              "\n",
              "      async function convertToInteractive(key) {\n",
              "        const element = document.querySelector('#df-6911c184-f102-40e3-b188-4674c9151959');\n",
              "        const dataTable =\n",
              "          await google.colab.kernel.invokeFunction('convertToInteractive',\n",
              "                                                    [key], {});\n",
              "        if (!dataTable) return;\n",
              "\n",
              "        const docLinkHtml = 'Like what you see? Visit the ' +\n",
              "          '<a target=\"_blank\" href=https://colab.research.google.com/notebooks/data_table.ipynb>data table notebook</a>'\n",
              "          + ' to learn more about interactive tables.';\n",
              "        element.innerHTML = '';\n",
              "        dataTable['output_type'] = 'display_data';\n",
              "        await google.colab.output.renderOutput(dataTable, element);\n",
              "        const docLink = document.createElement('div');\n",
              "        docLink.innerHTML = docLinkHtml;\n",
              "        element.appendChild(docLink);\n",
              "      }\n",
              "    </script>\n",
              "  </div>\n",
              "\n",
              "\n",
              "<div id=\"df-bdf2ad9f-04b5-413e-ada5-db9856533b3f\">\n",
              "  <button class=\"colab-df-quickchart\" onclick=\"quickchart('df-bdf2ad9f-04b5-413e-ada5-db9856533b3f')\"\n",
              "            title=\"Suggest charts\"\n",
              "            style=\"display:none;\">\n",
              "\n",
              "<svg xmlns=\"http://www.w3.org/2000/svg\" height=\"24px\"viewBox=\"0 0 24 24\"\n",
              "     width=\"24px\">\n",
              "    <g>\n",
              "        <path d=\"M19 3H5c-1.1 0-2 .9-2 2v14c0 1.1.9 2 2 2h14c1.1 0 2-.9 2-2V5c0-1.1-.9-2-2-2zM9 17H7v-7h2v7zm4 0h-2V7h2v10zm4 0h-2v-4h2v4z\"/>\n",
              "    </g>\n",
              "</svg>\n",
              "  </button>\n",
              "\n",
              "<style>\n",
              "  .colab-df-quickchart {\n",
              "      --bg-color: #E8F0FE;\n",
              "      --fill-color: #1967D2;\n",
              "      --hover-bg-color: #E2EBFA;\n",
              "      --hover-fill-color: #174EA6;\n",
              "      --disabled-fill-color: #AAA;\n",
              "      --disabled-bg-color: #DDD;\n",
              "  }\n",
              "\n",
              "  [theme=dark] .colab-df-quickchart {\n",
              "      --bg-color: #3B4455;\n",
              "      --fill-color: #D2E3FC;\n",
              "      --hover-bg-color: #434B5C;\n",
              "      --hover-fill-color: #FFFFFF;\n",
              "      --disabled-bg-color: #3B4455;\n",
              "      --disabled-fill-color: #666;\n",
              "  }\n",
              "\n",
              "  .colab-df-quickchart {\n",
              "    background-color: var(--bg-color);\n",
              "    border: none;\n",
              "    border-radius: 50%;\n",
              "    cursor: pointer;\n",
              "    display: none;\n",
              "    fill: var(--fill-color);\n",
              "    height: 32px;\n",
              "    padding: 0;\n",
              "    width: 32px;\n",
              "  }\n",
              "\n",
              "  .colab-df-quickchart:hover {\n",
              "    background-color: var(--hover-bg-color);\n",
              "    box-shadow: 0 1px 2px rgba(60, 64, 67, 0.3), 0 1px 3px 1px rgba(60, 64, 67, 0.15);\n",
              "    fill: var(--button-hover-fill-color);\n",
              "  }\n",
              "\n",
              "  .colab-df-quickchart-complete:disabled,\n",
              "  .colab-df-quickchart-complete:disabled:hover {\n",
              "    background-color: var(--disabled-bg-color);\n",
              "    fill: var(--disabled-fill-color);\n",
              "    box-shadow: none;\n",
              "  }\n",
              "\n",
              "  .colab-df-spinner {\n",
              "    border: 2px solid var(--fill-color);\n",
              "    border-color: transparent;\n",
              "    border-bottom-color: var(--fill-color);\n",
              "    animation:\n",
              "      spin 1s steps(1) infinite;\n",
              "  }\n",
              "\n",
              "  @keyframes spin {\n",
              "    0% {\n",
              "      border-color: transparent;\n",
              "      border-bottom-color: var(--fill-color);\n",
              "      border-left-color: var(--fill-color);\n",
              "    }\n",
              "    20% {\n",
              "      border-color: transparent;\n",
              "      border-left-color: var(--fill-color);\n",
              "      border-top-color: var(--fill-color);\n",
              "    }\n",
              "    30% {\n",
              "      border-color: transparent;\n",
              "      border-left-color: var(--fill-color);\n",
              "      border-top-color: var(--fill-color);\n",
              "      border-right-color: var(--fill-color);\n",
              "    }\n",
              "    40% {\n",
              "      border-color: transparent;\n",
              "      border-right-color: var(--fill-color);\n",
              "      border-top-color: var(--fill-color);\n",
              "    }\n",
              "    60% {\n",
              "      border-color: transparent;\n",
              "      border-right-color: var(--fill-color);\n",
              "    }\n",
              "    80% {\n",
              "      border-color: transparent;\n",
              "      border-right-color: var(--fill-color);\n",
              "      border-bottom-color: var(--fill-color);\n",
              "    }\n",
              "    90% {\n",
              "      border-color: transparent;\n",
              "      border-bottom-color: var(--fill-color);\n",
              "    }\n",
              "  }\n",
              "</style>\n",
              "\n",
              "  <script>\n",
              "    async function quickchart(key) {\n",
              "      const quickchartButtonEl =\n",
              "        document.querySelector('#' + key + ' button');\n",
              "      quickchartButtonEl.disabled = true;  // To prevent multiple clicks.\n",
              "      quickchartButtonEl.classList.add('colab-df-spinner');\n",
              "      try {\n",
              "        const charts = await google.colab.kernel.invokeFunction(\n",
              "            'suggestCharts', [key], {});\n",
              "      } catch (error) {\n",
              "        console.error('Error during call to suggestCharts:', error);\n",
              "      }\n",
              "      quickchartButtonEl.classList.remove('colab-df-spinner');\n",
              "      quickchartButtonEl.classList.add('colab-df-quickchart-complete');\n",
              "    }\n",
              "    (() => {\n",
              "      let quickchartButtonEl =\n",
              "        document.querySelector('#df-bdf2ad9f-04b5-413e-ada5-db9856533b3f button');\n",
              "      quickchartButtonEl.style.display =\n",
              "        google.colab.kernel.accessAllowed ? 'block' : 'none';\n",
              "    })();\n",
              "  </script>\n",
              "</div>\n",
              "    </div>\n",
              "  </div>\n"
            ],
            "text/plain": [
              "   encounter_id  patient_id  hospital_id  hospital_death   age    bmi  \\\n",
              "0         66154       25312          118               0  68.0  22.73   \n",
              "1        114252       59342           81               0  77.0  27.42   \n",
              "2        119783       50777          118               0  25.0  31.95   \n",
              "3         79267       46918          118               0  81.0  22.64   \n",
              "4         92056       34377           33               0  19.0    NaN   \n",
              "\n",
              "   elective_surgery  ethnicity gender  height  ... aids cirrhosis  \\\n",
              "0                 0  Caucasian      M   180.3  ...  0.0       0.0   \n",
              "1                 0  Caucasian      F   160.0  ...  0.0       0.0   \n",
              "2                 0  Caucasian      F   172.7  ...  0.0       0.0   \n",
              "3                 1  Caucasian      F   165.1  ...  0.0       0.0   \n",
              "4                 0  Caucasian      M   188.0  ...  0.0       0.0   \n",
              "\n",
              "   diabetes_mellitus hepatic_failure immunosuppression  leukemia  lymphoma  \\\n",
              "0                1.0             0.0               0.0       0.0       0.0   \n",
              "1                1.0             0.0               0.0       0.0       0.0   \n",
              "2                0.0             0.0               0.0       0.0       0.0   \n",
              "3                0.0             0.0               0.0       0.0       0.0   \n",
              "4                0.0             0.0               0.0       0.0       0.0   \n",
              "\n",
              "   solid_tumor_with_metastasis  apache_3j_bodysystem  apache_2_bodysystem  \n",
              "0                          0.0                Sepsis       Cardiovascular  \n",
              "1                          0.0           Respiratory          Respiratory  \n",
              "2                          0.0             Metabolic            Metabolic  \n",
              "3                          0.0        Cardiovascular       Cardiovascular  \n",
              "4                          0.0                Trauma               Trauma  \n",
              "\n",
              "[5 rows x 186 columns]"
            ]
          },
          "execution_count": 5,
          "metadata": {},
          "output_type": "execute_result"
        }
      ],
      "source": [
        "df.head()"
      ]
    },
    {
      "cell_type": "code",
      "execution_count": 94,
      "metadata": {
        "colab": {
          "base_uri": "https://localhost:8080/"
        },
        "id": "v7ur8g7uBBOc",
        "outputId": "365e8b19-b3fe-42e1-a66c-5d0d8092e3e8"
      },
      "outputs": [
        {
          "output_type": "stream",
          "name": "stdout",
          "text": [
            "        encounter_id     patient_id   hospital_id  hospital_death  \\\n",
            "count   91713.000000   91713.000000  91713.000000    91713.000000   \n",
            "mean    65606.079280   65537.131464    105.669262        0.086302   \n",
            "std     37795.088538   37811.252183     62.854406        0.280811   \n",
            "min         1.000000       1.000000      2.000000        0.000000   \n",
            "25%     32852.000000   32830.000000     47.000000        0.000000   \n",
            "50%     65665.000000   65413.000000    109.000000        0.000000   \n",
            "75%     98342.000000   98298.000000    161.000000        0.000000   \n",
            "max    131051.000000  131051.000000    204.000000        1.000000   \n",
            "\n",
            "                age           bmi  elective_surgery        height  \\\n",
            "count  87485.000000  88284.000000      91713.000000  90379.000000   \n",
            "mean      62.309516     29.185818          0.183736    169.641588   \n",
            "std       16.775119      8.275142          0.387271     10.795378   \n",
            "min       16.000000     14.844926          0.000000    137.200000   \n",
            "25%       52.000000     23.641975          0.000000    162.500000   \n",
            "50%       65.000000     27.654655          0.000000    170.100000   \n",
            "75%       75.000000     32.930206          0.000000    177.800000   \n",
            "max       89.000000     67.814990          1.000000    195.590000   \n",
            "\n",
            "             icu_id  pre_icu_los_days  ...  apache_4a_hospital_death_prob  \\\n",
            "count  91713.000000      91713.000000  ...                   83766.000000   \n",
            "mean     508.357692          0.835766  ...                       0.086787   \n",
            "std      228.989661          2.487756  ...                       0.247569   \n",
            "min       82.000000        -24.947222  ...                      -1.000000   \n",
            "25%      369.000000          0.035417  ...                       0.020000   \n",
            "50%      504.000000          0.138889  ...                       0.050000   \n",
            "75%      679.000000          0.409028  ...                       0.130000   \n",
            "max      927.000000        159.090972  ...                       0.990000   \n",
            "\n",
            "       apache_4a_icu_death_prob          aids     cirrhosis  \\\n",
            "count              83766.000000  90998.000000  90998.000000   \n",
            "mean                   0.043955      0.000857      0.015693   \n",
            "std                    0.217341      0.029265      0.124284   \n",
            "min                   -1.000000      0.000000      0.000000   \n",
            "25%                    0.010000      0.000000      0.000000   \n",
            "50%                    0.020000      0.000000      0.000000   \n",
            "75%                    0.060000      0.000000      0.000000   \n",
            "max                    0.970000      1.000000      1.000000   \n",
            "\n",
            "       diabetes_mellitus  hepatic_failure  immunosuppression      leukemia  \\\n",
            "count       90998.000000     90998.000000       90998.000000  90998.000000   \n",
            "mean            0.225192         0.012989           0.026165      0.007066   \n",
            "std             0.417711         0.113229           0.159628      0.083763   \n",
            "min             0.000000         0.000000           0.000000      0.000000   \n",
            "25%             0.000000         0.000000           0.000000      0.000000   \n",
            "50%             0.000000         0.000000           0.000000      0.000000   \n",
            "75%             0.000000         0.000000           0.000000      0.000000   \n",
            "max             1.000000         1.000000           1.000000      1.000000   \n",
            "\n",
            "           lymphoma  solid_tumor_with_metastasis  \n",
            "count  90998.000000                 90998.000000  \n",
            "mean       0.004132                     0.020638  \n",
            "std        0.064148                     0.142169  \n",
            "min        0.000000                     0.000000  \n",
            "25%        0.000000                     0.000000  \n",
            "50%        0.000000                     0.000000  \n",
            "75%        0.000000                     0.000000  \n",
            "max        1.000000                     1.000000  \n",
            "\n",
            "[8 rows x 178 columns]\n"
          ]
        }
      ],
      "source": [
        "# Display summary statistics\n",
        "print(df.describe())"
      ]
    },
    {
      "cell_type": "code",
      "execution_count": 95,
      "metadata": {
        "colab": {
          "base_uri": "https://localhost:8080/"
        },
        "id": "_EJh5sUUlsb7",
        "outputId": "932725fc-0397-4dcf-fead-4b6f057a51a1"
      },
      "outputs": [
        {
          "output_type": "execute_result",
          "data": {
            "text/plain": [
              "count    90835.000000\n",
              "mean        99.707932\n",
              "std         30.870502\n",
              "min         30.000000\n",
              "25%         86.000000\n",
              "50%        104.000000\n",
              "75%        120.000000\n",
              "max        178.000000\n",
              "Name: heart_rate_apache, dtype: float64"
            ]
          },
          "metadata": {},
          "execution_count": 95
        }
      ],
      "source": [
        "# Display summary statistics\n",
        "df['heart_rate_apache'].describe()"
      ]
    },
    {
      "cell_type": "code",
      "execution_count": 96,
      "metadata": {
        "colab": {
          "base_uri": "https://localhost:8080/",
          "height": 320
        },
        "id": "_SH_16b8youe",
        "outputId": "d4133077-bf39-49f3-b72e-65197f1d8925"
      },
      "outputs": [
        {
          "output_type": "execute_result",
          "data": {
            "text/plain": [
              "             weight  readmission_status  albumin_apache  apache_2_diagnosis  \\\n",
              "count  88993.000000             91713.0    37334.000000        90051.000000   \n",
              "mean      84.028340                 0.0        2.902968          185.401739   \n",
              "std       25.011497                 0.0        0.681863           86.050882   \n",
              "min       38.600000                 0.0        1.200000          101.000000   \n",
              "25%       66.800000                 0.0        2.400000          113.000000   \n",
              "50%       80.300000                 0.0        2.900000          122.000000   \n",
              "75%       97.100000                 0.0        3.400000          301.000000   \n",
              "max      186.000000                 0.0        4.600000          308.000000   \n",
              "\n",
              "       apache_3j_diagnosis  apache_post_operative    arf_apache  \\\n",
              "count         90612.000000           91713.000000  90998.000000   \n",
              "mean            558.216377               0.201106      0.027979   \n",
              "std             463.266985               0.400829      0.164912   \n",
              "min               0.010000               0.000000      0.000000   \n",
              "25%             203.010000               0.000000      0.000000   \n",
              "50%             409.020000               0.000000      0.000000   \n",
              "75%             703.030000               0.000000      0.000000   \n",
              "max            2201.050000               1.000000      1.000000   \n",
              "\n",
              "       bilirubin_apache   bun_apache  creatinine_apache   fio2_apache  \\\n",
              "count      33579.000000  72451.00000       72860.000000  20845.000000   \n",
              "mean           1.147721     25.82533           1.480014      0.595751   \n",
              "std            2.165538     20.67298           1.525787      0.263238   \n",
              "min            0.100000      4.00000           0.300000      0.210000   \n",
              "25%            0.400000     13.00000           0.720000      0.400000   \n",
              "50%            0.600000     19.00000           0.980000      0.500000   \n",
              "75%            1.100000     32.00000           1.530000      0.850000   \n",
              "max           51.000000    127.00000          11.180000      1.000000   \n",
              "\n",
              "       gcs_eyes_apache  gcs_motor_apache  gcs_unable_apache  gcs_verbal_apache  \n",
              "count     89812.000000      89812.000000       90676.000000       89812.000000  \n",
              "mean          3.465049          5.471195           0.009528           3.994778  \n",
              "std           0.951715          1.288376           0.097148           1.560166  \n",
              "min           1.000000          1.000000           0.000000           1.000000  \n",
              "25%           3.000000          6.000000           0.000000           4.000000  \n",
              "50%           4.000000          6.000000           0.000000           5.000000  \n",
              "75%           4.000000          6.000000           0.000000           5.000000  \n",
              "max           4.000000          6.000000           1.000000           5.000000  "
            ],
            "text/html": [
              "\n",
              "  <div id=\"df-9d14edb9-e9d5-4b88-bf0f-91eea4e2f538\" class=\"colab-df-container\">\n",
              "    <div>\n",
              "<style scoped>\n",
              "    .dataframe tbody tr th:only-of-type {\n",
              "        vertical-align: middle;\n",
              "    }\n",
              "\n",
              "    .dataframe tbody tr th {\n",
              "        vertical-align: top;\n",
              "    }\n",
              "\n",
              "    .dataframe thead th {\n",
              "        text-align: right;\n",
              "    }\n",
              "</style>\n",
              "<table border=\"1\" class=\"dataframe\">\n",
              "  <thead>\n",
              "    <tr style=\"text-align: right;\">\n",
              "      <th></th>\n",
              "      <th>weight</th>\n",
              "      <th>readmission_status</th>\n",
              "      <th>albumin_apache</th>\n",
              "      <th>apache_2_diagnosis</th>\n",
              "      <th>apache_3j_diagnosis</th>\n",
              "      <th>apache_post_operative</th>\n",
              "      <th>arf_apache</th>\n",
              "      <th>bilirubin_apache</th>\n",
              "      <th>bun_apache</th>\n",
              "      <th>creatinine_apache</th>\n",
              "      <th>fio2_apache</th>\n",
              "      <th>gcs_eyes_apache</th>\n",
              "      <th>gcs_motor_apache</th>\n",
              "      <th>gcs_unable_apache</th>\n",
              "      <th>gcs_verbal_apache</th>\n",
              "    </tr>\n",
              "  </thead>\n",
              "  <tbody>\n",
              "    <tr>\n",
              "      <th>count</th>\n",
              "      <td>88993.000000</td>\n",
              "      <td>91713.0</td>\n",
              "      <td>37334.000000</td>\n",
              "      <td>90051.000000</td>\n",
              "      <td>90612.000000</td>\n",
              "      <td>91713.000000</td>\n",
              "      <td>90998.000000</td>\n",
              "      <td>33579.000000</td>\n",
              "      <td>72451.00000</td>\n",
              "      <td>72860.000000</td>\n",
              "      <td>20845.000000</td>\n",
              "      <td>89812.000000</td>\n",
              "      <td>89812.000000</td>\n",
              "      <td>90676.000000</td>\n",
              "      <td>89812.000000</td>\n",
              "    </tr>\n",
              "    <tr>\n",
              "      <th>mean</th>\n",
              "      <td>84.028340</td>\n",
              "      <td>0.0</td>\n",
              "      <td>2.902968</td>\n",
              "      <td>185.401739</td>\n",
              "      <td>558.216377</td>\n",
              "      <td>0.201106</td>\n",
              "      <td>0.027979</td>\n",
              "      <td>1.147721</td>\n",
              "      <td>25.82533</td>\n",
              "      <td>1.480014</td>\n",
              "      <td>0.595751</td>\n",
              "      <td>3.465049</td>\n",
              "      <td>5.471195</td>\n",
              "      <td>0.009528</td>\n",
              "      <td>3.994778</td>\n",
              "    </tr>\n",
              "    <tr>\n",
              "      <th>std</th>\n",
              "      <td>25.011497</td>\n",
              "      <td>0.0</td>\n",
              "      <td>0.681863</td>\n",
              "      <td>86.050882</td>\n",
              "      <td>463.266985</td>\n",
              "      <td>0.400829</td>\n",
              "      <td>0.164912</td>\n",
              "      <td>2.165538</td>\n",
              "      <td>20.67298</td>\n",
              "      <td>1.525787</td>\n",
              "      <td>0.263238</td>\n",
              "      <td>0.951715</td>\n",
              "      <td>1.288376</td>\n",
              "      <td>0.097148</td>\n",
              "      <td>1.560166</td>\n",
              "    </tr>\n",
              "    <tr>\n",
              "      <th>min</th>\n",
              "      <td>38.600000</td>\n",
              "      <td>0.0</td>\n",
              "      <td>1.200000</td>\n",
              "      <td>101.000000</td>\n",
              "      <td>0.010000</td>\n",
              "      <td>0.000000</td>\n",
              "      <td>0.000000</td>\n",
              "      <td>0.100000</td>\n",
              "      <td>4.00000</td>\n",
              "      <td>0.300000</td>\n",
              "      <td>0.210000</td>\n",
              "      <td>1.000000</td>\n",
              "      <td>1.000000</td>\n",
              "      <td>0.000000</td>\n",
              "      <td>1.000000</td>\n",
              "    </tr>\n",
              "    <tr>\n",
              "      <th>25%</th>\n",
              "      <td>66.800000</td>\n",
              "      <td>0.0</td>\n",
              "      <td>2.400000</td>\n",
              "      <td>113.000000</td>\n",
              "      <td>203.010000</td>\n",
              "      <td>0.000000</td>\n",
              "      <td>0.000000</td>\n",
              "      <td>0.400000</td>\n",
              "      <td>13.00000</td>\n",
              "      <td>0.720000</td>\n",
              "      <td>0.400000</td>\n",
              "      <td>3.000000</td>\n",
              "      <td>6.000000</td>\n",
              "      <td>0.000000</td>\n",
              "      <td>4.000000</td>\n",
              "    </tr>\n",
              "    <tr>\n",
              "      <th>50%</th>\n",
              "      <td>80.300000</td>\n",
              "      <td>0.0</td>\n",
              "      <td>2.900000</td>\n",
              "      <td>122.000000</td>\n",
              "      <td>409.020000</td>\n",
              "      <td>0.000000</td>\n",
              "      <td>0.000000</td>\n",
              "      <td>0.600000</td>\n",
              "      <td>19.00000</td>\n",
              "      <td>0.980000</td>\n",
              "      <td>0.500000</td>\n",
              "      <td>4.000000</td>\n",
              "      <td>6.000000</td>\n",
              "      <td>0.000000</td>\n",
              "      <td>5.000000</td>\n",
              "    </tr>\n",
              "    <tr>\n",
              "      <th>75%</th>\n",
              "      <td>97.100000</td>\n",
              "      <td>0.0</td>\n",
              "      <td>3.400000</td>\n",
              "      <td>301.000000</td>\n",
              "      <td>703.030000</td>\n",
              "      <td>0.000000</td>\n",
              "      <td>0.000000</td>\n",
              "      <td>1.100000</td>\n",
              "      <td>32.00000</td>\n",
              "      <td>1.530000</td>\n",
              "      <td>0.850000</td>\n",
              "      <td>4.000000</td>\n",
              "      <td>6.000000</td>\n",
              "      <td>0.000000</td>\n",
              "      <td>5.000000</td>\n",
              "    </tr>\n",
              "    <tr>\n",
              "      <th>max</th>\n",
              "      <td>186.000000</td>\n",
              "      <td>0.0</td>\n",
              "      <td>4.600000</td>\n",
              "      <td>308.000000</td>\n",
              "      <td>2201.050000</td>\n",
              "      <td>1.000000</td>\n",
              "      <td>1.000000</td>\n",
              "      <td>51.000000</td>\n",
              "      <td>127.00000</td>\n",
              "      <td>11.180000</td>\n",
              "      <td>1.000000</td>\n",
              "      <td>4.000000</td>\n",
              "      <td>6.000000</td>\n",
              "      <td>1.000000</td>\n",
              "      <td>5.000000</td>\n",
              "    </tr>\n",
              "  </tbody>\n",
              "</table>\n",
              "</div>\n",
              "    <div class=\"colab-df-buttons\">\n",
              "\n",
              "  <div class=\"colab-df-container\">\n",
              "    <button class=\"colab-df-convert\" onclick=\"convertToInteractive('df-9d14edb9-e9d5-4b88-bf0f-91eea4e2f538')\"\n",
              "            title=\"Convert this dataframe to an interactive table.\"\n",
              "            style=\"display:none;\">\n",
              "\n",
              "  <svg xmlns=\"http://www.w3.org/2000/svg\" height=\"24px\" viewBox=\"0 -960 960 960\">\n",
              "    <path d=\"M120-120v-720h720v720H120Zm60-500h600v-160H180v160Zm220 220h160v-160H400v160Zm0 220h160v-160H400v160ZM180-400h160v-160H180v160Zm440 0h160v-160H620v160ZM180-180h160v-160H180v160Zm440 0h160v-160H620v160Z\"/>\n",
              "  </svg>\n",
              "    </button>\n",
              "\n",
              "  <style>\n",
              "    .colab-df-container {\n",
              "      display:flex;\n",
              "      gap: 12px;\n",
              "    }\n",
              "\n",
              "    .colab-df-convert {\n",
              "      background-color: #E8F0FE;\n",
              "      border: none;\n",
              "      border-radius: 50%;\n",
              "      cursor: pointer;\n",
              "      display: none;\n",
              "      fill: #1967D2;\n",
              "      height: 32px;\n",
              "      padding: 0 0 0 0;\n",
              "      width: 32px;\n",
              "    }\n",
              "\n",
              "    .colab-df-convert:hover {\n",
              "      background-color: #E2EBFA;\n",
              "      box-shadow: 0px 1px 2px rgba(60, 64, 67, 0.3), 0px 1px 3px 1px rgba(60, 64, 67, 0.15);\n",
              "      fill: #174EA6;\n",
              "    }\n",
              "\n",
              "    .colab-df-buttons div {\n",
              "      margin-bottom: 4px;\n",
              "    }\n",
              "\n",
              "    [theme=dark] .colab-df-convert {\n",
              "      background-color: #3B4455;\n",
              "      fill: #D2E3FC;\n",
              "    }\n",
              "\n",
              "    [theme=dark] .colab-df-convert:hover {\n",
              "      background-color: #434B5C;\n",
              "      box-shadow: 0px 1px 3px 1px rgba(0, 0, 0, 0.15);\n",
              "      filter: drop-shadow(0px 1px 2px rgba(0, 0, 0, 0.3));\n",
              "      fill: #FFFFFF;\n",
              "    }\n",
              "  </style>\n",
              "\n",
              "    <script>\n",
              "      const buttonEl =\n",
              "        document.querySelector('#df-9d14edb9-e9d5-4b88-bf0f-91eea4e2f538 button.colab-df-convert');\n",
              "      buttonEl.style.display =\n",
              "        google.colab.kernel.accessAllowed ? 'block' : 'none';\n",
              "\n",
              "      async function convertToInteractive(key) {\n",
              "        const element = document.querySelector('#df-9d14edb9-e9d5-4b88-bf0f-91eea4e2f538');\n",
              "        const dataTable =\n",
              "          await google.colab.kernel.invokeFunction('convertToInteractive',\n",
              "                                                    [key], {});\n",
              "        if (!dataTable) return;\n",
              "\n",
              "        const docLinkHtml = 'Like what you see? Visit the ' +\n",
              "          '<a target=\"_blank\" href=https://colab.research.google.com/notebooks/data_table.ipynb>data table notebook</a>'\n",
              "          + ' to learn more about interactive tables.';\n",
              "        element.innerHTML = '';\n",
              "        dataTable['output_type'] = 'display_data';\n",
              "        await google.colab.output.renderOutput(dataTable, element);\n",
              "        const docLink = document.createElement('div');\n",
              "        docLink.innerHTML = docLinkHtml;\n",
              "        element.appendChild(docLink);\n",
              "      }\n",
              "    </script>\n",
              "  </div>\n",
              "\n",
              "\n",
              "<div id=\"df-536f5795-c050-4a0e-a345-dc0c09a85156\">\n",
              "  <button class=\"colab-df-quickchart\" onclick=\"quickchart('df-536f5795-c050-4a0e-a345-dc0c09a85156')\"\n",
              "            title=\"Suggest charts\"\n",
              "            style=\"display:none;\">\n",
              "\n",
              "<svg xmlns=\"http://www.w3.org/2000/svg\" height=\"24px\"viewBox=\"0 0 24 24\"\n",
              "     width=\"24px\">\n",
              "    <g>\n",
              "        <path d=\"M19 3H5c-1.1 0-2 .9-2 2v14c0 1.1.9 2 2 2h14c1.1 0 2-.9 2-2V5c0-1.1-.9-2-2-2zM9 17H7v-7h2v7zm4 0h-2V7h2v10zm4 0h-2v-4h2v4z\"/>\n",
              "    </g>\n",
              "</svg>\n",
              "  </button>\n",
              "\n",
              "<style>\n",
              "  .colab-df-quickchart {\n",
              "      --bg-color: #E8F0FE;\n",
              "      --fill-color: #1967D2;\n",
              "      --hover-bg-color: #E2EBFA;\n",
              "      --hover-fill-color: #174EA6;\n",
              "      --disabled-fill-color: #AAA;\n",
              "      --disabled-bg-color: #DDD;\n",
              "  }\n",
              "\n",
              "  [theme=dark] .colab-df-quickchart {\n",
              "      --bg-color: #3B4455;\n",
              "      --fill-color: #D2E3FC;\n",
              "      --hover-bg-color: #434B5C;\n",
              "      --hover-fill-color: #FFFFFF;\n",
              "      --disabled-bg-color: #3B4455;\n",
              "      --disabled-fill-color: #666;\n",
              "  }\n",
              "\n",
              "  .colab-df-quickchart {\n",
              "    background-color: var(--bg-color);\n",
              "    border: none;\n",
              "    border-radius: 50%;\n",
              "    cursor: pointer;\n",
              "    display: none;\n",
              "    fill: var(--fill-color);\n",
              "    height: 32px;\n",
              "    padding: 0;\n",
              "    width: 32px;\n",
              "  }\n",
              "\n",
              "  .colab-df-quickchart:hover {\n",
              "    background-color: var(--hover-bg-color);\n",
              "    box-shadow: 0 1px 2px rgba(60, 64, 67, 0.3), 0 1px 3px 1px rgba(60, 64, 67, 0.15);\n",
              "    fill: var(--button-hover-fill-color);\n",
              "  }\n",
              "\n",
              "  .colab-df-quickchart-complete:disabled,\n",
              "  .colab-df-quickchart-complete:disabled:hover {\n",
              "    background-color: var(--disabled-bg-color);\n",
              "    fill: var(--disabled-fill-color);\n",
              "    box-shadow: none;\n",
              "  }\n",
              "\n",
              "  .colab-df-spinner {\n",
              "    border: 2px solid var(--fill-color);\n",
              "    border-color: transparent;\n",
              "    border-bottom-color: var(--fill-color);\n",
              "    animation:\n",
              "      spin 1s steps(1) infinite;\n",
              "  }\n",
              "\n",
              "  @keyframes spin {\n",
              "    0% {\n",
              "      border-color: transparent;\n",
              "      border-bottom-color: var(--fill-color);\n",
              "      border-left-color: var(--fill-color);\n",
              "    }\n",
              "    20% {\n",
              "      border-color: transparent;\n",
              "      border-left-color: var(--fill-color);\n",
              "      border-top-color: var(--fill-color);\n",
              "    }\n",
              "    30% {\n",
              "      border-color: transparent;\n",
              "      border-left-color: var(--fill-color);\n",
              "      border-top-color: var(--fill-color);\n",
              "      border-right-color: var(--fill-color);\n",
              "    }\n",
              "    40% {\n",
              "      border-color: transparent;\n",
              "      border-right-color: var(--fill-color);\n",
              "      border-top-color: var(--fill-color);\n",
              "    }\n",
              "    60% {\n",
              "      border-color: transparent;\n",
              "      border-right-color: var(--fill-color);\n",
              "    }\n",
              "    80% {\n",
              "      border-color: transparent;\n",
              "      border-right-color: var(--fill-color);\n",
              "      border-bottom-color: var(--fill-color);\n",
              "    }\n",
              "    90% {\n",
              "      border-color: transparent;\n",
              "      border-bottom-color: var(--fill-color);\n",
              "    }\n",
              "  }\n",
              "</style>\n",
              "\n",
              "  <script>\n",
              "    async function quickchart(key) {\n",
              "      const quickchartButtonEl =\n",
              "        document.querySelector('#' + key + ' button');\n",
              "      quickchartButtonEl.disabled = true;  // To prevent multiple clicks.\n",
              "      quickchartButtonEl.classList.add('colab-df-spinner');\n",
              "      try {\n",
              "        const charts = await google.colab.kernel.invokeFunction(\n",
              "            'suggestCharts', [key], {});\n",
              "      } catch (error) {\n",
              "        console.error('Error during call to suggestCharts:', error);\n",
              "      }\n",
              "      quickchartButtonEl.classList.remove('colab-df-spinner');\n",
              "      quickchartButtonEl.classList.add('colab-df-quickchart-complete');\n",
              "    }\n",
              "    (() => {\n",
              "      let quickchartButtonEl =\n",
              "        document.querySelector('#df-536f5795-c050-4a0e-a345-dc0c09a85156 button');\n",
              "      quickchartButtonEl.style.display =\n",
              "        google.colab.kernel.accessAllowed ? 'block' : 'none';\n",
              "    })();\n",
              "  </script>\n",
              "</div>\n",
              "    </div>\n",
              "  </div>\n"
            ]
          },
          "metadata": {},
          "execution_count": 96
        }
      ],
      "source": [
        "# Display summary statistics\n",
        "df[['weight','readmission_status','albumin_apache','apache_2_diagnosis','apache_3j_diagnosis','apache_post_operative','arf_apache','bilirubin_apache','bun_apache','creatinine_apache','fio2_apache','gcs_eyes_apache','gcs_motor_apache','gcs_unable_apache','gcs_verbal_apache']].describe()\n",
        "\n"
      ]
    },
    {
      "cell_type": "code",
      "execution_count": 97,
      "metadata": {
        "colab": {
          "base_uri": "https://localhost:8080/"
        },
        "id": "b1ugoulCBQNz",
        "outputId": "a251d1e5-e183-4c2b-fa97-ab9d092b2861"
      },
      "outputs": [
        {
          "output_type": "stream",
          "name": "stdout",
          "text": [
            "encounter_id                      0\n",
            "patient_id                        0\n",
            "hospital_id                       0\n",
            "hospital_death                    0\n",
            "age                            4228\n",
            "                               ... \n",
            "leukemia                        715\n",
            "lymphoma                        715\n",
            "solid_tumor_with_metastasis     715\n",
            "apache_3j_bodysystem           1662\n",
            "apache_2_bodysystem            1662\n",
            "Length: 186, dtype: int64\n"
          ]
        }
      ],
      "source": [
        "# check missing value\n",
        "print(ICU_df.isnull().sum())"
      ]
    },
    {
      "cell_type": "code",
      "execution_count": 98,
      "metadata": {
        "id": "15p4wq3rDcuO"
      },
      "outputs": [],
      "source": [
        "# importing PyTorch library as 't' for convenience\n",
        "import torch as t\n",
        "\n",
        "# importing other necessary libraries\n",
        "import numpy as np\n",
        "from torch.nn.functional import sigmoid, relu, tanh\n",
        "from torch.optim import Adam\n",
        "import matplotlib.pyplot as plt\n",
        "import pandas as pd\n",
        "from sklearn.preprocessing import StandardScaler\n",
        "from torch.utils.data import TensorDataset, DataLoader\n",
        "\n",
        "# importing PyTorch modules for building neural networks\n",
        "from torch.nn import Tanh, Linear, Sequential, Sigmoid, Dropout\n"
      ]
    },
    {
      "cell_type": "code",
      "execution_count": 100,
      "metadata": {
        "id": "iAREVr3UDhUg"
      },
      "outputs": [],
      "source": [
        "# Defining the input to the neuron - a single example with 3 features\n",
        "X = np.array([\n",
        "    [0, 1, 2]\n",
        "])\n",
        "\n",
        "# Defining the expected output for the given input\n",
        "Y = np.array([\n",
        "    [1]\n",
        "])"
      ]
    },
    {
      "cell_type": "code",
      "execution_count": null,
      "metadata": {
        "colab": {
          "base_uri": "https://localhost:8080/"
        },
        "id": "-FnaUEBiDpWN",
        "outputId": "d69107e0-36cc-41c3-da93-eee26fa42426"
      },
      "outputs": [
        {
          "name": "stdout",
          "output_type": "stream",
          "text": [
            "tensor([[ 0.8082],\n",
            "        [-1.0046],\n",
            "        [-0.1345]])\n",
            "torch.float32\n",
            "torch.Size([3, 1])\n",
            "===========\n",
            "tensor([[0.]])\n",
            "torch.float32\n",
            "torch.Size([1, 1])\n"
          ]
        }
      ],
      "source": [
        "# Initializing the weights randomly for 3 inputs and 1 output\n",
        "W = t.randn((3,1))\n",
        "print(W)\n",
        "print(W.dtype) # Checking the data type of the weights tensor\n",
        "print(W.shape) # Checking the shape of the weights tensor\n",
        "print('===========')\n",
        "\n",
        "# Initializing the bias as a tensor with a single zero element\n",
        "B = t.zeros((1,1))\n",
        "print(B)\n",
        "print(B.dtype) # Checking the data type of the bias tensor\n",
        "print(B.shape) # Checking the shape of the bias tensor"
      ]
    },
    {
      "cell_type": "code",
      "execution_count": null,
      "metadata": {
        "colab": {
          "base_uri": "https://localhost:8080/"
        },
        "id": "1_BI5ZlgDujN",
        "outputId": "e5068425-3981-4ae6-eb6c-a904fc26bd17"
      },
      "outputs": [
        {
          "name": "stdout",
          "output_type": "stream",
          "text": [
            "tensor([[-1.2736]])\n",
            "tensor([[-1.2736]])\n"
          ]
        }
      ],
      "source": [
        "# Converting the input array to a PyTorch Tensor and performing matrix multiplication with the weights\n",
        "XW = t.Tensor(X) @ W\n",
        "print(XW)\n",
        "\n",
        "# Adding the bias to the result of the matrix multiplication\n",
        "XW_B = XW + B\n",
        "print(XW_B)"
      ]
    },
    {
      "cell_type": "code",
      "execution_count": null,
      "metadata": {
        "colab": {
          "base_uri": "https://localhost:8080/"
        },
        "id": "6DL5gcU2Dxbi",
        "outputId": "a935713f-fb81-412e-c40a-6c3d5ce4d50c"
      },
      "outputs": [
        {
          "name": "stdout",
          "output_type": "stream",
          "text": [
            "tensor([[-0.8548]])\n"
          ]
        }
      ],
      "source": [
        "# Applying the hyperbolic tangent activation function element-wise to the result\n",
        "output = tanh(XW_B)\n",
        "print(output)"
      ]
    },
    {
      "cell_type": "code",
      "execution_count": null,
      "metadata": {
        "colab": {
          "base_uri": "https://localhost:8080/"
        },
        "id": "J1DCOUIjD0hY",
        "outputId": "630e7611-b3b2-4c6e-abbd-56cf14b42094"
      },
      "outputs": [
        {
          "name": "stdout",
          "output_type": "stream",
          "text": [
            "tensor(3.4402)\n"
          ]
        }
      ],
      "source": [
        "# Calculating the Mean Squared Error (MSE) loss between the predicted output and the actual output\n",
        "loss = t.nn.functional.mse_loss(output, t.Tensor(Y))\n",
        "print(loss)"
      ]
    },
    {
      "cell_type": "code",
      "execution_count": null,
      "metadata": {
        "colab": {
          "base_uri": "https://localhost:8080/"
        },
        "id": "vuqNfpr4D-OJ",
        "outputId": "ae2085a1-682b-4a25-d531-c3a96050d143"
      },
      "outputs": [
        {
          "name": "stdout",
          "output_type": "stream",
          "text": [
            "tensor([[1.],\n",
            "        [1.]], grad_fn=<SigmoidBackward0>)\n"
          ]
        }
      ],
      "source": [
        "# Defining multiple inputs for batch processing\n",
        "X = t.Tensor([\n",
        "    # A batch of examples with 3 features each\n",
        "    [0, 5, 2],\n",
        "    [0, 3, 4],\n",
        "    # ...\n",
        "]).type(t.float32)\n",
        "\n",
        "# Defining the expected outputs for the batch of inputs (for a binary classification problem)\n",
        "Y = t.Tensor([\n",
        "    # Corresponding expected outputs (labels)\n",
        "    [1],\n",
        "    [1],\n",
        "    # ...\n",
        "]).type(t.float32)\n",
        "\n",
        "# Initializing weights and bias with the requirement to compute gradients (for learning during training)\n",
        "W = t.randn((3,1), requires_grad=True)\n",
        "B = t.zeros((1,1), requires_grad=True).type(t.float32)\n",
        "\n",
        "# Defining the loss function for binary classification (Binary Cross-Entropy Loss)\n",
        "loss_fn = t.nn.BCELoss()\n",
        "\n",
        "# Setting up the optimizer (Adam) with the parameters to optimize (weights and bias) and the learning rate\n",
        "learning_rate = 1\n",
        "optimizer = Adam([W, B], lr=learning_rate)\n",
        "\n",
        "# Defining the number of iterations for training and a list to keep track of loss values\n",
        "number_of_iterations = 100\n",
        "loss_list = []\n",
        "for _ in range(number_of_iterations):\n",
        "\n",
        "    # Forward pass: computing the predicted output using the sigmoid activation function\n",
        "    out = sigmoid(X @ W  + B)\n",
        "\n",
        "    # Calculating the loss\n",
        "    loss = loss_fn(out.view(-1), Y.view(-1))\n",
        "\n",
        "    # Recording the loss value for visualization\n",
        "    loss_list.append(loss.item())\n",
        "\n",
        "    # Clearing previous gradients before the backward pass\n",
        "    optimizer.zero_grad()\n",
        "\n",
        "    # Backward pass: computing gradients\n",
        "    loss.backward()\n",
        "\n",
        "    # Updating the weights and bias based on the gradients computed\n",
        "    optimizer.step()\n",
        "\n",
        "# Printing the probabilities predicted by the neuron for each input\n",
        "print(sigmoid(X @ W  + B))"
      ]
    },
    {
      "cell_type": "code",
      "execution_count": null,
      "metadata": {
        "colab": {
          "base_uri": "https://localhost:8080/",
          "height": 472
        },
        "id": "_ggipBVdED8i",
        "outputId": "046bab29-4fff-4cd8-877a-13efbb52a0de"
      },
      "outputs": [
        {
          "data": {
            "image/png": "[encoded data removed]",
            "text/plain": [
              "<Figure size 640x480 with 1 Axes>"
            ]
          },
          "metadata": {},
          "output_type": "display_data"
        }
      ],
      "source": [
        "# Plotting the loss values recorded during training\n",
        "plt.plot([i for i in range(len(loss_list))], loss_list)\n",
        "plt.xlabel('Iteration')\n",
        "plt.ylabel('Loss')\n",
        "plt.title('Loss Over Iterations')\n",
        "plt.show()\n"
      ]
    },
    {
      "cell_type": "code",
      "execution_count": 101,
      "metadata": {
        "colab": {
          "base_uri": "https://localhost:8080/"
        },
        "id": "Doxl6QXLEIiH",
        "outputId": "41da2871-1fba-4676-deb6-b3baea412fa9"
      },
      "outputs": [
        {
          "output_type": "stream",
          "name": "stdout",
          "text": [
            "Requirement already satisfied: torch in /usr/local/lib/python3.10/dist-packages (2.1.0+cu118)\n",
            "Requirement already satisfied: filelock in /usr/local/lib/python3.10/dist-packages (from torch) (3.13.1)\n",
            "Requirement already satisfied: typing-extensions in /usr/local/lib/python3.10/dist-packages (from torch) (4.5.0)\n",
            "Requirement already satisfied: sympy in /usr/local/lib/python3.10/dist-packages (from torch) (1.12)\n",
            "Requirement already satisfied: networkx in /usr/local/lib/python3.10/dist-packages (from torch) (3.2.1)\n",
            "Requirement already satisfied: jinja2 in /usr/local/lib/python3.10/dist-packages (from torch) (3.1.2)\n",
            "Requirement already satisfied: fsspec in /usr/local/lib/python3.10/dist-packages (from torch) (2023.6.0)\n",
            "Requirement already satisfied: triton==2.1.0 in /usr/local/lib/python3.10/dist-packages (from torch) (2.1.0)\n",
            "Requirement already satisfied: MarkupSafe>=2.0 in /usr/local/lib/python3.10/dist-packages (from jinja2->torch) (2.1.3)\n",
            "Requirement already satisfied: mpmath>=0.19 in /usr/local/lib/python3.10/dist-packages (from sympy->torch) (1.3.0)\n"
          ]
        }
      ],
      "source": [
        "!pip install torch\n",
        "\n",
        "# importing torch as t\n",
        "import torch as t\n",
        "import numpy as np\n",
        "from torch.nn.functional import sigmoid, relu, tanh\n",
        "from torch.optim import Adam\n",
        "import matplotlib.pyplot as plt\n",
        "import pandas as pd\n",
        "from sklearn.preprocessing import StandardScaler\n",
        "from torch.utils.data import TensorDataset, DataLoader\n",
        "\n",
        "from torch.nn import Tanh, Linear, Sequential, Sigmoid, Dropout"
      ]
    },
    {
      "cell_type": "code",
      "execution_count": null,
      "metadata": {
        "colab": {
          "base_uri": "https://localhost:8080/"
        },
        "id": "limGAbT1EZMi",
        "outputId": "da2b84eb-087f-4397-a4be-41aae0a8f633"
      },
      "outputs": [
        {
          "data": {
            "text/plain": [
              "encounter_id                     int64\n",
              "patient_id                       int64\n",
              "hospital_id                      int64\n",
              "hospital_death                   int64\n",
              "age                            float64\n",
              "                                ...   \n",
              "leukemia                       float64\n",
              "lymphoma                       float64\n",
              "solid_tumor_with_metastasis    float64\n",
              "apache_3j_bodysystem            object\n",
              "apache_2_bodysystem             object\n",
              "Length: 186, dtype: object"
            ]
          },
          "execution_count": 114,
          "metadata": {},
          "output_type": "execute_result"
        }
      ],
      "source": [
        "# checking the data types\n",
        "ICU_df.dtypes"
      ]
    },
    {
      "cell_type": "code",
      "execution_count": null,
      "metadata": {
        "colab": {
          "base_uri": "https://localhost:8080/"
        },
        "id": "BhjDQrO5Ensk",
        "outputId": "2469d1dd-94ce-4ab0-abcb-e9f828e2c86c"
      },
      "outputs": [
        {
          "data": {
            "text/plain": [
              "Index(['encounter_id', 'patient_id', 'hospital_id', 'hospital_death', 'age',\n",
              "       'bmi', 'elective_surgery', 'ethnicity', 'gender', 'height',\n",
              "       ...\n",
              "       'aids', 'cirrhosis', 'diabetes_mellitus', 'hepatic_failure',\n",
              "       'immunosuppression', 'leukemia', 'lymphoma',\n",
              "       'solid_tumor_with_metastasis', 'apache_3j_bodysystem',\n",
              "       'apache_2_bodysystem'],\n",
              "      dtype='object', length=186)"
            ]
          },
          "execution_count": 201,
          "metadata": {},
          "output_type": "execute_result"
        }
      ],
      "source": [
        "ICU_df.columns"
      ]
    },
    {
      "cell_type": "code",
      "execution_count": null,
      "metadata": {
        "colab": {
          "base_uri": "https://localhost:8080/"
        },
        "id": "o--tPziEEzuu",
        "outputId": "efda847b-4f0f-4f76-f433-f77b663883f7"
      },
      "outputs": [
        {
          "data": {
            "text/plain": [
              "0.08630183289173836"
            ]
          },
          "execution_count": 19,
          "metadata": {},
          "output_type": "execute_result"
        }
      ],
      "source": [
        "ICU_df['hospital_death'].mean()"
      ]
    },
    {
      "cell_type": "code",
      "execution_count": 102,
      "metadata": {
        "colab": {
          "base_uri": "https://localhost:8080/"
        },
        "id": "bphGlp3aTA-p",
        "outputId": "d5e0fd1f-18ce-4e1c-e652-1b2e4ae151de"
      },
      "outputs": [
        {
          "output_type": "stream",
          "name": "stdout",
          "text": [
            "['Caucasian' nan 'Hispanic' 'African American' 'Asian' 'Native American'\n",
            " 'Other/Unknown']\n"
          ]
        }
      ],
      "source": [
        "# Display unique values in 'ethnicity' column\n",
        "print(ICU_df['ethnicity'].unique())"
      ]
    },
    {
      "cell_type": "code",
      "execution_count": 103,
      "metadata": {
        "id": "PpbgVNZ5jIOP"
      },
      "outputs": [],
      "source": [
        "#Drop Encounter ID\n",
        "ICU_df= ICU_df.drop('encounter_id', axis=1)"
      ]
    },
    {
      "cell_type": "code",
      "execution_count": 104,
      "metadata": {
        "colab": {
          "base_uri": "https://localhost:8080/"
        },
        "id": "ac_cY3XoU1fs",
        "outputId": "7abadc8a-6d33-4f4f-d3fd-e30be4417602"
      },
      "outputs": [
        {
          "output_type": "stream",
          "name": "stdout",
          "text": [
            "['Floor' 'Accident & Emergency' 'Operating Room / Recovery'\n",
            " 'Other Hospital' 'Other ICU' nan]\n"
          ]
        }
      ],
      "source": [
        "# Display unique values in 'icu_admit_source' column\n",
        "print(ICU_df['icu_admit_source'].unique())"
      ]
    },
    {
      "cell_type": "code",
      "execution_count": 105,
      "metadata": {
        "id": "oaJZI6YoXL_F"
      },
      "outputs": [],
      "source": [
        "ICU_df['gender'].replace({'F' : 1, 'M' : 0}, inplace=True)\n"
      ]
    },
    {
      "cell_type": "code",
      "execution_count": 106,
      "metadata": {
        "colab": {
          "base_uri": "https://localhost:8080/"
        },
        "id": "-HuJJc_RlnMP",
        "outputId": "05606c98-f7a6-4281-f14d-45e377ffe3b1"
      },
      "outputs": [
        {
          "output_type": "stream",
          "name": "stdout",
          "text": [
            "[ 0.  1. nan]\n"
          ]
        }
      ],
      "source": [
        "#Display Gender\n",
        "print(ICU_df['gender'].unique())"
      ]
    },
    {
      "cell_type": "code",
      "execution_count": 107,
      "metadata": {
        "colab": {
          "base_uri": "https://localhost:8080/"
        },
        "id": "zpWqBPWzmLHB",
        "outputId": "15e8f353-c127-413c-e706-4b498b821c7e"
      },
      "outputs": [
        {
          "output_type": "stream",
          "name": "stdout",
          "text": [
            "   patient_id  hospital_id  hospital_death   age    bmi  elective_surgery  \\\n",
            "0       25312          118               0  68.0  22.73                 0   \n",
            "1       59342           81               0  77.0  27.42                 0   \n",
            "2       50777          118               0  25.0  31.95                 0   \n",
            "3       46918          118               0  81.0  22.64                 1   \n",
            "4       34377           33               0  19.0    NaN                 0   \n",
            "\n",
            "   gender  height  icu_id  pre_icu_los_days  ...  \\\n",
            "0     0.0   180.3      92          0.541667  ...   \n",
            "1     1.0   160.0      90          0.927778  ...   \n",
            "2     1.0   172.7      93          0.000694  ...   \n",
            "3     1.0   165.1      92          0.000694  ...   \n",
            "4     0.0   188.0      91          0.073611  ...   \n",
            "\n",
            "   apache_4a_hospital_death_prob  apache_4a_icu_death_prob  aids  cirrhosis  \\\n",
            "0                           0.10                      0.05   0.0        0.0   \n",
            "1                           0.47                      0.29   0.0        0.0   \n",
            "2                           0.00                      0.00   0.0        0.0   \n",
            "3                           0.04                      0.03   0.0        0.0   \n",
            "4                            NaN                       NaN   0.0        0.0   \n",
            "\n",
            "   diabetes_mellitus  hepatic_failure  immunosuppression  leukemia  lymphoma  \\\n",
            "0                1.0              0.0                0.0       0.0       0.0   \n",
            "1                1.0              0.0                0.0       0.0       0.0   \n",
            "2                0.0              0.0                0.0       0.0       0.0   \n",
            "3                0.0              0.0                0.0       0.0       0.0   \n",
            "4                0.0              0.0                0.0       0.0       0.0   \n",
            "\n",
            "   solid_tumor_with_metastasis  \n",
            "0                          0.0  \n",
            "1                          0.0  \n",
            "2                          0.0  \n",
            "3                          0.0  \n",
            "4                          0.0  \n",
            "\n",
            "[5 rows x 178 columns]\n"
          ]
        }
      ],
      "source": [
        "# List of columns to drop due to categorical problems\n",
        "columns_to_drop = ['ethnicity', 'icu_admit_source','hospital_admit_source', 'icu_stay_type', 'icu_type', 'apache_3j_bodysystem', 'apache_2_bodysystem']\n",
        "\n",
        "# Dropping the specified columns from the DataFrame\n",
        "ICU_df.drop(columns_to_drop, axis=1, inplace=True)\n",
        "\n",
        "# Verify the updated DataFrame\n",
        "print(ICU_df.head())  # You can use head() to verify the updated DataFrame"
      ]
    },
    {
      "cell_type": "code",
      "execution_count": 108,
      "metadata": {
        "colab": {
          "base_uri": "https://localhost:8080/"
        },
        "id": "a_sgAQeDMUgu",
        "outputId": "9b8a1ea3-45f4-4d09-ee26-10d38874a4c2"
      },
      "outputs": [
        {
          "output_type": "stream",
          "name": "stdout",
          "text": [
            "Requirement already satisfied: category_encoders in /usr/local/lib/python3.10/dist-packages (2.6.3)\n",
            "Requirement already satisfied: numpy>=1.14.0 in /usr/local/lib/python3.10/dist-packages (from category_encoders) (1.23.5)\n",
            "Requirement already satisfied: scikit-learn>=0.20.0 in /usr/local/lib/python3.10/dist-packages (from category_encoders) (1.2.2)\n",
            "Requirement already satisfied: scipy>=1.0.0 in /usr/local/lib/python3.10/dist-packages (from category_encoders) (1.11.3)\n",
            "Requirement already satisfied: statsmodels>=0.9.0 in /usr/local/lib/python3.10/dist-packages (from category_encoders) (0.14.0)\n",
            "Requirement already satisfied: pandas>=1.0.5 in /usr/local/lib/python3.10/dist-packages (from category_encoders) (1.5.3)\n",
            "Requirement already satisfied: patsy>=0.5.1 in /usr/local/lib/python3.10/dist-packages (from category_encoders) (0.5.3)\n",
            "Requirement already satisfied: python-dateutil>=2.8.1 in /usr/local/lib/python3.10/dist-packages (from pandas>=1.0.5->category_encoders) (2.8.2)\n",
            "Requirement already satisfied: pytz>=2020.1 in /usr/local/lib/python3.10/dist-packages (from pandas>=1.0.5->category_encoders) (2023.3.post1)\n",
            "Requirement already satisfied: six in /usr/local/lib/python3.10/dist-packages (from patsy>=0.5.1->category_encoders) (1.16.0)\n",
            "Requirement already satisfied: joblib>=1.1.1 in /usr/local/lib/python3.10/dist-packages (from scikit-learn>=0.20.0->category_encoders) (1.3.2)\n",
            "Requirement already satisfied: threadpoolctl>=2.0.0 in /usr/local/lib/python3.10/dist-packages (from scikit-learn>=0.20.0->category_encoders) (3.2.0)\n",
            "Requirement already satisfied: packaging>=21.3 in /usr/local/lib/python3.10/dist-packages (from statsmodels>=0.9.0->category_encoders) (23.2)\n"
          ]
        }
      ],
      "source": [
        "\n",
        "\n",
        "!pip install category_encoders\n",
        "\n",
        "import pandas as pd\n",
        "import numpy as np\n",
        "import warnings\n",
        "from sklearn import tree\n",
        "from sklearn.ensemble import RandomForestClassifier\n",
        "import seaborn as sns\n",
        "import scipy.stats as stats\n",
        "import matplotlib.pyplot as plt\n",
        "# from sklearn.metrics import RocCurveDisplay, auc, roc_curve\n",
        "from sklearn.metrics import roc_auc_score, accuracy_score\n",
        "import plotly.express as px\n",
        "from category_encoders import OneHotEncoder, TargetEncoder\n",
        "from sklearn.compose import ColumnTransformer\n",
        "from sklearn.pipeline import Pipeline\n",
        "from sklearn.model_selection import RandomizedSearchCV, StratifiedKFold\n",
        "from sklearn.ensemble import GradientBoostingClassifier\n",
        "from sklearn.model_selection import GridSearchCV\n",
        "\n",
        "\n",
        "warnings.filterwarnings('ignore')\n",
        "\n",
        "\n",
        "from sklearn import tree\n",
        "from sklearn.ensemble import RandomForestClassifier\n",
        "import seaborn as sns\n",
        "import scipy.stats as stats\n",
        "import matplotlib.pyplot as plt\n",
        "# from sklearn.metrics import RocCurveDisplay, auc, roc_curve\n",
        "from sklearn.metrics import roc_auc_score, accuracy_score\n",
        "import plotly.express as px\n",
        "from category_encoders import OneHotEncoder, TargetEncoder\n",
        "from sklearn.compose import ColumnTransformer\n",
        "from sklearn.pipeline import Pipeline\n",
        "from sklearn.model_selection import RandomizedSearchCV, StratifiedKFold\n",
        "from sklearn.ensemble import GradientBoostingClassifier\n",
        "from sklearn.model_selection import GridSearchCV\n",
        "\n"
      ]
    },
    {
      "cell_type": "code",
      "execution_count": null,
      "metadata": {
        "colab": {
          "base_uri": "https://localhost:8080/"
        },
        "id": "Vpl9jPNeQnXS",
        "outputId": "b1487263-a192-479d-c556-b8e8bd889bdd"
      },
      "outputs": [
        {
          "data": {
            "text/plain": [
              "array(['Floor', 'Accident & Emergency', 'Operating Room / Recovery',\n",
              "       'Other Hospital', 'Other ICU', nan], dtype=object)"
            ]
          },
          "execution_count": 154,
          "metadata": {},
          "output_type": "execute_result"
        }
      ],
      "source": [
        "# List of columns that contain categorical data\n",
        "target_column = 'hospital_death'\n",
        "categorical_columns = ['ethnicity','icu_admit_source','icu_stay_type','icu_type','apache_3j_bodysystem','apache_2_bodysystem']\n",
        "\n",
        "# List of columns that contain numerical data (excluding categorical columns and the target column)\n",
        "numerical_columns = [c for c in ICU_df.columns if c not in categorical_columns and c != target_column]\n",
        "columns = numerical_columns + categorical_columns\n",
        "\n",
        "# Display the unique values in the 'icu_admit_source' column\n",
        "ICU_df['icu_admit_source'].unique()\n"
      ]
    },
    {
      "cell_type": "code",
      "execution_count": 109,
      "metadata": {
        "colab": {
          "base_uri": "https://localhost:8080/",
          "height": 513
        },
        "id": "T9NGtV29O18C",
        "outputId": "f3403206-d086-4d0a-998c-eb3d021feecd"
      },
      "outputs": [
        {
          "output_type": "error",
          "ename": "KeyError",
          "evalue": "ignored",
          "traceback": [
            "\u001b[0;31m---------------------------------------------------------------------------\u001b[0m",
            "\u001b[0;31mKeyError\u001b[0m                                  Traceback (most recent call last)",
            "\u001b[0;32m/usr/local/lib/python3.10/dist-packages/pandas/core/indexes/base.py\u001b[0m in \u001b[0;36mget_loc\u001b[0;34m(self, key, method, tolerance)\u001b[0m\n\u001b[1;32m   3801\u001b[0m             \u001b[0;32mtry\u001b[0m\u001b[0;34m:\u001b[0m\u001b[0;34m\u001b[0m\u001b[0;34m\u001b[0m\u001b[0m\n\u001b[0;32m-> 3802\u001b[0;31m                 \u001b[0;32mreturn\u001b[0m \u001b[0mself\u001b[0m\u001b[0;34m.\u001b[0m\u001b[0m_engine\u001b[0m\u001b[0;34m.\u001b[0m\u001b[0mget_loc\u001b[0m\u001b[0;34m(\u001b[0m\u001b[0mcasted_key\u001b[0m\u001b[0;34m)\u001b[0m\u001b[0;34m\u001b[0m\u001b[0;34m\u001b[0m\u001b[0m\n\u001b[0m\u001b[1;32m   3803\u001b[0m             \u001b[0;32mexcept\u001b[0m \u001b[0mKeyError\u001b[0m \u001b[0;32mas\u001b[0m \u001b[0merr\u001b[0m\u001b[0;34m:\u001b[0m\u001b[0;34m\u001b[0m\u001b[0;34m\u001b[0m\u001b[0m\n",
            "\u001b[0;32m/usr/local/lib/python3.10/dist-packages/pandas/_libs/index.pyx\u001b[0m in \u001b[0;36mpandas._libs.index.IndexEngine.get_loc\u001b[0;34m()\u001b[0m\n",
            "\u001b[0;32m/usr/local/lib/python3.10/dist-packages/pandas/_libs/index.pyx\u001b[0m in \u001b[0;36mpandas._libs.index.IndexEngine.get_loc\u001b[0;34m()\u001b[0m\n",
            "\u001b[0;32mpandas/_libs/hashtable_class_helper.pxi\u001b[0m in \u001b[0;36mpandas._libs.hashtable.PyObjectHashTable.get_item\u001b[0;34m()\u001b[0m\n",
            "\u001b[0;32mpandas/_libs/hashtable_class_helper.pxi\u001b[0m in \u001b[0;36mpandas._libs.hashtable.PyObjectHashTable.get_item\u001b[0;34m()\u001b[0m\n",
            "\u001b[0;31mKeyError\u001b[0m: 'icu_type'",
            "\nThe above exception was the direct cause of the following exception:\n",
            "\u001b[0;31mKeyError\u001b[0m                                  Traceback (most recent call last)",
            "\u001b[0;32m<ipython-input-109-7e8223c2b959>\u001b[0m in \u001b[0;36m<cell line: 1>\u001b[0;34m()\u001b[0m\n\u001b[0;32m----> 1\u001b[0;31m \u001b[0mICU_df\u001b[0m\u001b[0;34m[\u001b[0m\u001b[0;34m'icu_type'\u001b[0m\u001b[0;34m]\u001b[0m\u001b[0;34m.\u001b[0m\u001b[0munique\u001b[0m\u001b[0;34m(\u001b[0m\u001b[0;34m)\u001b[0m\u001b[0;34m\u001b[0m\u001b[0;34m\u001b[0m\u001b[0m\n\u001b[0m",
            "\u001b[0;32m/usr/local/lib/python3.10/dist-packages/pandas/core/frame.py\u001b[0m in \u001b[0;36m__getitem__\u001b[0;34m(self, key)\u001b[0m\n\u001b[1;32m   3805\u001b[0m             \u001b[0;32mif\u001b[0m \u001b[0mself\u001b[0m\u001b[0;34m.\u001b[0m\u001b[0mcolumns\u001b[0m\u001b[0;34m.\u001b[0m\u001b[0mnlevels\u001b[0m \u001b[0;34m>\u001b[0m \u001b[0;36m1\u001b[0m\u001b[0;34m:\u001b[0m\u001b[0;34m\u001b[0m\u001b[0;34m\u001b[0m\u001b[0m\n\u001b[1;32m   3806\u001b[0m                 \u001b[0;32mreturn\u001b[0m \u001b[0mself\u001b[0m\u001b[0;34m.\u001b[0m\u001b[0m_getitem_multilevel\u001b[0m\u001b[0;34m(\u001b[0m\u001b[0mkey\u001b[0m\u001b[0;34m)\u001b[0m\u001b[0;34m\u001b[0m\u001b[0;34m\u001b[0m\u001b[0m\n\u001b[0;32m-> 3807\u001b[0;31m             \u001b[0mindexer\u001b[0m \u001b[0;34m=\u001b[0m \u001b[0mself\u001b[0m\u001b[0;34m.\u001b[0m\u001b[0mcolumns\u001b[0m\u001b[0;34m.\u001b[0m\u001b[0mget_loc\u001b[0m\u001b[0;34m(\u001b[0m\u001b[0mkey\u001b[0m\u001b[0;34m)\u001b[0m\u001b[0;34m\u001b[0m\u001b[0;34m\u001b[0m\u001b[0m\n\u001b[0m\u001b[1;32m   3808\u001b[0m             \u001b[0;32mif\u001b[0m \u001b[0mis_integer\u001b[0m\u001b[0;34m(\u001b[0m\u001b[0mindexer\u001b[0m\u001b[0;34m)\u001b[0m\u001b[0;34m:\u001b[0m\u001b[0;34m\u001b[0m\u001b[0;34m\u001b[0m\u001b[0m\n\u001b[1;32m   3809\u001b[0m                 \u001b[0mindexer\u001b[0m \u001b[0;34m=\u001b[0m \u001b[0;34m[\u001b[0m\u001b[0mindexer\u001b[0m\u001b[0;34m]\u001b[0m\u001b[0;34m\u001b[0m\u001b[0;34m\u001b[0m\u001b[0m\n",
            "\u001b[0;32m/usr/local/lib/python3.10/dist-packages/pandas/core/indexes/base.py\u001b[0m in \u001b[0;36mget_loc\u001b[0;34m(self, key, method, tolerance)\u001b[0m\n\u001b[1;32m   3802\u001b[0m                 \u001b[0;32mreturn\u001b[0m \u001b[0mself\u001b[0m\u001b[0;34m.\u001b[0m\u001b[0m_engine\u001b[0m\u001b[0;34m.\u001b[0m\u001b[0mget_loc\u001b[0m\u001b[0;34m(\u001b[0m\u001b[0mcasted_key\u001b[0m\u001b[0;34m)\u001b[0m\u001b[0;34m\u001b[0m\u001b[0;34m\u001b[0m\u001b[0m\n\u001b[1;32m   3803\u001b[0m             \u001b[0;32mexcept\u001b[0m \u001b[0mKeyError\u001b[0m \u001b[0;32mas\u001b[0m \u001b[0merr\u001b[0m\u001b[0;34m:\u001b[0m\u001b[0;34m\u001b[0m\u001b[0;34m\u001b[0m\u001b[0m\n\u001b[0;32m-> 3804\u001b[0;31m                 \u001b[0;32mraise\u001b[0m \u001b[0mKeyError\u001b[0m\u001b[0;34m(\u001b[0m\u001b[0mkey\u001b[0m\u001b[0;34m)\u001b[0m \u001b[0;32mfrom\u001b[0m \u001b[0merr\u001b[0m\u001b[0;34m\u001b[0m\u001b[0;34m\u001b[0m\u001b[0m\n\u001b[0m\u001b[1;32m   3805\u001b[0m             \u001b[0;32mexcept\u001b[0m \u001b[0mTypeError\u001b[0m\u001b[0;34m:\u001b[0m\u001b[0;34m\u001b[0m\u001b[0;34m\u001b[0m\u001b[0m\n\u001b[1;32m   3806\u001b[0m                 \u001b[0;31m# If we have a listlike key, _check_indexing_error will raise\u001b[0m\u001b[0;34m\u001b[0m\u001b[0;34m\u001b[0m\u001b[0m\n",
            "\u001b[0;31mKeyError\u001b[0m: 'icu_type'"
          ]
        }
      ],
      "source": [
        "ICU_df['icu_type'].unique()"
      ]
    },
    {
      "cell_type": "code",
      "execution_count": null,
      "metadata": {
        "colab": {
          "base_uri": "https://localhost:8080/"
        },
        "id": "Vx_DnMxfYNvO",
        "outputId": "af7d89d3-596f-4692-af33-ef2530e8c833"
      },
      "outputs": [
        {
          "data": {
            "text/plain": [
              "array(['Floor', 'Accident & Emergency', 'Operating Room / Recovery',\n",
              "       'Other Hospital', 'Other ICU', nan], dtype=object)"
            ]
          },
          "execution_count": 166,
          "metadata": {},
          "output_type": "execute_result"
        }
      ],
      "source": [
        "\n",
        "ICU_df['icu_admit_source'].unique()"
      ]
    },
    {
      "cell_type": "code",
      "execution_count": 110,
      "metadata": {
        "colab": {
          "base_uri": "https://localhost:8080/"
        },
        "id": "m2rGQNvHQ8-i",
        "outputId": "96754181-4529-40d4-cd6b-0506af9c7cc3"
      },
      "outputs": [
        {
          "output_type": "execute_result",
          "data": {
            "text/plain": [
              "0.086610452860362"
            ]
          },
          "metadata": {},
          "execution_count": 110
        }
      ],
      "source": [
        "# Randomly sample 70% of the data for training\n",
        "train_data = ICU_df.sample(frac = .7, random_state=10)\n",
        "\n",
        "# Use the remaining 30% for testing\n",
        "test_data = ICU_df.drop(train_data.index)\n",
        "\n",
        "# Check the mean of the 'hospital_death' column in both training and testing data\n",
        "train_data['hospital_death'].mean()\n",
        "test_data['hospital_death'].mean()\n",
        "\n"
      ]
    },
    {
      "cell_type": "code",
      "execution_count": 111,
      "metadata": {
        "id": "d5MQsUPA2zF2"
      },
      "outputs": [],
      "source": [
        "# Data Preparation\n",
        "\n",
        "# Extract the 'DEATH_EVENT' column as the target variable for training and testing\n",
        "Y_train = train_data['hospital_death'].to_numpy()\n",
        "Y_test = test_data['hospital_death'].to_numpy()\n",
        "\n",
        "# Extract the features (excluding 'hospital_death') for training and testing\n",
        "X_train = train_data.drop('hospital_death', axis=1).to_numpy()\n",
        "X_test = test_data.drop('hospital_death', axis=1).to_numpy()\n",
        "\n"
      ]
    },
    {
      "cell_type": "code",
      "source": [
        "# Replace NaN values with the median of each column\n",
        "X_train = pd.DataFrame(X_train).fillna(pd.DataFrame(X_train).median()).values\n",
        "X_test = pd.DataFrame(X_test).fillna(pd.DataFrame(X_test).median()).values"
      ],
      "metadata": {
        "id": "ejHn0dx0rv0w"
      },
      "execution_count": 112,
      "outputs": []
    },
    {
      "cell_type": "code",
      "execution_count": null,
      "metadata": {
        "colab": {
          "base_uri": "https://localhost:8080/",
          "height": 211
        },
        "id": "bsXWZYT-dA3v",
        "outputId": "0d89bdc3-4965-43e9-b169-e6d3d1a33632"
      },
      "outputs": [
        {
          "ename": "NameError",
          "evalue": "ignored",
          "output_type": "error",
          "traceback": [
            "\u001b[0;31m---------------------------------------------------------------------------\u001b[0m",
            "\u001b[0;31mNameError\u001b[0m                                 Traceback (most recent call last)",
            "\u001b[0;32m<ipython-input-37-daad8122366c>\u001b[0m in \u001b[0;36m<cell line: 2>\u001b[0;34m()\u001b[0m\n\u001b[1;32m      1\u001b[0m \u001b[0;31m# Convert numpy arrays back to DataFrames\u001b[0m\u001b[0;34m\u001b[0m\u001b[0;34m\u001b[0m\u001b[0m\n\u001b[0;32m----> 2\u001b[0;31m \u001b[0mX_train\u001b[0m \u001b[0;34m=\u001b[0m \u001b[0mpd\u001b[0m\u001b[0;34m.\u001b[0m\u001b[0mDataFrame\u001b[0m\u001b[0;34m(\u001b[0m\u001b[0mX_train\u001b[0m\u001b[0;34m,\u001b[0m \u001b[0mcolumns\u001b[0m\u001b[0;34m=\u001b[0m\u001b[0mcolumns\u001b[0m\u001b[0;34m)\u001b[0m\u001b[0;34m\u001b[0m\u001b[0;34m\u001b[0m\u001b[0m\n\u001b[0m\u001b[1;32m      3\u001b[0m \u001b[0mX_test\u001b[0m \u001b[0;34m=\u001b[0m \u001b[0mpd\u001b[0m\u001b[0;34m.\u001b[0m\u001b[0mDataFrame\u001b[0m\u001b[0;34m(\u001b[0m\u001b[0mX_test\u001b[0m\u001b[0;34m,\u001b[0m \u001b[0mcolumns\u001b[0m\u001b[0;34m=\u001b[0m\u001b[0mcolumns\u001b[0m\u001b[0;34m)\u001b[0m\u001b[0;34m\u001b[0m\u001b[0;34m\u001b[0m\u001b[0m\n",
            "\u001b[0;31mNameError\u001b[0m: name 'columns' is not defined"
          ]
        }
      ],
      "source": [
        "# Convert numpy arrays back to DataFrames\n",
        "X_train = pd.DataFrame(X_train, columns=columns)\n",
        "X_test = pd.DataFrame(X_test, columns=columns)"
      ]
    },
    {
      "cell_type": "code",
      "execution_count": null,
      "metadata": {
        "id": "2dCIRj_eNdKZ"
      },
      "outputs": [],
      "source": [
        "# Initializing a column transformer that will handle categorical data encoding\n",
        "ct = ColumnTransformer([('one_hot_encoder', OneHotEncoder(), [c for c in categorical_columns]),\n",
        "                        ('target_encoder', TargetEncoder(),categorical_columns)],\n",
        "                       remainder='passthrough')"
      ]
    },
    {
      "cell_type": "code",
      "execution_count": null,
      "metadata": {
        "id": "r0_bLrCUVy_W"
      },
      "outputs": [],
      "source": [
        "#Fit the ColumnTransformer to the data\n",
        "ct.fit(X_train, Y_train)\n",
        "\n",
        "# transform training data and convert DF with new column names\n",
        "X_train = pd.DataFrame(ct.fit_transform(X_train, Y_train), columns=ct.get_feature_names_out())\n",
        "X_test = pd.DataFrame(ct.fit_transform(X_test, Y_test), columns=ct.get_feature_names_out())"
      ]
    },
    {
      "cell_type": "code",
      "execution_count": 113,
      "metadata": {
        "colab": {
          "base_uri": "https://localhost:8080/"
        },
        "id": "sucrf_rE2Yni",
        "outputId": "4ff176df-d0f8-4c59-ac57-a48a285cc61b"
      },
      "outputs": [
        {
          "output_type": "execute_result",
          "data": {
            "text/plain": [
              "0.08616956650415115"
            ]
          },
          "metadata": {},
          "execution_count": 113
        }
      ],
      "source": [
        "train_data['hospital_death'].mean()"
      ]
    },
    {
      "cell_type": "code",
      "execution_count": null,
      "metadata": {
        "colab": {
          "base_uri": "https://localhost:8080/"
        },
        "id": "iUyOlEMx6MEC",
        "outputId": "8dd457ad-5f30-4c62-8293-cf676403154e"
      },
      "outputs": [
        {
          "name": "stdout",
          "output_type": "stream",
          "text": [
            "column encounter_id dtype[class: <class 'numpy.dtype[int64]'>; name: int64; code: <i8; kind: i]\n",
            "column patient_id dtype[class: <class 'numpy.dtype[int64]'>; name: int64; code: <i8; kind: i]\n",
            "column hospital_id dtype[class: <class 'numpy.dtype[int64]'>; name: int64; code: <i8; kind: i]\n",
            "column hospital_death dtype[class: <class 'numpy.dtype[int64]'>; name: int64; code: <i8; kind: i]\n",
            "column age dtype[class: <class 'numpy.dtype[float64]'>; name: float64; code: <f8; kind: f]\n",
            "column bmi dtype[class: <class 'numpy.dtype[float64]'>; name: float64; code: <f8; kind: f]\n",
            "column elective_surgery dtype[class: <class 'numpy.dtype[int64]'>; name: int64; code: <i8; kind: i]\n",
            "column ethnicity dtype[class: <class 'numpy.dtype[object_]'>; name: object; code: |O; kind: O]\n",
            "column gender dtype[class: <class 'numpy.dtype[object_]'>; name: object; code: |O; kind: O]\n",
            "column height dtype[class: <class 'numpy.dtype[float64]'>; name: float64; code: <f8; kind: f]\n",
            "column hospital_admit_source dtype[class: <class 'numpy.dtype[object_]'>; name: object; code: |O; kind: O]\n",
            "column icu_admit_source dtype[class: <class 'numpy.dtype[object_]'>; name: object; code: |O; kind: O]\n",
            "column icu_id dtype[class: <class 'numpy.dtype[int64]'>; name: int64; code: <i8; kind: i]\n",
            "column icu_stay_type dtype[class: <class 'numpy.dtype[object_]'>; name: object; code: |O; kind: O]\n",
            "column icu_type dtype[class: <class 'numpy.dtype[object_]'>; name: object; code: |O; kind: O]\n",
            "column pre_icu_los_days dtype[class: <class 'numpy.dtype[float64]'>; name: float64; code: <f8; kind: f]\n",
            "column readmission_status dtype[class: <class 'numpy.dtype[int64]'>; name: int64; code: <i8; kind: i]\n",
            "column weight dtype[class: <class 'numpy.dtype[float64]'>; name: float64; code: <f8; kind: f]\n",
            "column albumin_apache dtype[class: <class 'numpy.dtype[float64]'>; name: float64; code: <f8; kind: f]\n",
            "column apache_2_diagnosis dtype[class: <class 'numpy.dtype[float64]'>; name: float64; code: <f8; kind: f]\n",
            "column apache_3j_diagnosis dtype[class: <class 'numpy.dtype[float64]'>; name: float64; code: <f8; kind: f]\n",
            "column apache_post_operative dtype[class: <class 'numpy.dtype[int64]'>; name: int64; code: <i8; kind: i]\n",
            "column arf_apache dtype[class: <class 'numpy.dtype[float64]'>; name: float64; code: <f8; kind: f]\n",
            "column bilirubin_apache dtype[class: <class 'numpy.dtype[float64]'>; name: float64; code: <f8; kind: f]\n",
            "column bun_apache dtype[class: <class 'numpy.dtype[float64]'>; name: float64; code: <f8; kind: f]\n",
            "column creatinine_apache dtype[class: <class 'numpy.dtype[float64]'>; name: float64; code: <f8; kind: f]\n",
            "column fio2_apache dtype[class: <class 'numpy.dtype[float64]'>; name: float64; code: <f8; kind: f]\n",
            "column gcs_eyes_apache dtype[class: <class 'numpy.dtype[float64]'>; name: float64; code: <f8; kind: f]\n",
            "column gcs_motor_apache dtype[class: <class 'numpy.dtype[float64]'>; name: float64; code: <f8; kind: f]\n",
            "column gcs_unable_apache dtype[class: <class 'numpy.dtype[float64]'>; name: float64; code: <f8; kind: f]\n",
            "column gcs_verbal_apache dtype[class: <class 'numpy.dtype[float64]'>; name: float64; code: <f8; kind: f]\n",
            "column glucose_apache dtype[class: <class 'numpy.dtype[float64]'>; name: float64; code: <f8; kind: f]\n",
            "column heart_rate_apache dtype[class: <class 'numpy.dtype[float64]'>; name: float64; code: <f8; kind: f]\n",
            "column hematocrit_apache dtype[class: <class 'numpy.dtype[float64]'>; name: float64; code: <f8; kind: f]\n",
            "column intubated_apache dtype[class: <class 'numpy.dtype[float64]'>; name: float64; code: <f8; kind: f]\n",
            "column map_apache dtype[class: <class 'numpy.dtype[float64]'>; name: float64; code: <f8; kind: f]\n",
            "column paco2_apache dtype[class: <class 'numpy.dtype[float64]'>; name: float64; code: <f8; kind: f]\n",
            "column paco2_for_ph_apache dtype[class: <class 'numpy.dtype[float64]'>; name: float64; code: <f8; kind: f]\n",
            "column pao2_apache dtype[class: <class 'numpy.dtype[float64]'>; name: float64; code: <f8; kind: f]\n",
            "column ph_apache dtype[class: <class 'numpy.dtype[float64]'>; name: float64; code: <f8; kind: f]\n",
            "column resprate_apache dtype[class: <class 'numpy.dtype[float64]'>; name: float64; code: <f8; kind: f]\n",
            "column sodium_apache dtype[class: <class 'numpy.dtype[float64]'>; name: float64; code: <f8; kind: f]\n",
            "column temp_apache dtype[class: <class 'numpy.dtype[float64]'>; name: float64; code: <f8; kind: f]\n",
            "column urineoutput_apache dtype[class: <class 'numpy.dtype[float64]'>; name: float64; code: <f8; kind: f]\n",
            "column ventilated_apache dtype[class: <class 'numpy.dtype[float64]'>; name: float64; code: <f8; kind: f]\n",
            "column wbc_apache dtype[class: <class 'numpy.dtype[float64]'>; name: float64; code: <f8; kind: f]\n",
            "column d1_diasbp_invasive_max dtype[class: <class 'numpy.dtype[float64]'>; name: float64; code: <f8; kind: f]\n",
            "column d1_diasbp_invasive_min dtype[class: <class 'numpy.dtype[float64]'>; name: float64; code: <f8; kind: f]\n",
            "column d1_diasbp_max dtype[class: <class 'numpy.dtype[float64]'>; name: float64; code: <f8; kind: f]\n",
            "column d1_diasbp_min dtype[class: <class 'numpy.dtype[float64]'>; name: float64; code: <f8; kind: f]\n",
            "column d1_diasbp_noninvasive_max dtype[class: <class 'numpy.dtype[float64]'>; name: float64; code: <f8; kind: f]\n",
            "column d1_diasbp_noninvasive_min dtype[class: <class 'numpy.dtype[float64]'>; name: float64; code: <f8; kind: f]\n",
            "column d1_heartrate_max dtype[class: <class 'numpy.dtype[float64]'>; name: float64; code: <f8; kind: f]\n",
            "column d1_heartrate_min dtype[class: <class 'numpy.dtype[float64]'>; name: float64; code: <f8; kind: f]\n",
            "column d1_mbp_invasive_max dtype[class: <class 'numpy.dtype[float64]'>; name: float64; code: <f8; kind: f]\n",
            "column d1_mbp_invasive_min dtype[class: <class 'numpy.dtype[float64]'>; name: float64; code: <f8; kind: f]\n",
            "column d1_mbp_max dtype[class: <class 'numpy.dtype[float64]'>; name: float64; code: <f8; kind: f]\n",
            "column d1_mbp_min dtype[class: <class 'numpy.dtype[float64]'>; name: float64; code: <f8; kind: f]\n",
            "column d1_mbp_noninvasive_max dtype[class: <class 'numpy.dtype[float64]'>; name: float64; code: <f8; kind: f]\n",
            "column d1_mbp_noninvasive_min dtype[class: <class 'numpy.dtype[float64]'>; name: float64; code: <f8; kind: f]\n",
            "column d1_resprate_max dtype[class: <class 'numpy.dtype[float64]'>; name: float64; code: <f8; kind: f]\n",
            "column d1_resprate_min dtype[class: <class 'numpy.dtype[float64]'>; name: float64; code: <f8; kind: f]\n",
            "column d1_spo2_max dtype[class: <class 'numpy.dtype[float64]'>; name: float64; code: <f8; kind: f]\n",
            "column d1_spo2_min dtype[class: <class 'numpy.dtype[float64]'>; name: float64; code: <f8; kind: f]\n",
            "column d1_sysbp_invasive_max dtype[class: <class 'numpy.dtype[float64]'>; name: float64; code: <f8; kind: f]\n",
            "column d1_sysbp_invasive_min dtype[class: <class 'numpy.dtype[float64]'>; name: float64; code: <f8; kind: f]\n",
            "column d1_sysbp_max dtype[class: <class 'numpy.dtype[float64]'>; name: float64; code: <f8; kind: f]\n",
            "column d1_sysbp_min dtype[class: <class 'numpy.dtype[float64]'>; name: float64; code: <f8; kind: f]\n",
            "column d1_sysbp_noninvasive_max dtype[class: <class 'numpy.dtype[float64]'>; name: float64; code: <f8; kind: f]\n",
            "column d1_sysbp_noninvasive_min dtype[class: <class 'numpy.dtype[float64]'>; name: float64; code: <f8; kind: f]\n",
            "column d1_temp_max dtype[class: <class 'numpy.dtype[float64]'>; name: float64; code: <f8; kind: f]\n",
            "column d1_temp_min dtype[class: <class 'numpy.dtype[float64]'>; name: float64; code: <f8; kind: f]\n",
            "column h1_diasbp_invasive_max dtype[class: <class 'numpy.dtype[float64]'>; name: float64; code: <f8; kind: f]\n",
            "column h1_diasbp_invasive_min dtype[class: <class 'numpy.dtype[float64]'>; name: float64; code: <f8; kind: f]\n",
            "column h1_diasbp_max dtype[class: <class 'numpy.dtype[float64]'>; name: float64; code: <f8; kind: f]\n",
            "column h1_diasbp_min dtype[class: <class 'numpy.dtype[float64]'>; name: float64; code: <f8; kind: f]\n",
            "column h1_diasbp_noninvasive_max dtype[class: <class 'numpy.dtype[float64]'>; name: float64; code: <f8; kind: f]\n",
            "column h1_diasbp_noninvasive_min dtype[class: <class 'numpy.dtype[float64]'>; name: float64; code: <f8; kind: f]\n",
            "column h1_heartrate_max dtype[class: <class 'numpy.dtype[float64]'>; name: float64; code: <f8; kind: f]\n",
            "column h1_heartrate_min dtype[class: <class 'numpy.dtype[float64]'>; name: float64; code: <f8; kind: f]\n",
            "column h1_mbp_invasive_max dtype[class: <class 'numpy.dtype[float64]'>; name: float64; code: <f8; kind: f]\n",
            "column h1_mbp_invasive_min dtype[class: <class 'numpy.dtype[float64]'>; name: float64; code: <f8; kind: f]\n",
            "column h1_mbp_max dtype[class: <class 'numpy.dtype[float64]'>; name: float64; code: <f8; kind: f]\n",
            "column h1_mbp_min dtype[class: <class 'numpy.dtype[float64]'>; name: float64; code: <f8; kind: f]\n",
            "column h1_mbp_noninvasive_max dtype[class: <class 'numpy.dtype[float64]'>; name: float64; code: <f8; kind: f]\n",
            "column h1_mbp_noninvasive_min dtype[class: <class 'numpy.dtype[float64]'>; name: float64; code: <f8; kind: f]\n",
            "column h1_resprate_max dtype[class: <class 'numpy.dtype[float64]'>; name: float64; code: <f8; kind: f]\n",
            "column h1_resprate_min dtype[class: <class 'numpy.dtype[float64]'>; name: float64; code: <f8; kind: f]\n",
            "column h1_spo2_max dtype[class: <class 'numpy.dtype[float64]'>; name: float64; code: <f8; kind: f]\n",
            "column h1_spo2_min dtype[class: <class 'numpy.dtype[float64]'>; name: float64; code: <f8; kind: f]\n",
            "column h1_sysbp_invasive_max dtype[class: <class 'numpy.dtype[float64]'>; name: float64; code: <f8; kind: f]\n",
            "column h1_sysbp_invasive_min dtype[class: <class 'numpy.dtype[float64]'>; name: float64; code: <f8; kind: f]\n",
            "column h1_sysbp_max dtype[class: <class 'numpy.dtype[float64]'>; name: float64; code: <f8; kind: f]\n",
            "column h1_sysbp_min dtype[class: <class 'numpy.dtype[float64]'>; name: float64; code: <f8; kind: f]\n",
            "column h1_sysbp_noninvasive_max dtype[class: <class 'numpy.dtype[float64]'>; name: float64; code: <f8; kind: f]\n",
            "column h1_sysbp_noninvasive_min dtype[class: <class 'numpy.dtype[float64]'>; name: float64; code: <f8; kind: f]\n",
            "column h1_temp_max dtype[class: <class 'numpy.dtype[float64]'>; name: float64; code: <f8; kind: f]\n",
            "column h1_temp_min dtype[class: <class 'numpy.dtype[float64]'>; name: float64; code: <f8; kind: f]\n",
            "column d1_albumin_max dtype[class: <class 'numpy.dtype[float64]'>; name: float64; code: <f8; kind: f]\n",
            "column d1_albumin_min dtype[class: <class 'numpy.dtype[float64]'>; name: float64; code: <f8; kind: f]\n",
            "column d1_bilirubin_max dtype[class: <class 'numpy.dtype[float64]'>; name: float64; code: <f8; kind: f]\n",
            "column d1_bilirubin_min dtype[class: <class 'numpy.dtype[float64]'>; name: float64; code: <f8; kind: f]\n",
            "column d1_bun_max dtype[class: <class 'numpy.dtype[float64]'>; name: float64; code: <f8; kind: f]\n",
            "column d1_bun_min dtype[class: <class 'numpy.dtype[float64]'>; name: float64; code: <f8; kind: f]\n",
            "column d1_calcium_max dtype[class: <class 'numpy.dtype[float64]'>; name: float64; code: <f8; kind: f]\n",
            "column d1_calcium_min dtype[class: <class 'numpy.dtype[float64]'>; name: float64; code: <f8; kind: f]\n",
            "column d1_creatinine_max dtype[class: <class 'numpy.dtype[float64]'>; name: float64; code: <f8; kind: f]\n",
            "column d1_creatinine_min dtype[class: <class 'numpy.dtype[float64]'>; name: float64; code: <f8; kind: f]\n",
            "column d1_glucose_max dtype[class: <class 'numpy.dtype[float64]'>; name: float64; code: <f8; kind: f]\n",
            "column d1_glucose_min dtype[class: <class 'numpy.dtype[float64]'>; name: float64; code: <f8; kind: f]\n",
            "column d1_hco3_max dtype[class: <class 'numpy.dtype[float64]'>; name: float64; code: <f8; kind: f]\n",
            "column d1_hco3_min dtype[class: <class 'numpy.dtype[float64]'>; name: float64; code: <f8; kind: f]\n",
            "column d1_hemaglobin_max dtype[class: <class 'numpy.dtype[float64]'>; name: float64; code: <f8; kind: f]\n",
            "column d1_hemaglobin_min dtype[class: <class 'numpy.dtype[float64]'>; name: float64; code: <f8; kind: f]\n",
            "column d1_hematocrit_max dtype[class: <class 'numpy.dtype[float64]'>; name: float64; code: <f8; kind: f]\n",
            "column d1_hematocrit_min dtype[class: <class 'numpy.dtype[float64]'>; name: float64; code: <f8; kind: f]\n",
            "column d1_inr_max dtype[class: <class 'numpy.dtype[float64]'>; name: float64; code: <f8; kind: f]\n",
            "column d1_inr_min dtype[class: <class 'numpy.dtype[float64]'>; name: float64; code: <f8; kind: f]\n",
            "column d1_lactate_max dtype[class: <class 'numpy.dtype[float64]'>; name: float64; code: <f8; kind: f]\n",
            "column d1_lactate_min dtype[class: <class 'numpy.dtype[float64]'>; name: float64; code: <f8; kind: f]\n",
            "column d1_platelets_max dtype[class: <class 'numpy.dtype[float64]'>; name: float64; code: <f8; kind: f]\n",
            "column d1_platelets_min dtype[class: <class 'numpy.dtype[float64]'>; name: float64; code: <f8; kind: f]\n",
            "column d1_potassium_max dtype[class: <class 'numpy.dtype[float64]'>; name: float64; code: <f8; kind: f]\n",
            "column d1_potassium_min dtype[class: <class 'numpy.dtype[float64]'>; name: float64; code: <f8; kind: f]\n",
            "column d1_sodium_max dtype[class: <class 'numpy.dtype[float64]'>; name: float64; code: <f8; kind: f]\n",
            "column d1_sodium_min dtype[class: <class 'numpy.dtype[float64]'>; name: float64; code: <f8; kind: f]\n",
            "column d1_wbc_max dtype[class: <class 'numpy.dtype[float64]'>; name: float64; code: <f8; kind: f]\n",
            "column d1_wbc_min dtype[class: <class 'numpy.dtype[float64]'>; name: float64; code: <f8; kind: f]\n",
            "column h1_albumin_max dtype[class: <class 'numpy.dtype[float64]'>; name: float64; code: <f8; kind: f]\n",
            "column h1_albumin_min dtype[class: <class 'numpy.dtype[float64]'>; name: float64; code: <f8; kind: f]\n",
            "column h1_bilirubin_max dtype[class: <class 'numpy.dtype[float64]'>; name: float64; code: <f8; kind: f]\n",
            "column h1_bilirubin_min dtype[class: <class 'numpy.dtype[float64]'>; name: float64; code: <f8; kind: f]\n",
            "column h1_bun_max dtype[class: <class 'numpy.dtype[float64]'>; name: float64; code: <f8; kind: f]\n",
            "column h1_bun_min dtype[class: <class 'numpy.dtype[float64]'>; name: float64; code: <f8; kind: f]\n",
            "column h1_calcium_max dtype[class: <class 'numpy.dtype[float64]'>; name: float64; code: <f8; kind: f]\n",
            "column h1_calcium_min dtype[class: <class 'numpy.dtype[float64]'>; name: float64; code: <f8; kind: f]\n",
            "column h1_creatinine_max dtype[class: <class 'numpy.dtype[float64]'>; name: float64; code: <f8; kind: f]\n",
            "column h1_creatinine_min dtype[class: <class 'numpy.dtype[float64]'>; name: float64; code: <f8; kind: f]\n",
            "column h1_glucose_max dtype[class: <class 'numpy.dtype[float64]'>; name: float64; code: <f8; kind: f]\n",
            "column h1_glucose_min dtype[class: <class 'numpy.dtype[float64]'>; name: float64; code: <f8; kind: f]\n",
            "column h1_hco3_max dtype[class: <class 'numpy.dtype[float64]'>; name: float64; code: <f8; kind: f]\n",
            "column h1_hco3_min dtype[class: <class 'numpy.dtype[float64]'>; name: float64; code: <f8; kind: f]\n",
            "column h1_hemaglobin_max dtype[class: <class 'numpy.dtype[float64]'>; name: float64; code: <f8; kind: f]\n",
            "column h1_hemaglobin_min dtype[class: <class 'numpy.dtype[float64]'>; name: float64; code: <f8; kind: f]\n",
            "column h1_hematocrit_max dtype[class: <class 'numpy.dtype[float64]'>; name: float64; code: <f8; kind: f]\n",
            "column h1_hematocrit_min dtype[class: <class 'numpy.dtype[float64]'>; name: float64; code: <f8; kind: f]\n",
            "column h1_inr_max dtype[class: <class 'numpy.dtype[float64]'>; name: float64; code: <f8; kind: f]\n",
            "column h1_inr_min dtype[class: <class 'numpy.dtype[float64]'>; name: float64; code: <f8; kind: f]\n",
            "column h1_lactate_max dtype[class: <class 'numpy.dtype[float64]'>; name: float64; code: <f8; kind: f]\n",
            "column h1_lactate_min dtype[class: <class 'numpy.dtype[float64]'>; name: float64; code: <f8; kind: f]\n",
            "column h1_platelets_max dtype[class: <class 'numpy.dtype[float64]'>; name: float64; code: <f8; kind: f]\n",
            "column h1_platelets_min dtype[class: <class 'numpy.dtype[float64]'>; name: float64; code: <f8; kind: f]\n",
            "column h1_potassium_max dtype[class: <class 'numpy.dtype[float64]'>; name: float64; code: <f8; kind: f]\n",
            "column h1_potassium_min dtype[class: <class 'numpy.dtype[float64]'>; name: float64; code: <f8; kind: f]\n",
            "column h1_sodium_max dtype[class: <class 'numpy.dtype[float64]'>; name: float64; code: <f8; kind: f]\n",
            "column h1_sodium_min dtype[class: <class 'numpy.dtype[float64]'>; name: float64; code: <f8; kind: f]\n",
            "column h1_wbc_max dtype[class: <class 'numpy.dtype[float64]'>; name: float64; code: <f8; kind: f]\n",
            "column h1_wbc_min dtype[class: <class 'numpy.dtype[float64]'>; name: float64; code: <f8; kind: f]\n",
            "column d1_arterial_pco2_max dtype[class: <class 'numpy.dtype[float64]'>; name: float64; code: <f8; kind: f]\n",
            "column d1_arterial_pco2_min dtype[class: <class 'numpy.dtype[float64]'>; name: float64; code: <f8; kind: f]\n",
            "column d1_arterial_ph_max dtype[class: <class 'numpy.dtype[float64]'>; name: float64; code: <f8; kind: f]\n",
            "column d1_arterial_ph_min dtype[class: <class 'numpy.dtype[float64]'>; name: float64; code: <f8; kind: f]\n",
            "column d1_arterial_po2_max dtype[class: <class 'numpy.dtype[float64]'>; name: float64; code: <f8; kind: f]\n",
            "column d1_arterial_po2_min dtype[class: <class 'numpy.dtype[float64]'>; name: float64; code: <f8; kind: f]\n",
            "column d1_pao2fio2ratio_max dtype[class: <class 'numpy.dtype[float64]'>; name: float64; code: <f8; kind: f]\n",
            "column d1_pao2fio2ratio_min dtype[class: <class 'numpy.dtype[float64]'>; name: float64; code: <f8; kind: f]\n",
            "column h1_arterial_pco2_max dtype[class: <class 'numpy.dtype[float64]'>; name: float64; code: <f8; kind: f]\n",
            "column h1_arterial_pco2_min dtype[class: <class 'numpy.dtype[float64]'>; name: float64; code: <f8; kind: f]\n",
            "column h1_arterial_ph_max dtype[class: <class 'numpy.dtype[float64]'>; name: float64; code: <f8; kind: f]\n",
            "column h1_arterial_ph_min dtype[class: <class 'numpy.dtype[float64]'>; name: float64; code: <f8; kind: f]\n",
            "column h1_arterial_po2_max dtype[class: <class 'numpy.dtype[float64]'>; name: float64; code: <f8; kind: f]\n",
            "column h1_arterial_po2_min dtype[class: <class 'numpy.dtype[float64]'>; name: float64; code: <f8; kind: f]\n",
            "column h1_pao2fio2ratio_max dtype[class: <class 'numpy.dtype[float64]'>; name: float64; code: <f8; kind: f]\n",
            "column h1_pao2fio2ratio_min dtype[class: <class 'numpy.dtype[float64]'>; name: float64; code: <f8; kind: f]\n",
            "column apache_4a_hospital_death_prob dtype[class: <class 'numpy.dtype[float64]'>; name: float64; code: <f8; kind: f]\n",
            "column apache_4a_icu_death_prob dtype[class: <class 'numpy.dtype[float64]'>; name: float64; code: <f8; kind: f]\n",
            "column aids dtype[class: <class 'numpy.dtype[float64]'>; name: float64; code: <f8; kind: f]\n",
            "column cirrhosis dtype[class: <class 'numpy.dtype[float64]'>; name: float64; code: <f8; kind: f]\n",
            "column diabetes_mellitus dtype[class: <class 'numpy.dtype[float64]'>; name: float64; code: <f8; kind: f]\n",
            "column hepatic_failure dtype[class: <class 'numpy.dtype[float64]'>; name: float64; code: <f8; kind: f]\n",
            "column immunosuppression dtype[class: <class 'numpy.dtype[float64]'>; name: float64; code: <f8; kind: f]\n",
            "column leukemia dtype[class: <class 'numpy.dtype[float64]'>; name: float64; code: <f8; kind: f]\n",
            "column lymphoma dtype[class: <class 'numpy.dtype[float64]'>; name: float64; code: <f8; kind: f]\n",
            "column solid_tumor_with_metastasis dtype[class: <class 'numpy.dtype[float64]'>; name: float64; code: <f8; kind: f]\n",
            "column apache_3j_bodysystem dtype[class: <class 'numpy.dtype[object_]'>; name: object; code: |O; kind: O]\n",
            "column apache_2_bodysystem dtype[class: <class 'numpy.dtype[object_]'>; name: object; code: |O; kind: O]\n"
          ]
        }
      ],
      "source": [
        "dts = df.dtypes\n",
        "for index, value in dts.items():\n",
        "    print(\"column %s dtype[class: %s; name: %s; code: %s; kind: %s]\" % (index, type(value), value.name, value.str, value.kind))"
      ]
    },
    {
      "cell_type": "code",
      "execution_count": null,
      "metadata": {
        "colab": {
          "base_uri": "https://localhost:8080/"
        },
        "id": "HpRdigzW6cPi",
        "outputId": "96052b48-721e-4269-9dfe-ee46b5cd56cd"
      },
      "outputs": [
        {
          "data": {
            "text/plain": [
              "patient_id                       int64\n",
              "hospital_id                      int64\n",
              "hospital_death                   int64\n",
              "age                            float64\n",
              "bmi                            float64\n",
              "                                ...   \n",
              "hepatic_failure                float64\n",
              "immunosuppression              float64\n",
              "leukemia                       float64\n",
              "lymphoma                       float64\n",
              "solid_tumor_with_metastasis    float64\n",
              "Length: 178, dtype: object"
            ]
          },
          "execution_count": 30,
          "metadata": {},
          "output_type": "execute_result"
        }
      ],
      "source": [
        "ICU_df.dtypes"
      ]
    },
    {
      "cell_type": "code",
      "execution_count": 114,
      "metadata": {
        "id": "bkFRvRSj29mu"
      },
      "outputs": [],
      "source": [
        "# Standardize the features to have zero mean and unit variance\n",
        "sc = StandardScaler()\n",
        "X_train = sc.fit_transform(X_train)\n",
        "X_test = sc.transform(X_test)\n",
        "\n"
      ]
    },
    {
      "cell_type": "code",
      "source": [
        "# Scale the data to the range of 0 and 1\n",
        "X_train = (X_train - X_train.min()) / (X_train.max() - X_train.min())\n",
        "X_test = (X_test - X_test.min()) / (X_test.max() - X_test.min())"
      ],
      "metadata": {
        "id": "J_fFgREVon_4"
      },
      "execution_count": 115,
      "outputs": []
    },
    {
      "cell_type": "code",
      "execution_count": 116,
      "metadata": {
        "id": "ep3t45zm8zmA"
      },
      "outputs": [],
      "source": [
        "# Define the number of neurons in the first and second hidden layers\n",
        "hidden_units_layer_1 = 5\n",
        "hidden_units_layer_2 = 5\n",
        "\n",
        "# FIRST LAYER: Define weights and biases for the first layer\n",
        "W1 = t.randn((177, hidden_units_layer_1), requires_grad=True)\n",
        "B1 = t.zeros((1, hidden_units_layer_1), requires_grad=True)\n",
        "\n",
        "# SECOND LAYER: Define weights and biases for the second layer\n",
        "W2 = t.randn((hidden_units_layer_1, hidden_units_layer_2), requires_grad=True)\n",
        "B2 = t.zeros((1, hidden_units_layer_2), requires_grad=True)\n",
        "\n",
        "# THIRD LAYER: Define weights and biases for the output layer\n",
        "W3 = t.randn((hidden_units_layer_2, 1), requires_grad=True)\n",
        "B3 = t.zeros((1, 1), requires_grad=True)"
      ]
    },
    {
      "cell_type": "code",
      "execution_count": 117,
      "metadata": {
        "id": "BFvrzPZM817R"
      },
      "outputs": [],
      "source": [
        "# Define the forward pass of the neural network\n",
        "def forward(input):\n",
        "    # First hidden layer with tanh activation\n",
        "    out = sigmoid(tanh(input @ W1 + B1))\n",
        "\n",
        "    # Second hidden layer with tanh activation\n",
        "    out = sigmoid(tanh(out @ W2 + B2))\n",
        "\n",
        "    # Output layer with sigmoid activation (since it's a binary classification problem)\n",
        "    out = sigmoid(out @ W3 + B3)\n",
        "    return out\n"
      ]
    },
    {
      "cell_type": "code",
      "execution_count": 127,
      "metadata": {
        "id": "ZhgydaSh86ZA"
      },
      "outputs": [],
      "source": [
        "# Convert the training data to PyTorch tensors\n",
        "X = t.Tensor(X_train).type(t.float32)\n",
        "Y = t.Tensor(Y_train).type(t.float32)\n",
        "\n",
        "# Create a dataset from tensors to be used with DataLoader\n",
        "train_dataset = TensorDataset(X, Y)\n",
        "\n",
        "# Define training hyperparameters\n",
        "epochs = 20\n",
        "learning_rate = 0.01\n",
        "batch_size = 32\n",
        "\n",
        "# DataLoader provides batches of data for training\n",
        "train_data_loader = DataLoader(train_dataset, batch_size=batch_size, shuffle=True)\n",
        "\n",
        "# Define the optimizer (Adam) and include all weights and biases\n",
        "optimizer = Adam([W1, B1, W2, B2, W3, B3], lr=learning_rate)\n",
        "\n",
        "# Define the loss function (Binary Cross-Entropy Loss)\n",
        "loss_fn = t.nn.BCELoss()"
      ]
    },
    {
      "cell_type": "code",
      "source": [
        "# Checking the shape of the input tensor\n",
        "print(\"Input shape:\", X.shape)\n",
        "\n",
        "# Checking the shapes of the weights and biases\n",
        "print(\"W1 shape:\", W1.shape)\n",
        "print(\"B1 shape:\", B1.shape)\n",
        "print(\"W2 shape:\", W2.shape)\n",
        "print(\"B2 shape:\", B2.shape)\n",
        "print(\"W3 shape:\", W3.shape)\n",
        "print(\"B3 shape:\", B3.shape)"
      ],
      "metadata": {
        "colab": {
          "base_uri": "https://localhost:8080/"
        },
        "id": "sufI-NqGlI6I",
        "outputId": "f4332e5a-3918-4cec-c29e-d052fbdba04b"
      },
      "execution_count": 123,
      "outputs": [
        {
          "output_type": "stream",
          "name": "stdout",
          "text": [
            "Input shape: torch.Size([64199, 177])\n",
            "W1 shape: torch.Size([177, 5])\n",
            "B1 shape: torch.Size([1, 5])\n",
            "W2 shape: torch.Size([5, 5])\n",
            "B2 shape: torch.Size([1, 5])\n",
            "W3 shape: torch.Size([5, 1])\n",
            "B3 shape: torch.Size([1, 1])\n"
          ]
        }
      ]
    },
    {
      "cell_type": "code",
      "source": [
        "# Checking the data type of tensors, weights, and biases\n",
        "print(\"Data type of X:\", X.dtype)\n",
        "print(\"Data type of W1:\", W1.dtype)\n",
        "print(\"Data type of B1:\", B1.dtype)\n",
        "print(\"Data type of W2:\", W2.dtype)\n",
        "print(\"Data type of B2:\", B2.dtype)\n",
        "print(\"Data type of W3:\", W3.dtype)\n",
        "print(\"Data type of B3:\", B3.dtype)\n",
        "\n",
        "# Inspecting the contents of tensors, weights, and biases\n",
        "print(\"Content of X:\", X)\n",
        "print(\"Content of W1:\", W1)\n",
        "print(\"Content of B1:\", B1)\n",
        "print(\"Content of W2:\", W2)\n",
        "print(\"Content of B2:\", B2)\n",
        "print(\"Content of W3:\", W3)\n",
        "print(\"Content of B3:\", B3)"
      ],
      "metadata": {
        "colab": {
          "base_uri": "https://localhost:8080/"
        },
        "id": "y1bzIKs1mPyG",
        "outputId": "81439012-d57e-45f9-ef73-b96799b536f5"
      },
      "execution_count": 67,
      "outputs": [
        {
          "output_type": "stream",
          "name": "stdout",
          "text": [
            "Data type of X: torch.float32\n",
            "Data type of W1: torch.float32\n",
            "Data type of B1: torch.float32\n",
            "Data type of W2: torch.float32\n",
            "Data type of B2: torch.float32\n",
            "Data type of W3: torch.float32\n",
            "Data type of B3: torch.float32\n",
            "Content of X: tensor([[-0.3330,  0.9615, -1.5072,  ..., -0.0841, -0.0650, -0.1459],\n",
            "        [-1.6672, -0.4233,  0.2799,  ..., -0.0841, -0.0650, -0.1459],\n",
            "        [ 0.4898,  0.6909,  1.0542,  ..., -0.0841, -0.0650, -0.1459],\n",
            "        ...,\n",
            "        [-0.0496,  0.1020, -0.7924,  ..., -0.0841, -0.0650, -0.1459],\n",
            "        [ 0.9718, -0.4233, -2.1624,  ..., -0.0841, -0.0650, -0.1459],\n",
            "        [ 1.4119, -1.4580,  0.3990,  ..., -0.0841, -0.0650, -0.1459]])\n",
            "Content of W1: tensor([[ 2.2970e-01,  4.3600e-02,  1.8111e+00, -2.4707e+00, -3.9344e-01],\n",
            "        [ 2.9533e-02, -1.1200e+00,  7.0239e-01, -7.3093e-01, -1.6911e+00],\n",
            "        [ 1.2425e+00, -4.3151e-01, -1.2333e+00,  1.0497e+00,  4.0452e-01],\n",
            "        [-3.2695e-02, -4.7119e-01, -4.2231e-02,  6.2114e-01, -3.6742e-01],\n",
            "        [-1.3272e+00, -1.0357e+00, -1.6160e+00, -1.4459e-01,  1.5086e+00],\n",
            "        [ 2.0594e+00,  1.0479e+00,  1.5868e+00,  6.3830e-01,  1.4439e+00],\n",
            "        [ 6.0797e-01,  8.5714e-01,  1.1489e+00,  2.1812e-01,  5.9835e-01],\n",
            "        [-9.7482e-01,  7.4037e-02, -1.1882e+00, -2.0671e-01,  1.0411e-01],\n",
            "        [ 4.8414e-01,  6.3695e-01,  5.9537e-01,  4.1749e-01, -3.0904e-01],\n",
            "        [ 6.7532e-01,  1.0962e-01, -1.1252e+00, -5.3457e-02,  2.7567e+00],\n",
            "        [ 1.3936e+00,  3.1467e-01,  1.4221e-01, -9.8661e-03,  1.5595e+00],\n",
            "        [-2.6050e+00, -2.2642e-01, -5.6091e-01, -2.4924e-01, -2.4579e-01],\n",
            "        [-5.5896e-02, -1.1441e+00,  9.9536e-01, -7.8707e-01, -2.0937e+00],\n",
            "        [-1.9626e+00,  1.1472e+00, -6.0481e-01, -2.5098e-01, -3.4494e-01],\n",
            "        [ 1.1699e+00,  7.1374e-01, -5.0294e-01, -2.6019e-01, -5.1022e-01],\n",
            "        [-3.3844e-01,  6.0321e-01,  2.4511e+00,  3.9600e-01,  5.7850e-01],\n",
            "        [ 2.0788e-01,  2.6679e-01, -1.0150e+00,  8.6158e-01,  9.1502e-01],\n",
            "        [ 3.8304e-01,  1.3621e+00,  6.3752e-01, -2.0688e+00, -1.4480e+00],\n",
            "        [-5.2782e-02, -9.6482e-01, -1.9219e-01,  4.0410e-01, -6.5799e-01],\n",
            "        [-6.5715e-01, -1.9989e-01,  6.6559e-01,  7.6163e-01,  1.8611e+00],\n",
            "        [ 2.2109e-01, -6.5982e-01, -2.6053e-01, -7.5456e-01,  1.3062e+00],\n",
            "        [-1.9253e-01,  3.1892e-01,  6.8177e-01,  7.4702e-02, -3.7442e-01],\n",
            "        [ 5.1932e-01,  8.0565e-02,  1.6576e+00,  5.1403e-01, -1.3910e-01],\n",
            "        [-3.8077e-01, -7.0126e-02,  4.5592e-01, -1.3526e-01, -2.3622e+00],\n",
            "        [-2.6016e-01, -9.5285e-02, -4.2768e-01,  3.1388e-01, -1.7813e-01],\n",
            "        [-1.9605e-01, -1.5958e+00,  7.7328e-01,  1.0790e+00,  1.5690e-01],\n",
            "        [ 8.5953e-01,  2.4609e+00, -4.1450e-02, -5.0139e-01, -3.3771e-01],\n",
            "        [-7.3882e-01,  1.1216e-01,  1.7231e-01,  9.6527e-01, -2.7965e-01],\n",
            "        [ 1.0787e+00,  1.3989e-01, -5.4811e-01,  9.8476e-01,  6.6816e-01],\n",
            "        [ 7.9357e-01, -2.2713e-01,  2.3946e+00, -2.0161e-01,  2.7775e-03],\n",
            "        [ 8.9027e-01, -1.4808e-01, -9.4482e-01, -1.3170e+00, -1.2543e-02],\n",
            "        [ 1.7876e+00, -1.2214e+00,  3.7583e-01, -4.7083e-02,  2.0135e-01],\n",
            "        [ 3.5773e-02,  8.9471e-01,  1.0730e-03,  1.0182e+00, -1.0640e+00],\n",
            "        [ 8.9752e-02, -8.7127e-01, -2.2159e+00,  1.0897e+00,  1.1258e+00],\n",
            "        [ 1.0895e+00, -1.1460e+00, -1.3488e+00,  1.9490e+00, -1.7303e+00],\n",
            "        [ 2.4322e-01, -6.7821e-01,  8.2432e-01, -4.4623e-01,  9.4227e-01],\n",
            "        [ 7.9472e-01,  1.4124e+00, -1.9014e+00,  9.1547e-01,  1.8132e-01],\n",
            "        [-2.2684e+00, -9.7316e-01, -2.0747e-03,  1.7563e+00,  3.0894e-01],\n",
            "        [-3.4789e-01,  4.3720e-01, -9.6924e-01,  1.8572e+00,  1.4441e+00],\n",
            "        [-6.4735e-01, -2.3142e-01, -1.6171e+00, -1.0135e+00,  2.3977e+00],\n",
            "        [ 4.9660e-01, -6.3387e-01, -1.8536e+00, -6.7165e-01,  1.1430e-01],\n",
            "        [-5.7123e-01,  6.7888e-01,  7.0514e-01,  3.1870e-01, -3.0400e-01],\n",
            "        [ 5.3357e-02, -1.0096e+00, -1.1122e+00, -2.2425e+00,  1.3015e+00],\n",
            "        [ 1.5437e+00, -1.6697e-01, -1.1724e+00,  9.1389e-01,  1.3924e+00],\n",
            "        [-3.6947e-01,  8.7287e-01, -2.5398e-03,  8.9507e-01,  6.4784e-01],\n",
            "        [-1.1362e+00,  7.9174e-01,  8.9243e-01,  1.1968e+00,  5.7339e-01],\n",
            "        [ 3.8288e-01,  1.2460e+00,  1.1669e+00, -3.7219e-01,  1.1697e+00],\n",
            "        [ 4.0128e-01,  1.8891e-01,  1.7408e-01, -9.7713e-01, -1.5672e+00],\n",
            "        [ 7.4933e-01, -6.5693e-01, -2.1093e+00, -4.2694e-01, -1.2895e+00],\n",
            "        [ 7.6862e-01,  1.0107e-01, -6.9387e-02, -9.0750e-01,  5.4724e-01],\n",
            "        [-9.7161e-02,  1.4501e-03,  2.7669e-01, -1.4191e+00,  1.9059e+00],\n",
            "        [ 1.4629e+00,  1.2779e-01,  1.0897e-01, -2.3177e+00,  2.2603e+00],\n",
            "        [ 2.9296e-01,  9.4269e-01, -7.8389e-01,  1.9023e+00, -1.1246e+00],\n",
            "        [ 4.0246e-01, -1.7693e-01, -6.7751e-01,  2.1494e-01, -5.3573e-01],\n",
            "        [-1.5558e-01, -1.9849e-01,  4.8328e-02,  1.1703e+00,  1.0928e+00],\n",
            "        [-5.9549e-01,  4.9983e-01,  4.2801e-01, -2.4617e-01, -1.0434e-01],\n",
            "        [-8.6540e-01, -5.6241e-01,  7.6141e-01,  4.5059e-01,  1.0976e+00],\n",
            "        [-1.0926e+00, -8.6831e-01,  1.0676e+00, -1.6681e-01, -5.9099e-01],\n",
            "        [ 3.9427e-01,  1.9089e+00, -1.1516e+00,  4.2392e-01,  3.2464e-02],\n",
            "        [ 8.2675e-01,  1.3557e-01,  7.3433e-01,  1.1991e-01, -6.7048e-01],\n",
            "        [ 4.7919e-01,  2.4443e-02, -6.1778e-01, -1.0825e-01, -9.6213e-01],\n",
            "        [ 8.1132e-01,  1.0733e-01, -1.6338e+00, -5.8305e-01, -2.3679e+00],\n",
            "        [-5.6048e-01, -9.8628e-01, -1.2921e-01, -1.1761e+00,  7.8981e-01],\n",
            "        [ 1.2752e-01, -6.8374e-01, -8.6056e-01, -9.4979e-01,  9.2315e-01],\n",
            "        [-1.0609e+00,  1.1331e+00, -1.2329e+00, -2.6275e-01, -1.0276e+00],\n",
            "        [-2.1960e-01, -5.4459e-01, -7.3323e-01, -5.3499e-01,  1.1602e+00],\n",
            "        [ 1.9556e+00,  1.4639e+00,  5.7860e-01,  4.8077e-02,  3.6674e-01],\n",
            "        [ 6.6134e-01, -5.4814e-03, -8.4788e-01, -2.4610e+00,  5.1836e-01],\n",
            "        [-6.1305e-01, -6.3199e-01,  6.7475e-01,  2.7177e-01,  3.8122e-01],\n",
            "        [ 2.1871e-01,  4.8966e-01,  3.2453e-01, -9.5759e-01,  7.9273e-01],\n",
            "        [-1.1403e-01, -1.2078e+00, -2.1886e+00,  7.4773e-01, -4.2905e-01],\n",
            "        [-4.5029e-01,  9.1944e-01,  9.2223e-01,  2.1725e+00,  1.8415e+00],\n",
            "        [-8.9535e-02,  7.6796e-02,  4.6381e-01,  1.8358e+00, -5.9468e-01],\n",
            "        [ 3.7004e-01,  6.9951e-01,  1.2565e+00,  4.0049e-02, -2.8089e-01],\n",
            "        [-2.1171e+00,  2.9036e-01, -1.3530e+00, -5.8537e-01, -1.5511e+00],\n",
            "        [-1.0278e+00, -8.4401e-01,  1.5758e-01, -1.0347e+00,  1.0767e+00],\n",
            "        [-7.8882e-01,  7.2120e-01, -1.2700e+00, -7.3953e-01,  6.8694e-01],\n",
            "        [-1.2220e+00, -1.4204e+00, -3.6335e-01,  1.5602e+00,  1.3268e-02],\n",
            "        [-1.3383e+00, -1.5997e+00, -2.4558e-01,  9.7193e-01,  9.3585e-02],\n",
            "        [ 3.1581e-01,  6.1706e-01,  2.7173e-01, -5.6229e-01,  1.4243e-01],\n",
            "        [ 3.3550e-02, -6.6384e-01, -1.7794e-01,  4.4973e-02, -4.7058e-02],\n",
            "        [-1.8130e-01, -1.6831e+00,  3.6911e-01, -2.4311e+00, -7.4654e-01],\n",
            "        [ 1.8139e+00,  1.8620e+00, -1.8382e-01,  2.5018e-01,  8.4618e-01],\n",
            "        [ 6.6656e-02,  5.7553e-02, -1.4849e+00, -9.8799e-01,  5.1424e-01],\n",
            "        [ 1.8946e-01,  4.7692e-02, -2.0168e+00,  3.5042e-01,  5.6615e-02],\n",
            "        [-7.5384e-01, -1.4720e+00, -2.4119e+00,  1.7593e-01,  2.7223e+00],\n",
            "        [-1.0092e+00, -1.7809e-01, -3.7989e-01,  8.6856e-01, -1.1484e+00],\n",
            "        [-6.5998e-01, -4.3774e-01, -1.3449e+00,  3.8885e-01, -7.8654e-01],\n",
            "        [ 2.1076e+00, -6.3487e-01, -6.8203e-01, -9.2637e-01, -3.2609e-01],\n",
            "        [ 1.3038e+00, -3.4267e-01, -8.8100e-01,  7.3599e-01,  8.0582e-02],\n",
            "        [-4.7542e-02,  1.3826e+00, -5.5749e-01, -1.5193e+00,  9.1404e-01],\n",
            "        [-8.8634e-01,  1.3029e+00, -8.4018e-01, -2.3381e-01, -1.5290e+00],\n",
            "        [ 5.5761e-01,  3.7988e-01, -1.0383e-01, -4.4903e-01,  8.5256e-01],\n",
            "        [-1.0643e-01,  4.7697e-01, -8.0260e-02,  2.6116e-01, -3.6447e-02],\n",
            "        [ 1.8425e+00,  8.0551e-01, -1.1230e+00, -5.6348e-01, -9.6934e-01],\n",
            "        [ 9.1344e-01, -1.3631e+00,  1.1618e-01, -6.6235e-01,  6.6964e-01],\n",
            "        [ 5.9750e-01,  3.3959e-01, -1.2584e+00, -8.8954e-01, -2.7456e-01],\n",
            "        [ 1.2210e+00,  1.8124e+00, -1.2296e+00,  2.5202e-01, -1.1410e+00],\n",
            "        [-6.9545e-03, -3.6232e-01,  1.6070e+00,  2.5149e-01, -1.4166e+00],\n",
            "        [ 1.5842e+00,  1.5615e-01,  2.3076e-01,  8.9869e-01,  6.1980e-01],\n",
            "        [-3.2560e-01, -2.3910e+00, -5.5170e-02, -3.0529e-01,  1.3281e+00],\n",
            "        [-2.3670e-01, -4.8269e-01,  4.5916e-01, -7.3889e-01, -8.6258e-03],\n",
            "        [ 3.2704e-01,  1.9248e-01,  1.4535e+00, -7.9569e-01,  3.2085e-01],\n",
            "        [-7.3593e-02, -1.0946e+00,  1.1404e+00, -6.7224e-01, -1.3507e-01],\n",
            "        [ 2.0572e-01,  2.7160e+00, -2.9230e-01, -1.5132e-01, -3.8578e-01],\n",
            "        [ 1.0579e-01,  1.0397e-01,  7.9788e-01,  1.2916e+00, -1.8376e-02],\n",
            "        [-1.5384e-01, -7.7716e-02, -5.7674e-02,  1.1821e+00,  1.1585e-01],\n",
            "        [ 6.0391e-02,  3.1399e-01, -1.9777e+00,  8.0102e-01, -6.8488e-01],\n",
            "        [ 2.2813e+00, -8.3056e-01, -3.6476e-01,  6.6590e-01, -3.3575e-01],\n",
            "        [-2.8964e-01, -1.5154e-01, -2.4310e+00,  1.0912e+00,  6.0479e-01],\n",
            "        [-2.0075e+00,  7.7809e-01,  4.2570e-02,  4.9839e-01,  4.4220e-01],\n",
            "        [-1.2530e+00,  2.2430e+00,  1.2889e+00,  9.9308e-01, -9.4379e-01],\n",
            "        [ 2.0682e+00,  8.9196e-01, -1.8742e+00,  7.7433e-01,  9.2025e-01],\n",
            "        [ 2.3713e-01, -8.0633e-02,  1.1828e+00,  4.0185e-02,  7.6336e-01],\n",
            "        [ 2.4706e-01,  3.6221e-01, -7.1097e-01,  6.1926e-01, -1.2626e+00],\n",
            "        [-4.1842e-01,  1.6224e+00,  8.6622e-01,  6.5501e-01, -7.9796e-02],\n",
            "        [-3.9191e-02,  1.1320e+00, -3.0372e-01,  1.1931e+00,  1.8115e-01],\n",
            "        [ 9.8148e-01,  1.1545e+00,  9.5000e-01,  1.1561e+00,  1.2313e+00],\n",
            "        [-2.7378e-01,  3.2593e-01,  9.4792e-01,  2.0205e+00, -6.1454e-01],\n",
            "        [ 8.1311e-01,  1.5607e+00,  1.6891e+00,  1.4921e+00, -9.8738e-02],\n",
            "        [ 3.7021e-02, -3.7578e-01, -7.9733e-01, -5.5854e-01, -1.9199e+00],\n",
            "        [ 1.8660e+00, -1.4561e+00, -2.1548e-04, -8.8708e-02,  1.8018e-01],\n",
            "        [ 1.2992e+00,  3.4564e-02, -1.3551e+00,  2.1721e+00,  2.3873e+00],\n",
            "        [-1.4778e+00,  1.2720e+00,  3.9541e-01, -5.0278e-01,  2.5253e+00],\n",
            "        [ 5.9206e-01,  1.4520e+00,  6.3118e-01, -1.3014e+00,  1.1517e+00],\n",
            "        [-1.9383e+00,  5.5751e-01, -1.5574e-01,  2.3703e-01, -4.4756e-01],\n",
            "        [ 7.1948e-01,  1.4248e+00,  4.3526e-01, -3.3733e-01, -9.0013e-01],\n",
            "        [-1.2799e+00, -7.6811e-01,  7.2796e-01, -2.0765e+00,  1.2801e+00],\n",
            "        [-8.0627e-01, -4.9189e-01,  4.2918e-01, -3.0373e-01, -1.1428e+00],\n",
            "        [-1.1797e+00,  1.4020e-01,  2.5105e+00,  2.4142e+00, -1.8772e-02],\n",
            "        [-1.1783e+00,  7.8088e-01,  1.0350e+00,  1.7777e-01, -7.1182e-01],\n",
            "        [ 1.3725e+00,  5.4182e-01,  7.9109e-01,  9.7692e-01,  7.1151e-01],\n",
            "        [ 1.5241e+00, -6.9537e-01, -6.5319e-01, -1.1049e+00, -1.1208e+00],\n",
            "        [ 6.9397e-01,  4.4212e-02,  5.4484e-01,  7.0661e-01, -9.3572e-01],\n",
            "        [ 6.5559e-01, -3.2716e-01, -3.4070e-02, -1.8953e+00,  1.3605e+00],\n",
            "        [-9.5526e-01, -6.5144e-01, -4.5464e-01, -7.9392e-01,  1.2532e+00],\n",
            "        [-9.7847e-01, -8.7504e-01,  1.3922e+00, -1.7160e+00, -1.0382e-01],\n",
            "        [ 9.1369e-01, -1.5575e-01,  1.1736e+00, -5.8690e-02, -2.9587e-01],\n",
            "        [-2.2783e+00,  8.9091e-01,  1.2490e+00,  5.1103e-01,  8.7208e-01],\n",
            "        [-1.3814e+00, -7.3031e-01,  6.6839e-01, -1.3991e+00,  1.5107e+00],\n",
            "        [-1.6512e+00, -3.4925e-01,  2.9944e-01, -4.1423e-01, -7.2494e-01],\n",
            "        [-1.6792e+00,  6.4171e-01, -8.4517e-02, -2.2475e+00,  1.9258e+00],\n",
            "        [-3.6452e-01,  2.4408e+00,  6.5064e-01,  6.3138e-01,  7.0785e-01],\n",
            "        [-7.9642e-01, -4.2074e-01,  1.1389e+00, -5.3931e-01, -5.8497e-01],\n",
            "        [-2.0787e+00, -1.1096e+00,  1.0788e+00, -7.4917e-01, -4.6326e-01],\n",
            "        [ 5.4983e-01,  1.0434e+00, -5.5148e-01, -6.5275e-01,  1.6837e+00],\n",
            "        [-3.7932e-02,  1.1965e+00, -1.6434e+00, -7.4077e-03, -1.0550e+00],\n",
            "        [ 1.6286e+00,  2.6225e+00,  7.1754e-01,  2.0718e+00,  9.1603e-01],\n",
            "        [ 8.1648e-01, -9.3452e-01,  1.7752e+00,  2.5534e+00,  3.5388e-01],\n",
            "        [ 2.7259e-01,  8.5966e-01, -6.1737e-01, -3.2311e+00,  5.4770e-01],\n",
            "        [ 5.4740e-01, -4.4011e-01, -1.5027e-01, -4.4126e-01, -3.8959e-01],\n",
            "        [ 4.6570e-01,  1.5512e+00,  6.1491e-01, -1.1840e-01,  1.1186e-01],\n",
            "        [ 7.2611e-01,  1.1719e+00,  1.1340e+00,  7.8081e-01, -5.3024e-01],\n",
            "        [ 2.0544e-01, -2.2900e-01, -8.7607e-01,  1.4443e-01,  2.5999e-01],\n",
            "        [ 4.7608e-01,  1.0128e+00,  8.3461e-01,  2.7007e+00,  9.1190e-01],\n",
            "        [ 3.9358e-01,  1.4166e+00,  5.3340e-01, -8.1191e-01,  4.1172e-01],\n",
            "        [-3.8211e-02, -1.0995e+00, -4.2935e-01, -4.1875e-01, -8.7508e-01],\n",
            "        [ 1.0861e+00, -1.8218e-01,  1.2300e+00, -6.8235e-01, -8.6581e-02],\n",
            "        [ 1.0216e-01,  1.1519e+00,  2.2030e+00,  5.1977e-01,  4.1550e-01],\n",
            "        [ 6.2777e-01,  3.5802e-01, -2.4795e-01, -1.3769e+00,  1.5957e+00],\n",
            "        [-2.3573e+00, -1.6635e-01,  4.0324e-01,  3.1215e-01,  1.1083e+00],\n",
            "        [ 8.9221e-01,  1.9774e+00, -1.1953e-02, -3.5076e-01, -2.5695e+00],\n",
            "        [ 1.5873e+00, -4.9340e-01,  2.1394e-02, -7.6918e-01, -4.0968e-01],\n",
            "        [-8.1792e-01, -1.0845e-01, -1.0747e+00, -9.0420e-01,  1.1660e-01],\n",
            "        [-5.4992e-01, -1.2241e+00,  3.2986e-01, -8.4413e-01,  5.8367e-01],\n",
            "        [-1.1305e+00,  6.1421e-01, -1.0619e+00, -1.3387e+00, -1.3341e+00],\n",
            "        [-6.8038e-01,  7.5515e-02,  1.2604e-01, -1.0092e+00, -5.8204e-01],\n",
            "        [ 1.1056e+00,  4.1181e-01,  1.6923e-01, -1.0629e+00, -7.2973e-01],\n",
            "        [-1.4417e+00,  1.1473e-01, -4.2665e-01, -3.9746e-01,  3.8341e-01],\n",
            "        [-1.4339e+00,  1.1307e+00,  1.4524e+00,  4.3814e-01, -5.7743e-01],\n",
            "        [ 1.0446e+00,  2.6304e-01,  6.2684e-01, -2.0937e+00,  4.8546e-01],\n",
            "        [-1.4695e+00, -1.2676e+00,  7.7175e-01, -1.4550e+00, -2.4911e+00],\n",
            "        [-1.6369e+00, -3.9046e-01, -1.9435e+00, -2.2222e-01, -1.6184e+00],\n",
            "        [-9.9884e-01, -2.2761e+00,  8.9493e-01,  5.8468e-01,  1.5671e-01],\n",
            "        [-3.4282e-01,  9.0053e-01,  3.5487e-01,  6.8699e-01, -8.9451e-01],\n",
            "        [-4.1577e-01,  3.2126e-01, -7.6305e-01,  9.5761e-01, -9.6785e-01],\n",
            "        [-4.3729e-01, -1.2241e+00, -3.1194e-01,  2.9696e-01,  7.7436e-01]],\n",
            "       requires_grad=True)\n",
            "Content of B1: tensor([[0., 0., 0., 0., 0.]], requires_grad=True)\n",
            "Content of W2: tensor([[-0.8258,  0.3950,  1.2816,  0.7523,  1.7887],\n",
            "        [-0.0887, -0.8774, -1.7048, -0.3935,  0.2710],\n",
            "        [ 0.9482,  0.3940,  1.2082, -2.4245,  0.7859],\n",
            "        [ 0.2262, -0.6250, -0.5348,  1.7092, -0.8991],\n",
            "        [-0.5914,  1.5533, -0.3963, -2.4943,  0.0606]], requires_grad=True)\n",
            "Content of B2: tensor([[0., 0., 0., 0., 0.]], requires_grad=True)\n",
            "Content of W3: tensor([[ 1.5492],\n",
            "        [-0.3323],\n",
            "        [-0.4249],\n",
            "        [-0.6449],\n",
            "        [-0.9294]], requires_grad=True)\n",
            "Content of B3: tensor([[0.]], requires_grad=True)\n"
          ]
        }
      ]
    },
    {
      "cell_type": "markdown",
      "source": [
        "    The data type of X, W1, B1, W2, B2, W3, and B3 is torch.float32. This indicates that the tensors are of type 32-bit floating point.\n",
        "\n",
        "    The content of X is a tensor with a shape that is not visible in the output, but each row appears to have 180 elements. Each element in the tensor is a floating point number.\n",
        "\n",
        "    The content of W1 is a tensor with a shape that is not visible in the output, but each row appears to have 5 elements. Each element in the tensor is a floating point number.\n",
        "\n",
        "    The values of B1, W2, B2, W3, and B3 are not shown in the provided output, but they are of type torch.float32 like the other tensors.\n"
      ],
      "metadata": {
        "id": "Dh2gt-KWmmt6"
      }
    },
    {
      "cell_type": "code",
      "source": [
        "print(\"Minimum value of probs:\", t.min(probs).item())\n",
        "print(\"Maximum value of probs:\", t.max(probs).item())"
      ],
      "metadata": {
        "colab": {
          "base_uri": "https://localhost:8080/"
        },
        "id": "4b2VzTM_pnj8",
        "outputId": "caa833b5-5d6e-4d16-d0a4-e165b30a30e6"
      },
      "execution_count": 120,
      "outputs": [
        {
          "output_type": "stream",
          "name": "stdout",
          "text": [
            "Minimum value of probs: nan\n",
            "Maximum value of probs: nan\n"
          ]
        }
      ]
    },
    {
      "cell_type": "markdown",
      "source": [
        "The error persists even after ensuring that the output of the neural network is bounded by the sigmoid activation function. It seems that the issue might be related to the data input or the way the input data is being processed. Let's check if the data is being processed correctly.\n",
        "\n",
        "One possible reason for this error could be that the data used to compute the loss is not within the expected range of [0, 1]. Please check if the data tensors are of the correct data type and are within the appropriate range. You can also verify the minimum and maximum values of the probs tensor before passing it to the loss function:\n",
        "\n",
        "This will help you determine if the probs tensor contains any values outside the expected range. If the values are outside [0, 1], you might need to revisit the data processing steps or the network architecture to ensure that the outputs are within the appropriate range."
      ],
      "metadata": {
        "id": "G3HFMzmvp6R3"
      }
    },
    {
      "cell_type": "code",
      "execution_count": 128,
      "metadata": {
        "id": "dMmQ6ojf8_7m"
      },
      "outputs": [],
      "source": [
        "train_loss_list = []\n",
        "\n",
        "# Train the model for a specified number of epochs\n",
        "for epoch in range(epochs):\n",
        "    # Reduce the learning rate every 5 epochs\n",
        "    if epoch % 5 == 0:\n",
        "        learning_rate *= .9\n",
        "\n",
        "    per_epoch_loss_list = []\n",
        "\n",
        "    # Iterate over all batches of data\n",
        "    for batch_idx, (X, Y) in enumerate(train_data_loader):\n",
        "        # Forward pass: Compute predictions\n",
        "        probs = forward(X)\n",
        "\n",
        "        # Compute the loss\n",
        "        loss = loss_fn(probs.view(-1), Y)\n",
        "\n",
        "        # Backward pass: Compute gradient and update weights\n",
        "        optimizer.zero_grad()\n",
        "        loss.backward()\n",
        "        optimizer.step()\n",
        "\n",
        "        # Record the loss for this batch\n",
        "        per_epoch_loss_list.append(loss.item())\n",
        "\n",
        "    # Record the average loss for this epoch\n",
        "    train_loss_list.append(sum(per_epoch_loss_list) / len(per_epoch_loss_list))"
      ]
    },
    {
      "cell_type": "code",
      "execution_count": 129,
      "metadata": {
        "colab": {
          "base_uri": "https://localhost:8080/",
          "height": 466
        },
        "id": "CymuGs5R9CJ3",
        "outputId": "58d5b7ee-7a4d-4012-c6f1-62b7d6666235"
      },
      "outputs": [
        {
          "output_type": "execute_result",
          "data": {
            "text/plain": [
              "Text(0, 0.5, 'loss')"
            ]
          },
          "metadata": {},
          "execution_count": 129
        },
        {
          "output_type": "display_data",
          "data": {
            "text/plain": [
              "<Figure size 640x480 with 1 Axes>"
            ],
            "image/png": "[encoded data removed]"
          },
          "metadata": {}
        }
      ],
      "source": [
        "# Plot the training loss over epochs\n",
        "plt.plot([i for i in range(len(train_loss_list))], train_loss_list)\n",
        "plt.xlabel('epochs')\n",
        "plt.ylabel('loss')"
      ]
    },
    {
      "cell_type": "code",
      "execution_count": 130,
      "metadata": {
        "colab": {
          "base_uri": "https://localhost:8080/"
        },
        "id": "ZwFAwLEb9EUS",
        "outputId": "8a1cf2d7-d524-41be-effa-d1acee7fddbe"
      },
      "outputs": [
        {
          "output_type": "stream",
          "name": "stdout",
          "text": [
            "0.29633238911628723\n",
            "0.2951993942260742\n"
          ]
        }
      ],
      "source": [
        "# Evaluate Model Performance on Validation Data\n",
        "\n",
        "# Disable gradient calculations for evaluation using t.no_grad()\n",
        "with t.no_grad():\n",
        "    # Prepare the validation data\n",
        "    X = t.Tensor(X_test).type(t.float32)  # Convert validation features to a PyTorch tensor\n",
        "    Y = t.Tensor(Y_test).type(t.float32)  # Convert validation labels to a PyTorch tensor\n",
        "\n",
        "    # Calculate predictions on the validation data\n",
        "    probs = forward(X)  # Pass validation data through the trained model\n",
        "    loss = loss_fn(probs.view(-1), Y)  # Compute the loss between predictions and actual labels\n",
        "\n",
        "    # Print the validation loss\n",
        "    print(loss.item())\n",
        "\n",
        "    # Now, evaluate the model on the training data\n",
        "    X = t.Tensor(X_train).type(t.float32)  # Convert training features to a PyTorch tensor\n",
        "    Y = t.Tensor(Y_train).type(t.float32)  # Convert training labels to a PyTorch tensor\n",
        "\n",
        "    # Calculate predictions on the training data\n",
        "    probs = forward(X)  # Pass training data through the trained model\n",
        "    loss = loss_fn(probs.view(-1), Y)  # Compute the loss between predictions and actual labels\n",
        "\n",
        "    # Print the training loss\n",
        "    print(loss.item())"
      ]
    },
    {
      "cell_type": "code",
      "execution_count": 131,
      "metadata": {
        "id": "-G5gXsmD9ItS",
        "colab": {
          "base_uri": "https://localhost:8080/"
        },
        "outputId": "3d143ef7-b2b9-4af0-91da-f990f9dee90b"
      },
      "outputs": [
        {
          "output_type": "stream",
          "name": "stdout",
          "text": [
            "0.29633238911628723\n",
            "0.2951993942260742\n"
          ]
        }
      ],
      "source": [
        "# Evaluate Model Performance on Validation Data\n",
        "\n",
        "# Disable gradient calculations for evaluation using t.no_grad()\n",
        "with t.no_grad():\n",
        "    # Prepare the validation data\n",
        "    X = t.Tensor(X_test).type(t.float32)  # Convert validation features to a PyTorch tensor\n",
        "    Y = t.Tensor(Y_test).type(t.float32)  # Convert validation labels to a PyTorch tensor\n",
        "\n",
        "    # Calculate predictions on the validation data\n",
        "    probs = forward(X)  # Pass validation data through the trained model\n",
        "    loss = loss_fn(probs.view(-1), Y)  # Compute the loss between predictions and actual labels\n",
        "\n",
        "    # Print the validation loss\n",
        "    print(loss.item())\n",
        "\n",
        "    # Now, evaluate the model on the training data\n",
        "    X = t.Tensor(X_train).type(t.float32)  # Convert training features to a PyTorch tensor\n",
        "    Y = t.Tensor(Y_train).type(t.float32)  # Convert training labels to a PyTorch tensor\n",
        "\n",
        "    # Calculate predictions on the training data\n",
        "    probs = forward(X)  # Pass training data through the trained model\n",
        "    loss = loss_fn(probs.view(-1), Y)  # Compute the loss between predictions and actual labels\n",
        "\n",
        "    # Print the training loss\n",
        "    print(loss.item())"
      ]
    },
    {
      "cell_type": "code",
      "execution_count": 132,
      "metadata": {
        "id": "t0KgkNl79NIh",
        "colab": {
          "base_uri": "https://localhost:8080/",
          "height": 391
        },
        "outputId": "981e0c2e-767f-4986-828b-803f7e09bcec"
      },
      "outputs": [
        {
          "output_type": "error",
          "ename": "RuntimeError",
          "evalue": "ignored",
          "traceback": [
            "\u001b[0;31m---------------------------------------------------------------------------\u001b[0m",
            "\u001b[0;31mRuntimeError\u001b[0m                              Traceback (most recent call last)",
            "\u001b[0;32m<ipython-input-132-85d5ee8cfcc3>\u001b[0m in \u001b[0;36m<cell line: 39>\u001b[0;34m()\u001b[0m\n\u001b[1;32m     45\u001b[0m     \u001b[0;32mfor\u001b[0m \u001b[0mbatch_idx\u001b[0m\u001b[0;34m,\u001b[0m \u001b[0;34m(\u001b[0m\u001b[0mX\u001b[0m\u001b[0;34m,\u001b[0m \u001b[0mY\u001b[0m\u001b[0;34m)\u001b[0m \u001b[0;32min\u001b[0m \u001b[0menumerate\u001b[0m\u001b[0;34m(\u001b[0m\u001b[0mtrain_data_loader\u001b[0m\u001b[0;34m)\u001b[0m\u001b[0;34m:\u001b[0m\u001b[0;34m\u001b[0m\u001b[0;34m\u001b[0m\u001b[0m\n\u001b[1;32m     46\u001b[0m         \u001b[0;31m# Forward pass: Compute predictions\u001b[0m\u001b[0;34m\u001b[0m\u001b[0;34m\u001b[0m\u001b[0m\n\u001b[0;32m---> 47\u001b[0;31m         \u001b[0mprobs\u001b[0m \u001b[0;34m=\u001b[0m \u001b[0mmodel\u001b[0m\u001b[0;34m(\u001b[0m\u001b[0mX\u001b[0m\u001b[0;34m)\u001b[0m\u001b[0;34m\u001b[0m\u001b[0;34m\u001b[0m\u001b[0m\n\u001b[0m\u001b[1;32m     48\u001b[0m \u001b[0;34m\u001b[0m\u001b[0m\n\u001b[1;32m     49\u001b[0m         \u001b[0;31m# Calculate the loss\u001b[0m\u001b[0;34m\u001b[0m\u001b[0;34m\u001b[0m\u001b[0m\n",
            "\u001b[0;32m/usr/local/lib/python3.10/dist-packages/torch/nn/modules/module.py\u001b[0m in \u001b[0;36m_wrapped_call_impl\u001b[0;34m(self, *args, **kwargs)\u001b[0m\n\u001b[1;32m   1516\u001b[0m             \u001b[0;32mreturn\u001b[0m \u001b[0mself\u001b[0m\u001b[0;34m.\u001b[0m\u001b[0m_compiled_call_impl\u001b[0m\u001b[0;34m(\u001b[0m\u001b[0;34m*\u001b[0m\u001b[0margs\u001b[0m\u001b[0;34m,\u001b[0m \u001b[0;34m**\u001b[0m\u001b[0mkwargs\u001b[0m\u001b[0;34m)\u001b[0m  \u001b[0;31m# type: ignore[misc]\u001b[0m\u001b[0;34m\u001b[0m\u001b[0;34m\u001b[0m\u001b[0m\n\u001b[1;32m   1517\u001b[0m         \u001b[0;32melse\u001b[0m\u001b[0;34m:\u001b[0m\u001b[0;34m\u001b[0m\u001b[0;34m\u001b[0m\u001b[0m\n\u001b[0;32m-> 1518\u001b[0;31m             \u001b[0;32mreturn\u001b[0m \u001b[0mself\u001b[0m\u001b[0;34m.\u001b[0m\u001b[0m_call_impl\u001b[0m\u001b[0;34m(\u001b[0m\u001b[0;34m*\u001b[0m\u001b[0margs\u001b[0m\u001b[0;34m,\u001b[0m \u001b[0;34m**\u001b[0m\u001b[0mkwargs\u001b[0m\u001b[0;34m)\u001b[0m\u001b[0;34m\u001b[0m\u001b[0;34m\u001b[0m\u001b[0m\n\u001b[0m\u001b[1;32m   1519\u001b[0m \u001b[0;34m\u001b[0m\u001b[0m\n\u001b[1;32m   1520\u001b[0m     \u001b[0;32mdef\u001b[0m \u001b[0m_call_impl\u001b[0m\u001b[0;34m(\u001b[0m\u001b[0mself\u001b[0m\u001b[0;34m,\u001b[0m \u001b[0;34m*\u001b[0m\u001b[0margs\u001b[0m\u001b[0;34m,\u001b[0m \u001b[0;34m**\u001b[0m\u001b[0mkwargs\u001b[0m\u001b[0;34m)\u001b[0m\u001b[0;34m:\u001b[0m\u001b[0;34m\u001b[0m\u001b[0;34m\u001b[0m\u001b[0m\n",
            "\u001b[0;32m/usr/local/lib/python3.10/dist-packages/torch/nn/modules/module.py\u001b[0m in \u001b[0;36m_call_impl\u001b[0;34m(self, *args, **kwargs)\u001b[0m\n\u001b[1;32m   1525\u001b[0m                 \u001b[0;32mor\u001b[0m \u001b[0m_global_backward_pre_hooks\u001b[0m \u001b[0;32mor\u001b[0m \u001b[0m_global_backward_hooks\u001b[0m\u001b[0;34m\u001b[0m\u001b[0;34m\u001b[0m\u001b[0m\n\u001b[1;32m   1526\u001b[0m                 or _global_forward_hooks or _global_forward_pre_hooks):\n\u001b[0;32m-> 1527\u001b[0;31m             \u001b[0;32mreturn\u001b[0m \u001b[0mforward_call\u001b[0m\u001b[0;34m(\u001b[0m\u001b[0;34m*\u001b[0m\u001b[0margs\u001b[0m\u001b[0;34m,\u001b[0m \u001b[0;34m**\u001b[0m\u001b[0mkwargs\u001b[0m\u001b[0;34m)\u001b[0m\u001b[0;34m\u001b[0m\u001b[0;34m\u001b[0m\u001b[0m\n\u001b[0m\u001b[1;32m   1528\u001b[0m \u001b[0;34m\u001b[0m\u001b[0m\n\u001b[1;32m   1529\u001b[0m         \u001b[0;32mtry\u001b[0m\u001b[0;34m:\u001b[0m\u001b[0;34m\u001b[0m\u001b[0;34m\u001b[0m\u001b[0m\n",
            "\u001b[0;32m/usr/local/lib/python3.10/dist-packages/torch/nn/modules/container.py\u001b[0m in \u001b[0;36mforward\u001b[0;34m(self, input)\u001b[0m\n\u001b[1;32m    213\u001b[0m     \u001b[0;32mdef\u001b[0m \u001b[0mforward\u001b[0m\u001b[0;34m(\u001b[0m\u001b[0mself\u001b[0m\u001b[0;34m,\u001b[0m \u001b[0minput\u001b[0m\u001b[0;34m)\u001b[0m\u001b[0;34m:\u001b[0m\u001b[0;34m\u001b[0m\u001b[0;34m\u001b[0m\u001b[0m\n\u001b[1;32m    214\u001b[0m         \u001b[0;32mfor\u001b[0m \u001b[0mmodule\u001b[0m \u001b[0;32min\u001b[0m \u001b[0mself\u001b[0m\u001b[0;34m:\u001b[0m\u001b[0;34m\u001b[0m\u001b[0;34m\u001b[0m\u001b[0m\n\u001b[0;32m--> 215\u001b[0;31m             \u001b[0minput\u001b[0m \u001b[0;34m=\u001b[0m \u001b[0mmodule\u001b[0m\u001b[0;34m(\u001b[0m\u001b[0minput\u001b[0m\u001b[0;34m)\u001b[0m\u001b[0;34m\u001b[0m\u001b[0;34m\u001b[0m\u001b[0m\n\u001b[0m\u001b[1;32m    216\u001b[0m         \u001b[0;32mreturn\u001b[0m \u001b[0minput\u001b[0m\u001b[0;34m\u001b[0m\u001b[0;34m\u001b[0m\u001b[0m\n\u001b[1;32m    217\u001b[0m \u001b[0;34m\u001b[0m\u001b[0m\n",
            "\u001b[0;32m/usr/local/lib/python3.10/dist-packages/torch/nn/modules/module.py\u001b[0m in \u001b[0;36m_wrapped_call_impl\u001b[0;34m(self, *args, **kwargs)\u001b[0m\n\u001b[1;32m   1516\u001b[0m             \u001b[0;32mreturn\u001b[0m \u001b[0mself\u001b[0m\u001b[0;34m.\u001b[0m\u001b[0m_compiled_call_impl\u001b[0m\u001b[0;34m(\u001b[0m\u001b[0;34m*\u001b[0m\u001b[0margs\u001b[0m\u001b[0;34m,\u001b[0m \u001b[0;34m**\u001b[0m\u001b[0mkwargs\u001b[0m\u001b[0;34m)\u001b[0m  \u001b[0;31m# type: ignore[misc]\u001b[0m\u001b[0;34m\u001b[0m\u001b[0;34m\u001b[0m\u001b[0m\n\u001b[1;32m   1517\u001b[0m         \u001b[0;32melse\u001b[0m\u001b[0;34m:\u001b[0m\u001b[0;34m\u001b[0m\u001b[0;34m\u001b[0m\u001b[0m\n\u001b[0;32m-> 1518\u001b[0;31m             \u001b[0;32mreturn\u001b[0m \u001b[0mself\u001b[0m\u001b[0;34m.\u001b[0m\u001b[0m_call_impl\u001b[0m\u001b[0;34m(\u001b[0m\u001b[0;34m*\u001b[0m\u001b[0margs\u001b[0m\u001b[0;34m,\u001b[0m \u001b[0;34m**\u001b[0m\u001b[0mkwargs\u001b[0m\u001b[0;34m)\u001b[0m\u001b[0;34m\u001b[0m\u001b[0;34m\u001b[0m\u001b[0m\n\u001b[0m\u001b[1;32m   1519\u001b[0m \u001b[0;34m\u001b[0m\u001b[0m\n\u001b[1;32m   1520\u001b[0m     \u001b[0;32mdef\u001b[0m \u001b[0m_call_impl\u001b[0m\u001b[0;34m(\u001b[0m\u001b[0mself\u001b[0m\u001b[0;34m,\u001b[0m \u001b[0;34m*\u001b[0m\u001b[0margs\u001b[0m\u001b[0;34m,\u001b[0m \u001b[0;34m**\u001b[0m\u001b[0mkwargs\u001b[0m\u001b[0;34m)\u001b[0m\u001b[0;34m:\u001b[0m\u001b[0;34m\u001b[0m\u001b[0;34m\u001b[0m\u001b[0m\n",
            "\u001b[0;32m/usr/local/lib/python3.10/dist-packages/torch/nn/modules/module.py\u001b[0m in \u001b[0;36m_call_impl\u001b[0;34m(self, *args, **kwargs)\u001b[0m\n\u001b[1;32m   1525\u001b[0m                 \u001b[0;32mor\u001b[0m \u001b[0m_global_backward_pre_hooks\u001b[0m \u001b[0;32mor\u001b[0m \u001b[0m_global_backward_hooks\u001b[0m\u001b[0;34m\u001b[0m\u001b[0;34m\u001b[0m\u001b[0m\n\u001b[1;32m   1526\u001b[0m                 or _global_forward_hooks or _global_forward_pre_hooks):\n\u001b[0;32m-> 1527\u001b[0;31m             \u001b[0;32mreturn\u001b[0m \u001b[0mforward_call\u001b[0m\u001b[0;34m(\u001b[0m\u001b[0;34m*\u001b[0m\u001b[0margs\u001b[0m\u001b[0;34m,\u001b[0m \u001b[0;34m**\u001b[0m\u001b[0mkwargs\u001b[0m\u001b[0;34m)\u001b[0m\u001b[0;34m\u001b[0m\u001b[0;34m\u001b[0m\u001b[0m\n\u001b[0m\u001b[1;32m   1528\u001b[0m \u001b[0;34m\u001b[0m\u001b[0m\n\u001b[1;32m   1529\u001b[0m         \u001b[0;32mtry\u001b[0m\u001b[0;34m:\u001b[0m\u001b[0;34m\u001b[0m\u001b[0;34m\u001b[0m\u001b[0m\n",
            "\u001b[0;32m/usr/local/lib/python3.10/dist-packages/torch/nn/modules/linear.py\u001b[0m in \u001b[0;36mforward\u001b[0;34m(self, input)\u001b[0m\n\u001b[1;32m    112\u001b[0m \u001b[0;34m\u001b[0m\u001b[0m\n\u001b[1;32m    113\u001b[0m     \u001b[0;32mdef\u001b[0m \u001b[0mforward\u001b[0m\u001b[0;34m(\u001b[0m\u001b[0mself\u001b[0m\u001b[0;34m,\u001b[0m \u001b[0minput\u001b[0m\u001b[0;34m:\u001b[0m \u001b[0mTensor\u001b[0m\u001b[0;34m)\u001b[0m \u001b[0;34m->\u001b[0m \u001b[0mTensor\u001b[0m\u001b[0;34m:\u001b[0m\u001b[0;34m\u001b[0m\u001b[0;34m\u001b[0m\u001b[0m\n\u001b[0;32m--> 114\u001b[0;31m         \u001b[0;32mreturn\u001b[0m \u001b[0mF\u001b[0m\u001b[0;34m.\u001b[0m\u001b[0mlinear\u001b[0m\u001b[0;34m(\u001b[0m\u001b[0minput\u001b[0m\u001b[0;34m,\u001b[0m \u001b[0mself\u001b[0m\u001b[0;34m.\u001b[0m\u001b[0mweight\u001b[0m\u001b[0;34m,\u001b[0m \u001b[0mself\u001b[0m\u001b[0;34m.\u001b[0m\u001b[0mbias\u001b[0m\u001b[0;34m)\u001b[0m\u001b[0;34m\u001b[0m\u001b[0;34m\u001b[0m\u001b[0m\n\u001b[0m\u001b[1;32m    115\u001b[0m \u001b[0;34m\u001b[0m\u001b[0m\n\u001b[1;32m    116\u001b[0m     \u001b[0;32mdef\u001b[0m \u001b[0mextra_repr\u001b[0m\u001b[0;34m(\u001b[0m\u001b[0mself\u001b[0m\u001b[0;34m)\u001b[0m \u001b[0;34m->\u001b[0m \u001b[0mstr\u001b[0m\u001b[0;34m:\u001b[0m\u001b[0;34m\u001b[0m\u001b[0;34m\u001b[0m\u001b[0m\n",
            "\u001b[0;31mRuntimeError\u001b[0m: mat1 and mat2 shapes cannot be multiplied (32x177 and 12x5)"
          ]
        }
      ],
      "source": [
        "number_of_input_features = 177  # Number of input features in the dataset\n",
        "\n",
        "# Reduced number of hidden units to 5 and just using 1 hidden layer\n",
        "number_of_hidden_units = 5  # Number of hidden units in the neural network\n",
        "epochs = 1000  # Number of training epochs\n",
        "learning_rate = 0.01  # Learning rate for the optimizer\n",
        "batch_size = 32  # Number of samples in each training batch\n",
        "dropout_probablity = 0.6  # Probability of dropping out a neuron in dropout layer\n",
        "\n",
        "# Convert training and testing data to PyTorch tensors\n",
        "X_train_tensor = t.Tensor(X_train).type(t.float32)\n",
        "Y_train_tensor = t.Tensor(Y_train).type(t.float32)\n",
        "X_test_tensor = t.Tensor(X_test).type(t.float32)\n",
        "Y_test_tensor = t.Tensor(Y_test).type(t.float32)\n",
        "\n",
        "# Create a training dataset and data loader\n",
        "train_dataset = TensorDataset(X_train_tensor, Y_train_tensor)\n",
        "train_data_loader = DataLoader(train_dataset, batch_size=batch_size, shuffle=True)\n",
        "\n",
        "# Define the neural network model\n",
        "model = Sequential(\n",
        "    Linear(number_of_input_features, number_of_hidden_units),  # Linear layer for matrix multiplication and bias addition\n",
        "    Tanh(),  # Add Tanh activation function\n",
        "    Dropout(dropout_probablity),  # Dropout layer to prevent overfitting\n",
        "    Linear(number_of_hidden_units, 1),  # Another linear layer\n",
        "    Sigmoid()  # Sigmoid activation for probability output\n",
        ")\n",
        "\n",
        "# Define the optimizer\n",
        "optimizer = Adam(model.parameters(), lr=learning_rate)\n",
        "\n",
        "# Define the loss function as Binary Cross-Entropy Loss\n",
        "loss_fn = t.nn.BCELoss()\n",
        "\n",
        "train_accuracy_list = []  # List to store training accuracy\n",
        "validation_accuracy_list = []  # List to store validation accuracy\n",
        "\n",
        "# Training loop\n",
        "for epoch in range(epochs):\n",
        "    if epoch % 500 == 0:\n",
        "        learning_rate *= 0.9  # Learning rate scheduling\n",
        "\n",
        "    per_epoch_loss_list = []  # List to store losses for each epoch\n",
        "\n",
        "    for batch_idx, (X, Y) in enumerate(train_data_loader):\n",
        "        # Forward pass: Compute predictions\n",
        "        probs = model(X)\n",
        "\n",
        "        # Calculate the loss\n",
        "        loss = loss_fn(probs.view(-1), Y)\n",
        "        per_epoch_loss_list.append(loss.item())\n",
        "\n",
        "        # Backward pass: Compute gradients and update weights\n",
        "        optimizer.zero_grad()\n",
        "        loss.backward()\n",
        "        optimizer.step()\n",
        "\n",
        "    # Evaluate the model on training and validation data\n",
        "    with t.no_grad():\n",
        "        # Set the model in eval mode; some layers use this for certain calculations during training\n",
        "        model.eval()\n",
        "\n",
        "        # Calculate accuracy on train data\n",
        "        probs = model(X_train_tensor)\n",
        "        prediction = (probs >= 0.5).type(t.LongTensor).view(-1)\n",
        "        train_accuracy = (prediction == Y_train_tensor).type(t.float32).mean().item()\n",
        "\n",
        "        # Calculate accuracy on validation data\n",
        "        probs = model(X_test_tensor)\n",
        "        prediction = (probs >= 0.5).type(t.LongTensor).view(-1)\n",
        "        validation_accuracy = (prediction == Y_test_tensor).type(t.float32).mean().item()\n",
        "\n",
        "        print(f'epoch {epoch}/{epochs} ---> train_accuracy: {train_accuracy}, validation_accuracy: {validation_accuracy}')\n",
        "\n",
        "        # Set the model back to train mode\n",
        "        model.train()\n",
        "\n",
        "        # Append accuracy values to lists\n",
        "        train_accuracy_list.append(train_accuracy)\n",
        "        validation_accuracy_list.append(validation_accuracy)"
      ]
    },
    {
      "cell_type": "code",
      "execution_count": null,
      "metadata": {
        "id": "Qgrg4Ehs9ST6"
      },
      "outputs": [],
      "source": [
        "# Importing necessary libraries\n",
        "import torch as t\n",
        "from torch.utils.data import TensorDataset, DataLoader\n",
        "from torch.nn import Sequential, Linear, Tanh, Sigmoid\n",
        "from torch.optim import Adam\n",
        "from torch.nn import BCELoss\n",
        "import matplotlib.pyplot as plt\n",
        "\n",
        "# Defining the parameters\n",
        "number_of_input_features = 12\n",
        "number_of_hidden_units = 5\n",
        "epochs = 1000\n",
        "learning_rate = 0.01\n",
        "batch_size = 32\n",
        "\n",
        "# Loading and preprocessing the data\n",
        "X_train_tensor = t.Tensor(X_train).type(t.float32)\n",
        "Y_train_tensor = t.Tensor(Y_train).type(t.float32)\n",
        "\n",
        "X_test_tensor = t.Tensor(X_test).type(t.float32)\n",
        "Y_test_tensor = t.Tensor(Y_test).type(t.float32)\n",
        "\n",
        "train_dataset = TensorDataset(X_train_tensor, Y_train_tensor)\n",
        "train_data_loader = DataLoader(train_dataset, batch_size=batch_size, shuffle=True)\n",
        "\n",
        "# Creating a neural network model\n",
        "model = Sequential(\n",
        "    Linear(number_of_input_features, number_of_hidden_units),\n",
        "    Tanh(),\n",
        "    Linear(number_of_hidden_units, 1),\n",
        "    Sigmoid()\n",
        ")\n",
        "\n",
        "# Setting up the optimizer and loss function\n",
        "optimizer = Adam(model.parameters(), lr=learning_rate)\n",
        "loss_fn = BCELoss()\n",
        "\n",
        "# Lists to store accuracy values during training\n",
        "train_accuracy_list = []\n",
        "validation_accuracy_list = []\n",
        "\n",
        "# Main training loop\n",
        "for epoch in range(epochs):\n",
        "    # Learning rate scheduling (optional)\n",
        "    if epoch % 500 == 0:\n",
        "        learning_rate *= .9\n",
        "\n",
        "    per_epoch_loss_list = []\n",
        "\n",
        "    for batch_idx, (X, Y) in enumerate(train_data_loader):\n",
        "        probs = model(X)\n",
        "\n",
        "        # new loss is the old loss + regularization term\n",
        "        loss = loss_fn(probs.view(-1), Y)\n",
        "\n",
        "        per_epoch_loss_list.append(loss.item())\n",
        "\n",
        "        optimizer.zero_grad()\n",
        "        loss.backward()\n",
        "        optimizer.step()\n",
        "\n",
        "    with t.no_grad():\n",
        "        # Calculate accuracy on train data\n",
        "        model.eval()\n",
        "        probs = model(X_train_tensor)\n",
        "        prediction = (probs >= .5).type(t.LongTensor).view(-1)\n",
        "\n",
        "        train_accuracy = (prediction == Y_train_tensor).type(t.float32).mean().item()\n",
        "\n",
        "        # Calculate accuracy on validation data\n",
        "        probs = model(X_test_tensor)\n",
        "        prediction = (probs > .5).type(t.LongTensor).view(-1)\n",
        "\n",
        "        validation_accuracy = (prediction == Y_test_tensor).type(t.float32).mean().item()\n",
        "\n",
        "        print(f'epoch {epoch}/{epochs} ---> train_accuracy : {train_accuracy} , validation_accuracy : {validation_accuracy}')\n",
        "        model.train()\n",
        "        train_accuracy_list.append(train_accuracy)\n",
        "        validation_accuracy_list.append(validation_accuracy)"
      ]
    },
    {
      "cell_type": "code",
      "execution_count": null,
      "metadata": {
        "id": "WfpKEtBs9USX"
      },
      "outputs": [],
      "source": [
        "# Plotting the training and validation accuracy\n",
        "plt.plot([i for i in range(len(train_accuracy_list))], train_accuracy_list, label=\"train\")\n",
        "plt.plot([i for i in range(len(validation_accuracy_list))], validation_accuracy_list, label='validation')\n",
        "plt.legend(loc=\"upper left\")\n",
        "plt.xlabel('Epochs')\n",
        "plt.ylabel('Accuracy')"
      ]
    }
  ],
  "metadata": {
    "colab": {
      "provenance": [],
      "toc_visible": true,
      "authorship_tag": "ABX9TyP9bjw2mmcJcrwP+pgVECuh",
      "include_colab_link": true
    },
    "kernelspec": {
      "display_name": "Python 3",
      "name": "python3"
    },
    "language_info": {
      "name": "python"
    }
  },
  "nbformat": 4,
  "nbformat_minor": 0
}