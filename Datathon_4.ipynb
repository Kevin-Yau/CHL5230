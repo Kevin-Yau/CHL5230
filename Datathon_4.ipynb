{
  "nbformat": 4,
  "nbformat_minor": 0,
  "metadata": {
    "colab": {
      "provenance": [],
      "authorship_tag": "ABX9TyOkYCspoGCk/StdwoHZvKlc",
      "include_colab_link": true
    },
    "kernelspec": {
      "name": "python3",
      "display_name": "Python 3"
    },
    "language_info": {
      "name": "python"
    }
  },
  "cells": [
    {
      "cell_type": "markdown",
      "metadata": {
        "id": "view-in-github",
        "colab_type": "text"
      },
      "source": [
        "<a href=\"https://colab.research.google.com/github/Kevin-Yau/CHL5230/blob/main/Datathon_4.ipynb\" target=\"_parent\"><img src=\"https://colab.research.google.com/assets/colab-badge.svg\" alt=\"Open In Colab\"/></a>"
      ]
    },
    {
      "cell_type": "code",
      "execution_count": 39,
      "metadata": {
        "id": "Vaan5YWBsD6m"
      },
      "outputs": [],
      "source": [
        "import pandas as pd\n",
        "import numpy as np\n",
        "import matplotlib.pyplot as plt"
      ]
    },
    {
      "cell_type": "code",
      "source": [
        "import seaborn as sns\n",
        "import warnings\n",
        "\n",
        "warnings.filterwarnings('ignore')"
      ],
      "metadata": {
        "id": "-tfwyeFs7ncq"
      },
      "execution_count": 40,
      "outputs": []
    },
    {
      "cell_type": "code",
      "source": [
        "# Read the dataset into a Pandas DataFrame\n",
        "df = pd.read_csv('datathon4.csv')"
      ],
      "metadata": {
        "id": "L9nJymvq78Cq"
      },
      "execution_count": 41,
      "outputs": []
    },
    {
      "cell_type": "code",
      "source": [
        "# read dataset\n",
        "ICU_df = pd.read_csv('datathon4.csv')\n",
        "ICU_df.head()\n",
        "\n",
        "# check dimension of the dataset\n",
        "print(ICU_df.shape)\n",
        "\n",
        "# list the columns of the dataframe\n",
        "print(ICU_df.columns)"
      ],
      "metadata": {
        "colab": {
          "base_uri": "https://localhost:8080/"
        },
        "id": "8lqCPg407reO",
        "outputId": "2a2be116-6661-4d0a-d6fb-e9f93f95afc7"
      },
      "execution_count": 42,
      "outputs": [
        {
          "output_type": "stream",
          "name": "stdout",
          "text": [
            "(91713, 186)\n",
            "Index(['encounter_id', 'patient_id', 'hospital_id', 'hospital_death', 'age',\n",
            "       'bmi', 'elective_surgery', 'ethnicity', 'gender', 'height',\n",
            "       ...\n",
            "       'aids', 'cirrhosis', 'diabetes_mellitus', 'hepatic_failure',\n",
            "       'immunosuppression', 'leukemia', 'lymphoma',\n",
            "       'solid_tumor_with_metastasis', 'apache_3j_bodysystem',\n",
            "       'apache_2_bodysystem'],\n",
            "      dtype='object', length=186)\n"
          ]
        }
      ]
    },
    {
      "cell_type": "code",
      "source": [
        "df.head()"
      ],
      "metadata": {
        "colab": {
          "base_uri": "https://localhost:8080/",
          "height": 255
        },
        "id": "9XRdvZMx-EI8",
        "outputId": "9d758200-2113-4484-b942-3b0d2a789e21"
      },
      "execution_count": 43,
      "outputs": [
        {
          "output_type": "execute_result",
          "data": {
            "text/plain": [
              "   encounter_id  patient_id  hospital_id  hospital_death   age    bmi  \\\n",
              "0         66154       25312          118               0  68.0  22.73   \n",
              "1        114252       59342           81               0  77.0  27.42   \n",
              "2        119783       50777          118               0  25.0  31.95   \n",
              "3         79267       46918          118               0  81.0  22.64   \n",
              "4         92056       34377           33               0  19.0    NaN   \n",
              "\n",
              "   elective_surgery  ethnicity gender  height  ... aids cirrhosis  \\\n",
              "0                 0  Caucasian      M   180.3  ...  0.0       0.0   \n",
              "1                 0  Caucasian      F   160.0  ...  0.0       0.0   \n",
              "2                 0  Caucasian      F   172.7  ...  0.0       0.0   \n",
              "3                 1  Caucasian      F   165.1  ...  0.0       0.0   \n",
              "4                 0  Caucasian      M   188.0  ...  0.0       0.0   \n",
              "\n",
              "   diabetes_mellitus hepatic_failure immunosuppression  leukemia  lymphoma  \\\n",
              "0                1.0             0.0               0.0       0.0       0.0   \n",
              "1                1.0             0.0               0.0       0.0       0.0   \n",
              "2                0.0             0.0               0.0       0.0       0.0   \n",
              "3                0.0             0.0               0.0       0.0       0.0   \n",
              "4                0.0             0.0               0.0       0.0       0.0   \n",
              "\n",
              "   solid_tumor_with_metastasis  apache_3j_bodysystem  apache_2_bodysystem  \n",
              "0                          0.0                Sepsis       Cardiovascular  \n",
              "1                          0.0           Respiratory          Respiratory  \n",
              "2                          0.0             Metabolic            Metabolic  \n",
              "3                          0.0        Cardiovascular       Cardiovascular  \n",
              "4                          0.0                Trauma               Trauma  \n",
              "\n",
              "[5 rows x 186 columns]"
            ],
            "text/html": [
              "\n",
              "  <div id=\"df-d6d229b9-5077-4624-a9d4-dd4cddd3cfa9\" class=\"colab-df-container\">\n",
              "    <div>\n",
              "<style scoped>\n",
              "    .dataframe tbody tr th:only-of-type {\n",
              "        vertical-align: middle;\n",
              "    }\n",
              "\n",
              "    .dataframe tbody tr th {\n",
              "        vertical-align: top;\n",
              "    }\n",
              "\n",
              "    .dataframe thead th {\n",
              "        text-align: right;\n",
              "    }\n",
              "</style>\n",
              "<table border=\"1\" class=\"dataframe\">\n",
              "  <thead>\n",
              "    <tr style=\"text-align: right;\">\n",
              "      <th></th>\n",
              "      <th>encounter_id</th>\n",
              "      <th>patient_id</th>\n",
              "      <th>hospital_id</th>\n",
              "      <th>hospital_death</th>\n",
              "      <th>age</th>\n",
              "      <th>bmi</th>\n",
              "      <th>elective_surgery</th>\n",
              "      <th>ethnicity</th>\n",
              "      <th>gender</th>\n",
              "      <th>height</th>\n",
              "      <th>...</th>\n",
              "      <th>aids</th>\n",
              "      <th>cirrhosis</th>\n",
              "      <th>diabetes_mellitus</th>\n",
              "      <th>hepatic_failure</th>\n",
              "      <th>immunosuppression</th>\n",
              "      <th>leukemia</th>\n",
              "      <th>lymphoma</th>\n",
              "      <th>solid_tumor_with_metastasis</th>\n",
              "      <th>apache_3j_bodysystem</th>\n",
              "      <th>apache_2_bodysystem</th>\n",
              "    </tr>\n",
              "  </thead>\n",
              "  <tbody>\n",
              "    <tr>\n",
              "      <th>0</th>\n",
              "      <td>66154</td>\n",
              "      <td>25312</td>\n",
              "      <td>118</td>\n",
              "      <td>0</td>\n",
              "      <td>68.0</td>\n",
              "      <td>22.73</td>\n",
              "      <td>0</td>\n",
              "      <td>Caucasian</td>\n",
              "      <td>M</td>\n",
              "      <td>180.3</td>\n",
              "      <td>...</td>\n",
              "      <td>0.0</td>\n",
              "      <td>0.0</td>\n",
              "      <td>1.0</td>\n",
              "      <td>0.0</td>\n",
              "      <td>0.0</td>\n",
              "      <td>0.0</td>\n",
              "      <td>0.0</td>\n",
              "      <td>0.0</td>\n",
              "      <td>Sepsis</td>\n",
              "      <td>Cardiovascular</td>\n",
              "    </tr>\n",
              "    <tr>\n",
              "      <th>1</th>\n",
              "      <td>114252</td>\n",
              "      <td>59342</td>\n",
              "      <td>81</td>\n",
              "      <td>0</td>\n",
              "      <td>77.0</td>\n",
              "      <td>27.42</td>\n",
              "      <td>0</td>\n",
              "      <td>Caucasian</td>\n",
              "      <td>F</td>\n",
              "      <td>160.0</td>\n",
              "      <td>...</td>\n",
              "      <td>0.0</td>\n",
              "      <td>0.0</td>\n",
              "      <td>1.0</td>\n",
              "      <td>0.0</td>\n",
              "      <td>0.0</td>\n",
              "      <td>0.0</td>\n",
              "      <td>0.0</td>\n",
              "      <td>0.0</td>\n",
              "      <td>Respiratory</td>\n",
              "      <td>Respiratory</td>\n",
              "    </tr>\n",
              "    <tr>\n",
              "      <th>2</th>\n",
              "      <td>119783</td>\n",
              "      <td>50777</td>\n",
              "      <td>118</td>\n",
              "      <td>0</td>\n",
              "      <td>25.0</td>\n",
              "      <td>31.95</td>\n",
              "      <td>0</td>\n",
              "      <td>Caucasian</td>\n",
              "      <td>F</td>\n",
              "      <td>172.7</td>\n",
              "      <td>...</td>\n",
              "      <td>0.0</td>\n",
              "      <td>0.0</td>\n",
              "      <td>0.0</td>\n",
              "      <td>0.0</td>\n",
              "      <td>0.0</td>\n",
              "      <td>0.0</td>\n",
              "      <td>0.0</td>\n",
              "      <td>0.0</td>\n",
              "      <td>Metabolic</td>\n",
              "      <td>Metabolic</td>\n",
              "    </tr>\n",
              "    <tr>\n",
              "      <th>3</th>\n",
              "      <td>79267</td>\n",
              "      <td>46918</td>\n",
              "      <td>118</td>\n",
              "      <td>0</td>\n",
              "      <td>81.0</td>\n",
              "      <td>22.64</td>\n",
              "      <td>1</td>\n",
              "      <td>Caucasian</td>\n",
              "      <td>F</td>\n",
              "      <td>165.1</td>\n",
              "      <td>...</td>\n",
              "      <td>0.0</td>\n",
              "      <td>0.0</td>\n",
              "      <td>0.0</td>\n",
              "      <td>0.0</td>\n",
              "      <td>0.0</td>\n",
              "      <td>0.0</td>\n",
              "      <td>0.0</td>\n",
              "      <td>0.0</td>\n",
              "      <td>Cardiovascular</td>\n",
              "      <td>Cardiovascular</td>\n",
              "    </tr>\n",
              "    <tr>\n",
              "      <th>4</th>\n",
              "      <td>92056</td>\n",
              "      <td>34377</td>\n",
              "      <td>33</td>\n",
              "      <td>0</td>\n",
              "      <td>19.0</td>\n",
              "      <td>NaN</td>\n",
              "      <td>0</td>\n",
              "      <td>Caucasian</td>\n",
              "      <td>M</td>\n",
              "      <td>188.0</td>\n",
              "      <td>...</td>\n",
              "      <td>0.0</td>\n",
              "      <td>0.0</td>\n",
              "      <td>0.0</td>\n",
              "      <td>0.0</td>\n",
              "      <td>0.0</td>\n",
              "      <td>0.0</td>\n",
              "      <td>0.0</td>\n",
              "      <td>0.0</td>\n",
              "      <td>Trauma</td>\n",
              "      <td>Trauma</td>\n",
              "    </tr>\n",
              "  </tbody>\n",
              "</table>\n",
              "<p>5 rows × 186 columns</p>\n",
              "</div>\n",
              "    <div class=\"colab-df-buttons\">\n",
              "\n",
              "  <div class=\"colab-df-container\">\n",
              "    <button class=\"colab-df-convert\" onclick=\"convertToInteractive('df-d6d229b9-5077-4624-a9d4-dd4cddd3cfa9')\"\n",
              "            title=\"Convert this dataframe to an interactive table.\"\n",
              "            style=\"display:none;\">\n",
              "\n",
              "  <svg xmlns=\"http://www.w3.org/2000/svg\" height=\"24px\" viewBox=\"0 -960 960 960\">\n",
              "    <path d=\"M120-120v-720h720v720H120Zm60-500h600v-160H180v160Zm220 220h160v-160H400v160Zm0 220h160v-160H400v160ZM180-400h160v-160H180v160Zm440 0h160v-160H620v160ZM180-180h160v-160H180v160Zm440 0h160v-160H620v160Z\"/>\n",
              "  </svg>\n",
              "    </button>\n",
              "\n",
              "  <style>\n",
              "    .colab-df-container {\n",
              "      display:flex;\n",
              "      gap: 12px;\n",
              "    }\n",
              "\n",
              "    .colab-df-convert {\n",
              "      background-color: #E8F0FE;\n",
              "      border: none;\n",
              "      border-radius: 50%;\n",
              "      cursor: pointer;\n",
              "      display: none;\n",
              "      fill: #1967D2;\n",
              "      height: 32px;\n",
              "      padding: 0 0 0 0;\n",
              "      width: 32px;\n",
              "    }\n",
              "\n",
              "    .colab-df-convert:hover {\n",
              "      background-color: #E2EBFA;\n",
              "      box-shadow: 0px 1px 2px rgba(60, 64, 67, 0.3), 0px 1px 3px 1px rgba(60, 64, 67, 0.15);\n",
              "      fill: #174EA6;\n",
              "    }\n",
              "\n",
              "    .colab-df-buttons div {\n",
              "      margin-bottom: 4px;\n",
              "    }\n",
              "\n",
              "    [theme=dark] .colab-df-convert {\n",
              "      background-color: #3B4455;\n",
              "      fill: #D2E3FC;\n",
              "    }\n",
              "\n",
              "    [theme=dark] .colab-df-convert:hover {\n",
              "      background-color: #434B5C;\n",
              "      box-shadow: 0px 1px 3px 1px rgba(0, 0, 0, 0.15);\n",
              "      filter: drop-shadow(0px 1px 2px rgba(0, 0, 0, 0.3));\n",
              "      fill: #FFFFFF;\n",
              "    }\n",
              "  </style>\n",
              "\n",
              "    <script>\n",
              "      const buttonEl =\n",
              "        document.querySelector('#df-d6d229b9-5077-4624-a9d4-dd4cddd3cfa9 button.colab-df-convert');\n",
              "      buttonEl.style.display =\n",
              "        google.colab.kernel.accessAllowed ? 'block' : 'none';\n",
              "\n",
              "      async function convertToInteractive(key) {\n",
              "        const element = document.querySelector('#df-d6d229b9-5077-4624-a9d4-dd4cddd3cfa9');\n",
              "        const dataTable =\n",
              "          await google.colab.kernel.invokeFunction('convertToInteractive',\n",
              "                                                    [key], {});\n",
              "        if (!dataTable) return;\n",
              "\n",
              "        const docLinkHtml = 'Like what you see? Visit the ' +\n",
              "          '<a target=\"_blank\" href=https://colab.research.google.com/notebooks/data_table.ipynb>data table notebook</a>'\n",
              "          + ' to learn more about interactive tables.';\n",
              "        element.innerHTML = '';\n",
              "        dataTable['output_type'] = 'display_data';\n",
              "        await google.colab.output.renderOutput(dataTable, element);\n",
              "        const docLink = document.createElement('div');\n",
              "        docLink.innerHTML = docLinkHtml;\n",
              "        element.appendChild(docLink);\n",
              "      }\n",
              "    </script>\n",
              "  </div>\n",
              "\n",
              "\n",
              "<div id=\"df-259ded92-7c59-4583-b622-adcc247a00cc\">\n",
              "  <button class=\"colab-df-quickchart\" onclick=\"quickchart('df-259ded92-7c59-4583-b622-adcc247a00cc')\"\n",
              "            title=\"Suggest charts\"\n",
              "            style=\"display:none;\">\n",
              "\n",
              "<svg xmlns=\"http://www.w3.org/2000/svg\" height=\"24px\"viewBox=\"0 0 24 24\"\n",
              "     width=\"24px\">\n",
              "    <g>\n",
              "        <path d=\"M19 3H5c-1.1 0-2 .9-2 2v14c0 1.1.9 2 2 2h14c1.1 0 2-.9 2-2V5c0-1.1-.9-2-2-2zM9 17H7v-7h2v7zm4 0h-2V7h2v10zm4 0h-2v-4h2v4z\"/>\n",
              "    </g>\n",
              "</svg>\n",
              "  </button>\n",
              "\n",
              "<style>\n",
              "  .colab-df-quickchart {\n",
              "      --bg-color: #E8F0FE;\n",
              "      --fill-color: #1967D2;\n",
              "      --hover-bg-color: #E2EBFA;\n",
              "      --hover-fill-color: #174EA6;\n",
              "      --disabled-fill-color: #AAA;\n",
              "      --disabled-bg-color: #DDD;\n",
              "  }\n",
              "\n",
              "  [theme=dark] .colab-df-quickchart {\n",
              "      --bg-color: #3B4455;\n",
              "      --fill-color: #D2E3FC;\n",
              "      --hover-bg-color: #434B5C;\n",
              "      --hover-fill-color: #FFFFFF;\n",
              "      --disabled-bg-color: #3B4455;\n",
              "      --disabled-fill-color: #666;\n",
              "  }\n",
              "\n",
              "  .colab-df-quickchart {\n",
              "    background-color: var(--bg-color);\n",
              "    border: none;\n",
              "    border-radius: 50%;\n",
              "    cursor: pointer;\n",
              "    display: none;\n",
              "    fill: var(--fill-color);\n",
              "    height: 32px;\n",
              "    padding: 0;\n",
              "    width: 32px;\n",
              "  }\n",
              "\n",
              "  .colab-df-quickchart:hover {\n",
              "    background-color: var(--hover-bg-color);\n",
              "    box-shadow: 0 1px 2px rgba(60, 64, 67, 0.3), 0 1px 3px 1px rgba(60, 64, 67, 0.15);\n",
              "    fill: var(--button-hover-fill-color);\n",
              "  }\n",
              "\n",
              "  .colab-df-quickchart-complete:disabled,\n",
              "  .colab-df-quickchart-complete:disabled:hover {\n",
              "    background-color: var(--disabled-bg-color);\n",
              "    fill: var(--disabled-fill-color);\n",
              "    box-shadow: none;\n",
              "  }\n",
              "\n",
              "  .colab-df-spinner {\n",
              "    border: 2px solid var(--fill-color);\n",
              "    border-color: transparent;\n",
              "    border-bottom-color: var(--fill-color);\n",
              "    animation:\n",
              "      spin 1s steps(1) infinite;\n",
              "  }\n",
              "\n",
              "  @keyframes spin {\n",
              "    0% {\n",
              "      border-color: transparent;\n",
              "      border-bottom-color: var(--fill-color);\n",
              "      border-left-color: var(--fill-color);\n",
              "    }\n",
              "    20% {\n",
              "      border-color: transparent;\n",
              "      border-left-color: var(--fill-color);\n",
              "      border-top-color: var(--fill-color);\n",
              "    }\n",
              "    30% {\n",
              "      border-color: transparent;\n",
              "      border-left-color: var(--fill-color);\n",
              "      border-top-color: var(--fill-color);\n",
              "      border-right-color: var(--fill-color);\n",
              "    }\n",
              "    40% {\n",
              "      border-color: transparent;\n",
              "      border-right-color: var(--fill-color);\n",
              "      border-top-color: var(--fill-color);\n",
              "    }\n",
              "    60% {\n",
              "      border-color: transparent;\n",
              "      border-right-color: var(--fill-color);\n",
              "    }\n",
              "    80% {\n",
              "      border-color: transparent;\n",
              "      border-right-color: var(--fill-color);\n",
              "      border-bottom-color: var(--fill-color);\n",
              "    }\n",
              "    90% {\n",
              "      border-color: transparent;\n",
              "      border-bottom-color: var(--fill-color);\n",
              "    }\n",
              "  }\n",
              "</style>\n",
              "\n",
              "  <script>\n",
              "    async function quickchart(key) {\n",
              "      const quickchartButtonEl =\n",
              "        document.querySelector('#' + key + ' button');\n",
              "      quickchartButtonEl.disabled = true;  // To prevent multiple clicks.\n",
              "      quickchartButtonEl.classList.add('colab-df-spinner');\n",
              "      try {\n",
              "        const charts = await google.colab.kernel.invokeFunction(\n",
              "            'suggestCharts', [key], {});\n",
              "      } catch (error) {\n",
              "        console.error('Error during call to suggestCharts:', error);\n",
              "      }\n",
              "      quickchartButtonEl.classList.remove('colab-df-spinner');\n",
              "      quickchartButtonEl.classList.add('colab-df-quickchart-complete');\n",
              "    }\n",
              "    (() => {\n",
              "      let quickchartButtonEl =\n",
              "        document.querySelector('#df-259ded92-7c59-4583-b622-adcc247a00cc button');\n",
              "      quickchartButtonEl.style.display =\n",
              "        google.colab.kernel.accessAllowed ? 'block' : 'none';\n",
              "    })();\n",
              "  </script>\n",
              "</div>\n",
              "    </div>\n",
              "  </div>\n"
            ]
          },
          "metadata": {},
          "execution_count": 43
        }
      ]
    },
    {
      "cell_type": "code",
      "source": [
        "# Display summary statistics\n",
        "print(df.describe())"
      ],
      "metadata": {
        "colab": {
          "base_uri": "https://localhost:8080/"
        },
        "id": "v7ur8g7uBBOc",
        "outputId": "23a96adc-2fa9-49f8-d574-a0c63bdf0cfc"
      },
      "execution_count": 44,
      "outputs": [
        {
          "output_type": "stream",
          "name": "stdout",
          "text": [
            "        encounter_id     patient_id   hospital_id  hospital_death  \\\n",
            "count   91713.000000   91713.000000  91713.000000    91713.000000   \n",
            "mean    65606.079280   65537.131464    105.669262        0.086302   \n",
            "std     37795.088538   37811.252183     62.854406        0.280811   \n",
            "min         1.000000       1.000000      2.000000        0.000000   \n",
            "25%     32852.000000   32830.000000     47.000000        0.000000   \n",
            "50%     65665.000000   65413.000000    109.000000        0.000000   \n",
            "75%     98342.000000   98298.000000    161.000000        0.000000   \n",
            "max    131051.000000  131051.000000    204.000000        1.000000   \n",
            "\n",
            "                age           bmi  elective_surgery        height  \\\n",
            "count  87485.000000  88284.000000      91713.000000  90379.000000   \n",
            "mean      62.309516     29.185818          0.183736    169.641588   \n",
            "std       16.775119      8.275142          0.387271     10.795378   \n",
            "min       16.000000     14.844926          0.000000    137.200000   \n",
            "25%       52.000000     23.641975          0.000000    162.500000   \n",
            "50%       65.000000     27.654655          0.000000    170.100000   \n",
            "75%       75.000000     32.930206          0.000000    177.800000   \n",
            "max       89.000000     67.814990          1.000000    195.590000   \n",
            "\n",
            "             icu_id  pre_icu_los_days  ...  apache_4a_hospital_death_prob  \\\n",
            "count  91713.000000      91713.000000  ...                   83766.000000   \n",
            "mean     508.357692          0.835766  ...                       0.086787   \n",
            "std      228.989661          2.487756  ...                       0.247569   \n",
            "min       82.000000        -24.947222  ...                      -1.000000   \n",
            "25%      369.000000          0.035417  ...                       0.020000   \n",
            "50%      504.000000          0.138889  ...                       0.050000   \n",
            "75%      679.000000          0.409028  ...                       0.130000   \n",
            "max      927.000000        159.090972  ...                       0.990000   \n",
            "\n",
            "       apache_4a_icu_death_prob          aids     cirrhosis  \\\n",
            "count              83766.000000  90998.000000  90998.000000   \n",
            "mean                   0.043955      0.000857      0.015693   \n",
            "std                    0.217341      0.029265      0.124284   \n",
            "min                   -1.000000      0.000000      0.000000   \n",
            "25%                    0.010000      0.000000      0.000000   \n",
            "50%                    0.020000      0.000000      0.000000   \n",
            "75%                    0.060000      0.000000      0.000000   \n",
            "max                    0.970000      1.000000      1.000000   \n",
            "\n",
            "       diabetes_mellitus  hepatic_failure  immunosuppression      leukemia  \\\n",
            "count       90998.000000     90998.000000       90998.000000  90998.000000   \n",
            "mean            0.225192         0.012989           0.026165      0.007066   \n",
            "std             0.417711         0.113229           0.159628      0.083763   \n",
            "min             0.000000         0.000000           0.000000      0.000000   \n",
            "25%             0.000000         0.000000           0.000000      0.000000   \n",
            "50%             0.000000         0.000000           0.000000      0.000000   \n",
            "75%             0.000000         0.000000           0.000000      0.000000   \n",
            "max             1.000000         1.000000           1.000000      1.000000   \n",
            "\n",
            "           lymphoma  solid_tumor_with_metastasis  \n",
            "count  90998.000000                 90998.000000  \n",
            "mean       0.004132                     0.020638  \n",
            "std        0.064148                     0.142169  \n",
            "min        0.000000                     0.000000  \n",
            "25%        0.000000                     0.000000  \n",
            "50%        0.000000                     0.000000  \n",
            "75%        0.000000                     0.000000  \n",
            "max        1.000000                     1.000000  \n",
            "\n",
            "[8 rows x 178 columns]\n"
          ]
        }
      ]
    },
    {
      "cell_type": "code",
      "source": [
        "# Display summary statistics\n",
        "df['heart_rate_apache'].describe()"
      ],
      "metadata": {
        "colab": {
          "base_uri": "https://localhost:8080/"
        },
        "id": "_EJh5sUUlsb7",
        "outputId": "46641b2c-cb9b-4ede-f9aa-0a524c801e3d"
      },
      "execution_count": null,
      "outputs": [
        {
          "output_type": "execute_result",
          "data": {
            "text/plain": [
              "count    90835.000000\n",
              "mean        99.707932\n",
              "std         30.870502\n",
              "min         30.000000\n",
              "25%         86.000000\n",
              "50%        104.000000\n",
              "75%        120.000000\n",
              "max        178.000000\n",
              "Name: heart_rate_apache, dtype: float64"
            ]
          },
          "metadata": {},
          "execution_count": 69
        }
      ]
    },
    {
      "cell_type": "code",
      "source": [
        "# Display summary statistics\n",
        "df[['weight','readmission_status','albumin_apache','apache_2_diagnosis','apache_3j_diagnosis','apache_post_operative','arf_apache','bilirubin_apache','bun_apache','creatinine_apache','fio2_apache','gcs_eyes_apache','gcs_motor_apache','gcs_unable_apache','gcs_verbal_apache']].describe()\n",
        "\n"
      ],
      "metadata": {
        "colab": {
          "base_uri": "https://localhost:8080/",
          "height": 320
        },
        "id": "_SH_16b8youe",
        "outputId": "be584038-5f04-439d-81e5-09bb84eb0008"
      },
      "execution_count": null,
      "outputs": [
        {
          "output_type": "execute_result",
          "data": {
            "text/plain": [
              "             weight  readmission_status  albumin_apache  apache_2_diagnosis  \\\n",
              "count  88993.000000             91713.0    37334.000000        90051.000000   \n",
              "mean      84.028340                 0.0        2.902968          185.401739   \n",
              "std       25.011497                 0.0        0.681863           86.050882   \n",
              "min       38.600000                 0.0        1.200000          101.000000   \n",
              "25%       66.800000                 0.0        2.400000          113.000000   \n",
              "50%       80.300000                 0.0        2.900000          122.000000   \n",
              "75%       97.100000                 0.0        3.400000          301.000000   \n",
              "max      186.000000                 0.0        4.600000          308.000000   \n",
              "\n",
              "       apache_3j_diagnosis  apache_post_operative    arf_apache  \\\n",
              "count         90612.000000           91713.000000  90998.000000   \n",
              "mean            558.216377               0.201106      0.027979   \n",
              "std             463.266985               0.400829      0.164912   \n",
              "min               0.010000               0.000000      0.000000   \n",
              "25%             203.010000               0.000000      0.000000   \n",
              "50%             409.020000               0.000000      0.000000   \n",
              "75%             703.030000               0.000000      0.000000   \n",
              "max            2201.050000               1.000000      1.000000   \n",
              "\n",
              "       bilirubin_apache   bun_apache  creatinine_apache   fio2_apache  \\\n",
              "count      33579.000000  72451.00000       72860.000000  20845.000000   \n",
              "mean           1.147721     25.82533           1.480014      0.595751   \n",
              "std            2.165538     20.67298           1.525787      0.263238   \n",
              "min            0.100000      4.00000           0.300000      0.210000   \n",
              "25%            0.400000     13.00000           0.720000      0.400000   \n",
              "50%            0.600000     19.00000           0.980000      0.500000   \n",
              "75%            1.100000     32.00000           1.530000      0.850000   \n",
              "max           51.000000    127.00000          11.180000      1.000000   \n",
              "\n",
              "       gcs_eyes_apache  gcs_motor_apache  gcs_unable_apache  gcs_verbal_apache  \n",
              "count     89812.000000      89812.000000       90676.000000       89812.000000  \n",
              "mean          3.465049          5.471195           0.009528           3.994778  \n",
              "std           0.951715          1.288376           0.097148           1.560166  \n",
              "min           1.000000          1.000000           0.000000           1.000000  \n",
              "25%           3.000000          6.000000           0.000000           4.000000  \n",
              "50%           4.000000          6.000000           0.000000           5.000000  \n",
              "75%           4.000000          6.000000           0.000000           5.000000  \n",
              "max           4.000000          6.000000           1.000000           5.000000  "
            ],
            "text/html": [
              "\n",
              "  <div id=\"df-ece94045-db03-4798-b286-79ef034c3e10\" class=\"colab-df-container\">\n",
              "    <div>\n",
              "<style scoped>\n",
              "    .dataframe tbody tr th:only-of-type {\n",
              "        vertical-align: middle;\n",
              "    }\n",
              "\n",
              "    .dataframe tbody tr th {\n",
              "        vertical-align: top;\n",
              "    }\n",
              "\n",
              "    .dataframe thead th {\n",
              "        text-align: right;\n",
              "    }\n",
              "</style>\n",
              "<table border=\"1\" class=\"dataframe\">\n",
              "  <thead>\n",
              "    <tr style=\"text-align: right;\">\n",
              "      <th></th>\n",
              "      <th>weight</th>\n",
              "      <th>readmission_status</th>\n",
              "      <th>albumin_apache</th>\n",
              "      <th>apache_2_diagnosis</th>\n",
              "      <th>apache_3j_diagnosis</th>\n",
              "      <th>apache_post_operative</th>\n",
              "      <th>arf_apache</th>\n",
              "      <th>bilirubin_apache</th>\n",
              "      <th>bun_apache</th>\n",
              "      <th>creatinine_apache</th>\n",
              "      <th>fio2_apache</th>\n",
              "      <th>gcs_eyes_apache</th>\n",
              "      <th>gcs_motor_apache</th>\n",
              "      <th>gcs_unable_apache</th>\n",
              "      <th>gcs_verbal_apache</th>\n",
              "    </tr>\n",
              "  </thead>\n",
              "  <tbody>\n",
              "    <tr>\n",
              "      <th>count</th>\n",
              "      <td>88993.000000</td>\n",
              "      <td>91713.0</td>\n",
              "      <td>37334.000000</td>\n",
              "      <td>90051.000000</td>\n",
              "      <td>90612.000000</td>\n",
              "      <td>91713.000000</td>\n",
              "      <td>90998.000000</td>\n",
              "      <td>33579.000000</td>\n",
              "      <td>72451.00000</td>\n",
              "      <td>72860.000000</td>\n",
              "      <td>20845.000000</td>\n",
              "      <td>89812.000000</td>\n",
              "      <td>89812.000000</td>\n",
              "      <td>90676.000000</td>\n",
              "      <td>89812.000000</td>\n",
              "    </tr>\n",
              "    <tr>\n",
              "      <th>mean</th>\n",
              "      <td>84.028340</td>\n",
              "      <td>0.0</td>\n",
              "      <td>2.902968</td>\n",
              "      <td>185.401739</td>\n",
              "      <td>558.216377</td>\n",
              "      <td>0.201106</td>\n",
              "      <td>0.027979</td>\n",
              "      <td>1.147721</td>\n",
              "      <td>25.82533</td>\n",
              "      <td>1.480014</td>\n",
              "      <td>0.595751</td>\n",
              "      <td>3.465049</td>\n",
              "      <td>5.471195</td>\n",
              "      <td>0.009528</td>\n",
              "      <td>3.994778</td>\n",
              "    </tr>\n",
              "    <tr>\n",
              "      <th>std</th>\n",
              "      <td>25.011497</td>\n",
              "      <td>0.0</td>\n",
              "      <td>0.681863</td>\n",
              "      <td>86.050882</td>\n",
              "      <td>463.266985</td>\n",
              "      <td>0.400829</td>\n",
              "      <td>0.164912</td>\n",
              "      <td>2.165538</td>\n",
              "      <td>20.67298</td>\n",
              "      <td>1.525787</td>\n",
              "      <td>0.263238</td>\n",
              "      <td>0.951715</td>\n",
              "      <td>1.288376</td>\n",
              "      <td>0.097148</td>\n",
              "      <td>1.560166</td>\n",
              "    </tr>\n",
              "    <tr>\n",
              "      <th>min</th>\n",
              "      <td>38.600000</td>\n",
              "      <td>0.0</td>\n",
              "      <td>1.200000</td>\n",
              "      <td>101.000000</td>\n",
              "      <td>0.010000</td>\n",
              "      <td>0.000000</td>\n",
              "      <td>0.000000</td>\n",
              "      <td>0.100000</td>\n",
              "      <td>4.00000</td>\n",
              "      <td>0.300000</td>\n",
              "      <td>0.210000</td>\n",
              "      <td>1.000000</td>\n",
              "      <td>1.000000</td>\n",
              "      <td>0.000000</td>\n",
              "      <td>1.000000</td>\n",
              "    </tr>\n",
              "    <tr>\n",
              "      <th>25%</th>\n",
              "      <td>66.800000</td>\n",
              "      <td>0.0</td>\n",
              "      <td>2.400000</td>\n",
              "      <td>113.000000</td>\n",
              "      <td>203.010000</td>\n",
              "      <td>0.000000</td>\n",
              "      <td>0.000000</td>\n",
              "      <td>0.400000</td>\n",
              "      <td>13.00000</td>\n",
              "      <td>0.720000</td>\n",
              "      <td>0.400000</td>\n",
              "      <td>3.000000</td>\n",
              "      <td>6.000000</td>\n",
              "      <td>0.000000</td>\n",
              "      <td>4.000000</td>\n",
              "    </tr>\n",
              "    <tr>\n",
              "      <th>50%</th>\n",
              "      <td>80.300000</td>\n",
              "      <td>0.0</td>\n",
              "      <td>2.900000</td>\n",
              "      <td>122.000000</td>\n",
              "      <td>409.020000</td>\n",
              "      <td>0.000000</td>\n",
              "      <td>0.000000</td>\n",
              "      <td>0.600000</td>\n",
              "      <td>19.00000</td>\n",
              "      <td>0.980000</td>\n",
              "      <td>0.500000</td>\n",
              "      <td>4.000000</td>\n",
              "      <td>6.000000</td>\n",
              "      <td>0.000000</td>\n",
              "      <td>5.000000</td>\n",
              "    </tr>\n",
              "    <tr>\n",
              "      <th>75%</th>\n",
              "      <td>97.100000</td>\n",
              "      <td>0.0</td>\n",
              "      <td>3.400000</td>\n",
              "      <td>301.000000</td>\n",
              "      <td>703.030000</td>\n",
              "      <td>0.000000</td>\n",
              "      <td>0.000000</td>\n",
              "      <td>1.100000</td>\n",
              "      <td>32.00000</td>\n",
              "      <td>1.530000</td>\n",
              "      <td>0.850000</td>\n",
              "      <td>4.000000</td>\n",
              "      <td>6.000000</td>\n",
              "      <td>0.000000</td>\n",
              "      <td>5.000000</td>\n",
              "    </tr>\n",
              "    <tr>\n",
              "      <th>max</th>\n",
              "      <td>186.000000</td>\n",
              "      <td>0.0</td>\n",
              "      <td>4.600000</td>\n",
              "      <td>308.000000</td>\n",
              "      <td>2201.050000</td>\n",
              "      <td>1.000000</td>\n",
              "      <td>1.000000</td>\n",
              "      <td>51.000000</td>\n",
              "      <td>127.00000</td>\n",
              "      <td>11.180000</td>\n",
              "      <td>1.000000</td>\n",
              "      <td>4.000000</td>\n",
              "      <td>6.000000</td>\n",
              "      <td>1.000000</td>\n",
              "      <td>5.000000</td>\n",
              "    </tr>\n",
              "  </tbody>\n",
              "</table>\n",
              "</div>\n",
              "    <div class=\"colab-df-buttons\">\n",
              "\n",
              "  <div class=\"colab-df-container\">\n",
              "    <button class=\"colab-df-convert\" onclick=\"convertToInteractive('df-ece94045-db03-4798-b286-79ef034c3e10')\"\n",
              "            title=\"Convert this dataframe to an interactive table.\"\n",
              "            style=\"display:none;\">\n",
              "\n",
              "  <svg xmlns=\"http://www.w3.org/2000/svg\" height=\"24px\" viewBox=\"0 -960 960 960\">\n",
              "    <path d=\"M120-120v-720h720v720H120Zm60-500h600v-160H180v160Zm220 220h160v-160H400v160Zm0 220h160v-160H400v160ZM180-400h160v-160H180v160Zm440 0h160v-160H620v160ZM180-180h160v-160H180v160Zm440 0h160v-160H620v160Z\"/>\n",
              "  </svg>\n",
              "    </button>\n",
              "\n",
              "  <style>\n",
              "    .colab-df-container {\n",
              "      display:flex;\n",
              "      gap: 12px;\n",
              "    }\n",
              "\n",
              "    .colab-df-convert {\n",
              "      background-color: #E8F0FE;\n",
              "      border: none;\n",
              "      border-radius: 50%;\n",
              "      cursor: pointer;\n",
              "      display: none;\n",
              "      fill: #1967D2;\n",
              "      height: 32px;\n",
              "      padding: 0 0 0 0;\n",
              "      width: 32px;\n",
              "    }\n",
              "\n",
              "    .colab-df-convert:hover {\n",
              "      background-color: #E2EBFA;\n",
              "      box-shadow: 0px 1px 2px rgba(60, 64, 67, 0.3), 0px 1px 3px 1px rgba(60, 64, 67, 0.15);\n",
              "      fill: #174EA6;\n",
              "    }\n",
              "\n",
              "    .colab-df-buttons div {\n",
              "      margin-bottom: 4px;\n",
              "    }\n",
              "\n",
              "    [theme=dark] .colab-df-convert {\n",
              "      background-color: #3B4455;\n",
              "      fill: #D2E3FC;\n",
              "    }\n",
              "\n",
              "    [theme=dark] .colab-df-convert:hover {\n",
              "      background-color: #434B5C;\n",
              "      box-shadow: 0px 1px 3px 1px rgba(0, 0, 0, 0.15);\n",
              "      filter: drop-shadow(0px 1px 2px rgba(0, 0, 0, 0.3));\n",
              "      fill: #FFFFFF;\n",
              "    }\n",
              "  </style>\n",
              "\n",
              "    <script>\n",
              "      const buttonEl =\n",
              "        document.querySelector('#df-ece94045-db03-4798-b286-79ef034c3e10 button.colab-df-convert');\n",
              "      buttonEl.style.display =\n",
              "        google.colab.kernel.accessAllowed ? 'block' : 'none';\n",
              "\n",
              "      async function convertToInteractive(key) {\n",
              "        const element = document.querySelector('#df-ece94045-db03-4798-b286-79ef034c3e10');\n",
              "        const dataTable =\n",
              "          await google.colab.kernel.invokeFunction('convertToInteractive',\n",
              "                                                    [key], {});\n",
              "        if (!dataTable) return;\n",
              "\n",
              "        const docLinkHtml = 'Like what you see? Visit the ' +\n",
              "          '<a target=\"_blank\" href=https://colab.research.google.com/notebooks/data_table.ipynb>data table notebook</a>'\n",
              "          + ' to learn more about interactive tables.';\n",
              "        element.innerHTML = '';\n",
              "        dataTable['output_type'] = 'display_data';\n",
              "        await google.colab.output.renderOutput(dataTable, element);\n",
              "        const docLink = document.createElement('div');\n",
              "        docLink.innerHTML = docLinkHtml;\n",
              "        element.appendChild(docLink);\n",
              "      }\n",
              "    </script>\n",
              "  </div>\n",
              "\n",
              "\n",
              "<div id=\"df-a90ed5d6-10ba-4e2d-9007-dce80d17a87b\">\n",
              "  <button class=\"colab-df-quickchart\" onclick=\"quickchart('df-a90ed5d6-10ba-4e2d-9007-dce80d17a87b')\"\n",
              "            title=\"Suggest charts\"\n",
              "            style=\"display:none;\">\n",
              "\n",
              "<svg xmlns=\"http://www.w3.org/2000/svg\" height=\"24px\"viewBox=\"0 0 24 24\"\n",
              "     width=\"24px\">\n",
              "    <g>\n",
              "        <path d=\"M19 3H5c-1.1 0-2 .9-2 2v14c0 1.1.9 2 2 2h14c1.1 0 2-.9 2-2V5c0-1.1-.9-2-2-2zM9 17H7v-7h2v7zm4 0h-2V7h2v10zm4 0h-2v-4h2v4z\"/>\n",
              "    </g>\n",
              "</svg>\n",
              "  </button>\n",
              "\n",
              "<style>\n",
              "  .colab-df-quickchart {\n",
              "      --bg-color: #E8F0FE;\n",
              "      --fill-color: #1967D2;\n",
              "      --hover-bg-color: #E2EBFA;\n",
              "      --hover-fill-color: #174EA6;\n",
              "      --disabled-fill-color: #AAA;\n",
              "      --disabled-bg-color: #DDD;\n",
              "  }\n",
              "\n",
              "  [theme=dark] .colab-df-quickchart {\n",
              "      --bg-color: #3B4455;\n",
              "      --fill-color: #D2E3FC;\n",
              "      --hover-bg-color: #434B5C;\n",
              "      --hover-fill-color: #FFFFFF;\n",
              "      --disabled-bg-color: #3B4455;\n",
              "      --disabled-fill-color: #666;\n",
              "  }\n",
              "\n",
              "  .colab-df-quickchart {\n",
              "    background-color: var(--bg-color);\n",
              "    border: none;\n",
              "    border-radius: 50%;\n",
              "    cursor: pointer;\n",
              "    display: none;\n",
              "    fill: var(--fill-color);\n",
              "    height: 32px;\n",
              "    padding: 0;\n",
              "    width: 32px;\n",
              "  }\n",
              "\n",
              "  .colab-df-quickchart:hover {\n",
              "    background-color: var(--hover-bg-color);\n",
              "    box-shadow: 0 1px 2px rgba(60, 64, 67, 0.3), 0 1px 3px 1px rgba(60, 64, 67, 0.15);\n",
              "    fill: var(--button-hover-fill-color);\n",
              "  }\n",
              "\n",
              "  .colab-df-quickchart-complete:disabled,\n",
              "  .colab-df-quickchart-complete:disabled:hover {\n",
              "    background-color: var(--disabled-bg-color);\n",
              "    fill: var(--disabled-fill-color);\n",
              "    box-shadow: none;\n",
              "  }\n",
              "\n",
              "  .colab-df-spinner {\n",
              "    border: 2px solid var(--fill-color);\n",
              "    border-color: transparent;\n",
              "    border-bottom-color: var(--fill-color);\n",
              "    animation:\n",
              "      spin 1s steps(1) infinite;\n",
              "  }\n",
              "\n",
              "  @keyframes spin {\n",
              "    0% {\n",
              "      border-color: transparent;\n",
              "      border-bottom-color: var(--fill-color);\n",
              "      border-left-color: var(--fill-color);\n",
              "    }\n",
              "    20% {\n",
              "      border-color: transparent;\n",
              "      border-left-color: var(--fill-color);\n",
              "      border-top-color: var(--fill-color);\n",
              "    }\n",
              "    30% {\n",
              "      border-color: transparent;\n",
              "      border-left-color: var(--fill-color);\n",
              "      border-top-color: var(--fill-color);\n",
              "      border-right-color: var(--fill-color);\n",
              "    }\n",
              "    40% {\n",
              "      border-color: transparent;\n",
              "      border-right-color: var(--fill-color);\n",
              "      border-top-color: var(--fill-color);\n",
              "    }\n",
              "    60% {\n",
              "      border-color: transparent;\n",
              "      border-right-color: var(--fill-color);\n",
              "    }\n",
              "    80% {\n",
              "      border-color: transparent;\n",
              "      border-right-color: var(--fill-color);\n",
              "      border-bottom-color: var(--fill-color);\n",
              "    }\n",
              "    90% {\n",
              "      border-color: transparent;\n",
              "      border-bottom-color: var(--fill-color);\n",
              "    }\n",
              "  }\n",
              "</style>\n",
              "\n",
              "  <script>\n",
              "    async function quickchart(key) {\n",
              "      const quickchartButtonEl =\n",
              "        document.querySelector('#' + key + ' button');\n",
              "      quickchartButtonEl.disabled = true;  // To prevent multiple clicks.\n",
              "      quickchartButtonEl.classList.add('colab-df-spinner');\n",
              "      try {\n",
              "        const charts = await google.colab.kernel.invokeFunction(\n",
              "            'suggestCharts', [key], {});\n",
              "      } catch (error) {\n",
              "        console.error('Error during call to suggestCharts:', error);\n",
              "      }\n",
              "      quickchartButtonEl.classList.remove('colab-df-spinner');\n",
              "      quickchartButtonEl.classList.add('colab-df-quickchart-complete');\n",
              "    }\n",
              "    (() => {\n",
              "      let quickchartButtonEl =\n",
              "        document.querySelector('#df-a90ed5d6-10ba-4e2d-9007-dce80d17a87b button');\n",
              "      quickchartButtonEl.style.display =\n",
              "        google.colab.kernel.accessAllowed ? 'block' : 'none';\n",
              "    })();\n",
              "  </script>\n",
              "</div>\n",
              "    </div>\n",
              "  </div>\n"
            ]
          },
          "metadata": {},
          "execution_count": 25
        }
      ]
    },
    {
      "cell_type": "code",
      "source": [
        "# check missing value\n",
        "print(ICU_df.isnull().sum())"
      ],
      "metadata": {
        "colab": {
          "base_uri": "https://localhost:8080/"
        },
        "id": "b1ugoulCBQNz",
        "outputId": "8576c970-1115-4657-ba61-155d78efb869"
      },
      "execution_count": 45,
      "outputs": [
        {
          "output_type": "stream",
          "name": "stdout",
          "text": [
            "encounter_id                      0\n",
            "patient_id                        0\n",
            "hospital_id                       0\n",
            "hospital_death                    0\n",
            "age                            4228\n",
            "                               ... \n",
            "leukemia                        715\n",
            "lymphoma                        715\n",
            "solid_tumor_with_metastasis     715\n",
            "apache_3j_bodysystem           1662\n",
            "apache_2_bodysystem            1662\n",
            "Length: 186, dtype: int64\n"
          ]
        }
      ]
    },
    {
      "cell_type": "code",
      "source": [
        "# importing PyTorch library as 't' for convenience\n",
        "import torch as t\n",
        "\n",
        "# importing other necessary libraries\n",
        "import numpy as np\n",
        "from torch.nn.functional import sigmoid, relu, tanh\n",
        "from torch.optim import Adam\n",
        "import matplotlib.pyplot as plt\n",
        "import pandas as pd\n",
        "from sklearn.preprocessing import StandardScaler\n",
        "from torch.utils.data import TensorDataset, DataLoader\n",
        "\n",
        "# importing PyTorch modules for building neural networks\n",
        "from torch.nn import Tanh, Linear, Sequential, Sigmoid, Dropout\n"
      ],
      "metadata": {
        "id": "15p4wq3rDcuO"
      },
      "execution_count": 46,
      "outputs": []
    },
    {
      "cell_type": "code",
      "source": [
        "# Defining the input to the neuron - a single example with 3 features\n",
        "X = np.array([\n",
        "    [0, 1, 2]\n",
        "])\n",
        "\n",
        "# Defining the expected output for the given input\n",
        "Y = np.array([\n",
        "    [1]\n",
        "])"
      ],
      "metadata": {
        "id": "iAREVr3UDhUg"
      },
      "execution_count": null,
      "outputs": []
    },
    {
      "cell_type": "code",
      "source": [
        "# Initializing the weights randomly for 3 inputs and 1 output\n",
        "W = t.randn((3,1))\n",
        "print(W)\n",
        "print(W.dtype) # Checking the data type of the weights tensor\n",
        "print(W.shape) # Checking the shape of the weights tensor\n",
        "print('===========')\n",
        "\n",
        "# Initializing the bias as a tensor with a single zero element\n",
        "B = t.zeros((1,1))\n",
        "print(B)\n",
        "print(B.dtype) # Checking the data type of the bias tensor\n",
        "print(B.shape) # Checking the shape of the bias tensor"
      ],
      "metadata": {
        "colab": {
          "base_uri": "https://localhost:8080/"
        },
        "id": "-FnaUEBiDpWN",
        "outputId": "afd5f8eb-33dc-4510-8f13-39301cb97f60"
      },
      "execution_count": null,
      "outputs": [
        {
          "output_type": "stream",
          "name": "stdout",
          "text": [
            "tensor([[ 2.0402],\n",
            "        [-1.8448],\n",
            "        [ 1.0779]])\n",
            "torch.float32\n",
            "torch.Size([3, 1])\n",
            "===========\n",
            "tensor([[0.]])\n",
            "torch.float32\n",
            "torch.Size([1, 1])\n"
          ]
        }
      ]
    },
    {
      "cell_type": "code",
      "source": [
        "# Converting the input array to a PyTorch Tensor and performing matrix multiplication with the weights\n",
        "XW = t.Tensor(X) @ W\n",
        "print(XW)\n",
        "\n",
        "# Adding the bias to the result of the matrix multiplication\n",
        "XW_B = XW + B\n",
        "print(XW_B)"
      ],
      "metadata": {
        "colab": {
          "base_uri": "https://localhost:8080/"
        },
        "id": "1_BI5ZlgDujN",
        "outputId": "9b275f0c-5e05-42a8-f805-6c178a8ae191"
      },
      "execution_count": null,
      "outputs": [
        {
          "output_type": "stream",
          "name": "stdout",
          "text": [
            "tensor([[0.3111]])\n",
            "tensor([[0.3111]])\n"
          ]
        }
      ]
    },
    {
      "cell_type": "code",
      "source": [
        "# Applying the hyperbolic tangent activation function element-wise to the result\n",
        "output = tanh(XW_B)\n",
        "print(output)"
      ],
      "metadata": {
        "colab": {
          "base_uri": "https://localhost:8080/"
        },
        "id": "6DL5gcU2Dxbi",
        "outputId": "3cea0a1f-0d95-435c-822e-61ef5b7b1a87"
      },
      "execution_count": null,
      "outputs": [
        {
          "output_type": "stream",
          "name": "stdout",
          "text": [
            "tensor([[0.3014]])\n"
          ]
        }
      ]
    },
    {
      "cell_type": "code",
      "source": [
        "# Calculating the Mean Squared Error (MSE) loss between the predicted output and the actual output\n",
        "loss = t.nn.functional.mse_loss(output, t.Tensor(Y))\n",
        "print(loss)"
      ],
      "metadata": {
        "colab": {
          "base_uri": "https://localhost:8080/"
        },
        "id": "J1DCOUIjD0hY",
        "outputId": "a3e42efb-07d9-4aec-982a-496eb851bcfa"
      },
      "execution_count": null,
      "outputs": [
        {
          "output_type": "stream",
          "name": "stdout",
          "text": [
            "tensor(0.4880)\n"
          ]
        }
      ]
    },
    {
      "cell_type": "code",
      "source": [
        "# Defining multiple inputs for batch processing\n",
        "X = t.Tensor([\n",
        "    # A batch of examples with 3 features each\n",
        "    [0, 5, 2],\n",
        "    [0, 3, 4],\n",
        "    # ...\n",
        "]).type(t.float32)\n",
        "\n",
        "# Defining the expected outputs for the batch of inputs (for a binary classification problem)\n",
        "Y = t.Tensor([\n",
        "    # Corresponding expected outputs (labels)\n",
        "    [1],\n",
        "    [1],\n",
        "    # ...\n",
        "]).type(t.float32)\n",
        "\n",
        "# Initializing weights and bias with the requirement to compute gradients (for learning during training)\n",
        "W = t.randn((3,1), requires_grad=True)\n",
        "B = t.zeros((1,1), requires_grad=True).type(t.float32)\n",
        "\n",
        "# Defining the loss function for binary classification (Binary Cross-Entropy Loss)\n",
        "loss_fn = t.nn.BCELoss()\n",
        "\n",
        "# Setting up the optimizer (Adam) with the parameters to optimize (weights and bias) and the learning rate\n",
        "learning_rate = 1\n",
        "optimizer = Adam([W, B], lr=learning_rate)\n",
        "\n",
        "# Defining the number of iterations for training and a list to keep track of loss values\n",
        "number_of_iterations = 100\n",
        "loss_list = []\n",
        "for _ in range(number_of_iterations):\n",
        "\n",
        "    # Forward pass: computing the predicted output using the sigmoid activation function\n",
        "    out = sigmoid(X @ W  + B)\n",
        "\n",
        "    # Calculating the loss\n",
        "    loss = loss_fn(out.view(-1), Y.view(-1))\n",
        "\n",
        "    # Recording the loss value for visualization\n",
        "    loss_list.append(loss.item())\n",
        "\n",
        "    # Clearing previous gradients before the backward pass\n",
        "    optimizer.zero_grad()\n",
        "\n",
        "    # Backward pass: computing gradients\n",
        "    loss.backward()\n",
        "\n",
        "    # Updating the weights and bias based on the gradients computed\n",
        "    optimizer.step()\n",
        "\n",
        "# Printing the probabilities predicted by the neuron for each input\n",
        "print(sigmoid(X @ W  + B))"
      ],
      "metadata": {
        "colab": {
          "base_uri": "https://localhost:8080/"
        },
        "id": "vuqNfpr4D-OJ",
        "outputId": "55a3fb2b-3381-4afb-83db-4c1f9fd5e02e"
      },
      "execution_count": null,
      "outputs": [
        {
          "output_type": "stream",
          "name": "stdout",
          "text": [
            "tensor([[1.],\n",
            "        [1.]], grad_fn=<SigmoidBackward0>)\n"
          ]
        }
      ]
    },
    {
      "cell_type": "code",
      "source": [
        "# Plotting the loss values recorded during training\n",
        "plt.plot([i for i in range(len(loss_list))], loss_list)\n",
        "plt.xlabel('Iteration')\n",
        "plt.ylabel('Loss')\n",
        "plt.title('Loss Over Iterations')\n",
        "plt.show()\n"
      ],
      "metadata": {
        "colab": {
          "base_uri": "https://localhost:8080/",
          "height": 472
        },
        "id": "_ggipBVdED8i",
        "outputId": "651df47f-fb73-419d-b1c4-721d12cb04b4"
      },
      "execution_count": null,
      "outputs": [
        {
          "output_type": "display_data",
          "data": {
            "text/plain": [
              "<Figure size 640x480 with 1 Axes>"
            ],
            "image/png": "[encoded data removed]"
          },
          "metadata": {}
        }
      ]
    },
    {
      "cell_type": "code",
      "source": [
        "!pip install torch\n",
        "\n",
        "# importing torch as t\n",
        "import torch as t\n",
        "import numpy as np\n",
        "from torch.nn.functional import sigmoid, relu, tanh\n",
        "from torch.optim import Adam\n",
        "import matplotlib.pyplot as plt\n",
        "import pandas as pd\n",
        "from sklearn.preprocessing import StandardScaler\n",
        "from torch.utils.data import TensorDataset, DataLoader\n",
        "\n",
        "from torch.nn import Tanh, Linear, Sequential, Sigmoid, Dropout"
      ],
      "metadata": {
        "colab": {
          "base_uri": "https://localhost:8080/"
        },
        "id": "Doxl6QXLEIiH",
        "outputId": "b6972508-17a3-4b99-c7e2-c37aba27beb0"
      },
      "execution_count": null,
      "outputs": [
        {
          "output_type": "stream",
          "name": "stdout",
          "text": [
            "Requirement already satisfied: torch in /usr/local/lib/python3.10/dist-packages (2.1.0+cu118)\n",
            "Requirement already satisfied: filelock in /usr/local/lib/python3.10/dist-packages (from torch) (3.12.4)\n",
            "Requirement already satisfied: typing-extensions in /usr/local/lib/python3.10/dist-packages (from torch) (4.5.0)\n",
            "Requirement already satisfied: sympy in /usr/local/lib/python3.10/dist-packages (from torch) (1.12)\n",
            "Requirement already satisfied: networkx in /usr/local/lib/python3.10/dist-packages (from torch) (3.2)\n",
            "Requirement already satisfied: jinja2 in /usr/local/lib/python3.10/dist-packages (from torch) (3.1.2)\n",
            "Requirement already satisfied: fsspec in /usr/local/lib/python3.10/dist-packages (from torch) (2023.6.0)\n",
            "Requirement already satisfied: triton==2.1.0 in /usr/local/lib/python3.10/dist-packages (from torch) (2.1.0)\n",
            "Requirement already satisfied: MarkupSafe>=2.0 in /usr/local/lib/python3.10/dist-packages (from jinja2->torch) (2.1.3)\n",
            "Requirement already satisfied: mpmath>=0.19 in /usr/local/lib/python3.10/dist-packages (from sympy->torch) (1.3.0)\n"
          ]
        }
      ]
    },
    {
      "cell_type": "code",
      "source": [
        "# checking the data types\n",
        "ICU_df.dtypes"
      ],
      "metadata": {
        "colab": {
          "base_uri": "https://localhost:8080/"
        },
        "id": "limGAbT1EZMi",
        "outputId": "642fb7d2-9177-4ed9-c560-1ee4c62a8e8f"
      },
      "execution_count": 47,
      "outputs": [
        {
          "output_type": "execute_result",
          "data": {
            "text/plain": [
              "encounter_id                     int64\n",
              "patient_id                       int64\n",
              "hospital_id                      int64\n",
              "hospital_death                   int64\n",
              "age                            float64\n",
              "                                ...   \n",
              "leukemia                       float64\n",
              "lymphoma                       float64\n",
              "solid_tumor_with_metastasis    float64\n",
              "apache_3j_bodysystem            object\n",
              "apache_2_bodysystem             object\n",
              "Length: 186, dtype: object"
            ]
          },
          "metadata": {},
          "execution_count": 47
        }
      ]
    },
    {
      "cell_type": "code",
      "source": [
        "ICU_df.columns"
      ],
      "metadata": {
        "colab": {
          "base_uri": "https://localhost:8080/"
        },
        "id": "BhjDQrO5Ensk",
        "outputId": "6165ef60-dcc5-4562-d95b-5f16b83dabba"
      },
      "execution_count": null,
      "outputs": [
        {
          "output_type": "execute_result",
          "data": {
            "text/plain": [
              "Index(['encounter_id', 'patient_id', 'hospital_id', 'hospital_death', 'age',\n",
              "       'bmi', 'elective_surgery', 'ethnicity', 'gender', 'height',\n",
              "       ...\n",
              "       'aids', 'cirrhosis', 'diabetes_mellitus', 'hepatic_failure',\n",
              "       'immunosuppression', 'leukemia', 'lymphoma',\n",
              "       'solid_tumor_with_metastasis', 'apache_3j_bodysystem',\n",
              "       'apache_2_bodysystem'],\n",
              "      dtype='object', length=186)"
            ]
          },
          "metadata": {},
          "execution_count": 23
        }
      ]
    },
    {
      "cell_type": "code",
      "source": [
        "ICU_df['hospital_death'].mean()"
      ],
      "metadata": {
        "colab": {
          "base_uri": "https://localhost:8080/"
        },
        "id": "o--tPziEEzuu",
        "outputId": "b8f93501-9c32-4b99-81ff-5bf95d26da93"
      },
      "execution_count": null,
      "outputs": [
        {
          "output_type": "execute_result",
          "data": {
            "text/plain": [
              "0.08630183289173836"
            ]
          },
          "metadata": {},
          "execution_count": 24
        }
      ]
    },
    {
      "cell_type": "code",
      "source": [
        "# Display unique values in 'ethnicity' column\n",
        "print(ICU_df['ethnicity'].unique())"
      ],
      "metadata": {
        "colab": {
          "base_uri": "https://localhost:8080/"
        },
        "id": "bphGlp3aTA-p",
        "outputId": "28388300-ada2-41c6-903f-6ae164213d47"
      },
      "execution_count": 48,
      "outputs": [
        {
          "output_type": "stream",
          "name": "stdout",
          "text": [
            "['Caucasian' nan 'Hispanic' 'African American' 'Asian' 'Native American'\n",
            " 'Other/Unknown']\n"
          ]
        }
      ]
    },
    {
      "cell_type": "code",
      "source": [
        "ICU_df= ICU_df.drop('encounter_id', axis=1)"
      ],
      "metadata": {
        "id": "PpbgVNZ5jIOP"
      },
      "execution_count": null,
      "outputs": []
    },
    {
      "cell_type": "code",
      "source": [
        "# Display unique values in 'ethnicity' column\n",
        "print(ICU_df['icu_admit_source'].unique())"
      ],
      "metadata": {
        "colab": {
          "base_uri": "https://localhost:8080/"
        },
        "id": "ac_cY3XoU1fs",
        "outputId": "cae3f376-bcbf-4b19-a83c-beb290361167"
      },
      "execution_count": 50,
      "outputs": [
        {
          "output_type": "stream",
          "name": "stdout",
          "text": [
            "['Floor' 'Accident & Emergency' 'Operating Room / Recovery'\n",
            " 'Other Hospital' 'Other ICU' nan]\n"
          ]
        }
      ]
    },
    {
      "cell_type": "code",
      "source": [
        "ICU_df['gender'].replace({'F' : 1, 'M' : 0}, inplace=True)\n"
      ],
      "metadata": {
        "id": "oaJZI6YoXL_F"
      },
      "execution_count": 51,
      "outputs": []
    },
    {
      "cell_type": "code",
      "source": [
        "\n",
        "\n",
        "!pip install category_encoders\n",
        "\n",
        "import pandas as pd\n",
        "import numpy as np\n",
        "import warnings\n",
        "from sklearn import tree\n",
        "from sklearn.ensemble import RandomForestClassifier\n",
        "import seaborn as sns\n",
        "import scipy.stats as stats\n",
        "import matplotlib.pyplot as plt\n",
        "# from sklearn.metrics import RocCurveDisplay, auc, roc_curve\n",
        "from sklearn.metrics import roc_auc_score, accuracy_score\n",
        "import plotly.express as px\n",
        "from category_encoders import OneHotEncoder, TargetEncoder\n",
        "from sklearn.compose import ColumnTransformer\n",
        "from sklearn.pipeline import Pipeline\n",
        "from sklearn.model_selection import RandomizedSearchCV, StratifiedKFold\n",
        "from sklearn.ensemble import GradientBoostingClassifier\n",
        "from sklearn.model_selection import GridSearchCV\n",
        "\n",
        "\n",
        "warnings.filterwarnings('ignore')\n",
        "\n",
        "\n",
        "from sklearn import tree\n",
        "from sklearn.ensemble import RandomForestClassifier\n",
        "import seaborn as sns\n",
        "import scipy.stats as stats\n",
        "import matplotlib.pyplot as plt\n",
        "# from sklearn.metrics import RocCurveDisplay, auc, roc_curve\n",
        "from sklearn.metrics import roc_auc_score, accuracy_score\n",
        "import plotly.express as px\n",
        "from category_encoders import OneHotEncoder, TargetEncoder\n",
        "from sklearn.compose import ColumnTransformer\n",
        "from sklearn.pipeline import Pipeline\n",
        "from sklearn.model_selection import RandomizedSearchCV, StratifiedKFold\n",
        "from sklearn.ensemble import GradientBoostingClassifier\n",
        "from sklearn.model_selection import GridSearchCV\n",
        "\n"
      ],
      "metadata": {
        "colab": {
          "base_uri": "https://localhost:8080/"
        },
        "id": "a_sgAQeDMUgu",
        "outputId": "9f73cde7-580b-4163-8fe5-f589f746d30e"
      },
      "execution_count": 52,
      "outputs": [
        {
          "output_type": "stream",
          "name": "stdout",
          "text": [
            "Requirement already satisfied: category_encoders in /usr/local/lib/python3.10/dist-packages (2.6.3)\n",
            "Requirement already satisfied: numpy>=1.14.0 in /usr/local/lib/python3.10/dist-packages (from category_encoders) (1.23.5)\n",
            "Requirement already satisfied: scikit-learn>=0.20.0 in /usr/local/lib/python3.10/dist-packages (from category_encoders) (1.2.2)\n",
            "Requirement already satisfied: scipy>=1.0.0 in /usr/local/lib/python3.10/dist-packages (from category_encoders) (1.11.3)\n",
            "Requirement already satisfied: statsmodels>=0.9.0 in /usr/local/lib/python3.10/dist-packages (from category_encoders) (0.14.0)\n",
            "Requirement already satisfied: pandas>=1.0.5 in /usr/local/lib/python3.10/dist-packages (from category_encoders) (1.5.3)\n",
            "Requirement already satisfied: patsy>=0.5.1 in /usr/local/lib/python3.10/dist-packages (from category_encoders) (0.5.3)\n",
            "Requirement already satisfied: python-dateutil>=2.8.1 in /usr/local/lib/python3.10/dist-packages (from pandas>=1.0.5->category_encoders) (2.8.2)\n",
            "Requirement already satisfied: pytz>=2020.1 in /usr/local/lib/python3.10/dist-packages (from pandas>=1.0.5->category_encoders) (2023.3.post1)\n",
            "Requirement already satisfied: six in /usr/local/lib/python3.10/dist-packages (from patsy>=0.5.1->category_encoders) (1.16.0)\n",
            "Requirement already satisfied: joblib>=1.1.1 in /usr/local/lib/python3.10/dist-packages (from scikit-learn>=0.20.0->category_encoders) (1.3.2)\n",
            "Requirement already satisfied: threadpoolctl>=2.0.0 in /usr/local/lib/python3.10/dist-packages (from scikit-learn>=0.20.0->category_encoders) (3.2.0)\n",
            "Requirement already satisfied: packaging>=21.3 in /usr/local/lib/python3.10/dist-packages (from statsmodels>=0.9.0->category_encoders) (23.2)\n"
          ]
        },
        {
          "output_type": "execute_result",
          "data": {
            "text/plain": [
              "array(['Floor', 'Accident & Emergency', 'Operating Room / Recovery',\n",
              "       'Other Hospital', 'Other ICU', nan], dtype=object)"
            ]
          },
          "metadata": {},
          "execution_count": 52
        }
      ]
    },
    {
      "cell_type": "code",
      "source": [
        "# List of columns that contain categorical data\n",
        "target_column = 'hospital_death'\n",
        "categorical_columns = ['icu_admit_source','icu_stay_type','icu_type','apache_2_diagnosis','apache_3j_diagnosis','apache_3j_bodysystem','apache_2_bodysystem']\n",
        "\n",
        "# List of columns that contain numerical data (excluding categorical columns and the target column)\n",
        "numerical_columns = [c for c in ICU_df.columns if c not in categorical_columns and c != target_column]\n",
        "\n",
        "# Display the unique values in the 'icu_admit_source' column\n",
        "ICU_df['icu_admit_source'].unique()\n"
      ],
      "metadata": {
        "colab": {
          "base_uri": "https://localhost:8080/"
        },
        "id": "Vpl9jPNeQnXS",
        "outputId": "f7dd3b28-a5c1-453d-a202-006d3385b5b9"
      },
      "execution_count": 60,
      "outputs": [
        {
          "output_type": "execute_result",
          "data": {
            "text/plain": [
              "array(['Floor', 'Accident & Emergency', 'Operating Room / Recovery',\n",
              "       'Other Hospital', 'Other ICU', nan], dtype=object)"
            ]
          },
          "metadata": {},
          "execution_count": 60
        }
      ]
    },
    {
      "cell_type": "code",
      "source": [
        "ICU_df['icu_type'].unique()"
      ],
      "metadata": {
        "colab": {
          "base_uri": "https://localhost:8080/"
        },
        "id": "T9NGtV29O18C",
        "outputId": "71fb75ec-4d43-4286-d291-693cc77ffbca"
      },
      "execution_count": 53,
      "outputs": [
        {
          "output_type": "execute_result",
          "data": {
            "text/plain": [
              "array(['CTICU', 'Med-Surg ICU', 'CCU-CTICU', 'Neuro ICU', 'MICU', 'SICU',\n",
              "       'Cardiac ICU', 'CSICU'], dtype=object)"
            ]
          },
          "metadata": {},
          "execution_count": 53
        }
      ]
    },
    {
      "cell_type": "code",
      "source": [
        "# Initializing a column transformer that will handle categorical data encoding\n",
        "ct = ColumnTransformer([('one_hot_encoder', OneHotEncoder(), [c for c in categorical_columns]),\n",
        "                        ('target_encoder', TargetEncoder(),)],\n",
        "                       remainder='passthrough')"
      ],
      "metadata": {
        "id": "2dCIRj_eNdKZ"
      },
      "execution_count": 61,
      "outputs": []
    },
    {
      "cell_type": "code",
      "source": [
        "# Randomly sample 70% of the data for training\n",
        "train_data = ICU_df.sample(frac = .7, random_state=10)\n",
        "\n",
        "# Use the remaining 30% for testing\n",
        "test_data = ICU_df.drop(train_data.index)\n",
        "\n",
        "# Check the mean of the 'hospital_death' column in both training and testing data\n",
        "train_data['hospital_death'].mean()\n",
        "test_data['hospital_death'].mean()\n",
        "\n"
      ],
      "metadata": {
        "colab": {
          "base_uri": "https://localhost:8080/"
        },
        "id": "m2rGQNvHQ8-i",
        "outputId": "79213859-9cd9-4c2f-eeeb-166ba5208606"
      },
      "execution_count": 62,
      "outputs": [
        {
          "output_type": "execute_result",
          "data": {
            "text/plain": [
              "0.086610452860362"
            ]
          },
          "metadata": {},
          "execution_count": 62
        }
      ]
    },
    {
      "cell_type": "code",
      "source": [
        "train_data['hospital_death'].mean()"
      ],
      "metadata": {
        "colab": {
          "base_uri": "https://localhost:8080/"
        },
        "id": "sucrf_rE2Yni",
        "outputId": "611e2662-b8f7-4782-d4b0-bd6c3bb6438e"
      },
      "execution_count": 63,
      "outputs": [
        {
          "output_type": "execute_result",
          "data": {
            "text/plain": [
              "0.08616956650415115"
            ]
          },
          "metadata": {},
          "execution_count": 63
        }
      ]
    },
    {
      "cell_type": "code",
      "source": [
        "test_data['hospital_death'].mean()"
      ],
      "metadata": {
        "colab": {
          "base_uri": "https://localhost:8080/"
        },
        "id": "LIylUVd22Wk6",
        "outputId": "1a3a3d99-d11c-4849-ef6a-36ea5db213ae"
      },
      "execution_count": 64,
      "outputs": [
        {
          "output_type": "execute_result",
          "data": {
            "text/plain": [
              "0.086610452860362"
            ]
          },
          "metadata": {},
          "execution_count": 64
        }
      ]
    },
    {
      "cell_type": "code",
      "source": [
        "# Data Preparation\n",
        "\n",
        "# Extract the 'DEATH_EVENT' column as the target variable for training and testing\n",
        "Y_train = train_data['hospital_death'].to_numpy()\n",
        "Y_test = test_data['hospital_death'].to_numpy()\n",
        "\n",
        "# Extract the features (excluding 'hospital_death') for training and testing\n",
        "X_train = train_data.drop('hospital_death', axis=1).to_numpy()\n",
        "X_test = test_data.drop('hospital_death', axis=1).to_numpy()\n",
        "\n"
      ],
      "metadata": {
        "id": "d5MQsUPA2zF2"
      },
      "execution_count": 65,
      "outputs": []
    },
    {
      "cell_type": "code",
      "source": [
        "dts = df.dtypes\n",
        "for index, value in dts.items():\n",
        "    print(\"column %s dtype[class: %s; name: %s; code: %s; kind: %s]\" % (index, type(value), value.name, value.str, value.kind))"
      ],
      "metadata": {
        "colab": {
          "base_uri": "https://localhost:8080/"
        },
        "id": "iUyOlEMx6MEC",
        "outputId": "3fa577f1-b9c0-483f-f4c6-c0feb667cb57"
      },
      "execution_count": null,
      "outputs": [
        {
          "output_type": "stream",
          "name": "stdout",
          "text": [
            "column encounter_id dtype[class: <class 'numpy.dtype[int64]'>; name: int64; code: <i8; kind: i]\n",
            "column patient_id dtype[class: <class 'numpy.dtype[int64]'>; name: int64; code: <i8; kind: i]\n",
            "column hospital_id dtype[class: <class 'numpy.dtype[int64]'>; name: int64; code: <i8; kind: i]\n",
            "column hospital_death dtype[class: <class 'numpy.dtype[int64]'>; name: int64; code: <i8; kind: i]\n",
            "column age dtype[class: <class 'numpy.dtype[float64]'>; name: float64; code: <f8; kind: f]\n",
            "column bmi dtype[class: <class 'numpy.dtype[float64]'>; name: float64; code: <f8; kind: f]\n",
            "column elective_surgery dtype[class: <class 'numpy.dtype[int64]'>; name: int64; code: <i8; kind: i]\n",
            "column ethnicity dtype[class: <class 'numpy.dtype[object_]'>; name: object; code: |O; kind: O]\n",
            "column gender dtype[class: <class 'numpy.dtype[object_]'>; name: object; code: |O; kind: O]\n",
            "column height dtype[class: <class 'numpy.dtype[float64]'>; name: float64; code: <f8; kind: f]\n",
            "column hospital_admit_source dtype[class: <class 'numpy.dtype[object_]'>; name: object; code: |O; kind: O]\n",
            "column icu_admit_source dtype[class: <class 'numpy.dtype[object_]'>; name: object; code: |O; kind: O]\n",
            "column icu_id dtype[class: <class 'numpy.dtype[int64]'>; name: int64; code: <i8; kind: i]\n",
            "column icu_stay_type dtype[class: <class 'numpy.dtype[object_]'>; name: object; code: |O; kind: O]\n",
            "column icu_type dtype[class: <class 'numpy.dtype[object_]'>; name: object; code: |O; kind: O]\n",
            "column pre_icu_los_days dtype[class: <class 'numpy.dtype[float64]'>; name: float64; code: <f8; kind: f]\n",
            "column readmission_status dtype[class: <class 'numpy.dtype[int64]'>; name: int64; code: <i8; kind: i]\n",
            "column weight dtype[class: <class 'numpy.dtype[float64]'>; name: float64; code: <f8; kind: f]\n",
            "column albumin_apache dtype[class: <class 'numpy.dtype[float64]'>; name: float64; code: <f8; kind: f]\n",
            "column apache_2_diagnosis dtype[class: <class 'numpy.dtype[float64]'>; name: float64; code: <f8; kind: f]\n",
            "column apache_3j_diagnosis dtype[class: <class 'numpy.dtype[float64]'>; name: float64; code: <f8; kind: f]\n",
            "column apache_post_operative dtype[class: <class 'numpy.dtype[int64]'>; name: int64; code: <i8; kind: i]\n",
            "column arf_apache dtype[class: <class 'numpy.dtype[float64]'>; name: float64; code: <f8; kind: f]\n",
            "column bilirubin_apache dtype[class: <class 'numpy.dtype[float64]'>; name: float64; code: <f8; kind: f]\n",
            "column bun_apache dtype[class: <class 'numpy.dtype[float64]'>; name: float64; code: <f8; kind: f]\n",
            "column creatinine_apache dtype[class: <class 'numpy.dtype[float64]'>; name: float64; code: <f8; kind: f]\n",
            "column fio2_apache dtype[class: <class 'numpy.dtype[float64]'>; name: float64; code: <f8; kind: f]\n",
            "column gcs_eyes_apache dtype[class: <class 'numpy.dtype[float64]'>; name: float64; code: <f8; kind: f]\n",
            "column gcs_motor_apache dtype[class: <class 'numpy.dtype[float64]'>; name: float64; code: <f8; kind: f]\n",
            "column gcs_unable_apache dtype[class: <class 'numpy.dtype[float64]'>; name: float64; code: <f8; kind: f]\n",
            "column gcs_verbal_apache dtype[class: <class 'numpy.dtype[float64]'>; name: float64; code: <f8; kind: f]\n",
            "column glucose_apache dtype[class: <class 'numpy.dtype[float64]'>; name: float64; code: <f8; kind: f]\n",
            "column heart_rate_apache dtype[class: <class 'numpy.dtype[float64]'>; name: float64; code: <f8; kind: f]\n",
            "column hematocrit_apache dtype[class: <class 'numpy.dtype[float64]'>; name: float64; code: <f8; kind: f]\n",
            "column intubated_apache dtype[class: <class 'numpy.dtype[float64]'>; name: float64; code: <f8; kind: f]\n",
            "column map_apache dtype[class: <class 'numpy.dtype[float64]'>; name: float64; code: <f8; kind: f]\n",
            "column paco2_apache dtype[class: <class 'numpy.dtype[float64]'>; name: float64; code: <f8; kind: f]\n",
            "column paco2_for_ph_apache dtype[class: <class 'numpy.dtype[float64]'>; name: float64; code: <f8; kind: f]\n",
            "column pao2_apache dtype[class: <class 'numpy.dtype[float64]'>; name: float64; code: <f8; kind: f]\n",
            "column ph_apache dtype[class: <class 'numpy.dtype[float64]'>; name: float64; code: <f8; kind: f]\n",
            "column resprate_apache dtype[class: <class 'numpy.dtype[float64]'>; name: float64; code: <f8; kind: f]\n",
            "column sodium_apache dtype[class: <class 'numpy.dtype[float64]'>; name: float64; code: <f8; kind: f]\n",
            "column temp_apache dtype[class: <class 'numpy.dtype[float64]'>; name: float64; code: <f8; kind: f]\n",
            "column urineoutput_apache dtype[class: <class 'numpy.dtype[float64]'>; name: float64; code: <f8; kind: f]\n",
            "column ventilated_apache dtype[class: <class 'numpy.dtype[float64]'>; name: float64; code: <f8; kind: f]\n",
            "column wbc_apache dtype[class: <class 'numpy.dtype[float64]'>; name: float64; code: <f8; kind: f]\n",
            "column d1_diasbp_invasive_max dtype[class: <class 'numpy.dtype[float64]'>; name: float64; code: <f8; kind: f]\n",
            "column d1_diasbp_invasive_min dtype[class: <class 'numpy.dtype[float64]'>; name: float64; code: <f8; kind: f]\n",
            "column d1_diasbp_max dtype[class: <class 'numpy.dtype[float64]'>; name: float64; code: <f8; kind: f]\n",
            "column d1_diasbp_min dtype[class: <class 'numpy.dtype[float64]'>; name: float64; code: <f8; kind: f]\n",
            "column d1_diasbp_noninvasive_max dtype[class: <class 'numpy.dtype[float64]'>; name: float64; code: <f8; kind: f]\n",
            "column d1_diasbp_noninvasive_min dtype[class: <class 'numpy.dtype[float64]'>; name: float64; code: <f8; kind: f]\n",
            "column d1_heartrate_max dtype[class: <class 'numpy.dtype[float64]'>; name: float64; code: <f8; kind: f]\n",
            "column d1_heartrate_min dtype[class: <class 'numpy.dtype[float64]'>; name: float64; code: <f8; kind: f]\n",
            "column d1_mbp_invasive_max dtype[class: <class 'numpy.dtype[float64]'>; name: float64; code: <f8; kind: f]\n",
            "column d1_mbp_invasive_min dtype[class: <class 'numpy.dtype[float64]'>; name: float64; code: <f8; kind: f]\n",
            "column d1_mbp_max dtype[class: <class 'numpy.dtype[float64]'>; name: float64; code: <f8; kind: f]\n",
            "column d1_mbp_min dtype[class: <class 'numpy.dtype[float64]'>; name: float64; code: <f8; kind: f]\n",
            "column d1_mbp_noninvasive_max dtype[class: <class 'numpy.dtype[float64]'>; name: float64; code: <f8; kind: f]\n",
            "column d1_mbp_noninvasive_min dtype[class: <class 'numpy.dtype[float64]'>; name: float64; code: <f8; kind: f]\n",
            "column d1_resprate_max dtype[class: <class 'numpy.dtype[float64]'>; name: float64; code: <f8; kind: f]\n",
            "column d1_resprate_min dtype[class: <class 'numpy.dtype[float64]'>; name: float64; code: <f8; kind: f]\n",
            "column d1_spo2_max dtype[class: <class 'numpy.dtype[float64]'>; name: float64; code: <f8; kind: f]\n",
            "column d1_spo2_min dtype[class: <class 'numpy.dtype[float64]'>; name: float64; code: <f8; kind: f]\n",
            "column d1_sysbp_invasive_max dtype[class: <class 'numpy.dtype[float64]'>; name: float64; code: <f8; kind: f]\n",
            "column d1_sysbp_invasive_min dtype[class: <class 'numpy.dtype[float64]'>; name: float64; code: <f8; kind: f]\n",
            "column d1_sysbp_max dtype[class: <class 'numpy.dtype[float64]'>; name: float64; code: <f8; kind: f]\n",
            "column d1_sysbp_min dtype[class: <class 'numpy.dtype[float64]'>; name: float64; code: <f8; kind: f]\n",
            "column d1_sysbp_noninvasive_max dtype[class: <class 'numpy.dtype[float64]'>; name: float64; code: <f8; kind: f]\n",
            "column d1_sysbp_noninvasive_min dtype[class: <class 'numpy.dtype[float64]'>; name: float64; code: <f8; kind: f]\n",
            "column d1_temp_max dtype[class: <class 'numpy.dtype[float64]'>; name: float64; code: <f8; kind: f]\n",
            "column d1_temp_min dtype[class: <class 'numpy.dtype[float64]'>; name: float64; code: <f8; kind: f]\n",
            "column h1_diasbp_invasive_max dtype[class: <class 'numpy.dtype[float64]'>; name: float64; code: <f8; kind: f]\n",
            "column h1_diasbp_invasive_min dtype[class: <class 'numpy.dtype[float64]'>; name: float64; code: <f8; kind: f]\n",
            "column h1_diasbp_max dtype[class: <class 'numpy.dtype[float64]'>; name: float64; code: <f8; kind: f]\n",
            "column h1_diasbp_min dtype[class: <class 'numpy.dtype[float64]'>; name: float64; code: <f8; kind: f]\n",
            "column h1_diasbp_noninvasive_max dtype[class: <class 'numpy.dtype[float64]'>; name: float64; code: <f8; kind: f]\n",
            "column h1_diasbp_noninvasive_min dtype[class: <class 'numpy.dtype[float64]'>; name: float64; code: <f8; kind: f]\n",
            "column h1_heartrate_max dtype[class: <class 'numpy.dtype[float64]'>; name: float64; code: <f8; kind: f]\n",
            "column h1_heartrate_min dtype[class: <class 'numpy.dtype[float64]'>; name: float64; code: <f8; kind: f]\n",
            "column h1_mbp_invasive_max dtype[class: <class 'numpy.dtype[float64]'>; name: float64; code: <f8; kind: f]\n",
            "column h1_mbp_invasive_min dtype[class: <class 'numpy.dtype[float64]'>; name: float64; code: <f8; kind: f]\n",
            "column h1_mbp_max dtype[class: <class 'numpy.dtype[float64]'>; name: float64; code: <f8; kind: f]\n",
            "column h1_mbp_min dtype[class: <class 'numpy.dtype[float64]'>; name: float64; code: <f8; kind: f]\n",
            "column h1_mbp_noninvasive_max dtype[class: <class 'numpy.dtype[float64]'>; name: float64; code: <f8; kind: f]\n",
            "column h1_mbp_noninvasive_min dtype[class: <class 'numpy.dtype[float64]'>; name: float64; code: <f8; kind: f]\n",
            "column h1_resprate_max dtype[class: <class 'numpy.dtype[float64]'>; name: float64; code: <f8; kind: f]\n",
            "column h1_resprate_min dtype[class: <class 'numpy.dtype[float64]'>; name: float64; code: <f8; kind: f]\n",
            "column h1_spo2_max dtype[class: <class 'numpy.dtype[float64]'>; name: float64; code: <f8; kind: f]\n",
            "column h1_spo2_min dtype[class: <class 'numpy.dtype[float64]'>; name: float64; code: <f8; kind: f]\n",
            "column h1_sysbp_invasive_max dtype[class: <class 'numpy.dtype[float64]'>; name: float64; code: <f8; kind: f]\n",
            "column h1_sysbp_invasive_min dtype[class: <class 'numpy.dtype[float64]'>; name: float64; code: <f8; kind: f]\n",
            "column h1_sysbp_max dtype[class: <class 'numpy.dtype[float64]'>; name: float64; code: <f8; kind: f]\n",
            "column h1_sysbp_min dtype[class: <class 'numpy.dtype[float64]'>; name: float64; code: <f8; kind: f]\n",
            "column h1_sysbp_noninvasive_max dtype[class: <class 'numpy.dtype[float64]'>; name: float64; code: <f8; kind: f]\n",
            "column h1_sysbp_noninvasive_min dtype[class: <class 'numpy.dtype[float64]'>; name: float64; code: <f8; kind: f]\n",
            "column h1_temp_max dtype[class: <class 'numpy.dtype[float64]'>; name: float64; code: <f8; kind: f]\n",
            "column h1_temp_min dtype[class: <class 'numpy.dtype[float64]'>; name: float64; code: <f8; kind: f]\n",
            "column d1_albumin_max dtype[class: <class 'numpy.dtype[float64]'>; name: float64; code: <f8; kind: f]\n",
            "column d1_albumin_min dtype[class: <class 'numpy.dtype[float64]'>; name: float64; code: <f8; kind: f]\n",
            "column d1_bilirubin_max dtype[class: <class 'numpy.dtype[float64]'>; name: float64; code: <f8; kind: f]\n",
            "column d1_bilirubin_min dtype[class: <class 'numpy.dtype[float64]'>; name: float64; code: <f8; kind: f]\n",
            "column d1_bun_max dtype[class: <class 'numpy.dtype[float64]'>; name: float64; code: <f8; kind: f]\n",
            "column d1_bun_min dtype[class: <class 'numpy.dtype[float64]'>; name: float64; code: <f8; kind: f]\n",
            "column d1_calcium_max dtype[class: <class 'numpy.dtype[float64]'>; name: float64; code: <f8; kind: f]\n",
            "column d1_calcium_min dtype[class: <class 'numpy.dtype[float64]'>; name: float64; code: <f8; kind: f]\n",
            "column d1_creatinine_max dtype[class: <class 'numpy.dtype[float64]'>; name: float64; code: <f8; kind: f]\n",
            "column d1_creatinine_min dtype[class: <class 'numpy.dtype[float64]'>; name: float64; code: <f8; kind: f]\n",
            "column d1_glucose_max dtype[class: <class 'numpy.dtype[float64]'>; name: float64; code: <f8; kind: f]\n",
            "column d1_glucose_min dtype[class: <class 'numpy.dtype[float64]'>; name: float64; code: <f8; kind: f]\n",
            "column d1_hco3_max dtype[class: <class 'numpy.dtype[float64]'>; name: float64; code: <f8; kind: f]\n",
            "column d1_hco3_min dtype[class: <class 'numpy.dtype[float64]'>; name: float64; code: <f8; kind: f]\n",
            "column d1_hemaglobin_max dtype[class: <class 'numpy.dtype[float64]'>; name: float64; code: <f8; kind: f]\n",
            "column d1_hemaglobin_min dtype[class: <class 'numpy.dtype[float64]'>; name: float64; code: <f8; kind: f]\n",
            "column d1_hematocrit_max dtype[class: <class 'numpy.dtype[float64]'>; name: float64; code: <f8; kind: f]\n",
            "column d1_hematocrit_min dtype[class: <class 'numpy.dtype[float64]'>; name: float64; code: <f8; kind: f]\n",
            "column d1_inr_max dtype[class: <class 'numpy.dtype[float64]'>; name: float64; code: <f8; kind: f]\n",
            "column d1_inr_min dtype[class: <class 'numpy.dtype[float64]'>; name: float64; code: <f8; kind: f]\n",
            "column d1_lactate_max dtype[class: <class 'numpy.dtype[float64]'>; name: float64; code: <f8; kind: f]\n",
            "column d1_lactate_min dtype[class: <class 'numpy.dtype[float64]'>; name: float64; code: <f8; kind: f]\n",
            "column d1_platelets_max dtype[class: <class 'numpy.dtype[float64]'>; name: float64; code: <f8; kind: f]\n",
            "column d1_platelets_min dtype[class: <class 'numpy.dtype[float64]'>; name: float64; code: <f8; kind: f]\n",
            "column d1_potassium_max dtype[class: <class 'numpy.dtype[float64]'>; name: float64; code: <f8; kind: f]\n",
            "column d1_potassium_min dtype[class: <class 'numpy.dtype[float64]'>; name: float64; code: <f8; kind: f]\n",
            "column d1_sodium_max dtype[class: <class 'numpy.dtype[float64]'>; name: float64; code: <f8; kind: f]\n",
            "column d1_sodium_min dtype[class: <class 'numpy.dtype[float64]'>; name: float64; code: <f8; kind: f]\n",
            "column d1_wbc_max dtype[class: <class 'numpy.dtype[float64]'>; name: float64; code: <f8; kind: f]\n",
            "column d1_wbc_min dtype[class: <class 'numpy.dtype[float64]'>; name: float64; code: <f8; kind: f]\n",
            "column h1_albumin_max dtype[class: <class 'numpy.dtype[float64]'>; name: float64; code: <f8; kind: f]\n",
            "column h1_albumin_min dtype[class: <class 'numpy.dtype[float64]'>; name: float64; code: <f8; kind: f]\n",
            "column h1_bilirubin_max dtype[class: <class 'numpy.dtype[float64]'>; name: float64; code: <f8; kind: f]\n",
            "column h1_bilirubin_min dtype[class: <class 'numpy.dtype[float64]'>; name: float64; code: <f8; kind: f]\n",
            "column h1_bun_max dtype[class: <class 'numpy.dtype[float64]'>; name: float64; code: <f8; kind: f]\n",
            "column h1_bun_min dtype[class: <class 'numpy.dtype[float64]'>; name: float64; code: <f8; kind: f]\n",
            "column h1_calcium_max dtype[class: <class 'numpy.dtype[float64]'>; name: float64; code: <f8; kind: f]\n",
            "column h1_calcium_min dtype[class: <class 'numpy.dtype[float64]'>; name: float64; code: <f8; kind: f]\n",
            "column h1_creatinine_max dtype[class: <class 'numpy.dtype[float64]'>; name: float64; code: <f8; kind: f]\n",
            "column h1_creatinine_min dtype[class: <class 'numpy.dtype[float64]'>; name: float64; code: <f8; kind: f]\n",
            "column h1_glucose_max dtype[class: <class 'numpy.dtype[float64]'>; name: float64; code: <f8; kind: f]\n",
            "column h1_glucose_min dtype[class: <class 'numpy.dtype[float64]'>; name: float64; code: <f8; kind: f]\n",
            "column h1_hco3_max dtype[class: <class 'numpy.dtype[float64]'>; name: float64; code: <f8; kind: f]\n",
            "column h1_hco3_min dtype[class: <class 'numpy.dtype[float64]'>; name: float64; code: <f8; kind: f]\n",
            "column h1_hemaglobin_max dtype[class: <class 'numpy.dtype[float64]'>; name: float64; code: <f8; kind: f]\n",
            "column h1_hemaglobin_min dtype[class: <class 'numpy.dtype[float64]'>; name: float64; code: <f8; kind: f]\n",
            "column h1_hematocrit_max dtype[class: <class 'numpy.dtype[float64]'>; name: float64; code: <f8; kind: f]\n",
            "column h1_hematocrit_min dtype[class: <class 'numpy.dtype[float64]'>; name: float64; code: <f8; kind: f]\n",
            "column h1_inr_max dtype[class: <class 'numpy.dtype[float64]'>; name: float64; code: <f8; kind: f]\n",
            "column h1_inr_min dtype[class: <class 'numpy.dtype[float64]'>; name: float64; code: <f8; kind: f]\n",
            "column h1_lactate_max dtype[class: <class 'numpy.dtype[float64]'>; name: float64; code: <f8; kind: f]\n",
            "column h1_lactate_min dtype[class: <class 'numpy.dtype[float64]'>; name: float64; code: <f8; kind: f]\n",
            "column h1_platelets_max dtype[class: <class 'numpy.dtype[float64]'>; name: float64; code: <f8; kind: f]\n",
            "column h1_platelets_min dtype[class: <class 'numpy.dtype[float64]'>; name: float64; code: <f8; kind: f]\n",
            "column h1_potassium_max dtype[class: <class 'numpy.dtype[float64]'>; name: float64; code: <f8; kind: f]\n",
            "column h1_potassium_min dtype[class: <class 'numpy.dtype[float64]'>; name: float64; code: <f8; kind: f]\n",
            "column h1_sodium_max dtype[class: <class 'numpy.dtype[float64]'>; name: float64; code: <f8; kind: f]\n",
            "column h1_sodium_min dtype[class: <class 'numpy.dtype[float64]'>; name: float64; code: <f8; kind: f]\n",
            "column h1_wbc_max dtype[class: <class 'numpy.dtype[float64]'>; name: float64; code: <f8; kind: f]\n",
            "column h1_wbc_min dtype[class: <class 'numpy.dtype[float64]'>; name: float64; code: <f8; kind: f]\n",
            "column d1_arterial_pco2_max dtype[class: <class 'numpy.dtype[float64]'>; name: float64; code: <f8; kind: f]\n",
            "column d1_arterial_pco2_min dtype[class: <class 'numpy.dtype[float64]'>; name: float64; code: <f8; kind: f]\n",
            "column d1_arterial_ph_max dtype[class: <class 'numpy.dtype[float64]'>; name: float64; code: <f8; kind: f]\n",
            "column d1_arterial_ph_min dtype[class: <class 'numpy.dtype[float64]'>; name: float64; code: <f8; kind: f]\n",
            "column d1_arterial_po2_max dtype[class: <class 'numpy.dtype[float64]'>; name: float64; code: <f8; kind: f]\n",
            "column d1_arterial_po2_min dtype[class: <class 'numpy.dtype[float64]'>; name: float64; code: <f8; kind: f]\n",
            "column d1_pao2fio2ratio_max dtype[class: <class 'numpy.dtype[float64]'>; name: float64; code: <f8; kind: f]\n",
            "column d1_pao2fio2ratio_min dtype[class: <class 'numpy.dtype[float64]'>; name: float64; code: <f8; kind: f]\n",
            "column h1_arterial_pco2_max dtype[class: <class 'numpy.dtype[float64]'>; name: float64; code: <f8; kind: f]\n",
            "column h1_arterial_pco2_min dtype[class: <class 'numpy.dtype[float64]'>; name: float64; code: <f8; kind: f]\n",
            "column h1_arterial_ph_max dtype[class: <class 'numpy.dtype[float64]'>; name: float64; code: <f8; kind: f]\n",
            "column h1_arterial_ph_min dtype[class: <class 'numpy.dtype[float64]'>; name: float64; code: <f8; kind: f]\n",
            "column h1_arterial_po2_max dtype[class: <class 'numpy.dtype[float64]'>; name: float64; code: <f8; kind: f]\n",
            "column h1_arterial_po2_min dtype[class: <class 'numpy.dtype[float64]'>; name: float64; code: <f8; kind: f]\n",
            "column h1_pao2fio2ratio_max dtype[class: <class 'numpy.dtype[float64]'>; name: float64; code: <f8; kind: f]\n",
            "column h1_pao2fio2ratio_min dtype[class: <class 'numpy.dtype[float64]'>; name: float64; code: <f8; kind: f]\n",
            "column apache_4a_hospital_death_prob dtype[class: <class 'numpy.dtype[float64]'>; name: float64; code: <f8; kind: f]\n",
            "column apache_4a_icu_death_prob dtype[class: <class 'numpy.dtype[float64]'>; name: float64; code: <f8; kind: f]\n",
            "column aids dtype[class: <class 'numpy.dtype[float64]'>; name: float64; code: <f8; kind: f]\n",
            "column cirrhosis dtype[class: <class 'numpy.dtype[float64]'>; name: float64; code: <f8; kind: f]\n",
            "column diabetes_mellitus dtype[class: <class 'numpy.dtype[float64]'>; name: float64; code: <f8; kind: f]\n",
            "column hepatic_failure dtype[class: <class 'numpy.dtype[float64]'>; name: float64; code: <f8; kind: f]\n",
            "column immunosuppression dtype[class: <class 'numpy.dtype[float64]'>; name: float64; code: <f8; kind: f]\n",
            "column leukemia dtype[class: <class 'numpy.dtype[float64]'>; name: float64; code: <f8; kind: f]\n",
            "column lymphoma dtype[class: <class 'numpy.dtype[float64]'>; name: float64; code: <f8; kind: f]\n",
            "column solid_tumor_with_metastasis dtype[class: <class 'numpy.dtype[float64]'>; name: float64; code: <f8; kind: f]\n",
            "column apache_3j_bodysystem dtype[class: <class 'numpy.dtype[object_]'>; name: object; code: |O; kind: O]\n",
            "column apache_2_bodysystem dtype[class: <class 'numpy.dtype[object_]'>; name: object; code: |O; kind: O]\n"
          ]
        }
      ]
    },
    {
      "cell_type": "code",
      "source": [
        "ICU_df.dtypes"
      ],
      "metadata": {
        "colab": {
          "base_uri": "https://localhost:8080/"
        },
        "id": "HpRdigzW6cPi",
        "outputId": "9f64b868-7edb-4a2e-80ef-4b02e6cec2fc"
      },
      "execution_count": null,
      "outputs": [
        {
          "output_type": "execute_result",
          "data": {
            "text/plain": [
              "patient_id                       int64\n",
              "hospital_id                      int64\n",
              "hospital_death                   int64\n",
              "age                            float64\n",
              "bmi                            float64\n",
              "                                ...   \n",
              "lymphoma                       float64\n",
              "solid_tumor_with_metastasis    float64\n",
              "apache_3j_bodysystem           float64\n",
              "apache_2_bodysystem            float64\n",
              "hospital_admit_source          float64\n",
              "Length: 186, dtype: object"
            ]
          },
          "metadata": {},
          "execution_count": 99
        }
      ]
    },
    {
      "cell_type": "code",
      "source": [
        "# Standardize the features to have zero mean and unit variance\n",
        "sc = StandardScaler()\n",
        "X_train = sc.fit_transform(X_train)\n",
        "X_test = sc.transform(X_test)"
      ],
      "metadata": {
        "colab": {
          "base_uri": "https://localhost:8080/",
          "height": 374
        },
        "id": "bkFRvRSj29mu",
        "outputId": "c496be76-e024-4c97-d365-64a52500dd73"
      },
      "execution_count": 66,
      "outputs": [
        {
          "output_type": "error",
          "ename": "ValueError",
          "evalue": "ignored",
          "traceback": [
            "\u001b[0;31m---------------------------------------------------------------------------\u001b[0m",
            "\u001b[0;31mValueError\u001b[0m                                Traceback (most recent call last)",
            "\u001b[0;32m<ipython-input-66-20e7f91c7c84>\u001b[0m in \u001b[0;36m<cell line: 3>\u001b[0;34m()\u001b[0m\n\u001b[1;32m      1\u001b[0m \u001b[0;31m# Standardize the features to have zero mean and unit variance\u001b[0m\u001b[0;34m\u001b[0m\u001b[0;34m\u001b[0m\u001b[0m\n\u001b[1;32m      2\u001b[0m \u001b[0msc\u001b[0m \u001b[0;34m=\u001b[0m \u001b[0mStandardScaler\u001b[0m\u001b[0;34m(\u001b[0m\u001b[0;34m)\u001b[0m\u001b[0;34m\u001b[0m\u001b[0;34m\u001b[0m\u001b[0m\n\u001b[0;32m----> 3\u001b[0;31m \u001b[0mX_train\u001b[0m \u001b[0;34m=\u001b[0m \u001b[0msc\u001b[0m\u001b[0;34m.\u001b[0m\u001b[0mfit_transform\u001b[0m\u001b[0;34m(\u001b[0m\u001b[0mX_train\u001b[0m\u001b[0;34m)\u001b[0m\u001b[0;34m\u001b[0m\u001b[0;34m\u001b[0m\u001b[0m\n\u001b[0m\u001b[1;32m      4\u001b[0m \u001b[0mX_test\u001b[0m \u001b[0;34m=\u001b[0m \u001b[0msc\u001b[0m\u001b[0;34m.\u001b[0m\u001b[0mtransform\u001b[0m\u001b[0;34m(\u001b[0m\u001b[0mX_test\u001b[0m\u001b[0;34m)\u001b[0m\u001b[0;34m\u001b[0m\u001b[0;34m\u001b[0m\u001b[0m\n",
            "\u001b[0;32m/usr/local/lib/python3.10/dist-packages/sklearn/utils/_set_output.py\u001b[0m in \u001b[0;36mwrapped\u001b[0;34m(self, X, *args, **kwargs)\u001b[0m\n\u001b[1;32m    138\u001b[0m     \u001b[0;34m@\u001b[0m\u001b[0mwraps\u001b[0m\u001b[0;34m(\u001b[0m\u001b[0mf\u001b[0m\u001b[0;34m)\u001b[0m\u001b[0;34m\u001b[0m\u001b[0;34m\u001b[0m\u001b[0m\n\u001b[1;32m    139\u001b[0m     \u001b[0;32mdef\u001b[0m \u001b[0mwrapped\u001b[0m\u001b[0;34m(\u001b[0m\u001b[0mself\u001b[0m\u001b[0;34m,\u001b[0m \u001b[0mX\u001b[0m\u001b[0;34m,\u001b[0m \u001b[0;34m*\u001b[0m\u001b[0margs\u001b[0m\u001b[0;34m,\u001b[0m \u001b[0;34m**\u001b[0m\u001b[0mkwargs\u001b[0m\u001b[0;34m)\u001b[0m\u001b[0;34m:\u001b[0m\u001b[0;34m\u001b[0m\u001b[0;34m\u001b[0m\u001b[0m\n\u001b[0;32m--> 140\u001b[0;31m         \u001b[0mdata_to_wrap\u001b[0m \u001b[0;34m=\u001b[0m \u001b[0mf\u001b[0m\u001b[0;34m(\u001b[0m\u001b[0mself\u001b[0m\u001b[0;34m,\u001b[0m \u001b[0mX\u001b[0m\u001b[0;34m,\u001b[0m \u001b[0;34m*\u001b[0m\u001b[0margs\u001b[0m\u001b[0;34m,\u001b[0m \u001b[0;34m**\u001b[0m\u001b[0mkwargs\u001b[0m\u001b[0;34m)\u001b[0m\u001b[0;34m\u001b[0m\u001b[0;34m\u001b[0m\u001b[0m\n\u001b[0m\u001b[1;32m    141\u001b[0m         \u001b[0;32mif\u001b[0m \u001b[0misinstance\u001b[0m\u001b[0;34m(\u001b[0m\u001b[0mdata_to_wrap\u001b[0m\u001b[0;34m,\u001b[0m \u001b[0mtuple\u001b[0m\u001b[0;34m)\u001b[0m\u001b[0;34m:\u001b[0m\u001b[0;34m\u001b[0m\u001b[0;34m\u001b[0m\u001b[0m\n\u001b[1;32m    142\u001b[0m             \u001b[0;31m# only wrap the first output for cross decomposition\u001b[0m\u001b[0;34m\u001b[0m\u001b[0;34m\u001b[0m\u001b[0m\n",
            "\u001b[0;32m/usr/local/lib/python3.10/dist-packages/sklearn/base.py\u001b[0m in \u001b[0;36mfit_transform\u001b[0;34m(self, X, y, **fit_params)\u001b[0m\n\u001b[1;32m    876\u001b[0m         \u001b[0;32mif\u001b[0m \u001b[0my\u001b[0m \u001b[0;32mis\u001b[0m \u001b[0;32mNone\u001b[0m\u001b[0;34m:\u001b[0m\u001b[0;34m\u001b[0m\u001b[0;34m\u001b[0m\u001b[0m\n\u001b[1;32m    877\u001b[0m             \u001b[0;31m# fit method of arity 1 (unsupervised transformation)\u001b[0m\u001b[0;34m\u001b[0m\u001b[0;34m\u001b[0m\u001b[0m\n\u001b[0;32m--> 878\u001b[0;31m             \u001b[0;32mreturn\u001b[0m \u001b[0mself\u001b[0m\u001b[0;34m.\u001b[0m\u001b[0mfit\u001b[0m\u001b[0;34m(\u001b[0m\u001b[0mX\u001b[0m\u001b[0;34m,\u001b[0m \u001b[0;34m**\u001b[0m\u001b[0mfit_params\u001b[0m\u001b[0;34m)\u001b[0m\u001b[0;34m.\u001b[0m\u001b[0mtransform\u001b[0m\u001b[0;34m(\u001b[0m\u001b[0mX\u001b[0m\u001b[0;34m)\u001b[0m\u001b[0;34m\u001b[0m\u001b[0;34m\u001b[0m\u001b[0m\n\u001b[0m\u001b[1;32m    879\u001b[0m         \u001b[0;32melse\u001b[0m\u001b[0;34m:\u001b[0m\u001b[0;34m\u001b[0m\u001b[0;34m\u001b[0m\u001b[0m\n\u001b[1;32m    880\u001b[0m             \u001b[0;31m# fit method of arity 2 (supervised transformation)\u001b[0m\u001b[0;34m\u001b[0m\u001b[0;34m\u001b[0m\u001b[0m\n",
            "\u001b[0;32m/usr/local/lib/python3.10/dist-packages/sklearn/preprocessing/_data.py\u001b[0m in \u001b[0;36mfit\u001b[0;34m(self, X, y, sample_weight)\u001b[0m\n\u001b[1;32m    822\u001b[0m         \u001b[0;31m# Reset internal state before fitting\u001b[0m\u001b[0;34m\u001b[0m\u001b[0;34m\u001b[0m\u001b[0m\n\u001b[1;32m    823\u001b[0m         \u001b[0mself\u001b[0m\u001b[0;34m.\u001b[0m\u001b[0m_reset\u001b[0m\u001b[0;34m(\u001b[0m\u001b[0;34m)\u001b[0m\u001b[0;34m\u001b[0m\u001b[0;34m\u001b[0m\u001b[0m\n\u001b[0;32m--> 824\u001b[0;31m         \u001b[0;32mreturn\u001b[0m \u001b[0mself\u001b[0m\u001b[0;34m.\u001b[0m\u001b[0mpartial_fit\u001b[0m\u001b[0;34m(\u001b[0m\u001b[0mX\u001b[0m\u001b[0;34m,\u001b[0m \u001b[0my\u001b[0m\u001b[0;34m,\u001b[0m \u001b[0msample_weight\u001b[0m\u001b[0;34m)\u001b[0m\u001b[0;34m\u001b[0m\u001b[0;34m\u001b[0m\u001b[0m\n\u001b[0m\u001b[1;32m    825\u001b[0m \u001b[0;34m\u001b[0m\u001b[0m\n\u001b[1;32m    826\u001b[0m     \u001b[0;32mdef\u001b[0m \u001b[0mpartial_fit\u001b[0m\u001b[0;34m(\u001b[0m\u001b[0mself\u001b[0m\u001b[0;34m,\u001b[0m \u001b[0mX\u001b[0m\u001b[0;34m,\u001b[0m \u001b[0my\u001b[0m\u001b[0;34m=\u001b[0m\u001b[0;32mNone\u001b[0m\u001b[0;34m,\u001b[0m \u001b[0msample_weight\u001b[0m\u001b[0;34m=\u001b[0m\u001b[0;32mNone\u001b[0m\u001b[0;34m)\u001b[0m\u001b[0;34m:\u001b[0m\u001b[0;34m\u001b[0m\u001b[0;34m\u001b[0m\u001b[0m\n",
            "\u001b[0;32m/usr/local/lib/python3.10/dist-packages/sklearn/preprocessing/_data.py\u001b[0m in \u001b[0;36mpartial_fit\u001b[0;34m(self, X, y, sample_weight)\u001b[0m\n\u001b[1;32m    859\u001b[0m \u001b[0;34m\u001b[0m\u001b[0m\n\u001b[1;32m    860\u001b[0m         \u001b[0mfirst_call\u001b[0m \u001b[0;34m=\u001b[0m \u001b[0;32mnot\u001b[0m \u001b[0mhasattr\u001b[0m\u001b[0;34m(\u001b[0m\u001b[0mself\u001b[0m\u001b[0;34m,\u001b[0m \u001b[0;34m\"n_samples_seen_\"\u001b[0m\u001b[0;34m)\u001b[0m\u001b[0;34m\u001b[0m\u001b[0;34m\u001b[0m\u001b[0m\n\u001b[0;32m--> 861\u001b[0;31m         X = self._validate_data(\n\u001b[0m\u001b[1;32m    862\u001b[0m             \u001b[0mX\u001b[0m\u001b[0;34m,\u001b[0m\u001b[0;34m\u001b[0m\u001b[0;34m\u001b[0m\u001b[0m\n\u001b[1;32m    863\u001b[0m             \u001b[0maccept_sparse\u001b[0m\u001b[0;34m=\u001b[0m\u001b[0;34m(\u001b[0m\u001b[0;34m\"csr\"\u001b[0m\u001b[0;34m,\u001b[0m \u001b[0;34m\"csc\"\u001b[0m\u001b[0;34m)\u001b[0m\u001b[0;34m,\u001b[0m\u001b[0;34m\u001b[0m\u001b[0;34m\u001b[0m\u001b[0m\n",
            "\u001b[0;32m/usr/local/lib/python3.10/dist-packages/sklearn/base.py\u001b[0m in \u001b[0;36m_validate_data\u001b[0;34m(self, X, y, reset, validate_separately, **check_params)\u001b[0m\n\u001b[1;32m    563\u001b[0m             \u001b[0;32mraise\u001b[0m \u001b[0mValueError\u001b[0m\u001b[0;34m(\u001b[0m\u001b[0;34m\"Validation should be done on X, y or both.\"\u001b[0m\u001b[0;34m)\u001b[0m\u001b[0;34m\u001b[0m\u001b[0;34m\u001b[0m\u001b[0m\n\u001b[1;32m    564\u001b[0m         \u001b[0;32melif\u001b[0m \u001b[0;32mnot\u001b[0m \u001b[0mno_val_X\u001b[0m \u001b[0;32mand\u001b[0m \u001b[0mno_val_y\u001b[0m\u001b[0;34m:\u001b[0m\u001b[0;34m\u001b[0m\u001b[0;34m\u001b[0m\u001b[0m\n\u001b[0;32m--> 565\u001b[0;31m             \u001b[0mX\u001b[0m \u001b[0;34m=\u001b[0m \u001b[0mcheck_array\u001b[0m\u001b[0;34m(\u001b[0m\u001b[0mX\u001b[0m\u001b[0;34m,\u001b[0m \u001b[0minput_name\u001b[0m\u001b[0;34m=\u001b[0m\u001b[0;34m\"X\"\u001b[0m\u001b[0;34m,\u001b[0m \u001b[0;34m**\u001b[0m\u001b[0mcheck_params\u001b[0m\u001b[0;34m)\u001b[0m\u001b[0;34m\u001b[0m\u001b[0;34m\u001b[0m\u001b[0m\n\u001b[0m\u001b[1;32m    566\u001b[0m             \u001b[0mout\u001b[0m \u001b[0;34m=\u001b[0m \u001b[0mX\u001b[0m\u001b[0;34m\u001b[0m\u001b[0;34m\u001b[0m\u001b[0m\n\u001b[1;32m    567\u001b[0m         \u001b[0;32melif\u001b[0m \u001b[0mno_val_X\u001b[0m \u001b[0;32mand\u001b[0m \u001b[0;32mnot\u001b[0m \u001b[0mno_val_y\u001b[0m\u001b[0;34m:\u001b[0m\u001b[0;34m\u001b[0m\u001b[0;34m\u001b[0m\u001b[0m\n",
            "\u001b[0;32m/usr/local/lib/python3.10/dist-packages/sklearn/utils/validation.py\u001b[0m in \u001b[0;36mcheck_array\u001b[0;34m(array, accept_sparse, accept_large_sparse, dtype, order, copy, force_all_finite, ensure_2d, allow_nd, ensure_min_samples, ensure_min_features, estimator, input_name)\u001b[0m\n\u001b[1;32m    877\u001b[0m                     \u001b[0marray\u001b[0m \u001b[0;34m=\u001b[0m \u001b[0mxp\u001b[0m\u001b[0;34m.\u001b[0m\u001b[0mastype\u001b[0m\u001b[0;34m(\u001b[0m\u001b[0marray\u001b[0m\u001b[0;34m,\u001b[0m \u001b[0mdtype\u001b[0m\u001b[0;34m,\u001b[0m \u001b[0mcopy\u001b[0m\u001b[0;34m=\u001b[0m\u001b[0;32mFalse\u001b[0m\u001b[0;34m)\u001b[0m\u001b[0;34m\u001b[0m\u001b[0;34m\u001b[0m\u001b[0m\n\u001b[1;32m    878\u001b[0m                 \u001b[0;32melse\u001b[0m\u001b[0;34m:\u001b[0m\u001b[0;34m\u001b[0m\u001b[0;34m\u001b[0m\u001b[0m\n\u001b[0;32m--> 879\u001b[0;31m                     \u001b[0marray\u001b[0m \u001b[0;34m=\u001b[0m \u001b[0m_asarray_with_order\u001b[0m\u001b[0;34m(\u001b[0m\u001b[0marray\u001b[0m\u001b[0;34m,\u001b[0m \u001b[0morder\u001b[0m\u001b[0;34m=\u001b[0m\u001b[0morder\u001b[0m\u001b[0;34m,\u001b[0m \u001b[0mdtype\u001b[0m\u001b[0;34m=\u001b[0m\u001b[0mdtype\u001b[0m\u001b[0;34m,\u001b[0m \u001b[0mxp\u001b[0m\u001b[0;34m=\u001b[0m\u001b[0mxp\u001b[0m\u001b[0;34m)\u001b[0m\u001b[0;34m\u001b[0m\u001b[0;34m\u001b[0m\u001b[0m\n\u001b[0m\u001b[1;32m    880\u001b[0m             \u001b[0;32mexcept\u001b[0m \u001b[0mComplexWarning\u001b[0m \u001b[0;32mas\u001b[0m \u001b[0mcomplex_warning\u001b[0m\u001b[0;34m:\u001b[0m\u001b[0;34m\u001b[0m\u001b[0;34m\u001b[0m\u001b[0m\n\u001b[1;32m    881\u001b[0m                 raise ValueError(\n",
            "\u001b[0;32m/usr/local/lib/python3.10/dist-packages/sklearn/utils/_array_api.py\u001b[0m in \u001b[0;36m_asarray_with_order\u001b[0;34m(array, dtype, order, copy, xp)\u001b[0m\n\u001b[1;32m    183\u001b[0m     \u001b[0;32mif\u001b[0m \u001b[0mxp\u001b[0m\u001b[0;34m.\u001b[0m\u001b[0m__name__\u001b[0m \u001b[0;32min\u001b[0m \u001b[0;34m{\u001b[0m\u001b[0;34m\"numpy\"\u001b[0m\u001b[0;34m,\u001b[0m \u001b[0;34m\"numpy.array_api\"\u001b[0m\u001b[0;34m}\u001b[0m\u001b[0;34m:\u001b[0m\u001b[0;34m\u001b[0m\u001b[0;34m\u001b[0m\u001b[0m\n\u001b[1;32m    184\u001b[0m         \u001b[0;31m# Use NumPy API to support order\u001b[0m\u001b[0;34m\u001b[0m\u001b[0;34m\u001b[0m\u001b[0m\n\u001b[0;32m--> 185\u001b[0;31m         \u001b[0marray\u001b[0m \u001b[0;34m=\u001b[0m \u001b[0mnumpy\u001b[0m\u001b[0;34m.\u001b[0m\u001b[0masarray\u001b[0m\u001b[0;34m(\u001b[0m\u001b[0marray\u001b[0m\u001b[0;34m,\u001b[0m \u001b[0morder\u001b[0m\u001b[0;34m=\u001b[0m\u001b[0morder\u001b[0m\u001b[0;34m,\u001b[0m \u001b[0mdtype\u001b[0m\u001b[0;34m=\u001b[0m\u001b[0mdtype\u001b[0m\u001b[0;34m)\u001b[0m\u001b[0;34m\u001b[0m\u001b[0;34m\u001b[0m\u001b[0m\n\u001b[0m\u001b[1;32m    186\u001b[0m         \u001b[0;32mreturn\u001b[0m \u001b[0mxp\u001b[0m\u001b[0;34m.\u001b[0m\u001b[0masarray\u001b[0m\u001b[0;34m(\u001b[0m\u001b[0marray\u001b[0m\u001b[0;34m,\u001b[0m \u001b[0mcopy\u001b[0m\u001b[0;34m=\u001b[0m\u001b[0mcopy\u001b[0m\u001b[0;34m)\u001b[0m\u001b[0;34m\u001b[0m\u001b[0;34m\u001b[0m\u001b[0m\n\u001b[1;32m    187\u001b[0m     \u001b[0;32melse\u001b[0m\u001b[0;34m:\u001b[0m\u001b[0;34m\u001b[0m\u001b[0;34m\u001b[0m\u001b[0m\n",
            "\u001b[0;31mValueError\u001b[0m: could not convert string to float: 'Operating Room'"
          ]
        }
      ]
    },
    {
      "cell_type": "code",
      "source": [
        "# Define the number of neurons in the first and second hidden layers\n",
        "hidden_units_layer_1 = 5\n",
        "hidden_units_layer_2 = 5\n",
        "\n",
        "# FIRST LAYER: Define weights and biases for the first layer\n",
        "W1 = t.randn((12, hidden_units_layer_1), requires_grad=True)\n",
        "B1 = t.zeros((1, hidden_units_layer_1), requires_grad=True)\n",
        "\n",
        "# SECOND LAYER: Define weights and biases for the second layer\n",
        "W2 = t.randn((hidden_units_layer_1, hidden_units_layer_2), requires_grad=True)\n",
        "B2 = t.zeros((1, hidden_units_layer_2), requires_grad=True)\n",
        "\n",
        "# THIRD LAYER: Define weights and biases for the output layer\n",
        "W3 = t.randn((hidden_units_layer_2, 1), requires_grad=True)\n",
        "B3 = t.zeros((1, 1), requires_grad=True)"
      ],
      "metadata": {
        "id": "ep3t45zm8zmA"
      },
      "execution_count": null,
      "outputs": []
    },
    {
      "cell_type": "code",
      "source": [
        "# Define the forward pass of the neural network\n",
        "def forward(input):\n",
        "    # First hidden layer with tanh activation\n",
        "    out = tanh(input @ W1 + B1)\n",
        "\n",
        "    # Second hidden layer with tanh activation\n",
        "    out = tanh(out @ W2 + B2)\n",
        "\n",
        "    # Output layer with sigmoid activation (since it's a binary classification problem)\n",
        "    out = sigmoid(out @ W3 + B3)\n",
        "    return out\n"
      ],
      "metadata": {
        "id": "BFvrzPZM817R"
      },
      "execution_count": null,
      "outputs": []
    },
    {
      "cell_type": "code",
      "source": [
        "# Convert the training data to PyTorch tensors\n",
        "X = t.Tensor(X_train).type(t.float32)\n",
        "Y = t.Tensor(Y_train).type(t.float32)\n",
        "\n",
        "# Create a dataset from tensors to be used with DataLoader\n",
        "train_dataset = TensorDataset(X, Y)\n",
        "\n",
        "# Define training hyperparameters\n",
        "epochs = 2000\n",
        "learning_rate = 0.01\n",
        "batch_size = 32\n",
        "\n",
        "# DataLoader provides batches of data for training\n",
        "train_data_loader = DataLoader(train_dataset, batch_size=batch_size, shuffle=True)\n",
        "\n",
        "# Define the optimizer (Adam) and include all weights and biases\n",
        "optimizer = Adam([W1, B1, W2, B2, W3, B3], lr=learning_rate)\n",
        "\n",
        "# Define the loss function (Binary Cross-Entropy Loss)\n",
        "loss_fn = t.nn.BCELoss()"
      ],
      "metadata": {
        "id": "ZhgydaSh86ZA"
      },
      "execution_count": null,
      "outputs": []
    },
    {
      "cell_type": "code",
      "source": [
        "train_loss_list = []\n",
        "\n",
        "# Train the model for a specified number of epochs\n",
        "for epoch in range(epochs):\n",
        "    # Reduce the learning rate every 500 epochs\n",
        "    if epoch % 500 == 0:\n",
        "        learning_rate *= .9\n",
        "\n",
        "    per_epoch_loss_list = []\n",
        "\n",
        "    # Iterate over all batches of data\n",
        "    for batch_idx, (X, Y) in enumerate(train_data_loader):\n",
        "        # Forward pass: Compute predictions\n",
        "        probs = forward(X)\n",
        "\n",
        "        # Compute the loss\n",
        "        loss = loss_fn(probs.view(-1), Y)\n",
        "\n",
        "        # Backward pass: Compute gradient and update weights\n",
        "        optimizer.zero_grad()\n",
        "        loss.backward()\n",
        "        optimizer.step()\n",
        "\n",
        "        # Record the loss for this batch\n",
        "        per_epoch_loss_list.append(loss.item())\n",
        "\n",
        "    # Record the average loss for this epoch\n",
        "    train_loss_list.append(sum(per_epoch_loss_list) / len(per_epoch_loss_list))"
      ],
      "metadata": {
        "id": "dMmQ6ojf8_7m"
      },
      "execution_count": null,
      "outputs": []
    },
    {
      "cell_type": "code",
      "source": [
        "# Plot the training loss over epochs\n",
        "plt.plot([i for i in range(len(train_loss_list))], train_loss_list)\n",
        "plt.xlabel('epochs')\n",
        "plt.ylabel('loss')"
      ],
      "metadata": {
        "id": "CymuGs5R9CJ3"
      },
      "execution_count": null,
      "outputs": []
    },
    {
      "cell_type": "code",
      "source": [
        "# Evaluate Model Performance on Validation Data\n",
        "\n",
        "# Disable gradient calculations for evaluation using t.no_grad()\n",
        "with t.no_grad():\n",
        "    # Prepare the validation data\n",
        "    X = t.Tensor(X_test).type(t.float32)  # Convert validation features to a PyTorch tensor\n",
        "    Y = t.Tensor(Y_test).type(t.float32)  # Convert validation labels to a PyTorch tensor\n",
        "\n",
        "    # Calculate predictions on the validation data\n",
        "    probs = forward(X)  # Pass validation data through the trained model\n",
        "    loss = loss_fn(probs.view(-1), Y)  # Compute the loss between predictions and actual labels\n",
        "\n",
        "    # Print the validation loss\n",
        "    print(loss.item())\n",
        "\n",
        "    # Now, evaluate the model on the training data\n",
        "    X = t.Tensor(X_train).type(t.float32)  # Convert training features to a PyTorch tensor\n",
        "    Y = t.Tensor(Y_train).type(t.float32)  # Convert training labels to a PyTorch tensor\n",
        "\n",
        "    # Calculate predictions on the training data\n",
        "    probs = forward(X)  # Pass training data through the trained model\n",
        "    loss = loss_fn(probs.view(-1), Y)  # Compute the loss between predictions and actual labels\n",
        "\n",
        "    # Print the training loss\n",
        "    print(loss.item())"
      ],
      "metadata": {
        "id": "ZwFAwLEb9EUS"
      },
      "execution_count": null,
      "outputs": []
    },
    {
      "cell_type": "code",
      "source": [
        "# Evaluate Model Performance on Validation Data\n",
        "\n",
        "# Disable gradient calculations for evaluation using t.no_grad()\n",
        "with t.no_grad():\n",
        "    # Prepare the validation data\n",
        "    X = t.Tensor(X_test).type(t.float32)  # Convert validation features to a PyTorch tensor\n",
        "    Y = t.Tensor(Y_test).type(t.float32)  # Convert validation labels to a PyTorch tensor\n",
        "\n",
        "    # Calculate predictions on the validation data\n",
        "    probs = forward(X)  # Pass validation data through the trained model\n",
        "    loss = loss_fn(probs.view(-1), Y)  # Compute the loss between predictions and actual labels\n",
        "\n",
        "    # Print the validation loss\n",
        "    print(loss.item())\n",
        "\n",
        "    # Now, evaluate the model on the training data\n",
        "    X = t.Tensor(X_train).type(t.float32)  # Convert training features to a PyTorch tensor\n",
        "    Y = t.Tensor(Y_train).type(t.float32)  # Convert training labels to a PyTorch tensor\n",
        "\n",
        "    # Calculate predictions on the training data\n",
        "    probs = forward(X)  # Pass training data through the trained model\n",
        "    loss = loss_fn(probs.view(-1), Y)  # Compute the loss between predictions and actual labels\n",
        "\n",
        "    # Print the training loss\n",
        "    print(loss.item())"
      ],
      "metadata": {
        "id": "-G5gXsmD9ItS"
      },
      "execution_count": null,
      "outputs": []
    },
    {
      "cell_type": "code",
      "source": [
        "number_of_input_features = 12  # Number of input features in the dataset\n",
        "\n",
        "# Reduced number of hidden units to 5 and just using 1 hidden layer\n",
        "number_of_hidden_units = 5  # Number of hidden units in the neural network\n",
        "epochs = 1000  # Number of training epochs\n",
        "learning_rate = 0.01  # Learning rate for the optimizer\n",
        "batch_size = 32  # Number of samples in each training batch\n",
        "dropout_probablity = 0.6  # Probability of dropping out a neuron in dropout layer\n",
        "\n",
        "# Convert training and testing data to PyTorch tensors\n",
        "X_train_tensor = t.Tensor(X_train).type(t.float32)\n",
        "Y_train_tensor = t.Tensor(Y_train).type(t.float32)\n",
        "X_test_tensor = t.Tensor(X_test).type(t.float32)\n",
        "Y_test_tensor = t.Tensor(Y_test).type(t.float32)\n",
        "\n",
        "# Create a training dataset and data loader\n",
        "train_dataset = TensorDataset(X_train_tensor, Y_train_tensor)\n",
        "train_data_loader = DataLoader(train_dataset, batch_size=batch_size, shuffle=True)\n",
        "\n",
        "# Define the neural network model\n",
        "model = Sequential(\n",
        "    Linear(number_of_input_features, number_of_hidden_units),  # Linear layer for matrix multiplication and bias addition\n",
        "    Tanh(),  # Add Tanh activation function\n",
        "    Dropout(dropout_probablity),  # Dropout layer to prevent overfitting\n",
        "    Linear(number_of_hidden_units, 1),  # Another linear layer\n",
        "    Sigmoid()  # Sigmoid activation for probability output\n",
        ")\n",
        "\n",
        "# Define the optimizer\n",
        "optimizer = Adam(model.parameters(), lr=learning_rate)\n",
        "\n",
        "# Define the loss function as Binary Cross-Entropy Loss\n",
        "loss_fn = t.nn.BCELoss()\n",
        "\n",
        "train_accuracy_list = []  # List to store training accuracy\n",
        "validation_accuracy_list = []  # List to store validation accuracy\n",
        "\n",
        "# Training loop\n",
        "for epoch in range(epochs):\n",
        "    if epoch % 500 == 0:\n",
        "        learning_rate *= 0.9  # Learning rate scheduling\n",
        "\n",
        "    per_epoch_loss_list = []  # List to store losses for each epoch\n",
        "\n",
        "    for batch_idx, (X, Y) in enumerate(train_data_loader):\n",
        "        # Forward pass: Compute predictions\n",
        "        probs = model(X)\n",
        "\n",
        "        # Calculate the loss\n",
        "        loss = loss_fn(probs.view(-1), Y)\n",
        "        per_epoch_loss_list.append(loss.item())\n",
        "\n",
        "        # Backward pass: Compute gradients and update weights\n",
        "        optimizer.zero_grad()\n",
        "        loss.backward()\n",
        "        optimizer.step()\n",
        "\n",
        "    # Evaluate the model on training and validation data\n",
        "    with t.no_grad():\n",
        "        # Set the model in eval mode; some layers use this for certain calculations during training\n",
        "        model.eval()\n",
        "\n",
        "        # Calculate accuracy on train data\n",
        "        probs = model(X_train_tensor)\n",
        "        prediction = (probs >= 0.5).type(t.LongTensor).view(-1)\n",
        "        train_accuracy = (prediction == Y_train_tensor).type(t.float32).mean().item()\n",
        "\n",
        "        # Calculate accuracy on validation data\n",
        "        probs = model(X_test_tensor)\n",
        "        prediction = (probs >= 0.5).type(t.LongTensor).view(-1)\n",
        "        validation_accuracy = (prediction == Y_test_tensor).type(t.float32).mean().item()\n",
        "\n",
        "        print(f'epoch {epoch}/{epochs} ---> train_accuracy: {train_accuracy}, validation_accuracy: {validation_accuracy}')\n",
        "\n",
        "        # Set the model back to train mode\n",
        "        model.train()\n",
        "\n",
        "        # Append accuracy values to lists\n",
        "        train_accuracy_list.append(train_accuracy)\n",
        "        validation_accuracy_list.append(validation_accuracy)"
      ],
      "metadata": {
        "id": "t0KgkNl79NIh"
      },
      "execution_count": null,
      "outputs": []
    },
    {
      "cell_type": "code",
      "source": [
        "# Importing necessary libraries\n",
        "import torch as t\n",
        "from torch.utils.data import TensorDataset, DataLoader\n",
        "from torch.nn import Sequential, Linear, Tanh, Sigmoid\n",
        "from torch.optim import Adam\n",
        "from torch.nn import BCELoss\n",
        "import matplotlib.pyplot as plt\n",
        "\n",
        "# Defining the parameters\n",
        "number_of_input_features = 12\n",
        "number_of_hidden_units = 5\n",
        "epochs = 1000\n",
        "learning_rate = 0.01\n",
        "batch_size = 32\n",
        "\n",
        "# Loading and preprocessing the data\n",
        "X_train_tensor = t.Tensor(X_train).type(t.float32)\n",
        "Y_train_tensor = t.Tensor(Y_train).type(t.float32)\n",
        "\n",
        "X_test_tensor = t.Tensor(X_test).type(t.float32)\n",
        "Y_test_tensor = t.Tensor(Y_test).type(t.float32)\n",
        "\n",
        "train_dataset = TensorDataset(X_train_tensor, Y_train_tensor)\n",
        "train_data_loader = DataLoader(train_dataset, batch_size=batch_size, shuffle=True)\n",
        "\n",
        "# Creating a neural network model\n",
        "model = Sequential(\n",
        "    Linear(number_of_input_features, number_of_hidden_units),\n",
        "    Tanh(),\n",
        "    Linear(number_of_hidden_units, 1),\n",
        "    Sigmoid()\n",
        ")\n",
        "\n",
        "# Setting up the optimizer and loss function\n",
        "optimizer = Adam(model.parameters(), lr=learning_rate)\n",
        "loss_fn = BCELoss()\n",
        "\n",
        "# Lists to store accuracy values during training\n",
        "train_accuracy_list = []\n",
        "validation_accuracy_list = []\n",
        "\n",
        "# Main training loop\n",
        "for epoch in range(epochs):\n",
        "    # Learning rate scheduling (optional)\n",
        "    if epoch % 500 == 0:\n",
        "        learning_rate *= .9\n",
        "\n",
        "    per_epoch_loss_list = []\n",
        "\n",
        "    for batch_idx, (X, Y) in enumerate(train_data_loader):\n",
        "        probs = model(X)\n",
        "\n",
        "        # new loss is the old loss + regularization term\n",
        "        loss = loss_fn(probs.view(-1), Y)\n",
        "\n",
        "        per_epoch_loss_list.append(loss.item())\n",
        "\n",
        "        optimizer.zero_grad()\n",
        "        loss.backward()\n",
        "        optimizer.step()\n",
        "\n",
        "    with t.no_grad():\n",
        "        # Calculate accuracy on train data\n",
        "        model.eval()\n",
        "        probs = model(X_train_tensor)\n",
        "        prediction = (probs >= .5).type(t.LongTensor).view(-1)\n",
        "\n",
        "        train_accuracy = (prediction == Y_train_tensor).type(t.float32).mean().item()\n",
        "\n",
        "        # Calculate accuracy on validation data\n",
        "        probs = model(X_test_tensor)\n",
        "        prediction = (probs > .5).type(t.LongTensor).view(-1)\n",
        "\n",
        "        validation_accuracy = (prediction == Y_test_tensor).type(t.float32).mean().item()\n",
        "\n",
        "        print(f'epoch {epoch}/{epochs} ---> train_accuracy : {train_accuracy} , validation_accuracy : {validation_accuracy}')\n",
        "        model.train()\n",
        "        train_accuracy_list.append(train_accuracy)\n",
        "        validation_accuracy_list.append(validation_accuracy)"
      ],
      "metadata": {
        "id": "Qgrg4Ehs9ST6"
      },
      "execution_count": null,
      "outputs": []
    },
    {
      "cell_type": "code",
      "source": [
        "# Plotting the training and validation accuracy\n",
        "plt.plot([i for i in range(len(train_accuracy_list))], train_accuracy_list, label=\"train\")\n",
        "plt.plot([i for i in range(len(validation_accuracy_list))], validation_accuracy_list, label='validation')\n",
        "plt.legend(loc=\"upper left\")\n",
        "plt.xlabel('Epochs')\n",
        "plt.ylabel('Accuracy')"
      ],
      "metadata": {
        "id": "WfpKEtBs9USX"
      },
      "execution_count": null,
      "outputs": []
    }
  ]
}