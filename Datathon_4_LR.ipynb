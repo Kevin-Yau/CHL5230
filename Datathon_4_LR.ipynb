{
  "cells": [
    {
      "cell_type": "markdown",
      "metadata": {
        "id": "view-in-github",
        "colab_type": "text"
      },
      "source": [
        "<a href=\"https://colab.research.google.com/github/Kevin-Yau/CHL5230/blob/main/Datathon_4_LR.ipynb\" target=\"_parent\"><img src=\"https://colab.research.google.com/assets/colab-badge.svg\" alt=\"Open In Colab\"/></a>"
      ]
    },
    {
      "cell_type": "code",
      "execution_count": 46,
      "metadata": {
        "id": "Vaan5YWBsD6m"
      },
      "outputs": [],
      "source": [
        "import pandas as pd\n",
        "import numpy as np\n",
        "import matplotlib.pyplot as plt"
      ]
    },
    {
      "cell_type": "code",
      "execution_count": 47,
      "metadata": {
        "id": "-tfwyeFs7ncq"
      },
      "outputs": [],
      "source": [
        "import seaborn as sns\n",
        "import warnings\n",
        "\n",
        "warnings.filterwarnings('ignore')"
      ]
    },
    {
      "cell_type": "code",
      "execution_count": 48,
      "metadata": {
        "id": "L9nJymvq78Cq"
      },
      "outputs": [],
      "source": [
        "# Read the dataset into a Pandas DataFrame\n",
        "df = pd.read_csv('datathon4.csv')"
      ]
    },
    {
      "cell_type": "code",
      "execution_count": 49,
      "metadata": {
        "colab": {
          "base_uri": "https://localhost:8080/"
        },
        "id": "8lqCPg407reO",
        "outputId": "3b6f9839-b1d1-4877-87c4-67c2425acd02"
      },
      "outputs": [
        {
          "output_type": "stream",
          "name": "stdout",
          "text": [
            "(91713, 186)\n",
            "Index(['encounter_id', 'patient_id', 'hospital_id', 'hospital_death', 'age',\n",
            "       'bmi', 'elective_surgery', 'ethnicity', 'gender', 'height',\n",
            "       ...\n",
            "       'aids', 'cirrhosis', 'diabetes_mellitus', 'hepatic_failure',\n",
            "       'immunosuppression', 'leukemia', 'lymphoma',\n",
            "       'solid_tumor_with_metastasis', 'apache_3j_bodysystem',\n",
            "       'apache_2_bodysystem'],\n",
            "      dtype='object', length=186)\n"
          ]
        }
      ],
      "source": [
        "# read dataset\n",
        "ICU_df = pd.read_csv('datathon4.csv')\n",
        "ICU_df.head()\n",
        "\n",
        "# check dimension of the dataset\n",
        "print(ICU_df.shape)\n",
        "\n",
        "# list the columns of the dataframe\n",
        "print(ICU_df.columns)"
      ]
    },
    {
      "cell_type": "code",
      "execution_count": 50,
      "metadata": {
        "colab": {
          "base_uri": "https://localhost:8080/",
          "height": 235
        },
        "id": "9XRdvZMx-EI8",
        "outputId": "b69f9d0f-05a6-4a55-9e7d-633682fbcf6e"
      },
      "outputs": [
        {
          "output_type": "execute_result",
          "data": {
            "text/plain": [
              "   encounter_id  patient_id  hospital_id  hospital_death   age    bmi  \\\n",
              "0         66154       25312          118               0  68.0  22.73   \n",
              "1        114252       59342           81               0  77.0  27.42   \n",
              "2        119783       50777          118               0  25.0  31.95   \n",
              "3         79267       46918          118               0  81.0  22.64   \n",
              "4         92056       34377           33               0  19.0    NaN   \n",
              "\n",
              "   elective_surgery  ethnicity gender  height  ... aids cirrhosis  \\\n",
              "0                 0  Caucasian      M   180.3  ...  0.0       0.0   \n",
              "1                 0  Caucasian      F   160.0  ...  0.0       0.0   \n",
              "2                 0  Caucasian      F   172.7  ...  0.0       0.0   \n",
              "3                 1  Caucasian      F   165.1  ...  0.0       0.0   \n",
              "4                 0  Caucasian      M   188.0  ...  0.0       0.0   \n",
              "\n",
              "   diabetes_mellitus hepatic_failure immunosuppression  leukemia  lymphoma  \\\n",
              "0                1.0             0.0               0.0       0.0       0.0   \n",
              "1                1.0             0.0               0.0       0.0       0.0   \n",
              "2                0.0             0.0               0.0       0.0       0.0   \n",
              "3                0.0             0.0               0.0       0.0       0.0   \n",
              "4                0.0             0.0               0.0       0.0       0.0   \n",
              "\n",
              "   solid_tumor_with_metastasis  apache_3j_bodysystem  apache_2_bodysystem  \n",
              "0                          0.0                Sepsis       Cardiovascular  \n",
              "1                          0.0           Respiratory          Respiratory  \n",
              "2                          0.0             Metabolic            Metabolic  \n",
              "3                          0.0        Cardiovascular       Cardiovascular  \n",
              "4                          0.0                Trauma               Trauma  \n",
              "\n",
              "[5 rows x 186 columns]"
            ],
            "text/html": [
              "\n",
              "  <div id=\"df-85d3173d-010d-4dec-bbcd-f5ab5cd86c75\" class=\"colab-df-container\">\n",
              "    <div>\n",
              "<style scoped>\n",
              "    .dataframe tbody tr th:only-of-type {\n",
              "        vertical-align: middle;\n",
              "    }\n",
              "\n",
              "    .dataframe tbody tr th {\n",
              "        vertical-align: top;\n",
              "    }\n",
              "\n",
              "    .dataframe thead th {\n",
              "        text-align: right;\n",
              "    }\n",
              "</style>\n",
              "<table border=\"1\" class=\"dataframe\">\n",
              "  <thead>\n",
              "    <tr style=\"text-align: right;\">\n",
              "      <th></th>\n",
              "      <th>encounter_id</th>\n",
              "      <th>patient_id</th>\n",
              "      <th>hospital_id</th>\n",
              "      <th>hospital_death</th>\n",
              "      <th>age</th>\n",
              "      <th>bmi</th>\n",
              "      <th>elective_surgery</th>\n",
              "      <th>ethnicity</th>\n",
              "      <th>gender</th>\n",
              "      <th>height</th>\n",
              "      <th>...</th>\n",
              "      <th>aids</th>\n",
              "      <th>cirrhosis</th>\n",
              "      <th>diabetes_mellitus</th>\n",
              "      <th>hepatic_failure</th>\n",
              "      <th>immunosuppression</th>\n",
              "      <th>leukemia</th>\n",
              "      <th>lymphoma</th>\n",
              "      <th>solid_tumor_with_metastasis</th>\n",
              "      <th>apache_3j_bodysystem</th>\n",
              "      <th>apache_2_bodysystem</th>\n",
              "    </tr>\n",
              "  </thead>\n",
              "  <tbody>\n",
              "    <tr>\n",
              "      <th>0</th>\n",
              "      <td>66154</td>\n",
              "      <td>25312</td>\n",
              "      <td>118</td>\n",
              "      <td>0</td>\n",
              "      <td>68.0</td>\n",
              "      <td>22.73</td>\n",
              "      <td>0</td>\n",
              "      <td>Caucasian</td>\n",
              "      <td>M</td>\n",
              "      <td>180.3</td>\n",
              "      <td>...</td>\n",
              "      <td>0.0</td>\n",
              "      <td>0.0</td>\n",
              "      <td>1.0</td>\n",
              "      <td>0.0</td>\n",
              "      <td>0.0</td>\n",
              "      <td>0.0</td>\n",
              "      <td>0.0</td>\n",
              "      <td>0.0</td>\n",
              "      <td>Sepsis</td>\n",
              "      <td>Cardiovascular</td>\n",
              "    </tr>\n",
              "    <tr>\n",
              "      <th>1</th>\n",
              "      <td>114252</td>\n",
              "      <td>59342</td>\n",
              "      <td>81</td>\n",
              "      <td>0</td>\n",
              "      <td>77.0</td>\n",
              "      <td>27.42</td>\n",
              "      <td>0</td>\n",
              "      <td>Caucasian</td>\n",
              "      <td>F</td>\n",
              "      <td>160.0</td>\n",
              "      <td>...</td>\n",
              "      <td>0.0</td>\n",
              "      <td>0.0</td>\n",
              "      <td>1.0</td>\n",
              "      <td>0.0</td>\n",
              "      <td>0.0</td>\n",
              "      <td>0.0</td>\n",
              "      <td>0.0</td>\n",
              "      <td>0.0</td>\n",
              "      <td>Respiratory</td>\n",
              "      <td>Respiratory</td>\n",
              "    </tr>\n",
              "    <tr>\n",
              "      <th>2</th>\n",
              "      <td>119783</td>\n",
              "      <td>50777</td>\n",
              "      <td>118</td>\n",
              "      <td>0</td>\n",
              "      <td>25.0</td>\n",
              "      <td>31.95</td>\n",
              "      <td>0</td>\n",
              "      <td>Caucasian</td>\n",
              "      <td>F</td>\n",
              "      <td>172.7</td>\n",
              "      <td>...</td>\n",
              "      <td>0.0</td>\n",
              "      <td>0.0</td>\n",
              "      <td>0.0</td>\n",
              "      <td>0.0</td>\n",
              "      <td>0.0</td>\n",
              "      <td>0.0</td>\n",
              "      <td>0.0</td>\n",
              "      <td>0.0</td>\n",
              "      <td>Metabolic</td>\n",
              "      <td>Metabolic</td>\n",
              "    </tr>\n",
              "    <tr>\n",
              "      <th>3</th>\n",
              "      <td>79267</td>\n",
              "      <td>46918</td>\n",
              "      <td>118</td>\n",
              "      <td>0</td>\n",
              "      <td>81.0</td>\n",
              "      <td>22.64</td>\n",
              "      <td>1</td>\n",
              "      <td>Caucasian</td>\n",
              "      <td>F</td>\n",
              "      <td>165.1</td>\n",
              "      <td>...</td>\n",
              "      <td>0.0</td>\n",
              "      <td>0.0</td>\n",
              "      <td>0.0</td>\n",
              "      <td>0.0</td>\n",
              "      <td>0.0</td>\n",
              "      <td>0.0</td>\n",
              "      <td>0.0</td>\n",
              "      <td>0.0</td>\n",
              "      <td>Cardiovascular</td>\n",
              "      <td>Cardiovascular</td>\n",
              "    </tr>\n",
              "    <tr>\n",
              "      <th>4</th>\n",
              "      <td>92056</td>\n",
              "      <td>34377</td>\n",
              "      <td>33</td>\n",
              "      <td>0</td>\n",
              "      <td>19.0</td>\n",
              "      <td>NaN</td>\n",
              "      <td>0</td>\n",
              "      <td>Caucasian</td>\n",
              "      <td>M</td>\n",
              "      <td>188.0</td>\n",
              "      <td>...</td>\n",
              "      <td>0.0</td>\n",
              "      <td>0.0</td>\n",
              "      <td>0.0</td>\n",
              "      <td>0.0</td>\n",
              "      <td>0.0</td>\n",
              "      <td>0.0</td>\n",
              "      <td>0.0</td>\n",
              "      <td>0.0</td>\n",
              "      <td>Trauma</td>\n",
              "      <td>Trauma</td>\n",
              "    </tr>\n",
              "  </tbody>\n",
              "</table>\n",
              "<p>5 rows × 186 columns</p>\n",
              "</div>\n",
              "    <div class=\"colab-df-buttons\">\n",
              "\n",
              "  <div class=\"colab-df-container\">\n",
              "    <button class=\"colab-df-convert\" onclick=\"convertToInteractive('df-85d3173d-010d-4dec-bbcd-f5ab5cd86c75')\"\n",
              "            title=\"Convert this dataframe to an interactive table.\"\n",
              "            style=\"display:none;\">\n",
              "\n",
              "  <svg xmlns=\"http://www.w3.org/2000/svg\" height=\"24px\" viewBox=\"0 -960 960 960\">\n",
              "    <path d=\"M120-120v-720h720v720H120Zm60-500h600v-160H180v160Zm220 220h160v-160H400v160Zm0 220h160v-160H400v160ZM180-400h160v-160H180v160Zm440 0h160v-160H620v160ZM180-180h160v-160H180v160Zm440 0h160v-160H620v160Z\"/>\n",
              "  </svg>\n",
              "    </button>\n",
              "\n",
              "  <style>\n",
              "    .colab-df-container {\n",
              "      display:flex;\n",
              "      gap: 12px;\n",
              "    }\n",
              "\n",
              "    .colab-df-convert {\n",
              "      background-color: #E8F0FE;\n",
              "      border: none;\n",
              "      border-radius: 50%;\n",
              "      cursor: pointer;\n",
              "      display: none;\n",
              "      fill: #1967D2;\n",
              "      height: 32px;\n",
              "      padding: 0 0 0 0;\n",
              "      width: 32px;\n",
              "    }\n",
              "\n",
              "    .colab-df-convert:hover {\n",
              "      background-color: #E2EBFA;\n",
              "      box-shadow: 0px 1px 2px rgba(60, 64, 67, 0.3), 0px 1px 3px 1px rgba(60, 64, 67, 0.15);\n",
              "      fill: #174EA6;\n",
              "    }\n",
              "\n",
              "    .colab-df-buttons div {\n",
              "      margin-bottom: 4px;\n",
              "    }\n",
              "\n",
              "    [theme=dark] .colab-df-convert {\n",
              "      background-color: #3B4455;\n",
              "      fill: #D2E3FC;\n",
              "    }\n",
              "\n",
              "    [theme=dark] .colab-df-convert:hover {\n",
              "      background-color: #434B5C;\n",
              "      box-shadow: 0px 1px 3px 1px rgba(0, 0, 0, 0.15);\n",
              "      filter: drop-shadow(0px 1px 2px rgba(0, 0, 0, 0.3));\n",
              "      fill: #FFFFFF;\n",
              "    }\n",
              "  </style>\n",
              "\n",
              "    <script>\n",
              "      const buttonEl =\n",
              "        document.querySelector('#df-85d3173d-010d-4dec-bbcd-f5ab5cd86c75 button.colab-df-convert');\n",
              "      buttonEl.style.display =\n",
              "        google.colab.kernel.accessAllowed ? 'block' : 'none';\n",
              "\n",
              "      async function convertToInteractive(key) {\n",
              "        const element = document.querySelector('#df-85d3173d-010d-4dec-bbcd-f5ab5cd86c75');\n",
              "        const dataTable =\n",
              "          await google.colab.kernel.invokeFunction('convertToInteractive',\n",
              "                                                    [key], {});\n",
              "        if (!dataTable) return;\n",
              "\n",
              "        const docLinkHtml = 'Like what you see? Visit the ' +\n",
              "          '<a target=\"_blank\" href=https://colab.research.google.com/notebooks/data_table.ipynb>data table notebook</a>'\n",
              "          + ' to learn more about interactive tables.';\n",
              "        element.innerHTML = '';\n",
              "        dataTable['output_type'] = 'display_data';\n",
              "        await google.colab.output.renderOutput(dataTable, element);\n",
              "        const docLink = document.createElement('div');\n",
              "        docLink.innerHTML = docLinkHtml;\n",
              "        element.appendChild(docLink);\n",
              "      }\n",
              "    </script>\n",
              "  </div>\n",
              "\n",
              "\n",
              "<div id=\"df-c6f70367-a5d9-4b22-b0d0-0649e48f0f40\">\n",
              "  <button class=\"colab-df-quickchart\" onclick=\"quickchart('df-c6f70367-a5d9-4b22-b0d0-0649e48f0f40')\"\n",
              "            title=\"Suggest charts\"\n",
              "            style=\"display:none;\">\n",
              "\n",
              "<svg xmlns=\"http://www.w3.org/2000/svg\" height=\"24px\"viewBox=\"0 0 24 24\"\n",
              "     width=\"24px\">\n",
              "    <g>\n",
              "        <path d=\"M19 3H5c-1.1 0-2 .9-2 2v14c0 1.1.9 2 2 2h14c1.1 0 2-.9 2-2V5c0-1.1-.9-2-2-2zM9 17H7v-7h2v7zm4 0h-2V7h2v10zm4 0h-2v-4h2v4z\"/>\n",
              "    </g>\n",
              "</svg>\n",
              "  </button>\n",
              "\n",
              "<style>\n",
              "  .colab-df-quickchart {\n",
              "      --bg-color: #E8F0FE;\n",
              "      --fill-color: #1967D2;\n",
              "      --hover-bg-color: #E2EBFA;\n",
              "      --hover-fill-color: #174EA6;\n",
              "      --disabled-fill-color: #AAA;\n",
              "      --disabled-bg-color: #DDD;\n",
              "  }\n",
              "\n",
              "  [theme=dark] .colab-df-quickchart {\n",
              "      --bg-color: #3B4455;\n",
              "      --fill-color: #D2E3FC;\n",
              "      --hover-bg-color: #434B5C;\n",
              "      --hover-fill-color: #FFFFFF;\n",
              "      --disabled-bg-color: #3B4455;\n",
              "      --disabled-fill-color: #666;\n",
              "  }\n",
              "\n",
              "  .colab-df-quickchart {\n",
              "    background-color: var(--bg-color);\n",
              "    border: none;\n",
              "    border-radius: 50%;\n",
              "    cursor: pointer;\n",
              "    display: none;\n",
              "    fill: var(--fill-color);\n",
              "    height: 32px;\n",
              "    padding: 0;\n",
              "    width: 32px;\n",
              "  }\n",
              "\n",
              "  .colab-df-quickchart:hover {\n",
              "    background-color: var(--hover-bg-color);\n",
              "    box-shadow: 0 1px 2px rgba(60, 64, 67, 0.3), 0 1px 3px 1px rgba(60, 64, 67, 0.15);\n",
              "    fill: var(--button-hover-fill-color);\n",
              "  }\n",
              "\n",
              "  .colab-df-quickchart-complete:disabled,\n",
              "  .colab-df-quickchart-complete:disabled:hover {\n",
              "    background-color: var(--disabled-bg-color);\n",
              "    fill: var(--disabled-fill-color);\n",
              "    box-shadow: none;\n",
              "  }\n",
              "\n",
              "  .colab-df-spinner {\n",
              "    border: 2px solid var(--fill-color);\n",
              "    border-color: transparent;\n",
              "    border-bottom-color: var(--fill-color);\n",
              "    animation:\n",
              "      spin 1s steps(1) infinite;\n",
              "  }\n",
              "\n",
              "  @keyframes spin {\n",
              "    0% {\n",
              "      border-color: transparent;\n",
              "      border-bottom-color: var(--fill-color);\n",
              "      border-left-color: var(--fill-color);\n",
              "    }\n",
              "    20% {\n",
              "      border-color: transparent;\n",
              "      border-left-color: var(--fill-color);\n",
              "      border-top-color: var(--fill-color);\n",
              "    }\n",
              "    30% {\n",
              "      border-color: transparent;\n",
              "      border-left-color: var(--fill-color);\n",
              "      border-top-color: var(--fill-color);\n",
              "      border-right-color: var(--fill-color);\n",
              "    }\n",
              "    40% {\n",
              "      border-color: transparent;\n",
              "      border-right-color: var(--fill-color);\n",
              "      border-top-color: var(--fill-color);\n",
              "    }\n",
              "    60% {\n",
              "      border-color: transparent;\n",
              "      border-right-color: var(--fill-color);\n",
              "    }\n",
              "    80% {\n",
              "      border-color: transparent;\n",
              "      border-right-color: var(--fill-color);\n",
              "      border-bottom-color: var(--fill-color);\n",
              "    }\n",
              "    90% {\n",
              "      border-color: transparent;\n",
              "      border-bottom-color: var(--fill-color);\n",
              "    }\n",
              "  }\n",
              "</style>\n",
              "\n",
              "  <script>\n",
              "    async function quickchart(key) {\n",
              "      const quickchartButtonEl =\n",
              "        document.querySelector('#' + key + ' button');\n",
              "      quickchartButtonEl.disabled = true;  // To prevent multiple clicks.\n",
              "      quickchartButtonEl.classList.add('colab-df-spinner');\n",
              "      try {\n",
              "        const charts = await google.colab.kernel.invokeFunction(\n",
              "            'suggestCharts', [key], {});\n",
              "      } catch (error) {\n",
              "        console.error('Error during call to suggestCharts:', error);\n",
              "      }\n",
              "      quickchartButtonEl.classList.remove('colab-df-spinner');\n",
              "      quickchartButtonEl.classList.add('colab-df-quickchart-complete');\n",
              "    }\n",
              "    (() => {\n",
              "      let quickchartButtonEl =\n",
              "        document.querySelector('#df-c6f70367-a5d9-4b22-b0d0-0649e48f0f40 button');\n",
              "      quickchartButtonEl.style.display =\n",
              "        google.colab.kernel.accessAllowed ? 'block' : 'none';\n",
              "    })();\n",
              "  </script>\n",
              "</div>\n",
              "    </div>\n",
              "  </div>\n"
            ]
          },
          "metadata": {},
          "execution_count": 50
        }
      ],
      "source": [
        "df.head()"
      ]
    },
    {
      "cell_type": "code",
      "execution_count": 51,
      "metadata": {
        "colab": {
          "base_uri": "https://localhost:8080/"
        },
        "id": "v7ur8g7uBBOc",
        "outputId": "960482fd-1ff6-4f1a-b05b-c6ceac9ce826"
      },
      "outputs": [
        {
          "output_type": "stream",
          "name": "stdout",
          "text": [
            "        encounter_id     patient_id   hospital_id  hospital_death  \\\n",
            "count   91713.000000   91713.000000  91713.000000    91713.000000   \n",
            "mean    65606.079280   65537.131464    105.669262        0.086302   \n",
            "std     37795.088538   37811.252183     62.854406        0.280811   \n",
            "min         1.000000       1.000000      2.000000        0.000000   \n",
            "25%     32852.000000   32830.000000     47.000000        0.000000   \n",
            "50%     65665.000000   65413.000000    109.000000        0.000000   \n",
            "75%     98342.000000   98298.000000    161.000000        0.000000   \n",
            "max    131051.000000  131051.000000    204.000000        1.000000   \n",
            "\n",
            "                age           bmi  elective_surgery        height  \\\n",
            "count  87485.000000  88284.000000      91713.000000  90379.000000   \n",
            "mean      62.309516     29.185818          0.183736    169.641588   \n",
            "std       16.775119      8.275142          0.387271     10.795378   \n",
            "min       16.000000     14.844926          0.000000    137.200000   \n",
            "25%       52.000000     23.641975          0.000000    162.500000   \n",
            "50%       65.000000     27.654655          0.000000    170.100000   \n",
            "75%       75.000000     32.930206          0.000000    177.800000   \n",
            "max       89.000000     67.814990          1.000000    195.590000   \n",
            "\n",
            "             icu_id  pre_icu_los_days  ...  apache_4a_hospital_death_prob  \\\n",
            "count  91713.000000      91713.000000  ...                   83766.000000   \n",
            "mean     508.357692          0.835766  ...                       0.086787   \n",
            "std      228.989661          2.487756  ...                       0.247569   \n",
            "min       82.000000        -24.947222  ...                      -1.000000   \n",
            "25%      369.000000          0.035417  ...                       0.020000   \n",
            "50%      504.000000          0.138889  ...                       0.050000   \n",
            "75%      679.000000          0.409028  ...                       0.130000   \n",
            "max      927.000000        159.090972  ...                       0.990000   \n",
            "\n",
            "       apache_4a_icu_death_prob          aids     cirrhosis  \\\n",
            "count              83766.000000  90998.000000  90998.000000   \n",
            "mean                   0.043955      0.000857      0.015693   \n",
            "std                    0.217341      0.029265      0.124284   \n",
            "min                   -1.000000      0.000000      0.000000   \n",
            "25%                    0.010000      0.000000      0.000000   \n",
            "50%                    0.020000      0.000000      0.000000   \n",
            "75%                    0.060000      0.000000      0.000000   \n",
            "max                    0.970000      1.000000      1.000000   \n",
            "\n",
            "       diabetes_mellitus  hepatic_failure  immunosuppression      leukemia  \\\n",
            "count       90998.000000     90998.000000       90998.000000  90998.000000   \n",
            "mean            0.225192         0.012989           0.026165      0.007066   \n",
            "std             0.417711         0.113229           0.159628      0.083763   \n",
            "min             0.000000         0.000000           0.000000      0.000000   \n",
            "25%             0.000000         0.000000           0.000000      0.000000   \n",
            "50%             0.000000         0.000000           0.000000      0.000000   \n",
            "75%             0.000000         0.000000           0.000000      0.000000   \n",
            "max             1.000000         1.000000           1.000000      1.000000   \n",
            "\n",
            "           lymphoma  solid_tumor_with_metastasis  \n",
            "count  90998.000000                 90998.000000  \n",
            "mean       0.004132                     0.020638  \n",
            "std        0.064148                     0.142169  \n",
            "min        0.000000                     0.000000  \n",
            "25%        0.000000                     0.000000  \n",
            "50%        0.000000                     0.000000  \n",
            "75%        0.000000                     0.000000  \n",
            "max        1.000000                     1.000000  \n",
            "\n",
            "[8 rows x 178 columns]\n"
          ]
        }
      ],
      "source": [
        "# Display summary statistics\n",
        "print(df.describe())"
      ]
    },
    {
      "cell_type": "code",
      "execution_count": 52,
      "metadata": {
        "colab": {
          "base_uri": "https://localhost:8080/"
        },
        "id": "_EJh5sUUlsb7",
        "outputId": "d2c0cef9-1d11-4080-e3b6-eba50a69fd4a"
      },
      "outputs": [
        {
          "output_type": "execute_result",
          "data": {
            "text/plain": [
              "count    90835.000000\n",
              "mean        99.707932\n",
              "std         30.870502\n",
              "min         30.000000\n",
              "25%         86.000000\n",
              "50%        104.000000\n",
              "75%        120.000000\n",
              "max        178.000000\n",
              "Name: heart_rate_apache, dtype: float64"
            ]
          },
          "metadata": {},
          "execution_count": 52
        }
      ],
      "source": [
        "# Display summary statistics\n",
        "df['heart_rate_apache'].describe()"
      ]
    },
    {
      "cell_type": "code",
      "execution_count": 53,
      "metadata": {
        "colab": {
          "base_uri": "https://localhost:8080/"
        },
        "id": "b1ugoulCBQNz",
        "outputId": "e68a5950-0857-4b16-acd6-d54356240fed"
      },
      "outputs": [
        {
          "output_type": "stream",
          "name": "stdout",
          "text": [
            "encounter_id                      0\n",
            "patient_id                        0\n",
            "hospital_id                       0\n",
            "hospital_death                    0\n",
            "age                            4228\n",
            "                               ... \n",
            "leukemia                        715\n",
            "lymphoma                        715\n",
            "solid_tumor_with_metastasis     715\n",
            "apache_3j_bodysystem           1662\n",
            "apache_2_bodysystem            1662\n",
            "Length: 186, dtype: int64\n"
          ]
        }
      ],
      "source": [
        "# check missing value\n",
        "print(ICU_df.isnull().sum())"
      ]
    },
    {
      "cell_type": "code",
      "execution_count": 54,
      "metadata": {
        "colab": {
          "base_uri": "https://localhost:8080/"
        },
        "id": "limGAbT1EZMi",
        "outputId": "3db4cd97-7ca2-49ea-cf75-88c7d5c3050a"
      },
      "outputs": [
        {
          "output_type": "execute_result",
          "data": {
            "text/plain": [
              "encounter_id                     int64\n",
              "patient_id                       int64\n",
              "hospital_id                      int64\n",
              "hospital_death                   int64\n",
              "age                            float64\n",
              "                                ...   \n",
              "leukemia                       float64\n",
              "lymphoma                       float64\n",
              "solid_tumor_with_metastasis    float64\n",
              "apache_3j_bodysystem            object\n",
              "apache_2_bodysystem             object\n",
              "Length: 186, dtype: object"
            ]
          },
          "metadata": {},
          "execution_count": 54
        }
      ],
      "source": [
        "# checking the data types\n",
        "ICU_df.dtypes"
      ]
    },
    {
      "cell_type": "code",
      "execution_count": 55,
      "metadata": {
        "colab": {
          "base_uri": "https://localhost:8080/"
        },
        "id": "BhjDQrO5Ensk",
        "outputId": "4452ae7e-94ab-463e-9f0d-3d47f70c3418"
      },
      "outputs": [
        {
          "output_type": "execute_result",
          "data": {
            "text/plain": [
              "Index(['encounter_id', 'patient_id', 'hospital_id', 'hospital_death', 'age',\n",
              "       'bmi', 'elective_surgery', 'ethnicity', 'gender', 'height',\n",
              "       ...\n",
              "       'aids', 'cirrhosis', 'diabetes_mellitus', 'hepatic_failure',\n",
              "       'immunosuppression', 'leukemia', 'lymphoma',\n",
              "       'solid_tumor_with_metastasis', 'apache_3j_bodysystem',\n",
              "       'apache_2_bodysystem'],\n",
              "      dtype='object', length=186)"
            ]
          },
          "metadata": {},
          "execution_count": 55
        }
      ],
      "source": [
        "ICU_df.columns"
      ]
    },
    {
      "cell_type": "code",
      "execution_count": 56,
      "metadata": {
        "colab": {
          "base_uri": "https://localhost:8080/"
        },
        "id": "o--tPziEEzuu",
        "outputId": "c0835129-3924-4617-f403-29331af2f28e"
      },
      "outputs": [
        {
          "output_type": "execute_result",
          "data": {
            "text/plain": [
              "0.08630183289173836"
            ]
          },
          "metadata": {},
          "execution_count": 56
        }
      ],
      "source": [
        "ICU_df['hospital_death'].mean()"
      ]
    },
    {
      "cell_type": "code",
      "execution_count": 57,
      "metadata": {
        "colab": {
          "base_uri": "https://localhost:8080/"
        },
        "id": "bphGlp3aTA-p",
        "outputId": "f71ded64-7b19-458c-ec0e-f3aa15b0a5f7"
      },
      "outputs": [
        {
          "output_type": "stream",
          "name": "stdout",
          "text": [
            "['Caucasian' nan 'Hispanic' 'African American' 'Asian' 'Native American'\n",
            " 'Other/Unknown']\n"
          ]
        }
      ],
      "source": [
        "# Display unique values in 'ethnicity' column\n",
        "print(ICU_df['ethnicity'].unique())"
      ]
    },
    {
      "cell_type": "code",
      "execution_count": 58,
      "metadata": {
        "id": "PpbgVNZ5jIOP"
      },
      "outputs": [],
      "source": [
        "#Drop Encounter ID\n",
        "ICU_df= ICU_df.drop('encounter_id', axis=1)"
      ]
    },
    {
      "cell_type": "code",
      "execution_count": 59,
      "metadata": {
        "colab": {
          "base_uri": "https://localhost:8080/"
        },
        "id": "ac_cY3XoU1fs",
        "outputId": "1b11713c-2f07-4f38-935a-0e1209351af7"
      },
      "outputs": [
        {
          "output_type": "stream",
          "name": "stdout",
          "text": [
            "['Floor' 'Accident & Emergency' 'Operating Room / Recovery'\n",
            " 'Other Hospital' 'Other ICU' nan]\n"
          ]
        }
      ],
      "source": [
        "# Display unique values in 'icu_admit_source' column\n",
        "print(ICU_df['icu_admit_source'].unique())"
      ]
    },
    {
      "cell_type": "code",
      "execution_count": 60,
      "metadata": {
        "id": "oaJZI6YoXL_F"
      },
      "outputs": [],
      "source": [
        "ICU_df['gender'].replace({'F' : 1, 'M' : 0}, inplace=True)\n"
      ]
    },
    {
      "cell_type": "code",
      "execution_count": 61,
      "metadata": {
        "colab": {
          "base_uri": "https://localhost:8080/"
        },
        "id": "-HuJJc_RlnMP",
        "outputId": "0ca8615c-3848-4100-8404-7a468f815cd4"
      },
      "outputs": [
        {
          "output_type": "stream",
          "name": "stdout",
          "text": [
            "[ 0.  1. nan]\n"
          ]
        }
      ],
      "source": [
        "#Display Gender\n",
        "print(ICU_df['gender'].unique())"
      ]
    },
    {
      "cell_type": "code",
      "execution_count": 62,
      "metadata": {
        "colab": {
          "base_uri": "https://localhost:8080/"
        },
        "id": "a_sgAQeDMUgu",
        "outputId": "cbd2536b-1475-4691-ec73-203ec4ea6725"
      },
      "outputs": [
        {
          "output_type": "stream",
          "name": "stdout",
          "text": [
            "Requirement already satisfied: category_encoders in /usr/local/lib/python3.10/dist-packages (2.6.3)\n",
            "Requirement already satisfied: numpy>=1.14.0 in /usr/local/lib/python3.10/dist-packages (from category_encoders) (1.23.5)\n",
            "Requirement already satisfied: scikit-learn>=0.20.0 in /usr/local/lib/python3.10/dist-packages (from category_encoders) (1.2.2)\n",
            "Requirement already satisfied: scipy>=1.0.0 in /usr/local/lib/python3.10/dist-packages (from category_encoders) (1.11.3)\n",
            "Requirement already satisfied: statsmodels>=0.9.0 in /usr/local/lib/python3.10/dist-packages (from category_encoders) (0.14.0)\n",
            "Requirement already satisfied: pandas>=1.0.5 in /usr/local/lib/python3.10/dist-packages (from category_encoders) (1.5.3)\n",
            "Requirement already satisfied: patsy>=0.5.1 in /usr/local/lib/python3.10/dist-packages (from category_encoders) (0.5.3)\n",
            "Requirement already satisfied: python-dateutil>=2.8.1 in /usr/local/lib/python3.10/dist-packages (from pandas>=1.0.5->category_encoders) (2.8.2)\n",
            "Requirement already satisfied: pytz>=2020.1 in /usr/local/lib/python3.10/dist-packages (from pandas>=1.0.5->category_encoders) (2023.3.post1)\n",
            "Requirement already satisfied: six in /usr/local/lib/python3.10/dist-packages (from patsy>=0.5.1->category_encoders) (1.16.0)\n",
            "Requirement already satisfied: joblib>=1.1.1 in /usr/local/lib/python3.10/dist-packages (from scikit-learn>=0.20.0->category_encoders) (1.3.2)\n",
            "Requirement already satisfied: threadpoolctl>=2.0.0 in /usr/local/lib/python3.10/dist-packages (from scikit-learn>=0.20.0->category_encoders) (3.2.0)\n",
            "Requirement already satisfied: packaging>=21.3 in /usr/local/lib/python3.10/dist-packages (from statsmodels>=0.9.0->category_encoders) (23.2)\n"
          ]
        }
      ],
      "source": [
        "\n",
        "\n",
        "!pip install category_encoders\n",
        "\n",
        "import pandas as pd\n",
        "import numpy as np\n",
        "import warnings\n",
        "from sklearn import tree\n",
        "from sklearn.ensemble import RandomForestClassifier\n",
        "import seaborn as sns\n",
        "import scipy.stats as stats\n",
        "import matplotlib.pyplot as plt\n",
        "# from sklearn.metrics import RocCurveDisplay, auc, roc_curve\n",
        "from sklearn.metrics import roc_auc_score, accuracy_score\n",
        "import plotly.express as px\n",
        "from category_encoders import OneHotEncoder, TargetEncoder\n",
        "from sklearn.compose import ColumnTransformer\n",
        "from sklearn.pipeline import Pipeline\n",
        "from sklearn.model_selection import RandomizedSearchCV, StratifiedKFold\n",
        "from sklearn.ensemble import GradientBoostingClassifier\n",
        "from sklearn.model_selection import GridSearchCV\n",
        "\n",
        "\n",
        "warnings.filterwarnings('ignore')\n",
        "\n",
        "\n",
        "from sklearn import tree\n",
        "from sklearn.ensemble import RandomForestClassifier\n",
        "import seaborn as sns\n",
        "import scipy.stats as stats\n",
        "import matplotlib.pyplot as plt\n",
        "# from sklearn.metrics import RocCurveDisplay, auc, roc_curve\n",
        "from sklearn.metrics import roc_auc_score, accuracy_score\n",
        "import plotly.express as px\n",
        "from category_encoders import OneHotEncoder, TargetEncoder\n",
        "from sklearn.compose import ColumnTransformer\n",
        "from sklearn.pipeline import Pipeline\n",
        "from sklearn.model_selection import RandomizedSearchCV, StratifiedKFold\n",
        "from sklearn.ensemble import GradientBoostingClassifier\n",
        "from sklearn.model_selection import GridSearchCV\n",
        "\n"
      ]
    },
    {
      "cell_type": "code",
      "source": [
        "#Running one_hot encoding on all categorical columns\n",
        "categorical_columns = ICU_df.select_dtypes(include='object').columns.tolist() #select all columns with 'object' data type"
      ],
      "metadata": {
        "id": "75A4KHDP8oY8"
      },
      "execution_count": 68,
      "outputs": []
    },
    {
      "cell_type": "code",
      "source": [
        "#create new dataframe with one-hot encoding for all categorical columns\n",
        "ICU_df_encoded = pd.get_dummies(ICU_df, columns=categorical_columns)\n",
        "\n",
        "ICU_df_encoded.head() #checking the head with the new hot-encoded library. Note new number of columns from 178 to 237"
      ],
      "metadata": {
        "colab": {
          "base_uri": "https://localhost:8080/",
          "height": 273
        },
        "id": "SHRJ5V6E-5-A",
        "outputId": "dcb2930e-ac87-4432-ff2c-a13315f869e0"
      },
      "execution_count": 69,
      "outputs": [
        {
          "output_type": "execute_result",
          "data": {
            "text/plain": [
              "   patient_id  hospital_id  hospital_death   age    bmi  elective_surgery  \\\n",
              "0       25312          118               0  68.0  22.73                 0   \n",
              "1       59342           81               0  77.0  27.42                 0   \n",
              "2       50777          118               0  25.0  31.95                 0   \n",
              "3       46918          118               0  81.0  22.64                 1   \n",
              "4       34377           33               0  19.0    NaN                 0   \n",
              "\n",
              "   gender  height  icu_id  pre_icu_los_days  ...  \\\n",
              "0     0.0   180.3      92          0.541667  ...   \n",
              "1     1.0   160.0      90          0.927778  ...   \n",
              "2     1.0   172.7      93          0.000694  ...   \n",
              "3     1.0   165.1      92          0.000694  ...   \n",
              "4     0.0   188.0      91          0.073611  ...   \n",
              "\n",
              "   apache_2_bodysystem_Cardiovascular  apache_2_bodysystem_Gastrointestinal  \\\n",
              "0                                   1                                     0   \n",
              "1                                   0                                     0   \n",
              "2                                   0                                     0   \n",
              "3                                   1                                     0   \n",
              "4                                   0                                     0   \n",
              "\n",
              "   apache_2_bodysystem_Haematologic  apache_2_bodysystem_Metabolic  \\\n",
              "0                                 0                              0   \n",
              "1                                 0                              0   \n",
              "2                                 0                              1   \n",
              "3                                 0                              0   \n",
              "4                                 0                              0   \n",
              "\n",
              "   apache_2_bodysystem_Neurologic  apache_2_bodysystem_Renal/Genitourinary  \\\n",
              "0                               0                                        0   \n",
              "1                               0                                        0   \n",
              "2                               0                                        0   \n",
              "3                               0                                        0   \n",
              "4                               0                                        0   \n",
              "\n",
              "   apache_2_bodysystem_Respiratory  apache_2_bodysystem_Trauma  \\\n",
              "0                                0                           0   \n",
              "1                                1                           0   \n",
              "2                                0                           0   \n",
              "3                                0                           0   \n",
              "4                                0                           1   \n",
              "\n",
              "   apache_2_bodysystem_Undefined Diagnoses  \\\n",
              "0                                        0   \n",
              "1                                        0   \n",
              "2                                        0   \n",
              "3                                        0   \n",
              "4                                        0   \n",
              "\n",
              "   apache_2_bodysystem_Undefined diagnoses  \n",
              "0                                        0  \n",
              "1                                        0  \n",
              "2                                        0  \n",
              "3                                        0  \n",
              "4                                        0  \n",
              "\n",
              "[5 rows x 236 columns]"
            ],
            "text/html": [
              "\n",
              "  <div id=\"df-354e2ce8-e10c-4217-be2f-646f2ed0d8e4\" class=\"colab-df-container\">\n",
              "    <div>\n",
              "<style scoped>\n",
              "    .dataframe tbody tr th:only-of-type {\n",
              "        vertical-align: middle;\n",
              "    }\n",
              "\n",
              "    .dataframe tbody tr th {\n",
              "        vertical-align: top;\n",
              "    }\n",
              "\n",
              "    .dataframe thead th {\n",
              "        text-align: right;\n",
              "    }\n",
              "</style>\n",
              "<table border=\"1\" class=\"dataframe\">\n",
              "  <thead>\n",
              "    <tr style=\"text-align: right;\">\n",
              "      <th></th>\n",
              "      <th>patient_id</th>\n",
              "      <th>hospital_id</th>\n",
              "      <th>hospital_death</th>\n",
              "      <th>age</th>\n",
              "      <th>bmi</th>\n",
              "      <th>elective_surgery</th>\n",
              "      <th>gender</th>\n",
              "      <th>height</th>\n",
              "      <th>icu_id</th>\n",
              "      <th>pre_icu_los_days</th>\n",
              "      <th>...</th>\n",
              "      <th>apache_2_bodysystem_Cardiovascular</th>\n",
              "      <th>apache_2_bodysystem_Gastrointestinal</th>\n",
              "      <th>apache_2_bodysystem_Haematologic</th>\n",
              "      <th>apache_2_bodysystem_Metabolic</th>\n",
              "      <th>apache_2_bodysystem_Neurologic</th>\n",
              "      <th>apache_2_bodysystem_Renal/Genitourinary</th>\n",
              "      <th>apache_2_bodysystem_Respiratory</th>\n",
              "      <th>apache_2_bodysystem_Trauma</th>\n",
              "      <th>apache_2_bodysystem_Undefined Diagnoses</th>\n",
              "      <th>apache_2_bodysystem_Undefined diagnoses</th>\n",
              "    </tr>\n",
              "  </thead>\n",
              "  <tbody>\n",
              "    <tr>\n",
              "      <th>0</th>\n",
              "      <td>25312</td>\n",
              "      <td>118</td>\n",
              "      <td>0</td>\n",
              "      <td>68.0</td>\n",
              "      <td>22.73</td>\n",
              "      <td>0</td>\n",
              "      <td>0.0</td>\n",
              "      <td>180.3</td>\n",
              "      <td>92</td>\n",
              "      <td>0.541667</td>\n",
              "      <td>...</td>\n",
              "      <td>1</td>\n",
              "      <td>0</td>\n",
              "      <td>0</td>\n",
              "      <td>0</td>\n",
              "      <td>0</td>\n",
              "      <td>0</td>\n",
              "      <td>0</td>\n",
              "      <td>0</td>\n",
              "      <td>0</td>\n",
              "      <td>0</td>\n",
              "    </tr>\n",
              "    <tr>\n",
              "      <th>1</th>\n",
              "      <td>59342</td>\n",
              "      <td>81</td>\n",
              "      <td>0</td>\n",
              "      <td>77.0</td>\n",
              "      <td>27.42</td>\n",
              "      <td>0</td>\n",
              "      <td>1.0</td>\n",
              "      <td>160.0</td>\n",
              "      <td>90</td>\n",
              "      <td>0.927778</td>\n",
              "      <td>...</td>\n",
              "      <td>0</td>\n",
              "      <td>0</td>\n",
              "      <td>0</td>\n",
              "      <td>0</td>\n",
              "      <td>0</td>\n",
              "      <td>0</td>\n",
              "      <td>1</td>\n",
              "      <td>0</td>\n",
              "      <td>0</td>\n",
              "      <td>0</td>\n",
              "    </tr>\n",
              "    <tr>\n",
              "      <th>2</th>\n",
              "      <td>50777</td>\n",
              "      <td>118</td>\n",
              "      <td>0</td>\n",
              "      <td>25.0</td>\n",
              "      <td>31.95</td>\n",
              "      <td>0</td>\n",
              "      <td>1.0</td>\n",
              "      <td>172.7</td>\n",
              "      <td>93</td>\n",
              "      <td>0.000694</td>\n",
              "      <td>...</td>\n",
              "      <td>0</td>\n",
              "      <td>0</td>\n",
              "      <td>0</td>\n",
              "      <td>1</td>\n",
              "      <td>0</td>\n",
              "      <td>0</td>\n",
              "      <td>0</td>\n",
              "      <td>0</td>\n",
              "      <td>0</td>\n",
              "      <td>0</td>\n",
              "    </tr>\n",
              "    <tr>\n",
              "      <th>3</th>\n",
              "      <td>46918</td>\n",
              "      <td>118</td>\n",
              "      <td>0</td>\n",
              "      <td>81.0</td>\n",
              "      <td>22.64</td>\n",
              "      <td>1</td>\n",
              "      <td>1.0</td>\n",
              "      <td>165.1</td>\n",
              "      <td>92</td>\n",
              "      <td>0.000694</td>\n",
              "      <td>...</td>\n",
              "      <td>1</td>\n",
              "      <td>0</td>\n",
              "      <td>0</td>\n",
              "      <td>0</td>\n",
              "      <td>0</td>\n",
              "      <td>0</td>\n",
              "      <td>0</td>\n",
              "      <td>0</td>\n",
              "      <td>0</td>\n",
              "      <td>0</td>\n",
              "    </tr>\n",
              "    <tr>\n",
              "      <th>4</th>\n",
              "      <td>34377</td>\n",
              "      <td>33</td>\n",
              "      <td>0</td>\n",
              "      <td>19.0</td>\n",
              "      <td>NaN</td>\n",
              "      <td>0</td>\n",
              "      <td>0.0</td>\n",
              "      <td>188.0</td>\n",
              "      <td>91</td>\n",
              "      <td>0.073611</td>\n",
              "      <td>...</td>\n",
              "      <td>0</td>\n",
              "      <td>0</td>\n",
              "      <td>0</td>\n",
              "      <td>0</td>\n",
              "      <td>0</td>\n",
              "      <td>0</td>\n",
              "      <td>0</td>\n",
              "      <td>1</td>\n",
              "      <td>0</td>\n",
              "      <td>0</td>\n",
              "    </tr>\n",
              "  </tbody>\n",
              "</table>\n",
              "<p>5 rows × 236 columns</p>\n",
              "</div>\n",
              "    <div class=\"colab-df-buttons\">\n",
              "\n",
              "  <div class=\"colab-df-container\">\n",
              "    <button class=\"colab-df-convert\" onclick=\"convertToInteractive('df-354e2ce8-e10c-4217-be2f-646f2ed0d8e4')\"\n",
              "            title=\"Convert this dataframe to an interactive table.\"\n",
              "            style=\"display:none;\">\n",
              "\n",
              "  <svg xmlns=\"http://www.w3.org/2000/svg\" height=\"24px\" viewBox=\"0 -960 960 960\">\n",
              "    <path d=\"M120-120v-720h720v720H120Zm60-500h600v-160H180v160Zm220 220h160v-160H400v160Zm0 220h160v-160H400v160ZM180-400h160v-160H180v160Zm440 0h160v-160H620v160ZM180-180h160v-160H180v160Zm440 0h160v-160H620v160Z\"/>\n",
              "  </svg>\n",
              "    </button>\n",
              "\n",
              "  <style>\n",
              "    .colab-df-container {\n",
              "      display:flex;\n",
              "      gap: 12px;\n",
              "    }\n",
              "\n",
              "    .colab-df-convert {\n",
              "      background-color: #E8F0FE;\n",
              "      border: none;\n",
              "      border-radius: 50%;\n",
              "      cursor: pointer;\n",
              "      display: none;\n",
              "      fill: #1967D2;\n",
              "      height: 32px;\n",
              "      padding: 0 0 0 0;\n",
              "      width: 32px;\n",
              "    }\n",
              "\n",
              "    .colab-df-convert:hover {\n",
              "      background-color: #E2EBFA;\n",
              "      box-shadow: 0px 1px 2px rgba(60, 64, 67, 0.3), 0px 1px 3px 1px rgba(60, 64, 67, 0.15);\n",
              "      fill: #174EA6;\n",
              "    }\n",
              "\n",
              "    .colab-df-buttons div {\n",
              "      margin-bottom: 4px;\n",
              "    }\n",
              "\n",
              "    [theme=dark] .colab-df-convert {\n",
              "      background-color: #3B4455;\n",
              "      fill: #D2E3FC;\n",
              "    }\n",
              "\n",
              "    [theme=dark] .colab-df-convert:hover {\n",
              "      background-color: #434B5C;\n",
              "      box-shadow: 0px 1px 3px 1px rgba(0, 0, 0, 0.15);\n",
              "      filter: drop-shadow(0px 1px 2px rgba(0, 0, 0, 0.3));\n",
              "      fill: #FFFFFF;\n",
              "    }\n",
              "  </style>\n",
              "\n",
              "    <script>\n",
              "      const buttonEl =\n",
              "        document.querySelector('#df-354e2ce8-e10c-4217-be2f-646f2ed0d8e4 button.colab-df-convert');\n",
              "      buttonEl.style.display =\n",
              "        google.colab.kernel.accessAllowed ? 'block' : 'none';\n",
              "\n",
              "      async function convertToInteractive(key) {\n",
              "        const element = document.querySelector('#df-354e2ce8-e10c-4217-be2f-646f2ed0d8e4');\n",
              "        const dataTable =\n",
              "          await google.colab.kernel.invokeFunction('convertToInteractive',\n",
              "                                                    [key], {});\n",
              "        if (!dataTable) return;\n",
              "\n",
              "        const docLinkHtml = 'Like what you see? Visit the ' +\n",
              "          '<a target=\"_blank\" href=https://colab.research.google.com/notebooks/data_table.ipynb>data table notebook</a>'\n",
              "          + ' to learn more about interactive tables.';\n",
              "        element.innerHTML = '';\n",
              "        dataTable['output_type'] = 'display_data';\n",
              "        await google.colab.output.renderOutput(dataTable, element);\n",
              "        const docLink = document.createElement('div');\n",
              "        docLink.innerHTML = docLinkHtml;\n",
              "        element.appendChild(docLink);\n",
              "      }\n",
              "    </script>\n",
              "  </div>\n",
              "\n",
              "\n",
              "<div id=\"df-1bd42eb6-30fe-4fc9-8acc-76df2286c9f6\">\n",
              "  <button class=\"colab-df-quickchart\" onclick=\"quickchart('df-1bd42eb6-30fe-4fc9-8acc-76df2286c9f6')\"\n",
              "            title=\"Suggest charts\"\n",
              "            style=\"display:none;\">\n",
              "\n",
              "<svg xmlns=\"http://www.w3.org/2000/svg\" height=\"24px\"viewBox=\"0 0 24 24\"\n",
              "     width=\"24px\">\n",
              "    <g>\n",
              "        <path d=\"M19 3H5c-1.1 0-2 .9-2 2v14c0 1.1.9 2 2 2h14c1.1 0 2-.9 2-2V5c0-1.1-.9-2-2-2zM9 17H7v-7h2v7zm4 0h-2V7h2v10zm4 0h-2v-4h2v4z\"/>\n",
              "    </g>\n",
              "</svg>\n",
              "  </button>\n",
              "\n",
              "<style>\n",
              "  .colab-df-quickchart {\n",
              "      --bg-color: #E8F0FE;\n",
              "      --fill-color: #1967D2;\n",
              "      --hover-bg-color: #E2EBFA;\n",
              "      --hover-fill-color: #174EA6;\n",
              "      --disabled-fill-color: #AAA;\n",
              "      --disabled-bg-color: #DDD;\n",
              "  }\n",
              "\n",
              "  [theme=dark] .colab-df-quickchart {\n",
              "      --bg-color: #3B4455;\n",
              "      --fill-color: #D2E3FC;\n",
              "      --hover-bg-color: #434B5C;\n",
              "      --hover-fill-color: #FFFFFF;\n",
              "      --disabled-bg-color: #3B4455;\n",
              "      --disabled-fill-color: #666;\n",
              "  }\n",
              "\n",
              "  .colab-df-quickchart {\n",
              "    background-color: var(--bg-color);\n",
              "    border: none;\n",
              "    border-radius: 50%;\n",
              "    cursor: pointer;\n",
              "    display: none;\n",
              "    fill: var(--fill-color);\n",
              "    height: 32px;\n",
              "    padding: 0;\n",
              "    width: 32px;\n",
              "  }\n",
              "\n",
              "  .colab-df-quickchart:hover {\n",
              "    background-color: var(--hover-bg-color);\n",
              "    box-shadow: 0 1px 2px rgba(60, 64, 67, 0.3), 0 1px 3px 1px rgba(60, 64, 67, 0.15);\n",
              "    fill: var(--button-hover-fill-color);\n",
              "  }\n",
              "\n",
              "  .colab-df-quickchart-complete:disabled,\n",
              "  .colab-df-quickchart-complete:disabled:hover {\n",
              "    background-color: var(--disabled-bg-color);\n",
              "    fill: var(--disabled-fill-color);\n",
              "    box-shadow: none;\n",
              "  }\n",
              "\n",
              "  .colab-df-spinner {\n",
              "    border: 2px solid var(--fill-color);\n",
              "    border-color: transparent;\n",
              "    border-bottom-color: var(--fill-color);\n",
              "    animation:\n",
              "      spin 1s steps(1) infinite;\n",
              "  }\n",
              "\n",
              "  @keyframes spin {\n",
              "    0% {\n",
              "      border-color: transparent;\n",
              "      border-bottom-color: var(--fill-color);\n",
              "      border-left-color: var(--fill-color);\n",
              "    }\n",
              "    20% {\n",
              "      border-color: transparent;\n",
              "      border-left-color: var(--fill-color);\n",
              "      border-top-color: var(--fill-color);\n",
              "    }\n",
              "    30% {\n",
              "      border-color: transparent;\n",
              "      border-left-color: var(--fill-color);\n",
              "      border-top-color: var(--fill-color);\n",
              "      border-right-color: var(--fill-color);\n",
              "    }\n",
              "    40% {\n",
              "      border-color: transparent;\n",
              "      border-right-color: var(--fill-color);\n",
              "      border-top-color: var(--fill-color);\n",
              "    }\n",
              "    60% {\n",
              "      border-color: transparent;\n",
              "      border-right-color: var(--fill-color);\n",
              "    }\n",
              "    80% {\n",
              "      border-color: transparent;\n",
              "      border-right-color: var(--fill-color);\n",
              "      border-bottom-color: var(--fill-color);\n",
              "    }\n",
              "    90% {\n",
              "      border-color: transparent;\n",
              "      border-bottom-color: var(--fill-color);\n",
              "    }\n",
              "  }\n",
              "</style>\n",
              "\n",
              "  <script>\n",
              "    async function quickchart(key) {\n",
              "      const quickchartButtonEl =\n",
              "        document.querySelector('#' + key + ' button');\n",
              "      quickchartButtonEl.disabled = true;  // To prevent multiple clicks.\n",
              "      quickchartButtonEl.classList.add('colab-df-spinner');\n",
              "      try {\n",
              "        const charts = await google.colab.kernel.invokeFunction(\n",
              "            'suggestCharts', [key], {});\n",
              "      } catch (error) {\n",
              "        console.error('Error during call to suggestCharts:', error);\n",
              "      }\n",
              "      quickchartButtonEl.classList.remove('colab-df-spinner');\n",
              "      quickchartButtonEl.classList.add('colab-df-quickchart-complete');\n",
              "    }\n",
              "    (() => {\n",
              "      let quickchartButtonEl =\n",
              "        document.querySelector('#df-1bd42eb6-30fe-4fc9-8acc-76df2286c9f6 button');\n",
              "      quickchartButtonEl.style.display =\n",
              "        google.colab.kernel.accessAllowed ? 'block' : 'none';\n",
              "    })();\n",
              "  </script>\n",
              "</div>\n",
              "    </div>\n",
              "  </div>\n"
            ]
          },
          "metadata": {},
          "execution_count": 69
        }
      ]
    },
    {
      "cell_type": "code",
      "source": [
        "# list the columns of the hot encoded dataframe\n",
        "print(ICU_df_encoded.columns)"
      ],
      "metadata": {
        "colab": {
          "base_uri": "https://localhost:8080/"
        },
        "id": "Wm6ODEq1-70G",
        "outputId": "12955228-0b5c-425a-c38a-0d54c43d16be"
      },
      "execution_count": 70,
      "outputs": [
        {
          "output_type": "stream",
          "name": "stdout",
          "text": [
            "Index(['patient_id', 'hospital_id', 'hospital_death', 'age', 'bmi',\n",
            "       'elective_surgery', 'gender', 'height', 'icu_id', 'pre_icu_los_days',\n",
            "       ...\n",
            "       'apache_2_bodysystem_Cardiovascular',\n",
            "       'apache_2_bodysystem_Gastrointestinal',\n",
            "       'apache_2_bodysystem_Haematologic', 'apache_2_bodysystem_Metabolic',\n",
            "       'apache_2_bodysystem_Neurologic',\n",
            "       'apache_2_bodysystem_Renal/Genitourinary',\n",
            "       'apache_2_bodysystem_Respiratory', 'apache_2_bodysystem_Trauma',\n",
            "       'apache_2_bodysystem_Undefined Diagnoses',\n",
            "       'apache_2_bodysystem_Undefined diagnoses'],\n",
            "      dtype='object', length=236)\n"
          ]
        }
      ]
    },
    {
      "cell_type": "code",
      "source": [
        "# checking the data types\n",
        "ICU_df_encoded.dtypes"
      ],
      "metadata": {
        "colab": {
          "base_uri": "https://localhost:8080/"
        },
        "id": "m9u2UWc-8zRp",
        "outputId": "78e5b74f-9abc-44c5-fe2d-0a96b6f666e4"
      },
      "execution_count": 71,
      "outputs": [
        {
          "output_type": "execute_result",
          "data": {
            "text/plain": [
              "patient_id                                   int64\n",
              "hospital_id                                  int64\n",
              "hospital_death                               int64\n",
              "age                                        float64\n",
              "bmi                                        float64\n",
              "                                            ...   \n",
              "apache_2_bodysystem_Renal/Genitourinary      uint8\n",
              "apache_2_bodysystem_Respiratory              uint8\n",
              "apache_2_bodysystem_Trauma                   uint8\n",
              "apache_2_bodysystem_Undefined Diagnoses      uint8\n",
              "apache_2_bodysystem_Undefined diagnoses      uint8\n",
              "Length: 236, dtype: object"
            ]
          },
          "metadata": {},
          "execution_count": 71
        }
      ]
    },
    {
      "cell_type": "code",
      "source": [
        "# check missing value\n",
        "print(ICU_df_encoded.isnull().sum())"
      ],
      "metadata": {
        "colab": {
          "base_uri": "https://localhost:8080/"
        },
        "id": "jeeGkMNX81_i",
        "outputId": "c4a5a1b1-d22c-4954-f699-f7b911b01ee5"
      },
      "execution_count": 72,
      "outputs": [
        {
          "output_type": "stream",
          "name": "stdout",
          "text": [
            "patient_id                                    0\n",
            "hospital_id                                   0\n",
            "hospital_death                                0\n",
            "age                                        4228\n",
            "bmi                                        3429\n",
            "                                           ... \n",
            "apache_2_bodysystem_Renal/Genitourinary       0\n",
            "apache_2_bodysystem_Respiratory               0\n",
            "apache_2_bodysystem_Trauma                    0\n",
            "apache_2_bodysystem_Undefined Diagnoses       0\n",
            "apache_2_bodysystem_Undefined diagnoses       0\n",
            "Length: 236, dtype: int64\n"
          ]
        }
      ]
    },
    {
      "cell_type": "code",
      "source": [
        "#dealing with missing values by replacing missing values in every columns with the median of that column\n",
        "ICU_df_encoded.fillna(ICU_df_encoded.median(), inplace=True)\n",
        "\n",
        "# check missing value\n",
        "print(ICU_df_encoded.isnull().sum())"
      ],
      "metadata": {
        "colab": {
          "base_uri": "https://localhost:8080/"
        },
        "id": "G-8wwaKT8_Ip",
        "outputId": "d03db002-cdc2-416e-ecfc-fa2a1ea8b0d3"
      },
      "execution_count": 87,
      "outputs": [
        {
          "output_type": "stream",
          "name": "stdout",
          "text": [
            "patient_id                                 0\n",
            "hospital_id                                0\n",
            "hospital_death                             0\n",
            "age                                        0\n",
            "bmi                                        0\n",
            "                                          ..\n",
            "apache_2_bodysystem_Renal/Genitourinary    0\n",
            "apache_2_bodysystem_Respiratory            0\n",
            "apache_2_bodysystem_Trauma                 0\n",
            "apache_2_bodysystem_Undefined Diagnoses    0\n",
            "apache_2_bodysystem_Undefined diagnoses    0\n",
            "Length: 236, dtype: int64\n"
          ]
        }
      ]
    },
    {
      "cell_type": "markdown",
      "source": [
        "**Logistic Regression**"
      ],
      "metadata": {
        "id": "_GJe59gV9PQ9"
      }
    },
    {
      "cell_type": "code",
      "source": [
        "# Import necessary libraries for feature selection and logistic regression\n",
        "from sklearn.feature_selection import RFECV\n",
        "from sklearn.linear_model import LogisticRegression\n",
        "from sklearn.model_selection import StratifiedKFold\n",
        "import pandas as pd\n",
        "import numpy as np\n",
        "import matplotlib.pyplot as plt\n",
        "from sklearn.model_selection import train_test_split\n",
        "from sklearn.metrics import confusion_matrix, classification_report, roc_auc_score, roc_curve\n",
        "from sklearn.preprocessing import StandardScaler\n",
        "import seaborn as sns\n",
        "import warnings\n",
        "\n",
        "warnings.filterwarnings('ignore')\n"
      ],
      "metadata": {
        "id": "UFs5HTz192Z_"
      },
      "execution_count": 93,
      "outputs": []
    },
    {
      "cell_type": "code",
      "source": [
        "#creating a new dataframe for logistic regression analysis called ICU_LR which has one hot encoding, dropped column and imputation for missing numbers\n",
        "ICU_LR = ICU_df_encoded.copy()"
      ],
      "metadata": {
        "id": "MYKKwben_Ma1"
      },
      "execution_count": 88,
      "outputs": []
    },
    {
      "cell_type": "code",
      "source": [
        "#checking that outcome is balanced\n",
        "# Assuming 'target_column' is the name of the binary column you want to check\n",
        "value_counts = ICU_LR['hospital_death'].value_counts()\n",
        "\n",
        "# Display the counts of unique values\n",
        "print(value_counts)\n",
        "\n",
        "# Check if the data is balanced\n",
        "is_balanced = abs(value_counts[0] - value_counts[1]) / len(ICU_LR['hospital_death']) < 0.2  # Adjust the threshold as needed\n",
        "\n",
        "# Display the result\n",
        "print(f\"The binary column's data is balanced: {is_balanced}\")"
      ],
      "metadata": {
        "colab": {
          "base_uri": "https://localhost:8080/"
        },
        "id": "3L7e2qsA9YXr",
        "outputId": "42b09ec5-ff89-4b60-e7ae-fab2b3776f87"
      },
      "execution_count": 89,
      "outputs": [
        {
          "output_type": "stream",
          "name": "stdout",
          "text": [
            "0    83798\n",
            "1     7915\n",
            "Name: hospital_death, dtype: int64\n",
            "The binary column's data is balanced: False\n"
          ]
        }
      ]
    },
    {
      "cell_type": "code",
      "source": [
        "#balancing the 'hospital_death' ie outcome with bootstrap upsampling\n",
        "from sklearn.utils import resample\n",
        "\n",
        "# Separate majority and minority classes\n",
        "df_majority = ICU_LR[ICU_LR['hospital_death'] == 0]\n",
        "df_minority = ICU_LR[ICU_LR['hospital_death'] == 1]\n",
        "\n",
        "# Upsample minority class\n",
        "df_minority_upsampled = resample(df_minority, replace=True, n_samples=len(df_majority), random_state=42)\n",
        "\n",
        "# Combine majority class with upsampled minority class\n",
        "ICU_LR_upsampled = pd.concat([df_majority, df_minority_upsampled])\n",
        "\n",
        "# Now 'ICU_LR_upsampled' contains the upsampled data\n",
        "\n"
      ],
      "metadata": {
        "id": "OAy9v0Gl9aM0"
      },
      "execution_count": 85,
      "outputs": []
    },
    {
      "cell_type": "code",
      "source": [
        "# Split the data into features and target variable\n",
        "X = ICU_LR_upsampled.drop('hospital_death', axis=1)\n",
        "y = ICU_LR_upsampled['hospital_death']\n",
        "\n",
        "# Split the data into training and testing sets\n",
        "X_train, X_test, y_train, y_test = train_test_split(X, y, test_size=0.2, random_state=42)\n",
        "\n",
        "# Normalizing data\n",
        "scaler = StandardScaler()\n",
        "X_train_scaled = scaler.fit_transform(X_train)\n",
        "X_test_scaled = scaler.transform(X_test)"
      ],
      "metadata": {
        "id": "Yj0JnyG19en0"
      },
      "execution_count": 94,
      "outputs": []
    },
    {
      "cell_type": "code",
      "source": [
        "# Initialize a Logistic Regression model\n",
        "model = LogisticRegression()\n",
        "\n",
        "# Define a StratifiedKFold cross-validation\n",
        "cv = StratifiedKFold(3)\n",
        "\n",
        "# Initialize Recursive Feature Elimination with Cross-Validation (RFECV)\n",
        "rfecv = RFECV(\n",
        "    estimator=model,\n",
        "    step=1,\n",
        "    cv=cv,\n",
        "    scoring='roc_auc',  # Specify the scoring metric (ROC AUC in this case)\n",
        "    min_features_to_select=1,\n",
        ")\n",
        "rfecv.fit(X_train, y_train)\n",
        "\n",
        "# Print the optimal number of selected features\n",
        "print(f\"Optimal number of features: {rfecv.n_features_}\")\n"
      ],
      "metadata": {
        "colab": {
          "base_uri": "https://localhost:8080/"
        },
        "id": "HLokM4oY95F6",
        "outputId": "4bb8149d-2d52-4019-d874-ba5792f05846"
      },
      "execution_count": 95,
      "outputs": [
        {
          "output_type": "stream",
          "name": "stdout",
          "text": [
            "Optimal number of features: 62\n"
          ]
        }
      ]
    },
    {
      "cell_type": "code",
      "source": [
        "# Which columns used and which wasn't used\n",
        "rfecv.support_\n",
        "\n",
        "#Show names of columns used\n",
        "ICU_LR_upsampled.columns[list(rfecv.support_) + [True]]\n"
      ],
      "metadata": {
        "colab": {
          "base_uri": "https://localhost:8080/"
        },
        "id": "CM-2oeXD-AuV",
        "outputId": "59a15cc2-21e1-48a7-de62-5a6a4d6601d2"
      },
      "execution_count": 97,
      "outputs": [
        {
          "output_type": "execute_result",
          "data": {
            "text/plain": [
              "Index(['hospital_death', 'bmi', 'icu_id', 'weight', 'apache_3j_diagnosis',\n",
              "       'creatinine_apache', 'fio2_apache', 'gcs_eyes_apache',\n",
              "       'gcs_motor_apache', 'hematocrit_apache', 'urineoutput_apache',\n",
              "       'd1_diasbp_noninvasive_min', 'd1_mbp_max', 'd1_spo2_max', 'd1_temp_max',\n",
              "       'h1_resprate_max', 'h1_temp_min', 'd1_albumin_max', 'd1_albumin_min',\n",
              "       'd1_bilirubin_max', 'd1_bun_max', 'd1_hco3_min', 'd1_hematocrit_min',\n",
              "       'd1_inr_max', 'd1_inr_min', 'd1_lactate_max', 'd1_wbc_max',\n",
              "       'd1_wbc_min', 'h1_albumin_min', 'h1_bilirubin_max', 'h1_hematocrit_max',\n",
              "       'h1_hematocrit_min', 'h1_inr_max', 'h1_lactate_max', 'h1_sodium_max',\n",
              "       'h1_pao2fio2ratio_min', 'apache_4a_hospital_death_prob', 'cirrhosis',\n",
              "       'hepatic_failure', 'lymphoma',\n",
              "       'hospital_admit_source_Chest Pain Center',\n",
              "       'hospital_admit_source_Emergency Department',\n",
              "       'hospital_admit_source_Observation', 'hospital_admit_source_Other',\n",
              "       'hospital_admit_source_Step-Down Unit (SDU)',\n",
              "       'icu_admit_source_Accident & Emergency', 'icu_admit_source_Floor',\n",
              "       'icu_admit_source_Operating Room / Recovery', 'icu_type_CCU-CTICU',\n",
              "       'icu_type_MICU', 'icu_type_Med-Surg ICU', 'icu_type_SICU',\n",
              "       'apache_3j_bodysystem_Cardiovascular',\n",
              "       'apache_3j_bodysystem_Hematological',\n",
              "       'apache_3j_bodysystem_Musculoskeletal/Skin',\n",
              "       'apache_3j_bodysystem_Neurological', 'apache_3j_bodysystem_Trauma',\n",
              "       'apache_2_bodysystem_Cardiovascular',\n",
              "       'apache_2_bodysystem_Haematologic', 'apache_2_bodysystem_Metabolic',\n",
              "       'apache_2_bodysystem_Renal/Genitourinary',\n",
              "       'apache_2_bodysystem_Undefined Diagnoses',\n",
              "       'apache_2_bodysystem_Undefined diagnoses'],\n",
              "      dtype='object')"
            ]
          },
          "metadata": {},
          "execution_count": 97
        }
      ]
    },
    {
      "cell_type": "code",
      "source": [
        "# Features ranking low is better\n",
        "rfecv.ranking_"
      ],
      "metadata": {
        "colab": {
          "base_uri": "https://localhost:8080/"
        },
        "id": "CFKP9g96-C5K",
        "outputId": "7bf7f85d-851a-4326-a1ed-4cb3a72581a5"
      },
      "execution_count": 98,
      "outputs": [
        {
          "output_type": "execute_result",
          "data": {
            "text/plain": [
              "array([163, 154,   1,  99,   1, 114,  27, 140,   1, 174,  28,   1, 110,\n",
              "        83,   1, 122,  19,  32,  48,   1,   1,   1,   1,   8, 129,  88,\n",
              "       123,   1,  69,  46,  52,  98, 148,   3, 147,   2, 115,   1,  10,\n",
              "        72,  42,  61, 146, 132, 116,   1, 130, 128,  40,  96,   1, 134,\n",
              "        81,  68,  15, 161,   1, 101, 105,  90,   6, 102,  91, 149,   1,\n",
              "        97,  14,  33,  71,  70, 107,  67,  62, 109,  78,  63,   9, 106,\n",
              "         4,  60,   1, 133,  38,  66, 113, 143, 104,  76, 100,  20,   7,\n",
              "         1,   1,   1,   1,  57,   1,  56,  17,  93,  41, 103,  31,  37,\n",
              "        43,   1,  11,  49,  79,   1,   1,   1,   1,  92,  77,  73,  13,\n",
              "        12,  21,  22,   1,   1,  18,   1,   1,  58, 112,  51,  55, 150,\n",
              "       151, 111, 118,  82,  65, 160, 159,  23,   1,   1,   1,  24,   1,\n",
              "       139,  95, 158, 153,   5,   1, 131, 126,  16,  45, 152,  85,  50,\n",
              "        39,  44, 108,  47,  75, 156, 157,  25,  26,  59,  54,   1,   1,\n",
              "       164,  30,   1,  36,   1, 121, 137,   1, 135, 166, 120,  94, 168,\n",
              "       119, 124, 155,   1,  53,   1, 172, 170, 167,   1, 173,   1, 125,\n",
              "       144, 136,  89,   1,   1,   1,   1,  84, 162, 171, 142,  74,   1,\n",
              "        35,  86,  29,   1,   1,  80,   1,   1, 117, 145, 138,   1, 127,\n",
              "         1,   1,  34,  64,   1,   1, 141,   1,   1,  87,   1, 165, 169,\n",
              "         1])"
            ]
          },
          "metadata": {},
          "execution_count": 98
        }
      ]
    },
    {
      "cell_type": "code",
      "source": [
        "#Show names of columns used\n",
        "ICU_LR_upsampled.columns[list(rfecv.ranking_)]"
      ],
      "metadata": {
        "colab": {
          "base_uri": "https://localhost:8080/"
        },
        "id": "w0RT7TKYNyK-",
        "outputId": "9211e4d3-f0b6-400c-c286-0925a9544005"
      },
      "execution_count": 99,
      "outputs": [
        {
          "output_type": "execute_result",
          "data": {
            "text/plain": [
              "Index(['h1_arterial_ph_min', 'd1_arterial_ph_max', 'hospital_id',\n",
              "       'd1_calcium_min', 'hospital_id', 'd1_platelets_max',\n",
              "       'hematocrit_apache', 'h1_inr_max', 'hospital_id', 'immunosuppression',\n",
              "       ...\n",
              "       'hospital_id', 'hospital_id', 'h1_inr_min', 'hospital_id',\n",
              "       'hospital_id', 'h1_sysbp_min', 'hospital_id', 'h1_arterial_po2_min',\n",
              "       'apache_4a_icu_death_prob', 'hospital_id'],\n",
              "      dtype='object', length=235)"
            ]
          },
          "metadata": {},
          "execution_count": 99
        }
      ]
    },
    {
      "cell_type": "code",
      "source": [
        "# Calculate the number of different feature selections tested\n",
        "n_scores = len(rfecv.cv_results_[\"mean_test_score\"])"
      ],
      "metadata": {
        "id": "egaz3H0k-FwP"
      },
      "execution_count": 100,
      "outputs": []
    },
    {
      "cell_type": "code",
      "source": [
        "# Create a new figure for plotting\n",
        "plt.figure()\n",
        "\n",
        "# Set labels for the x and y axes\n",
        "plt.xlabel(\"Number of features selected\")\n",
        "plt.ylabel(\"Mean test score\")\n",
        "\n",
        "# Plot the mean test scores with error bars\n",
        "plt.errorbar(\n",
        "    range(1, n_scores + 1),\n",
        "    rfecv.cv_results_[\"mean_test_score\"],\n",
        "    yerr=rfecv.cv_results_[\"std_test_score\"],\n",
        "    color='#995687'  # Change the color to green\n",
        ")\n",
        "\n",
        "# Set the title for the plot\n",
        "plt.title(\"Recursive Feature Elimination\")\n",
        "\n",
        "# Show the plot\n",
        "plt.show()\n"
      ],
      "metadata": {
        "colab": {
          "base_uri": "https://localhost:8080/",
          "height": 472
        },
        "id": "9rErg85r-IDZ",
        "outputId": "ff133536-5bd3-4ea3-d176-843126c517ab"
      },
      "execution_count": 101,
      "outputs": [
        {
          "output_type": "display_data",
          "data": {
            "text/plain": [
              "<Figure size 640x480 with 1 Axes>"
            ],
            "image/png": "[encoded data removed]"
          },
          "metadata": {}
        }
      ]
    },
    {
      "cell_type": "code",
      "source": [
        "# Define a function to compute various scores for model evaluation\n",
        "def get_scores(Y_pred, Y):\n",
        "    # Calculate confusion matrix, classification report, ROC AUC, and accuracy\n",
        "    conf_matrix = confusion_matrix(Y_pred, Y)\n",
        "    class_report = classification_report(Y_pred, Y)\n",
        "    auc = roc_auc_score(Y_pred, Y)\n",
        "    acc = accuracy_score(Y_pred, Y)\n",
        "\n",
        "    # Return the computed scores\n",
        "    return conf_matrix, class_report, auc, acc\n",
        "\n",
        "# Define a function to print the computed scores\n",
        "def print_scores(conf_matrix, class_report, auc, acc):\n",
        "    print('AUC : ', auc)\n",
        "    print('Accuracy : ', acc)\n",
        "    print(\"Confusion Matrix:\")\n",
        "    print(conf_matrix)\n",
        "    print(\"\\nClassification Report:\")\n",
        "    print(class_report)\n",
        "\n",
        "\n"
      ],
      "metadata": {
        "id": "WP7GBsG5-LHK"
      },
      "execution_count": 102,
      "outputs": []
    },
    {
      "cell_type": "code",
      "source": [
        "selected_columns = X_train.columns[rfecv.support_]\n",
        "\n",
        "# Select only the features that were chosen by RFECV\n",
        "X_train = X_train[selected_columns]\n",
        "X_test = X_test[selected_columns]\n",
        "\n",
        "# Initialize and train a Logistic Regression model\n",
        "model = LogisticRegression()\n",
        "model.fit(X_train, y_train)\n",
        "\n",
        "# Make predictions on the test and training sets\n",
        "y_pred_test = model.predict(X_test)\n",
        "y_pred_train = model.predict(X_train)\n",
        "\n",
        "# Calculate evaluation metrics and scores for the test and training sets\n",
        "conf_matrix_test, class_report_test, auc_test, acc_test = get_scores(y_pred_test, y_test)\n",
        "conf_matrix_train, class_report_train, auc_train, acc_train = get_scores(y_pred_train, y_train)"
      ],
      "metadata": {
        "colab": {
          "base_uri": "https://localhost:8080/",
          "height": 373
        },
        "id": "Ex60vx5l-OTw",
        "outputId": "ff711759-1fb9-4d39-fe12-2e47e5aeb00c"
      },
      "execution_count": 107,
      "outputs": [
        {
          "output_type": "error",
          "ename": "IndexError",
          "evalue": "ignored",
          "traceback": [
            "\u001b[0;31m---------------------------------------------------------------------------\u001b[0m",
            "\u001b[0;31mIndexError\u001b[0m                                Traceback (most recent call last)",
            "\u001b[0;32m<ipython-input-107-3feb05cc5108>\u001b[0m in \u001b[0;36m<cell line: 1>\u001b[0;34m()\u001b[0m\n\u001b[0;32m----> 1\u001b[0;31m \u001b[0mselected_columns\u001b[0m \u001b[0;34m=\u001b[0m \u001b[0mX_train\u001b[0m\u001b[0;34m.\u001b[0m\u001b[0mcolumns\u001b[0m\u001b[0;34m[\u001b[0m\u001b[0mrfecv\u001b[0m\u001b[0;34m.\u001b[0m\u001b[0msupport_\u001b[0m\u001b[0;34m]\u001b[0m\u001b[0;34m\u001b[0m\u001b[0;34m\u001b[0m\u001b[0m\n\u001b[0m\u001b[1;32m      2\u001b[0m \u001b[0;34m\u001b[0m\u001b[0m\n\u001b[1;32m      3\u001b[0m \u001b[0;31m# Select only the features that were chosen by RFECV\u001b[0m\u001b[0;34m\u001b[0m\u001b[0;34m\u001b[0m\u001b[0m\n\u001b[1;32m      4\u001b[0m \u001b[0mX_train\u001b[0m \u001b[0;34m=\u001b[0m \u001b[0mX_train\u001b[0m\u001b[0;34m[\u001b[0m\u001b[0mselected_columns\u001b[0m\u001b[0;34m]\u001b[0m\u001b[0;34m\u001b[0m\u001b[0;34m\u001b[0m\u001b[0m\n\u001b[1;32m      5\u001b[0m \u001b[0mX_test\u001b[0m \u001b[0;34m=\u001b[0m \u001b[0mX_test\u001b[0m\u001b[0;34m[\u001b[0m\u001b[0mselected_columns\u001b[0m\u001b[0;34m]\u001b[0m\u001b[0;34m\u001b[0m\u001b[0;34m\u001b[0m\u001b[0m\n",
            "\u001b[0;32m/usr/local/lib/python3.10/dist-packages/pandas/core/indexes/base.py\u001b[0m in \u001b[0;36m__getitem__\u001b[0;34m(self, key)\u001b[0m\n\u001b[1;32m   5337\u001b[0m                 \u001b[0mkey\u001b[0m \u001b[0;34m=\u001b[0m \u001b[0mnp\u001b[0m\u001b[0;34m.\u001b[0m\u001b[0masarray\u001b[0m\u001b[0;34m(\u001b[0m\u001b[0mkey\u001b[0m\u001b[0;34m,\u001b[0m \u001b[0mdtype\u001b[0m\u001b[0;34m=\u001b[0m\u001b[0mbool\u001b[0m\u001b[0;34m)\u001b[0m\u001b[0;34m\u001b[0m\u001b[0;34m\u001b[0m\u001b[0m\n\u001b[1;32m   5338\u001b[0m \u001b[0;34m\u001b[0m\u001b[0m\n\u001b[0;32m-> 5339\u001b[0;31m         \u001b[0mresult\u001b[0m \u001b[0;34m=\u001b[0m \u001b[0mgetitem\u001b[0m\u001b[0;34m(\u001b[0m\u001b[0mkey\u001b[0m\u001b[0;34m)\u001b[0m\u001b[0;34m\u001b[0m\u001b[0;34m\u001b[0m\u001b[0m\n\u001b[0m\u001b[1;32m   5340\u001b[0m         \u001b[0;31m# Because we ruled out integer above, we always get an arraylike here\u001b[0m\u001b[0;34m\u001b[0m\u001b[0;34m\u001b[0m\u001b[0m\n\u001b[1;32m   5341\u001b[0m         \u001b[0;32mif\u001b[0m \u001b[0mresult\u001b[0m\u001b[0;34m.\u001b[0m\u001b[0mndim\u001b[0m \u001b[0;34m>\u001b[0m \u001b[0;36m1\u001b[0m\u001b[0;34m:\u001b[0m\u001b[0;34m\u001b[0m\u001b[0;34m\u001b[0m\u001b[0m\n",
            "\u001b[0;31mIndexError\u001b[0m: boolean index did not match indexed array along dimension 0; dimension is 62 but corresponding boolean dimension is 235"
          ]
        }
      ]
    },
    {
      "cell_type": "code",
      "source": [
        "# Print scores and evaluation metrics for the training set\n",
        "print('======== Training Set ==========')\n",
        "print_scores(conf_matrix_train, class_report_train, auc_train, acc_train)\n",
        "\n",
        "# Print scores and evaluation metrics for the test set\n",
        "print('======== Test Set ==========')\n",
        "print_scores(conf_matrix_test, class_report_test, auc_test, acc_test)\n",
        "\n",
        ""
      ],
      "metadata": {
        "colab": {
          "base_uri": "https://localhost:8080/"
        },
        "id": "-EA6ONuo-RyE",
        "outputId": "da06f187-4b3e-4b44-ff1f-8eb98efd0a47"
      },
      "execution_count": 104,
      "outputs": [
        {
          "output_type": "stream",
          "name": "stdout",
          "text": [
            "======== Training Set ==========\n",
            "AUC :  0.797274915498634\n",
            "Accuracy :  0.7970628598705212\n",
            "Confusion Matrix:\n",
            "[[54362 14497]\n",
            " [12712 52505]]\n",
            "\n",
            "Classification Report:\n",
            "              precision    recall  f1-score   support\n",
            "\n",
            "           0       0.81      0.79      0.80     68859\n",
            "           1       0.78      0.81      0.79     65217\n",
            "\n",
            "    accuracy                           0.80    134076\n",
            "   macro avg       0.80      0.80      0.80    134076\n",
            "weighted avg       0.80      0.80      0.80    134076\n",
            "\n",
            "======== Test Set ==========\n",
            "AUC :  0.7956509935885241\n",
            "Accuracy :  0.7954355608591885\n",
            "Confusion Matrix:\n",
            "[[13525  3658]\n",
            " [ 3199 13138]]\n",
            "\n",
            "Classification Report:\n",
            "              precision    recall  f1-score   support\n",
            "\n",
            "           0       0.81      0.79      0.80     17183\n",
            "           1       0.78      0.80      0.79     16337\n",
            "\n",
            "    accuracy                           0.80     33520\n",
            "   macro avg       0.80      0.80      0.80     33520\n",
            "weighted avg       0.80      0.80      0.80     33520\n",
            "\n"
          ]
        }
      ]
    },
    {
      "cell_type": "code",
      "source": [
        "# Plot the ROC curve for the training set\n",
        "from sklearn.metrics import RocCurveDisplay, auc, roc_curve\n",
        "fpr, tpr, thresholds = roc_curve(y_pred_train, y_train)\n",
        "roc_auc = auc(fpr, tpr)\n",
        "display = RocCurveDisplay(fpr=fpr, tpr=tpr, roc_auc=roc_auc, estimator_name='Logistic Regression')\n",
        "display.plot()"
      ],
      "metadata": {
        "colab": {
          "base_uri": "https://localhost:8080/",
          "height": 467
        },
        "id": "v1vKnBFR-TtZ",
        "outputId": "2f03b65b-638b-4b4d-8e93-f0e04d2d2ef3"
      },
      "execution_count": 105,
      "outputs": [
        {
          "output_type": "execute_result",
          "data": {
            "text/plain": [
              "<sklearn.metrics._plot.roc_curve.RocCurveDisplay at 0x7a8af23fd030>"
            ]
          },
          "metadata": {},
          "execution_count": 105
        },
        {
          "output_type": "display_data",
          "data": {
            "text/plain": [
              "<Figure size 640x480 with 1 Axes>"
            ],
            "image/png": "[encoded data removed]"
          },
          "metadata": {}
        }
      ]
    },
    {
      "cell_type": "code",
      "source": [
        "# Get summary report\n",
        "# Print the coefficients and intercept\n",
        "print(\"Coefficients:\", model.coef_)\n",
        "print(\"Intercept:\", model.intercept_)"
      ],
      "metadata": {
        "colab": {
          "base_uri": "https://localhost:8080/"
        },
        "id": "FD6gryvM-VIj",
        "outputId": "d1ac637e-6938-45ff-be49-3c5e89999309"
      },
      "execution_count": 109,
      "outputs": [
        {
          "output_type": "stream",
          "name": "stdout",
          "text": [
            "Coefficients: [[ 0.03130278 -0.40122047  0.05048309 -0.10159816 -0.33767746  0.18816485\n",
            "  -0.1967235  -0.19346085  0.17315213  0.26801404  0.7446327   0.01261158\n",
            "  -0.01274086 -0.02040232 -0.16633137  0.03161908 -0.11289127 -0.1637276\n",
            "   0.05649008  0.04135586  0.01394693 -0.06737751  0.02466784  0.02900502\n",
            "   0.06417978  0.28747139  0.02480119 -0.01830003  0.02541329  0.0252353\n",
            "   0.01913552  0.02466784  0.02900502 -0.08686555  0.03955599  0.32621946\n",
            "   0.19444013 -0.20275512  0.15281881  0.1872266   0.11818735  0.14012098\n",
            "  -0.23479281  0.07981653 -0.0185824   0.18739696 -0.36724733  0.12145358\n",
            "  -0.16821054 -0.10890814  0.14261662 -0.0989821  -0.0631869  -0.25297337\n",
            "   0.22347463  0.16228869  0.12789313 -0.0631869  -0.25297337  0.22347463\n",
            "   0.16228869 -0.17781576]]\n",
            "Intercept: [0.01678869]\n"
          ]
        }
      ]
    },
    {
      "cell_type": "code",
      "source": [
        "import statsmodels.api as sm\n",
        "\n",
        "# Select only the features that were chosen by RFECV\n",
        "X_train = X_train[selected_columns]\n",
        "X_test = X_test[selected_columns]\n",
        "\n",
        "# Add a constant to the features\n",
        "X_train = sm.add_constant(X_train)\n",
        "\n",
        "# Fit the logistic regression model\n",
        "model = sm.Logit(y_train, X_train)\n",
        "result = model.fit()\n",
        "\n",
        "# Print the summary\n",
        "print(result.summary())"
      ],
      "metadata": {
        "colab": {
          "base_uri": "https://localhost:8080/",
          "height": 451
        },
        "id": "VjKGBS9ZPOKR",
        "outputId": "2c60dc77-e8e6-4521-d6d1-14ebbd3f2bf8"
      },
      "execution_count": 110,
      "outputs": [
        {
          "output_type": "stream",
          "name": "stdout",
          "text": [
            "Optimization terminated successfully.\n",
            "         Current function value: 0.433520\n",
            "         Iterations 8\n"
          ]
        },
        {
          "output_type": "error",
          "ename": "LinAlgError",
          "evalue": "ignored",
          "traceback": [
            "\u001b[0;31m---------------------------------------------------------------------------\u001b[0m",
            "\u001b[0;31mLinAlgError\u001b[0m                               Traceback (most recent call last)",
            "\u001b[0;32m<ipython-input-110-b53fbe427b9a>\u001b[0m in \u001b[0;36m<cell line: 12>\u001b[0;34m()\u001b[0m\n\u001b[1;32m     10\u001b[0m \u001b[0;31m# Fit the logistic regression model\u001b[0m\u001b[0;34m\u001b[0m\u001b[0;34m\u001b[0m\u001b[0m\n\u001b[1;32m     11\u001b[0m \u001b[0mmodel\u001b[0m \u001b[0;34m=\u001b[0m \u001b[0msm\u001b[0m\u001b[0;34m.\u001b[0m\u001b[0mLogit\u001b[0m\u001b[0;34m(\u001b[0m\u001b[0my_train\u001b[0m\u001b[0;34m,\u001b[0m \u001b[0mX_train\u001b[0m\u001b[0;34m)\u001b[0m\u001b[0;34m\u001b[0m\u001b[0;34m\u001b[0m\u001b[0m\n\u001b[0;32m---> 12\u001b[0;31m \u001b[0mresult\u001b[0m \u001b[0;34m=\u001b[0m \u001b[0mmodel\u001b[0m\u001b[0;34m.\u001b[0m\u001b[0mfit\u001b[0m\u001b[0;34m(\u001b[0m\u001b[0;34m)\u001b[0m\u001b[0;34m\u001b[0m\u001b[0;34m\u001b[0m\u001b[0m\n\u001b[0m\u001b[1;32m     13\u001b[0m \u001b[0;34m\u001b[0m\u001b[0m\n\u001b[1;32m     14\u001b[0m \u001b[0;31m# Print the summary\u001b[0m\u001b[0;34m\u001b[0m\u001b[0;34m\u001b[0m\u001b[0m\n",
            "\u001b[0;32m/usr/local/lib/python3.10/dist-packages/statsmodels/discrete/discrete_model.py\u001b[0m in \u001b[0;36mfit\u001b[0;34m(self, start_params, method, maxiter, full_output, disp, callback, **kwargs)\u001b[0m\n\u001b[1;32m   2597\u001b[0m     def fit(self, start_params=None, method='newton', maxiter=35,\n\u001b[1;32m   2598\u001b[0m             full_output=1, disp=1, callback=None, **kwargs):\n\u001b[0;32m-> 2599\u001b[0;31m         bnryfit = super().fit(start_params=start_params,\n\u001b[0m\u001b[1;32m   2600\u001b[0m                               \u001b[0mmethod\u001b[0m\u001b[0;34m=\u001b[0m\u001b[0mmethod\u001b[0m\u001b[0;34m,\u001b[0m\u001b[0;34m\u001b[0m\u001b[0;34m\u001b[0m\u001b[0m\n\u001b[1;32m   2601\u001b[0m                               \u001b[0mmaxiter\u001b[0m\u001b[0;34m=\u001b[0m\u001b[0mmaxiter\u001b[0m\u001b[0;34m,\u001b[0m\u001b[0;34m\u001b[0m\u001b[0;34m\u001b[0m\u001b[0m\n",
            "\u001b[0;32m/usr/local/lib/python3.10/dist-packages/statsmodels/discrete/discrete_model.py\u001b[0m in \u001b[0;36mfit\u001b[0;34m(self, start_params, method, maxiter, full_output, disp, callback, **kwargs)\u001b[0m\n\u001b[1;32m    241\u001b[0m             \u001b[0;32mpass\u001b[0m  \u001b[0;31m# TODO: make a function factory to have multiple call-backs\u001b[0m\u001b[0;34m\u001b[0m\u001b[0;34m\u001b[0m\u001b[0m\n\u001b[1;32m    242\u001b[0m \u001b[0;34m\u001b[0m\u001b[0m\n\u001b[0;32m--> 243\u001b[0;31m         mlefit = super().fit(start_params=start_params,\n\u001b[0m\u001b[1;32m    244\u001b[0m                              \u001b[0mmethod\u001b[0m\u001b[0;34m=\u001b[0m\u001b[0mmethod\u001b[0m\u001b[0;34m,\u001b[0m\u001b[0;34m\u001b[0m\u001b[0;34m\u001b[0m\u001b[0m\n\u001b[1;32m    245\u001b[0m                              \u001b[0mmaxiter\u001b[0m\u001b[0;34m=\u001b[0m\u001b[0mmaxiter\u001b[0m\u001b[0;34m,\u001b[0m\u001b[0;34m\u001b[0m\u001b[0;34m\u001b[0m\u001b[0m\n",
            "\u001b[0;32m/usr/local/lib/python3.10/dist-packages/statsmodels/base/model.py\u001b[0m in \u001b[0;36mfit\u001b[0;34m(self, start_params, method, maxiter, full_output, disp, fargs, callback, retall, skip_hessian, **kwargs)\u001b[0m\n\u001b[1;32m    580\u001b[0m             \u001b[0mHinv\u001b[0m \u001b[0;34m=\u001b[0m \u001b[0mcov_params_func\u001b[0m\u001b[0;34m(\u001b[0m\u001b[0mself\u001b[0m\u001b[0;34m,\u001b[0m \u001b[0mxopt\u001b[0m\u001b[0;34m,\u001b[0m \u001b[0mretvals\u001b[0m\u001b[0;34m)\u001b[0m\u001b[0;34m\u001b[0m\u001b[0;34m\u001b[0m\u001b[0m\n\u001b[1;32m    581\u001b[0m         \u001b[0;32melif\u001b[0m \u001b[0mmethod\u001b[0m \u001b[0;34m==\u001b[0m \u001b[0;34m'newton'\u001b[0m \u001b[0;32mand\u001b[0m \u001b[0mfull_output\u001b[0m\u001b[0;34m:\u001b[0m\u001b[0;34m\u001b[0m\u001b[0;34m\u001b[0m\u001b[0m\n\u001b[0;32m--> 582\u001b[0;31m             \u001b[0mHinv\u001b[0m \u001b[0;34m=\u001b[0m \u001b[0mnp\u001b[0m\u001b[0;34m.\u001b[0m\u001b[0mlinalg\u001b[0m\u001b[0;34m.\u001b[0m\u001b[0minv\u001b[0m\u001b[0;34m(\u001b[0m\u001b[0;34m-\u001b[0m\u001b[0mretvals\u001b[0m\u001b[0;34m[\u001b[0m\u001b[0;34m'Hessian'\u001b[0m\u001b[0;34m]\u001b[0m\u001b[0;34m)\u001b[0m \u001b[0;34m/\u001b[0m \u001b[0mnobs\u001b[0m\u001b[0;34m\u001b[0m\u001b[0;34m\u001b[0m\u001b[0m\n\u001b[0m\u001b[1;32m    583\u001b[0m         \u001b[0;32melif\u001b[0m \u001b[0;32mnot\u001b[0m \u001b[0mskip_hessian\u001b[0m\u001b[0;34m:\u001b[0m\u001b[0;34m\u001b[0m\u001b[0;34m\u001b[0m\u001b[0m\n\u001b[1;32m    584\u001b[0m             \u001b[0mH\u001b[0m \u001b[0;34m=\u001b[0m \u001b[0;34m-\u001b[0m\u001b[0;36m1\u001b[0m \u001b[0;34m*\u001b[0m \u001b[0mself\u001b[0m\u001b[0;34m.\u001b[0m\u001b[0mhessian\u001b[0m\u001b[0;34m(\u001b[0m\u001b[0mxopt\u001b[0m\u001b[0;34m)\u001b[0m\u001b[0;34m\u001b[0m\u001b[0;34m\u001b[0m\u001b[0m\n",
            "\u001b[0;32m/usr/local/lib/python3.10/dist-packages/numpy/core/overrides.py\u001b[0m in \u001b[0;36minv\u001b[0;34m(*args, **kwargs)\u001b[0m\n",
            "\u001b[0;32m/usr/local/lib/python3.10/dist-packages/numpy/linalg/linalg.py\u001b[0m in \u001b[0;36minv\u001b[0;34m(a)\u001b[0m\n\u001b[1;32m    550\u001b[0m     \u001b[0msignature\u001b[0m \u001b[0;34m=\u001b[0m \u001b[0;34m'D->D'\u001b[0m \u001b[0;32mif\u001b[0m \u001b[0misComplexType\u001b[0m\u001b[0;34m(\u001b[0m\u001b[0mt\u001b[0m\u001b[0;34m)\u001b[0m \u001b[0;32melse\u001b[0m \u001b[0;34m'd->d'\u001b[0m\u001b[0;34m\u001b[0m\u001b[0;34m\u001b[0m\u001b[0m\n\u001b[1;32m    551\u001b[0m     \u001b[0mextobj\u001b[0m \u001b[0;34m=\u001b[0m \u001b[0mget_linalg_error_extobj\u001b[0m\u001b[0;34m(\u001b[0m\u001b[0m_raise_linalgerror_singular\u001b[0m\u001b[0;34m)\u001b[0m\u001b[0;34m\u001b[0m\u001b[0;34m\u001b[0m\u001b[0m\n\u001b[0;32m--> 552\u001b[0;31m     \u001b[0mainv\u001b[0m \u001b[0;34m=\u001b[0m \u001b[0m_umath_linalg\u001b[0m\u001b[0;34m.\u001b[0m\u001b[0minv\u001b[0m\u001b[0;34m(\u001b[0m\u001b[0ma\u001b[0m\u001b[0;34m,\u001b[0m \u001b[0msignature\u001b[0m\u001b[0;34m=\u001b[0m\u001b[0msignature\u001b[0m\u001b[0;34m,\u001b[0m \u001b[0mextobj\u001b[0m\u001b[0;34m=\u001b[0m\u001b[0mextobj\u001b[0m\u001b[0;34m)\u001b[0m\u001b[0;34m\u001b[0m\u001b[0;34m\u001b[0m\u001b[0m\n\u001b[0m\u001b[1;32m    553\u001b[0m     \u001b[0;32mreturn\u001b[0m \u001b[0mwrap\u001b[0m\u001b[0;34m(\u001b[0m\u001b[0mainv\u001b[0m\u001b[0;34m.\u001b[0m\u001b[0mastype\u001b[0m\u001b[0;34m(\u001b[0m\u001b[0mresult_t\u001b[0m\u001b[0;34m,\u001b[0m \u001b[0mcopy\u001b[0m\u001b[0;34m=\u001b[0m\u001b[0;32mFalse\u001b[0m\u001b[0;34m)\u001b[0m\u001b[0;34m)\u001b[0m\u001b[0;34m\u001b[0m\u001b[0;34m\u001b[0m\u001b[0m\n\u001b[1;32m    554\u001b[0m \u001b[0;34m\u001b[0m\u001b[0m\n",
            "\u001b[0;32m/usr/local/lib/python3.10/dist-packages/numpy/linalg/linalg.py\u001b[0m in \u001b[0;36m_raise_linalgerror_singular\u001b[0;34m(err, flag)\u001b[0m\n\u001b[1;32m     87\u001b[0m \u001b[0;34m\u001b[0m\u001b[0m\n\u001b[1;32m     88\u001b[0m \u001b[0;32mdef\u001b[0m \u001b[0m_raise_linalgerror_singular\u001b[0m\u001b[0;34m(\u001b[0m\u001b[0merr\u001b[0m\u001b[0;34m,\u001b[0m \u001b[0mflag\u001b[0m\u001b[0;34m)\u001b[0m\u001b[0;34m:\u001b[0m\u001b[0;34m\u001b[0m\u001b[0;34m\u001b[0m\u001b[0m\n\u001b[0;32m---> 89\u001b[0;31m     \u001b[0;32mraise\u001b[0m \u001b[0mLinAlgError\u001b[0m\u001b[0;34m(\u001b[0m\u001b[0;34m\"Singular matrix\"\u001b[0m\u001b[0;34m)\u001b[0m\u001b[0;34m\u001b[0m\u001b[0;34m\u001b[0m\u001b[0m\n\u001b[0m\u001b[1;32m     90\u001b[0m \u001b[0;34m\u001b[0m\u001b[0m\n\u001b[1;32m     91\u001b[0m \u001b[0;32mdef\u001b[0m \u001b[0m_raise_linalgerror_nonposdef\u001b[0m\u001b[0;34m(\u001b[0m\u001b[0merr\u001b[0m\u001b[0;34m,\u001b[0m \u001b[0mflag\u001b[0m\u001b[0;34m)\u001b[0m\u001b[0;34m:\u001b[0m\u001b[0;34m\u001b[0m\u001b[0;34m\u001b[0m\u001b[0m\n",
            "\u001b[0;31mLinAlgError\u001b[0m: Singular matrix"
          ]
        }
      ]
    },
    {
      "cell_type": "code",
      "source": [
        "# Select only the features\n",
        "selected_columns =['hospital_death', 'bmi', 'icu_id', 'weight', 'apache_3j_diagnosis',\n",
        "       'creatinine_apache', 'fio2_apache', 'gcs_eyes_apache',\n",
        "       'gcs_motor_apache', 'hematocrit_apache', 'urineoutput_apache',\n",
        "       'd1_diasbp_noninvasive_min', 'd1_mbp_max', 'd1_spo2_max', 'd1_temp_max',\n",
        "       'h1_resprate_max', 'h1_temp_min', 'd1_albumin_max', 'd1_albumin_min',\n",
        "       'd1_bilirubin_max', 'd1_bun_max', 'd1_hco3_min', 'd1_hematocrit_min',\n",
        "       'd1_inr_max', 'd1_inr_min', 'd1_lactate_max', 'd1_wbc_max',\n",
        "       'd1_wbc_min', 'h1_albumin_min', 'h1_bilirubin_max', 'h1_hematocrit_max',\n",
        "       'h1_hematocrit_min', 'h1_inr_max', 'h1_lactate_max', 'h1_sodium_max',\n",
        "       'h1_pao2fio2ratio_min', 'apache_4a_hospital_death_prob', 'cirrhosis',\n",
        "       'hepatic_failure', 'lymphoma',\n",
        "       'hospital_admit_source_Chest Pain Center',\n",
        "       'hospital_admit_source_Emergency Department',\n",
        "       'hospital_admit_source_Observation', 'hospital_admit_source_Other',\n",
        "       'hospital_admit_source_Step-Down Unit (SDU)',\n",
        "       'icu_admit_source_Accident & Emergency', 'icu_admit_source_Floor',\n",
        "       'icu_admit_source_Operating Room / Recovery', 'icu_type_CCU-CTICU',\n",
        "       'icu_type_MICU', 'icu_type_Med-Surg ICU', 'icu_type_SICU',\n",
        "       'apache_3j_bodysystem_Cardiovascular',\n",
        "       'apache_3j_bodysystem_Hematological',\n",
        "       'apache_3j_bodysystem_Musculoskeletal/Skin',\n",
        "       'apache_3j_bodysystem_Neurological', 'apache_3j_bodysystem_Trauma',\n",
        "       'apache_2_bodysystem_Cardiovascular',\n",
        "       'apache_2_bodysystem_Haematologic', 'apache_2_bodysystem_Metabolic',\n",
        "       'apache_2_bodysystem_Renal/Genitourinary',\n",
        "       'apache_2_bodysystem_Undefined Diagnoses',\n",
        "       'apache_2_bodysystem_Undefined diagnoses']\n",
        "\n",
        "X_train = X_train[selected_columns]\n",
        "X_test = X_test[selected_columns]\n",
        "\n",
        "# Add a constant to the features\n",
        "X_train = sm.add_constant(X_train)\n",
        "\n",
        "# Fit the logistic regression model\n",
        "model = sm.Logit(y_train, X_train)\n",
        "result = model.fit()\n",
        "\n",
        "# Print the summary\n",
        "print(result.summary())"
      ],
      "metadata": {
        "colab": {
          "base_uri": "https://localhost:8080/",
          "height": 451
        },
        "id": "368YH8aiQUDE",
        "outputId": "ef001a12-6d2a-4321-90b4-e7c9d1f1bab6"
      },
      "execution_count": 122,
      "outputs": [
        {
          "output_type": "error",
          "ename": "KeyError",
          "evalue": "ignored",
          "traceback": [
            "\u001b[0;31m---------------------------------------------------------------------------\u001b[0m",
            "\u001b[0;31mKeyError\u001b[0m                                  Traceback (most recent call last)",
            "\u001b[0;32m<ipython-input-122-66c41e554909>\u001b[0m in \u001b[0;36m<cell line: 30>\u001b[0;34m()\u001b[0m\n\u001b[1;32m     28\u001b[0m        'apache_2_bodysystem_Undefined diagnoses']\n\u001b[1;32m     29\u001b[0m \u001b[0;34m\u001b[0m\u001b[0m\n\u001b[0;32m---> 30\u001b[0;31m \u001b[0mX_train\u001b[0m \u001b[0;34m=\u001b[0m \u001b[0mX_train\u001b[0m\u001b[0;34m[\u001b[0m\u001b[0mselected_columns\u001b[0m\u001b[0;34m]\u001b[0m\u001b[0;34m\u001b[0m\u001b[0;34m\u001b[0m\u001b[0m\n\u001b[0m\u001b[1;32m     31\u001b[0m \u001b[0mX_test\u001b[0m \u001b[0;34m=\u001b[0m \u001b[0mX_test\u001b[0m\u001b[0;34m[\u001b[0m\u001b[0mselected_columns\u001b[0m\u001b[0;34m]\u001b[0m\u001b[0;34m\u001b[0m\u001b[0;34m\u001b[0m\u001b[0m\n\u001b[1;32m     32\u001b[0m \u001b[0;34m\u001b[0m\u001b[0m\n",
            "\u001b[0;32m/usr/local/lib/python3.10/dist-packages/pandas/core/frame.py\u001b[0m in \u001b[0;36m__getitem__\u001b[0;34m(self, key)\u001b[0m\n\u001b[1;32m   3811\u001b[0m             \u001b[0;32mif\u001b[0m \u001b[0mis_iterator\u001b[0m\u001b[0;34m(\u001b[0m\u001b[0mkey\u001b[0m\u001b[0;34m)\u001b[0m\u001b[0;34m:\u001b[0m\u001b[0;34m\u001b[0m\u001b[0;34m\u001b[0m\u001b[0m\n\u001b[1;32m   3812\u001b[0m                 \u001b[0mkey\u001b[0m \u001b[0;34m=\u001b[0m \u001b[0mlist\u001b[0m\u001b[0;34m(\u001b[0m\u001b[0mkey\u001b[0m\u001b[0;34m)\u001b[0m\u001b[0;34m\u001b[0m\u001b[0;34m\u001b[0m\u001b[0m\n\u001b[0;32m-> 3813\u001b[0;31m             \u001b[0mindexer\u001b[0m \u001b[0;34m=\u001b[0m \u001b[0mself\u001b[0m\u001b[0;34m.\u001b[0m\u001b[0mcolumns\u001b[0m\u001b[0;34m.\u001b[0m\u001b[0m_get_indexer_strict\u001b[0m\u001b[0;34m(\u001b[0m\u001b[0mkey\u001b[0m\u001b[0;34m,\u001b[0m \u001b[0;34m\"columns\"\u001b[0m\u001b[0;34m)\u001b[0m\u001b[0;34m[\u001b[0m\u001b[0;36m1\u001b[0m\u001b[0;34m]\u001b[0m\u001b[0;34m\u001b[0m\u001b[0;34m\u001b[0m\u001b[0m\n\u001b[0m\u001b[1;32m   3814\u001b[0m \u001b[0;34m\u001b[0m\u001b[0m\n\u001b[1;32m   3815\u001b[0m         \u001b[0;31m# take() does not accept boolean indexers\u001b[0m\u001b[0;34m\u001b[0m\u001b[0;34m\u001b[0m\u001b[0m\n",
            "\u001b[0;32m/usr/local/lib/python3.10/dist-packages/pandas/core/indexes/base.py\u001b[0m in \u001b[0;36m_get_indexer_strict\u001b[0;34m(self, key, axis_name)\u001b[0m\n\u001b[1;32m   6068\u001b[0m             \u001b[0mkeyarr\u001b[0m\u001b[0;34m,\u001b[0m \u001b[0mindexer\u001b[0m\u001b[0;34m,\u001b[0m \u001b[0mnew_indexer\u001b[0m \u001b[0;34m=\u001b[0m \u001b[0mself\u001b[0m\u001b[0;34m.\u001b[0m\u001b[0m_reindex_non_unique\u001b[0m\u001b[0;34m(\u001b[0m\u001b[0mkeyarr\u001b[0m\u001b[0;34m)\u001b[0m\u001b[0;34m\u001b[0m\u001b[0;34m\u001b[0m\u001b[0m\n\u001b[1;32m   6069\u001b[0m \u001b[0;34m\u001b[0m\u001b[0m\n\u001b[0;32m-> 6070\u001b[0;31m         \u001b[0mself\u001b[0m\u001b[0;34m.\u001b[0m\u001b[0m_raise_if_missing\u001b[0m\u001b[0;34m(\u001b[0m\u001b[0mkeyarr\u001b[0m\u001b[0;34m,\u001b[0m \u001b[0mindexer\u001b[0m\u001b[0;34m,\u001b[0m \u001b[0maxis_name\u001b[0m\u001b[0;34m)\u001b[0m\u001b[0;34m\u001b[0m\u001b[0;34m\u001b[0m\u001b[0m\n\u001b[0m\u001b[1;32m   6071\u001b[0m \u001b[0;34m\u001b[0m\u001b[0m\n\u001b[1;32m   6072\u001b[0m         \u001b[0mkeyarr\u001b[0m \u001b[0;34m=\u001b[0m \u001b[0mself\u001b[0m\u001b[0;34m.\u001b[0m\u001b[0mtake\u001b[0m\u001b[0;34m(\u001b[0m\u001b[0mindexer\u001b[0m\u001b[0;34m)\u001b[0m\u001b[0;34m\u001b[0m\u001b[0;34m\u001b[0m\u001b[0m\n",
            "\u001b[0;32m/usr/local/lib/python3.10/dist-packages/pandas/core/indexes/base.py\u001b[0m in \u001b[0;36m_raise_if_missing\u001b[0;34m(self, key, indexer, axis_name)\u001b[0m\n\u001b[1;32m   6131\u001b[0m \u001b[0;34m\u001b[0m\u001b[0m\n\u001b[1;32m   6132\u001b[0m             \u001b[0mnot_found\u001b[0m \u001b[0;34m=\u001b[0m \u001b[0mlist\u001b[0m\u001b[0;34m(\u001b[0m\u001b[0mensure_index\u001b[0m\u001b[0;34m(\u001b[0m\u001b[0mkey\u001b[0m\u001b[0;34m)\u001b[0m\u001b[0;34m[\u001b[0m\u001b[0mmissing_mask\u001b[0m\u001b[0;34m.\u001b[0m\u001b[0mnonzero\u001b[0m\u001b[0;34m(\u001b[0m\u001b[0;34m)\u001b[0m\u001b[0;34m[\u001b[0m\u001b[0;36m0\u001b[0m\u001b[0;34m]\u001b[0m\u001b[0;34m]\u001b[0m\u001b[0;34m.\u001b[0m\u001b[0munique\u001b[0m\u001b[0;34m(\u001b[0m\u001b[0;34m)\u001b[0m\u001b[0;34m)\u001b[0m\u001b[0;34m\u001b[0m\u001b[0;34m\u001b[0m\u001b[0m\n\u001b[0;32m-> 6133\u001b[0;31m             \u001b[0;32mraise\u001b[0m \u001b[0mKeyError\u001b[0m\u001b[0;34m(\u001b[0m\u001b[0;34mf\"{not_found} not in index\"\u001b[0m\u001b[0;34m)\u001b[0m\u001b[0;34m\u001b[0m\u001b[0;34m\u001b[0m\u001b[0m\n\u001b[0m\u001b[1;32m   6134\u001b[0m \u001b[0;34m\u001b[0m\u001b[0m\n\u001b[1;32m   6135\u001b[0m     \u001b[0;34m@\u001b[0m\u001b[0moverload\u001b[0m\u001b[0;34m\u001b[0m\u001b[0;34m\u001b[0m\u001b[0m\n",
            "\u001b[0;31mKeyError\u001b[0m: \"['hospital_death', 'bmi', 'icu_id', 'weight', 'apache_3j_diagnosis', 'creatinine_apache', 'hematocrit_apache', 'urineoutput_apache', 'd1_diasbp_noninvasive_min', 'd1_mbp_max', 'd1_spo2_max', 'd1_temp_max', 'h1_resprate_max', 'h1_temp_min', 'd1_bun_max', 'd1_hco3_min', 'd1_hematocrit_min', 'd1_wbc_max', 'h1_albumin_min', 'h1_hematocrit_max', 'h1_lactate_max', 'h1_sodium_max', 'h1_pao2fio2ratio_min', 'cirrhosis', 'hepatic_failure', 'lymphoma', 'hospital_admit_source_Chest Pain Center', 'hospital_admit_source_Emergency Department', 'hospital_admit_source_Observation', 'hospital_admit_source_Other', 'hospital_admit_source_Step-Down Unit (SDU)', 'icu_type_CCU-CTICU', 'icu_type_MICU', 'icu_type_SICU', 'apache_3j_bodysystem_Hematological', 'apache_3j_bodysystem_Musculoskeletal/Skin', 'apache_3j_bodysystem_Trauma', 'apache_2_bodysystem_Haematologic', 'apache_2_bodysystem_Renal/Genitourinary', 'apache_2_bodysystem_Undefined Diagnoses'] not in index\""
          ]
        }
      ]
    },
    {
      "cell_type": "code",
      "source": [
        "print(X_train.columns)"
      ],
      "metadata": {
        "colab": {
          "base_uri": "https://localhost:8080/"
        },
        "id": "3_8pTlpMTPYN",
        "outputId": "60f78dc0-17f1-4c99-cf2c-8259ec17bb55"
      },
      "execution_count": 123,
      "outputs": [
        {
          "output_type": "stream",
          "name": "stdout",
          "text": [
            "Index(['const', 'age', 'elective_surgery', 'pre_icu_los_days',\n",
            "       'albumin_apache', 'apache_post_operative', 'fio2_apache',\n",
            "       'gcs_eyes_apache', 'gcs_motor_apache', 'gcs_unable_apache',\n",
            "       'intubated_apache', 'ventilated_apache', 'd1_heartrate_max',\n",
            "       'd1_mbp_min', 'd1_spo2_min', 'd1_temp_min', 'h1_resprate_min',\n",
            "       'd1_albumin_max', 'd1_albumin_min', 'd1_bilirubin_max',\n",
            "       'd1_bilirubin_min', 'd1_bun_min', 'd1_hemaglobin_max', 'd1_inr_max',\n",
            "       'd1_inr_min', 'd1_lactate_max', 'd1_lactate_min', 'd1_wbc_min',\n",
            "       'h1_albumin_max', 'h1_bilirubin_max', 'h1_bilirubin_min',\n",
            "       'h1_hematocrit_min', 'h1_inr_max', 'h1_inr_min', 'h1_lactate_min',\n",
            "       'h1_sodium_min', 'apache_4a_hospital_death_prob',\n",
            "       'apache_4a_icu_death_prob', 'diabetes_mellitus', 'immunosuppression',\n",
            "       'solid_tumor_with_metastasis', 'hospital_admit_source_Direct Admit',\n",
            "       'hospital_admit_source_Floor', 'hospital_admit_source_Operating Room',\n",
            "       'hospital_admit_source_Other Hospital',\n",
            "       'icu_admit_source_Accident & Emergency', 'icu_admit_source_Floor',\n",
            "       'icu_admit_source_Operating Room / Recovery',\n",
            "       'icu_admit_source_Other Hospital', 'icu_type_CSICU',\n",
            "       'icu_type_Med-Surg ICU', 'icu_type_Neuro ICU',\n",
            "       'apache_3j_bodysystem_Cardiovascular',\n",
            "       'apache_3j_bodysystem_Gastrointestinal',\n",
            "       'apache_3j_bodysystem_Metabolic', 'apache_3j_bodysystem_Neurological',\n",
            "       'apache_3j_bodysystem_Respiratory',\n",
            "       'apache_2_bodysystem_Cardiovascular',\n",
            "       'apache_2_bodysystem_Gastrointestinal', 'apache_2_bodysystem_Metabolic',\n",
            "       'apache_2_bodysystem_Neurologic', 'apache_2_bodysystem_Respiratory',\n",
            "       'apache_2_bodysystem_Undefined diagnoses'],\n",
            "      dtype='object')\n"
          ]
        }
      ]
    }
  ],
  "metadata": {
    "colab": {
      "provenance": [],
      "authorship_tag": "ABX9TyPXXaAy0n7sHEi9qIvsjrI/",
      "include_colab_link": true
    },
    "kernelspec": {
      "display_name": "Python 3",
      "name": "python3"
    },
    "language_info": {
      "name": "python"
    }
  },
  "nbformat": 4,
  "nbformat_minor": 0
}