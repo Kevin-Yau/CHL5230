{
  "nbformat": 4,
  "nbformat_minor": 0,
  "metadata": {
    "colab": {
      "provenance": [],
      "authorship_tag": "ABX9TyOYMJG3Wa6pWCvwfsP+yBp1",
      "include_colab_link": true
    },
    "kernelspec": {
      "name": "python3",
      "display_name": "Python 3"
    },
    "language_info": {
      "name": "python"
    }
  },
  "cells": [
    {
      "cell_type": "markdown",
      "metadata": {
        "id": "view-in-github",
        "colab_type": "text"
      },
      "source": [
        "<a href=\"https://colab.research.google.com/github/Kevin-Yau/CHL5230/blob/main/Datathon_5.ipynb\" target=\"_parent\"><img src=\"https://colab.research.google.com/assets/colab-badge.svg\" alt=\"Open In Colab\"/></a>"
      ]
    },
    {
      "cell_type": "code",
      "execution_count": 1,
      "metadata": {
        "id": "RFVvEd6mSAR7"
      },
      "outputs": [],
      "source": [
        "import pandas as pd\n",
        "import numpy as np\n",
        "import warnings\n",
        "warnings.filterwarnings('ignore')\n",
        "\n",
        "# Read the dataset into a Pandas DataFrame\n",
        "df = pd.read_csv('mhealth.csv')"
      ]
    },
    {
      "cell_type": "code",
      "source": [
        "# read dataset\n",
        "wear_df = pd.read_csv('mhealth.csv')\n",
        "wear_df.head()\n",
        "\n",
        "# check dimension of the dataset\n",
        "print(wear_df.shape)\n",
        "\n",
        "# list the columns of the dataframe\n",
        "print(wear_df.columns)\n",
        "\n"
      ],
      "metadata": {
        "id": "OOgG7hqISZSr",
        "colab": {
          "base_uri": "https://localhost:8080/"
        },
        "outputId": "44a4d59b-7568-4acc-9118-dc42c0c94bb0"
      },
      "execution_count": 2,
      "outputs": [
        {
          "output_type": "stream",
          "name": "stdout",
          "text": [
            "(999999, 14)\n",
            "Index(['alx', 'aly', 'alz', 'glx', 'gly', 'glz', 'arx', 'ary', 'arz', 'grx',\n",
            "       'gry', 'grz', 'Activity', 'subject'],\n",
            "      dtype='object')\n"
          ]
        }
      ]
    },
    {
      "cell_type": "code",
      "source": [
        "# Group the dataset by the 'subject' column and apply the `len` function\n",
        "# to each group. This counts the number of records for each patient.\n",
        "# The result is a series where the index is 'subject' and the value is the count of records.\n",
        "patients_with_2_or_more_records = (wear_df.groupby('subject').apply(len) >= 2)\n"
      ],
      "metadata": {
        "id": "7mzJh1foxLKB"
      },
      "execution_count": 3,
      "outputs": []
    },
    {
      "cell_type": "code",
      "source": [
        "\n",
        "# Filter the original dataset to include only those patients who have 2 or more records.\n",
        "# This is done by first creating a boolean series `patients_with_2_or_more_records` where the index is 'patient_nbr'\n",
        "# and the value is True if the patient has 2 or more records, False otherwise.\n",
        "# Then, using `isin` method to filter `Mobile Health Data` so that it only includes rows where 'subject'\n",
        "# matches those in the `patients_with_2_or_more_records` series that are True.\n",
        "patients_with_2_or_more_records_df = wear_df[wear_df['subject'].isin(patients_with_2_or_more_records[patients_with_2_or_more_records].index)]"
      ],
      "metadata": {
        "id": "3e724j3vxwUJ"
      },
      "execution_count": 4,
      "outputs": []
    },
    {
      "cell_type": "code",
      "source": [
        "# Update the original 'wear_df' dataframe with the filtered dataframe.\n",
        "# This step replaces the original dataset with the subset of patients who have 2 or more records.\n",
        "wear_df = patients_with_2_or_more_records_df"
      ],
      "metadata": {
        "id": "j3R14guvuw8p"
      },
      "execution_count": 5,
      "outputs": []
    },
    {
      "cell_type": "code",
      "source": [
        "import matplotlib.pyplot as plt\n",
        "import seaborn as sns\n",
        "\n",
        "\n",
        "# New color palette\n",
        "new_colors = [\"#eaac8b\", \"#e56b6f\", \"#b56576\", \"#6d597a\", \"#355070\"]  # A more varied color palette\n",
        "sns.set_palette(sns.color_palette(new_colors))\n",
        "\n",
        "# Activity Distribution with updated color palette\n",
        "plt.figure(figsize=(5, 5))\n",
        "sns.countplot(x='Activity', data=wear_df)\n",
        "plt.title('Activity')\n",
        "plt.xlabel('Activity', fontweight='bold')\n",
        "plt.ylabel('COUNT', fontweight='bold')\n",
        "plt.xticks(rotation=45, fontweight='bold')\n",
        "plt.xticks(rotation=45)\n",
        "plt.tight_layout()\n",
        "updated_race_distribution_fig = plt.gcf()\n",
        "plt.show()"
      ],
      "metadata": {
        "colab": {
          "base_uri": "https://localhost:8080/",
          "height": 507
        },
        "id": "DgthMYB0uxds",
        "outputId": "644be18b-f677-403c-be14-7a9717badbe4"
      },
      "execution_count": 7,
      "outputs": [
        {
          "output_type": "display_data",
          "data": {
            "text/plain": [
              "<Figure size 500x500 with 1 Axes>"
            ],
            "image/png": "[encoded data removed]"
          },
          "metadata": {}
        }
      ]
    }
  ]
}